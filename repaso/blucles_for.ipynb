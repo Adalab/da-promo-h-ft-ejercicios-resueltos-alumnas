{
 "cells": [
  {
   "cell_type": "code",
   "execution_count": null,
   "metadata": {},
   "outputs": [],
   "source": [
    "            ####      bucles for   #######\n",
    "\n",
    "temperaturas = [2,45,67,23, 45,66,12,1,34,67,99,98,67,64, 44, 100]\n",
    "bajas_tem=[]\n",
    "for tem in temperaturas:\n",
    "    if tem  <= 10:\n",
    "        print(\"bajas temperaturas\")\n",
    "bajas_tem.apend(tem)\n",
    "print(bajas_tem)\n",
    "\n"
   ]
  },
  {
   "cell_type": "code",
   "execution_count": 23,
   "metadata": {},
   "outputs": [
    {
     "name": "stdout",
     "output_type": "stream",
     "text": [
      "[2, 1]\n"
     ]
    }
   ],
   "source": [
    "temperaturas = [2,45,67,23, 45,66,12,1,34,67,99,98,67,64, 44, 100]\n",
    "bajas_tem=[tem for tem in temperaturas if tem >=0 and tem <=10]\n",
    "print(bajas_tem)"
   ]
  },
  {
   "cell_type": "code",
   "execution_count": 24,
   "metadata": {},
   "outputs": [],
   "source": [
    "# Lista de temperaturas entre 11 y 20\n",
    "medias_temp = [temp for temp in temperaturas if temp >= 11 and temp <= 20]\n",
    "\n",
    "# Lista de temperaturas por encima de 20\n",
    "altas_temp = [temp for temp in temperaturas if temp > 20]\n"
   ]
  },
  {
   "cell_type": "code",
   "execution_count": null,
   "metadata": {},
   "outputs": [],
   "source": [
    "#2\n"
   ]
  },
  {
   "cell_type": "code",
   "execution_count": null,
   "metadata": {},
   "outputs": [],
   "source": []
  },
  {
   "cell_type": "code",
   "execution_count": null,
   "metadata": {},
   "outputs": [],
   "source": []
  }
 ],
 "metadata": {
  "kernelspec": {
   "display_name": "Python 3",
   "language": "python",
   "name": "python3"
  },
  "language_info": {
   "codemirror_mode": {
    "name": "ipython",
    "version": 3
   },
   "file_extension": ".py",
   "mimetype": "text/x-python",
   "name": "python",
   "nbconvert_exporter": "python",
   "pygments_lexer": "ipython3",
   "version": "3.9.6"
  }
 },
 "nbformat": 4,
 "nbformat_minor": 2
}
