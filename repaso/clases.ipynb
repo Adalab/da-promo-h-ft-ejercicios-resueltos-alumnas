{
 "cells": [
  {
   "cell_type": "code",
   "execution_count": null,
   "metadata": {},
   "outputs": [],
   "source": [
    "###########clases##########"
   ]
  },
  {
   "cell_type": "code",
   "execution_count": 58,
   "metadata": {},
   "outputs": [],
   "source": [
    "#1\n",
    "class Vehiculo:\n",
    "    def __init__(self, marca, modelo, año, velocidad_actual=0, encendido=False):\n",
    "       self.marca= marca\n",
    "       self.modelo= modelo\n",
    "       self.año=año\n",
    "       self.velocidad_actual= velocidad_actual\n",
    "       self.encendido= encendido\n",
    "       def informacion (self):\n",
    "        return f\"el vehiculo: {self.marca}, modelo: {self.modelo}es del año: {self.año}\"\n",
    "    \n",
    "    \n",
    "    def encender(self):\n",
    "       if not self.encendido:\n",
    "          self.encendido=True\n",
    "          return \"ahora el vehiculo esta encendido\"\n",
    "       else:\n",
    "          return \"el vehiculo ya esta encencido\"\n",
    "       \n",
    "    def apagar (self):\n",
    "     if self.encendido: \"si esta encendido\"\n",
    "     self.encendido= False\n",
    "     self.velocidad_actual=0\n",
    "     return \"hemos apagado el coche\"\n",
    "\n",
    "    "
   ]
  },
  {
   "cell_type": "code",
   "execution_count": 60,
   "metadata": {},
   "outputs": [
    {
     "data": {
      "text/plain": [
       "'2020'"
      ]
     },
     "execution_count": 60,
     "metadata": {},
     "output_type": "execute_result"
    }
   ],
   "source": [
    "mi_coche = Vehiculo (\"mercedes\",\"clase_a\",\"2020\")\n",
    "mi_coche.año\n"
   ]
  }
 ],
 "metadata": {
  "kernelspec": {
   "display_name": "Python 3",
   "language": "python",
   "name": "python3"
  },
  "language_info": {
   "codemirror_mode": {
    "name": "ipython",
    "version": 3
   },
   "file_extension": ".py",
   "mimetype": "text/x-python",
   "name": "python",
   "nbconvert_exporter": "python",
   "pygments_lexer": "ipython3",
   "version": "3.9.6"
  }
 },
 "nbformat": 4,
 "nbformat_minor": 2
}
