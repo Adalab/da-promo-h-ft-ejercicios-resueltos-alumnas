{
 "cells": [
  {
   "cell_type": "markdown",
   "metadata": {},
   "source": [
    "############# funciones############\n",
    "\n",
    "\n",
    "\n",
    "1. Escribe una función que reciba una cadena de texto como parámetro y \n",
    "devuelva un diccionario con las frecuencias de cada letra en la cadena.\n",
    "Los espacios no deben ser considerados."
   ]
  },
  {
   "cell_type": "code",
   "execution_count": null,
   "metadata": {},
   "outputs": [],
   "source": [
    "\n",
    "def diccionario (cadena):\n",
    " frecuencias={}\n",
    " for caracteres in cadena:\n",
    "    if caracteres !=\" \":\n",
    "        frecuencias[caracteres]=frecuencias.get(caracteres, 0)+1\n",
    " return frecuencias\n",
    "\n",
    "cadena_ejemplo=\"hola mundo\"\n",
    "resultado=diccionario(cadena_ejemplo)\n",
    "print(resultado)"
   ]
  },
  {
   "cell_type": "markdown",
   "metadata": {},
   "source": [
    "2. Escribe una función que reciba una cadena de texto como parámetro y\n",
    "devuelva una lista con todas las palabras que tienen más de 5 letras."
   ]
  },
  {
   "cell_type": "code",
   "execution_count": null,
   "metadata": {},
   "outputs": [],
   "source": [
    "\n",
    "def cadena_texto (cadena):\n",
    "    palabras = cadena.split()\n",
    "\n",
    "    for palabras in cadena:\n",
    "        if len(palabras)>5:\n",
    "            palabras_largas\n",
    "\n",
    "    return palabras\n",
    "     \n",
    "\n",
    "capalabras_largas=\"hola como estas como te llamas\"\n",
    "resulado= cadena_texto(palabras_largas)\n",
    "print(resultado)\n"
   ]
  },
  {
   "cell_type": "markdown",
   "metadata": {},
   "source": [
    "3. Crea una función que tome una lista de palabras \n",
    "como entrada y devuelva una lista de palabras que contengan más de una vocal."
   ]
  },
  {
   "cell_type": "markdown",
   "metadata": {},
   "source": []
  },
  {
   "cell_type": "code",
   "execution_count": null,
   "metadata": {},
   "outputs": [],
   "source": [
    "def lista(cadena1):\n",
    "    "
   ]
  },
  {
   "cell_type": "code",
   "execution_count": null,
   "metadata": {},
   "outputs": [],
   "source": []
  }
 ],
 "metadata": {
  "kernelspec": {
   "display_name": "Python 3",
   "language": "python",
   "name": "python3"
  },
  "language_info": {
   "codemirror_mode": {
    "name": "ipython",
    "version": 3
   },
   "file_extension": ".py",
   "mimetype": "text/x-python",
   "name": "python",
   "nbconvert_exporter": "python",
   "pygments_lexer": "ipython3",
   "version": "3.9.6"
  }
 },
 "nbformat": 4,
 "nbformat_minor": 2
}
