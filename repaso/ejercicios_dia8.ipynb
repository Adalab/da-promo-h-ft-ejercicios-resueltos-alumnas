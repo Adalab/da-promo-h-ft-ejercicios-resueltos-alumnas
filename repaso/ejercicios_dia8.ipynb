{
 "cells": [
  {
   "cell_type": "code",
   "execution_count": null,
   "metadata": {},
   "outputs": [],
   "source": [
    "#parte 1"
   ]
  },
  {
   "cell_type": "code",
   "execution_count": 138,
   "metadata": {},
   "outputs": [
    {
     "name": "stdout",
     "output_type": "stream",
     "text": [
      "p 1\n"
     ]
    }
   ],
   "source": [
    "#1\n",
    "cadena=\"python es genial. python es facil de aprender\"\n",
    "letra=input()\n",
    "cuantas_veces=letra.count(letra)\n",
    "print(letra,cuantas_veces)\n",
    "\n",
    "\n"
   ]
  },
  {
   "cell_type": "code",
   "execution_count": 15,
   "metadata": {},
   "outputs": [
    {
     "name": "stdout",
     "output_type": "stream",
     "text": [
      "python es genial. python es facil de aprender\n"
     ]
    }
   ],
   "source": [
    "#2\n",
    "cadena=\"python es genial. python es facil de aprender\"\n",
    "cadena.replace(\"genial\", \"estupendo\")\n"
   ]
  },
  {
   "cell_type": "code",
   "execution_count": 139,
   "metadata": {},
   "outputs": [
    {
     "name": "stdout",
     "output_type": "stream",
     "text": [
      "['esto', 'es', 'una', 'oracion', 'de', 'ejemplo']\n",
      "esto es una oracion de ejemplo\n"
     ]
    }
   ],
   "source": [
    "#3\n",
    "oracion= \"esto es una oracion de ejemplo\"\n",
    "lista_palabras=oracion.split()\n",
    "print(lista_palabras)\n",
    "lista_nueva=\" \".join(lista_palabras)\n",
    "print(lista_nueva)"
   ]
  },
  {
   "cell_type": "code",
   "execution_count": 36,
   "metadata": {},
   "outputs": [
    {
     "name": "stdout",
     "output_type": "stream",
     "text": [
      "['esta', 'es', 'una', 'cadena', 'de', 'cinco', 'palabras']\n",
      "7\n"
     ]
    }
   ],
   "source": [
    "#4\n",
    "cadena=\"esta es una cadena de cinco palabras\"\n",
    "lista_de_palabras=cadena.split()\n",
    "print(lista_de_palabras)\n",
    "numero=len(lista_de_palabras)\n",
    "print(numero)"
   ]
  },
  {
   "cell_type": "code",
   "execution_count": 142,
   "metadata": {},
   "outputs": [
    {
     "name": "stdout",
     "output_type": "stream",
     "text": [
      "l a t   e u q   a l o h\n"
     ]
    }
   ],
   "source": [
    "#5 #noo\n",
    "texto=input()\n",
    "texto_reves=\" \".join(reversed(texto))\n",
    "print(texto_reves)\n"
   ]
  },
  {
   "cell_type": "code",
   "execution_count": 49,
   "metadata": {},
   "outputs": [
    {
     "name": "stdout",
     "output_type": "stream",
     "text": [
      "0\n"
     ]
    }
   ],
   "source": [
    "#6 noo\n",
    "texto1=\"esto es un ejercicio de repaso\"\n",
    "print (texto1.find(\"es\"))\n"
   ]
  },
  {
   "cell_type": "markdown",
   "metadata": {},
   "source": [
    "########### parte 2#########"
   ]
  },
  {
   "cell_type": "code",
   "execution_count": 144,
   "metadata": {},
   "outputs": [
    {
     "name": "stdout",
     "output_type": "stream",
     "text": [
      "['manzana', 'durazno', 'banana', 'uva', 'kiwi']\n",
      "['manzana', 'durazno', 'banana', 'uva', 'kiwi', 'naranja']\n"
     ]
    },
    {
     "data": {
      "text/plain": [
       "'uva'"
      ]
     },
     "execution_count": 144,
     "metadata": {},
     "output_type": "execute_result"
    }
   ],
   "source": [
    "#1\n",
    "frutas=[\"manzana\",\"pera\",\"banana\",\"uva\",\"kiwi\"]\n",
    "frutas[1]=\"durazno\"\n",
    "print(frutas)\n",
    "\n",
    "frutas.append(\"naranja\")\n",
    "print(frutas)\n",
    "\n",
    "elento3=frutas[3]\n",
    "elento3"
   ]
  },
  {
   "cell_type": "code",
   "execution_count": null,
   "metadata": {},
   "outputs": [],
   "source": []
  },
  {
   "cell_type": "code",
   "execution_count": 145,
   "metadata": {},
   "outputs": [
    {
     "name": "stdout",
     "output_type": "stream",
     "text": [
      "[35, 10, 25, 15, 30, 20]\n",
      "[10, 15, 20, 25, 30, 35]\n"
     ]
    }
   ],
   "source": [
    "#2\n",
    "numeros=[10,25,15,30,20]\n",
    "\n",
    "#4\n",
    "numeros.insert(0,35)\n",
    "print(numeros)\n",
    "\n",
    "#5\n",
    "numeros.sort()\n",
    "print(numeros)\n"
   ]
  },
  {
   "cell_type": "code",
   "execution_count": null,
   "metadata": {},
   "outputs": [],
   "source": []
  },
  {
   "cell_type": "code",
   "execution_count": 83,
   "metadata": {},
   "outputs": [
    {
     "name": "stdout",
     "output_type": "stream",
     "text": [
      "[10, 15, 20, 25, 35]\n"
     ]
    }
   ],
   "source": [
    "#6\n",
    "\n",
    "\n",
    "#7\n",
    "numeros.remove(30)\n",
    "print(numeros)\n",
    "\n"
   ]
  },
  {
   "cell_type": "code",
   "execution_count": 147,
   "metadata": {},
   "outputs": [],
   "source": [
    "##########parte3#########\n",
    "\n",
    "#1\n",
    "colores=(\"rojo\",\"verde\",\"azul\",\"amarillo\",\"morado\")\n",
    "\n",
    "\n",
    "\n"
   ]
  },
  {
   "cell_type": "code",
   "execution_count": 150,
   "metadata": {},
   "outputs": [],
   "source": [
    "#2 nooo\n",
    "\n",
    "\n"
   ]
  },
  {
   "cell_type": "code",
   "execution_count": null,
   "metadata": {},
   "outputs": [],
   "source": []
  },
  {
   "cell_type": "code",
   "execution_count": 92,
   "metadata": {},
   "outputs": [],
   "source": [
    "#3\n",
    "\n"
   ]
  },
  {
   "cell_type": "code",
   "execution_count": 93,
   "metadata": {},
   "outputs": [],
   "source": [
    "################parte4#############\n",
    "#1\n",
    "frutas={\"manzana\":2,\"banana\":3,\"uva\":5,\"pera\":4}"
   ]
  },
  {
   "cell_type": "code",
   "execution_count": 94,
   "metadata": {},
   "outputs": [
    {
     "data": {
      "text/plain": [
       "['manzana', 'banana', 'uva', 'pera']"
      ]
     },
     "execution_count": 94,
     "metadata": {},
     "output_type": "execute_result"
    }
   ],
   "source": [
    "#2\n",
    "list(frutas.keys())"
   ]
  },
  {
   "cell_type": "code",
   "execution_count": 101,
   "metadata": {},
   "outputs": [
    {
     "data": {
      "text/plain": [
       "[2, 3, 5, 4]"
      ]
     },
     "execution_count": 101,
     "metadata": {},
     "output_type": "execute_result"
    }
   ],
   "source": [
    "3#\n",
    "list(frutas.values())"
   ]
  },
  {
   "cell_type": "code",
   "execution_count": 102,
   "metadata": {},
   "outputs": [
    {
     "data": {
      "text/plain": [
       "2"
      ]
     },
     "execution_count": 102,
     "metadata": {},
     "output_type": "execute_result"
    }
   ],
   "source": [
    "#4\n",
    "frutas.get(\"manzana\")"
   ]
  },
  {
   "cell_type": "code",
   "execution_count": null,
   "metadata": {},
   "outputs": [],
   "source": [
    "#puedo crear otro diccionario y sumarlo al que ya teniamos"
   ]
  },
  {
   "cell_type": "code",
   "execution_count": 103,
   "metadata": {},
   "outputs": [
    {
     "name": "stdout",
     "output_type": "stream",
     "text": [
      "{'manzana': 2, 'banana': 3, 'uva': 8, 'pera': 4}\n"
     ]
    }
   ],
   "source": [
    "#6\n",
    "frutas[\"uva\"]=8\n",
    "print(frutas)\n"
   ]
  },
  {
   "cell_type": "code",
   "execution_count": 105,
   "metadata": {},
   "outputs": [],
   "source": [
    "#7\n",
    "frutas_nuevas={\"sandia\":7,\"mango\":4}"
   ]
  },
  {
   "cell_type": "code",
   "execution_count": 110,
   "metadata": {},
   "outputs": [
    {
     "name": "stdout",
     "output_type": "stream",
     "text": [
      "{'manzana': 2, 'banana': 3, 'uva': 8, 'pera': 4, 'sandia': 7, 'mango': 4}\n"
     ]
    }
   ],
   "source": [
    "#8\n",
    "frutas_total=frutas |frutas_nuevas\n",
    "print(frutas_total)"
   ]
  },
  {
   "cell_type": "code",
   "execution_count": 112,
   "metadata": {},
   "outputs": [
    {
     "name": "stdout",
     "output_type": "stream",
     "text": [
      "{'manzana': 2, 'banana': 3, 'uva': 8, 'pera': 4}\n"
     ]
    }
   ],
   "source": [
    "#9\n",
    "frutas_total.popitem()\n",
    "print(frutas_total)"
   ]
  },
  {
   "cell_type": "markdown",
   "metadata": {},
   "source": [
    "#10\n",
    "frutas_total.pop(\"uva\")\n",
    "print(frutas_total)"
   ]
  },
  {
   "cell_type": "code",
   "execution_count": 122,
   "metadata": {},
   "outputs": [
    {
     "name": "stdout",
     "output_type": "stream",
     "text": [
      "{'manzana': 10, 'banana': 3, 'pera': 4}\n"
     ]
    }
   ],
   "source": [
    "#11\n",
    "frutas_total[\"manzana\"]=10\n",
    "print(frutas_total)\n"
   ]
  },
  {
   "cell_type": "code",
   "execution_count": null,
   "metadata": {},
   "outputs": [],
   "source": [
    "#########5########"
   ]
  },
  {
   "cell_type": "code",
   "execution_count": 126,
   "metadata": {},
   "outputs": [
    {
     "name": "stdout",
     "output_type": "stream",
     "text": [
      "{1, 2, 3, 4, 5, 6, 7, 8}\n"
     ]
    }
   ],
   "source": [
    "#1\n",
    "conjunto1={1,2,3,4,5}\n",
    "conjunto2={4,5,6,7,8}\n",
    "\n",
    "union=conjunto1.union(conjunto2)\n",
    "print(union)\n",
    "\n",
    "\n"
   ]
  },
  {
   "cell_type": "markdown",
   "metadata": {},
   "source": [
    "#interseccion \n",
    "interserccion=conjunto1.interseccion(conjunto2)"
   ]
  },
  {
   "cell_type": "code",
   "execution_count": 133,
   "metadata": {},
   "outputs": [
    {
     "name": "stdout",
     "output_type": "stream",
     "text": [
      "eres adulto\n"
     ]
    }
   ],
   "source": [
    "#########parte6######\n",
    "#1\n",
    "edad = int(input())\n",
    "\n",
    "if edad < 18:\n",
    "    print(\"eres menor de edad\")\n",
    "elif 18<= edad <= 65:\n",
    "    print(\"eres adulto\")\n",
    "else:\n",
    "    print(\"eres un adulto mayor\")"
   ]
  },
  {
   "cell_type": "code",
   "execution_count": 135,
   "metadata": {},
   "outputs": [
    {
     "name": "stdout",
     "output_type": "stream",
     "text": [
      "jueves\n"
     ]
    }
   ],
   "source": [
    "#2\n",
    "numero=int(input(\"numero\"))\n",
    "if numero==1:\n",
    "    print(\"lunes\")\n",
    "elif numero==2:\n",
    "    print(\"marteds\")\n",
    "elif numero==3:\n",
    "    print(\"miercoles\")\n",
    "elif numero==4:\n",
    "    print(\"jueves\")\n",
    "else:\n",
    "    print(\"viernes\")"
   ]
  },
  {
   "cell_type": "code",
   "execution_count": null,
   "metadata": {},
   "outputs": [],
   "source": [
    "#3 generar un numero aleatorio\n",
    "numero_aleatorio=ramdon.randit(1,100)\n"
   ]
  },
  {
   "cell_type": "code",
   "execution_count": null,
   "metadata": {},
   "outputs": [],
   "source": []
  }
 ],
 "metadata": {
  "kernelspec": {
   "display_name": "Python 3",
   "language": "python",
   "name": "python3"
  },
  "language_info": {
   "codemirror_mode": {
    "name": "ipython",
    "version": 3
   },
   "file_extension": ".py",
   "mimetype": "text/x-python",
   "name": "python",
   "nbconvert_exporter": "python",
   "pygments_lexer": "ipython3",
   "version": "3.9.6"
  }
 },
 "nbformat": 4,
 "nbformat_minor": 2
}
