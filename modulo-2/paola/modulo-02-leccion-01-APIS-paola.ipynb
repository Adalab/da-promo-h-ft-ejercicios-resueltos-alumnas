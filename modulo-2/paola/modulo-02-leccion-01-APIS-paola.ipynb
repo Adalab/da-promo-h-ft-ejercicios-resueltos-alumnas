{
 "cells": [
  {
   "cell_type": "markdown",
   "metadata": {},
   "source": [
    "EJERCICIOS DE API´s\n",
    "\n",
    "1.  Utilizando la API de Balldontlie extrae la siguiente información. \n",
    "\n",
    " - El nombre, apellido y equipo de cada uno de los jugadores que tenemos en la NBA. Para eso tendrás que usar el [siguiente](http://api.balldontlie.io/v1/players) endpoint. Extrae información de los jugadores.\n",
    "       "
   ]
  },
  {
   "cell_type": "code",
   "execution_count": 1,
   "metadata": {},
   "outputs": [],
   "source": [
    "import pandas as pd\n",
    "import requests"
   ]
  },
  {
   "cell_type": "code",
   "execution_count": 2,
   "metadata": {},
   "outputs": [],
   "source": [
    "api_key = '0e873f63-8bcb-47c8-b2aa-d0c09faba1f4'\n",
    "headers = {\"Authorization\": api_key}"
   ]
  },
  {
   "cell_type": "code",
   "execution_count": 3,
   "metadata": {},
   "outputs": [],
   "source": [
    "def llamar_api(url, headers):    \n",
    "    llamada = requests.get(url, headers=headers)\n",
    "    print(f\"La llamada a la API nos ha dado una respuesta de tipo: {llamada.status_code}\")\n",
    "    \n",
    "    if llamada.status_code != 200:\n",
    "        print(f\"El motivo por el que la llamada falló es {llamada.reason}\")\n",
    "    else:\n",
    "        return llamada.json()\n",
    "    \n",
    "\n"
   ]
  },
  {
   "cell_type": "code",
   "execution_count": 4,
   "metadata": {},
   "outputs": [
    {
     "name": "stdout",
     "output_type": "stream",
     "text": [
      "La llamada a la API nos ha dado una respuesta de tipo: 200\n"
     ]
    }
   ],
   "source": [
    "url_jugadores = \"http://api.balldontlie.io/v1/players\"\n",
    "   \n",
    "json_jugadores = llamar_api(url_jugadores, headers)"
   ]
  },
  {
   "cell_type": "code",
   "execution_count": 5,
   "metadata": {},
   "outputs": [
    {
     "data": {
      "text/plain": [
       "2"
      ]
     },
     "execution_count": 5,
     "metadata": {},
     "output_type": "execute_result"
    }
   ],
   "source": [
    "len(json_jugadores)"
   ]
  },
  {
   "cell_type": "code",
   "execution_count": 6,
   "metadata": {},
   "outputs": [
    {
     "data": {
      "text/plain": [
       "dict_keys(['data', 'meta'])"
      ]
     },
     "execution_count": 6,
     "metadata": {},
     "output_type": "execute_result"
    }
   ],
   "source": [
    "json_jugadores.keys()"
   ]
  },
  {
   "cell_type": "code",
   "execution_count": 14,
   "metadata": {},
   "outputs": [
    {
     "data": {
      "text/plain": [
       "25"
      ]
     },
     "execution_count": 14,
     "metadata": {},
     "output_type": "execute_result"
    }
   ],
   "source": [
    "len(json_jugadores['data'])"
   ]
  },
  {
   "cell_type": "code",
   "execution_count": 23,
   "metadata": {},
   "outputs": [],
   "source": [
    "info_jugador = {\"nombre\": [], \"apellido\": [], \"equipo\":[] }\n",
    "\n",
    "def limpiar_datos(json_datos,dic_resultados):\n",
    "        for jugador in json_jugadores['data']:\n",
    "                dic_resultados['nombre'].append(jugador['first_name'])\n",
    "                dic_resultados['apellido'].append(jugador['last_name'])\n",
    "                dic_resultados['equipo'].append(jugador['team']['name'])\n",
    "        return dic_resultados "
   ]
  },
  {
   "cell_type": "code",
   "execution_count": 17,
   "metadata": {},
   "outputs": [
    {
     "data": {
      "text/plain": [
       "{'nombre': ['Alex',\n",
       "  'Jaylen',\n",
       "  'Steven',\n",
       "  'Bam',\n",
       "  'DeVaughn',\n",
       "  'LaMarcus',\n",
       "  'Rawle',\n",
       "  'Grayson',\n",
       "  'Jarrett',\n",
       "  'Al-Farouq',\n",
       "  'Justin',\n",
       "  'Kyle',\n",
       "  'Ryan',\n",
       "  'Ike',\n",
       "  'Giannis',\n",
       "  'Kostas',\n",
       "  'Carmelo',\n",
       "  'OG',\n",
       "  'Ryan',\n",
       "  'Trevor',\n",
       "  'D.J.',\n",
       "  'Deandre',\n",
       "  'Dwayne',\n",
       "  'Marvin',\n",
       "  'Ron'],\n",
       " 'apellido': ['Abrines',\n",
       "  'Adams',\n",
       "  'Adams',\n",
       "  'Adebayo',\n",
       "  'Akoon-Purcell',\n",
       "  'Aldridge',\n",
       "  'Alkins',\n",
       "  'Allen',\n",
       "  'Allen',\n",
       "  'Aminu',\n",
       "  'Anderson',\n",
       "  'Anderson',\n",
       "  'Anderson',\n",
       "  'Anigbogu',\n",
       "  'Antetokounmpo',\n",
       "  'Antetokounmpo',\n",
       "  'Anthony',\n",
       "  'Anunoby',\n",
       "  'Arcidiacono',\n",
       "  'Ariza',\n",
       "  'Augustin',\n",
       "  'Ayton',\n",
       "  'Bacon',\n",
       "  'Bagley III',\n",
       "  'Baker'],\n",
       " 'equipo': ['Thunder',\n",
       "  'Hawks',\n",
       "  'Rockets',\n",
       "  'Heat',\n",
       "  'Nuggets',\n",
       "  'Nets',\n",
       "  'Bulls',\n",
       "  'Suns',\n",
       "  'Cavaliers',\n",
       "  'Trail Blazers',\n",
       "  'Pacers',\n",
       "  'Timberwolves',\n",
       "  'Pelicans',\n",
       "  'Pacers',\n",
       "  'Bucks',\n",
       "  'Bulls',\n",
       "  'Lakers',\n",
       "  'Knicks',\n",
       "  'Knicks',\n",
       "  'Lakers',\n",
       "  'Lakers',\n",
       "  'Trail Blazers',\n",
       "  'Lakers',\n",
       "  'Wizards',\n",
       "  'Knicks']}"
      ]
     },
     "execution_count": 17,
     "metadata": {},
     "output_type": "execute_result"
    }
   ],
   "source": [
    "info_jugador = limpiar_datos(json_jugadores,info_jugador)\n",
    "info_jugador"
   ]
  },
  {
   "cell_type": "code",
   "execution_count": 19,
   "metadata": {},
   "outputs": [
    {
     "data": {
      "text/html": [
       "<div>\n",
       "<style scoped>\n",
       "    .dataframe tbody tr th:only-of-type {\n",
       "        vertical-align: middle;\n",
       "    }\n",
       "\n",
       "    .dataframe tbody tr th {\n",
       "        vertical-align: top;\n",
       "    }\n",
       "\n",
       "    .dataframe thead th {\n",
       "        text-align: right;\n",
       "    }\n",
       "</style>\n",
       "<table border=\"1\" class=\"dataframe\">\n",
       "  <thead>\n",
       "    <tr style=\"text-align: right;\">\n",
       "      <th></th>\n",
       "      <th>nombre</th>\n",
       "      <th>apellido</th>\n",
       "      <th>equipo</th>\n",
       "    </tr>\n",
       "  </thead>\n",
       "  <tbody>\n",
       "    <tr>\n",
       "      <th>0</th>\n",
       "      <td>Alex</td>\n",
       "      <td>Abrines</td>\n",
       "      <td>Thunder</td>\n",
       "    </tr>\n",
       "    <tr>\n",
       "      <th>1</th>\n",
       "      <td>Jaylen</td>\n",
       "      <td>Adams</td>\n",
       "      <td>Hawks</td>\n",
       "    </tr>\n",
       "    <tr>\n",
       "      <th>2</th>\n",
       "      <td>Steven</td>\n",
       "      <td>Adams</td>\n",
       "      <td>Rockets</td>\n",
       "    </tr>\n",
       "    <tr>\n",
       "      <th>3</th>\n",
       "      <td>Bam</td>\n",
       "      <td>Adebayo</td>\n",
       "      <td>Heat</td>\n",
       "    </tr>\n",
       "    <tr>\n",
       "      <th>4</th>\n",
       "      <td>DeVaughn</td>\n",
       "      <td>Akoon-Purcell</td>\n",
       "      <td>Nuggets</td>\n",
       "    </tr>\n",
       "  </tbody>\n",
       "</table>\n",
       "</div>"
      ],
      "text/plain": [
       "     nombre       apellido   equipo\n",
       "0      Alex        Abrines  Thunder\n",
       "1    Jaylen          Adams    Hawks\n",
       "2    Steven          Adams  Rockets\n",
       "3       Bam        Adebayo     Heat\n",
       "4  DeVaughn  Akoon-Purcell  Nuggets"
      ]
     },
     "execution_count": 19,
     "metadata": {},
     "output_type": "execute_result"
    }
   ],
   "source": [
    "df_info_jugador = pd.DataFrame(info_jugador)\n",
    "df_info_jugador[:5]"
   ]
  },
  {
   "cell_type": "markdown",
   "metadata": {},
   "source": [
    " - Extrae información de todos los equipos, \n",
    " *  la conferencia a la que pertenece\n",
    " *  la ciudad\n",
    " *  el nombre y su abreviacion."
   ]
  },
  {
   "cell_type": "code",
   "execution_count": 21,
   "metadata": {},
   "outputs": [
    {
     "name": "stdout",
     "output_type": "stream",
     "text": [
      "La llamada a la API nos ha dado una respuesta de tipo: 200\n"
     ]
    }
   ],
   "source": [
    "url_equipos = \"https://api.balldontlie.io/v1/teams\"\n",
    "\n",
    "json_equipos = llamar_api(url_equipos,headers)"
   ]
  },
  {
   "cell_type": "code",
   "execution_count": 22,
   "metadata": {},
   "outputs": [
    {
     "data": {
      "text/plain": [
       "dict_keys(['data'])"
      ]
     },
     "execution_count": 22,
     "metadata": {},
     "output_type": "execute_result"
    }
   ],
   "source": [
    "json_equipos.keys()"
   ]
  },
  {
   "cell_type": "code",
   "execution_count": 46,
   "metadata": {},
   "outputs": [],
   "source": [
    "info_equipos = {\"id\": [], \"conference\": [], \"city\":[], \"full_name\" : [], \"name\":[]}\n",
    "\n",
    "def limpiar_datos(json_datos,dic_resultados):\n",
    "        for equipo in json_equipos['data']:\n",
    "                dic_resultados['id'].append(equipo['id'])\n",
    "                dic_resultados['conference'].append(equipo['conference'])\n",
    "                dic_resultados['city'].append(equipo['city'])\n",
    "                dic_resultados['full_name'].append(equipo['full_name'])\n",
    "                dic_resultados['name'].append(equipo['name'])\n",
    "                \n",
    "        return dic_resultados "
   ]
  },
  {
   "cell_type": "code",
   "execution_count": 47,
   "metadata": {},
   "outputs": [
    {
     "data": {
      "text/plain": [
       "{'id': [1,\n",
       "  2,\n",
       "  3,\n",
       "  4,\n",
       "  5,\n",
       "  6,\n",
       "  7,\n",
       "  8,\n",
       "  9,\n",
       "  10,\n",
       "  11,\n",
       "  12,\n",
       "  13,\n",
       "  14,\n",
       "  15,\n",
       "  16,\n",
       "  17,\n",
       "  18,\n",
       "  19,\n",
       "  20,\n",
       "  21,\n",
       "  22,\n",
       "  23,\n",
       "  24,\n",
       "  25,\n",
       "  26,\n",
       "  27,\n",
       "  28,\n",
       "  29,\n",
       "  30,\n",
       "  37,\n",
       "  38,\n",
       "  39,\n",
       "  40,\n",
       "  41,\n",
       "  42,\n",
       "  43,\n",
       "  44,\n",
       "  45,\n",
       "  46,\n",
       "  47,\n",
       "  48,\n",
       "  49,\n",
       "  50,\n",
       "  51],\n",
       " 'conference': ['East',\n",
       "  'East',\n",
       "  'East',\n",
       "  'East',\n",
       "  'East',\n",
       "  'East',\n",
       "  'West',\n",
       "  'West',\n",
       "  'East',\n",
       "  'West',\n",
       "  'West',\n",
       "  'East',\n",
       "  'West',\n",
       "  'West',\n",
       "  'West',\n",
       "  'East',\n",
       "  'East',\n",
       "  'West',\n",
       "  'West',\n",
       "  'East',\n",
       "  'West',\n",
       "  'East',\n",
       "  'East',\n",
       "  'West',\n",
       "  'West',\n",
       "  'West',\n",
       "  'West',\n",
       "  'East',\n",
       "  'West',\n",
       "  'East',\n",
       "  '    ',\n",
       "  '    ',\n",
       "  '    ',\n",
       "  '    ',\n",
       "  '    ',\n",
       "  '    ',\n",
       "  '    ',\n",
       "  '    ',\n",
       "  '    ',\n",
       "  '    ',\n",
       "  '    ',\n",
       "  '    ',\n",
       "  '    ',\n",
       "  '    ',\n",
       "  '    '],\n",
       " 'city': ['Atlanta',\n",
       "  'Boston',\n",
       "  'Brooklyn',\n",
       "  'Charlotte',\n",
       "  'Chicago',\n",
       "  'Cleveland',\n",
       "  'Dallas',\n",
       "  'Denver',\n",
       "  'Detroit',\n",
       "  'Golden State',\n",
       "  'Houston',\n",
       "  'Indiana',\n",
       "  'LA',\n",
       "  'Los Angeles',\n",
       "  'Memphis',\n",
       "  'Miami',\n",
       "  'Milwaukee',\n",
       "  'Minnesota',\n",
       "  'New Orleans',\n",
       "  'New York',\n",
       "  'Oklahoma City',\n",
       "  'Orlando',\n",
       "  'Philadelphia',\n",
       "  'Phoenix',\n",
       "  'Portland',\n",
       "  'Sacramento',\n",
       "  'San Antonio',\n",
       "  'Toronto',\n",
       "  'Utah',\n",
       "  'Washington',\n",
       "  '',\n",
       "  '',\n",
       "  '',\n",
       "  '',\n",
       "  '',\n",
       "  '',\n",
       "  '',\n",
       "  '',\n",
       "  '',\n",
       "  '',\n",
       "  '',\n",
       "  '',\n",
       "  '',\n",
       "  '',\n",
       "  ''],\n",
       " 'full_name': ['Atlanta Hawks',\n",
       "  'Boston Celtics',\n",
       "  'Brooklyn Nets',\n",
       "  'Charlotte Hornets',\n",
       "  'Chicago Bulls',\n",
       "  'Cleveland Cavaliers',\n",
       "  'Dallas Mavericks',\n",
       "  'Denver Nuggets',\n",
       "  'Detroit Pistons',\n",
       "  'Golden State Warriors',\n",
       "  'Houston Rockets',\n",
       "  'Indiana Pacers',\n",
       "  'LA Clippers',\n",
       "  'Los Angeles Lakers',\n",
       "  'Memphis Grizzlies',\n",
       "  'Miami Heat',\n",
       "  'Milwaukee Bucks',\n",
       "  'Minnesota Timberwolves',\n",
       "  'New Orleans Pelicans',\n",
       "  'New York Knicks',\n",
       "  'Oklahoma City Thunder',\n",
       "  'Orlando Magic',\n",
       "  'Philadelphia 76ers',\n",
       "  'Phoenix Suns',\n",
       "  'Portland Trail Blazers',\n",
       "  'Sacramento Kings',\n",
       "  'San Antonio Spurs',\n",
       "  'Toronto Raptors',\n",
       "  'Utah Jazz',\n",
       "  'Washington Wizards',\n",
       "  'Chicago Stags',\n",
       "  'St. Louis Bombers',\n",
       "  'Cleveland Rebels',\n",
       "  'Detroit Falcons',\n",
       "  'Toronto Huskies',\n",
       "  'Washington Capitols',\n",
       "  'Providence Steamrollers',\n",
       "  'Pittsburgh Ironmen',\n",
       "  'Baltimore Bullets',\n",
       "  'Indianapolis Jets',\n",
       "  'Anderson Packers',\n",
       "  'Waterloo Hawks',\n",
       "  'Indianapolis Olympians',\n",
       "  'Denver Nuggets',\n",
       "  'Sheboygan Redskins'],\n",
       " 'name': ['Hawks',\n",
       "  'Celtics',\n",
       "  'Nets',\n",
       "  'Hornets',\n",
       "  'Bulls',\n",
       "  'Cavaliers',\n",
       "  'Mavericks',\n",
       "  'Nuggets',\n",
       "  'Pistons',\n",
       "  'Warriors',\n",
       "  'Rockets',\n",
       "  'Pacers',\n",
       "  'Clippers',\n",
       "  'Lakers',\n",
       "  'Grizzlies',\n",
       "  'Heat',\n",
       "  'Bucks',\n",
       "  'Timberwolves',\n",
       "  'Pelicans',\n",
       "  'Knicks',\n",
       "  'Thunder',\n",
       "  'Magic',\n",
       "  '76ers',\n",
       "  'Suns',\n",
       "  'Trail Blazers',\n",
       "  'Kings',\n",
       "  'Spurs',\n",
       "  'Raptors',\n",
       "  'Jazz',\n",
       "  'Wizards',\n",
       "  'Chicago Stags',\n",
       "  'St. Louis Bombers',\n",
       "  'Cleveland Rebels',\n",
       "  'Detroit Falcons',\n",
       "  'Toronto Huskies',\n",
       "  'Washington Capitols',\n",
       "  'Providence Steamrollers',\n",
       "  'Pittsburgh Ironmen',\n",
       "  'Baltimore Bullets',\n",
       "  'Indianapolis Jets',\n",
       "  'Anderson Packers',\n",
       "  'Waterloo Hawks',\n",
       "  'Indianapolis Olympians',\n",
       "  'Denver Nuggets',\n",
       "  'Sheboygan Redskins']}"
      ]
     },
     "execution_count": 47,
     "metadata": {},
     "output_type": "execute_result"
    }
   ],
   "source": [
    "info_equipos = limpiar_datos(json_jugadores,info_equipos)\n",
    "info_equipos"
   ]
  },
  {
   "cell_type": "code",
   "execution_count": 48,
   "metadata": {},
   "outputs": [
    {
     "data": {
      "text/html": [
       "<div>\n",
       "<style scoped>\n",
       "    .dataframe tbody tr th:only-of-type {\n",
       "        vertical-align: middle;\n",
       "    }\n",
       "\n",
       "    .dataframe tbody tr th {\n",
       "        vertical-align: top;\n",
       "    }\n",
       "\n",
       "    .dataframe thead th {\n",
       "        text-align: right;\n",
       "    }\n",
       "</style>\n",
       "<table border=\"1\" class=\"dataframe\">\n",
       "  <thead>\n",
       "    <tr style=\"text-align: right;\">\n",
       "      <th></th>\n",
       "      <th>id</th>\n",
       "      <th>conference</th>\n",
       "      <th>city</th>\n",
       "      <th>full_name</th>\n",
       "      <th>name</th>\n",
       "    </tr>\n",
       "  </thead>\n",
       "  <tbody>\n",
       "    <tr>\n",
       "      <th>0</th>\n",
       "      <td>1</td>\n",
       "      <td>East</td>\n",
       "      <td>Atlanta</td>\n",
       "      <td>Atlanta Hawks</td>\n",
       "      <td>Hawks</td>\n",
       "    </tr>\n",
       "    <tr>\n",
       "      <th>1</th>\n",
       "      <td>2</td>\n",
       "      <td>East</td>\n",
       "      <td>Boston</td>\n",
       "      <td>Boston Celtics</td>\n",
       "      <td>Celtics</td>\n",
       "    </tr>\n",
       "    <tr>\n",
       "      <th>2</th>\n",
       "      <td>3</td>\n",
       "      <td>East</td>\n",
       "      <td>Brooklyn</td>\n",
       "      <td>Brooklyn Nets</td>\n",
       "      <td>Nets</td>\n",
       "    </tr>\n",
       "    <tr>\n",
       "      <th>3</th>\n",
       "      <td>4</td>\n",
       "      <td>East</td>\n",
       "      <td>Charlotte</td>\n",
       "      <td>Charlotte Hornets</td>\n",
       "      <td>Hornets</td>\n",
       "    </tr>\n",
       "    <tr>\n",
       "      <th>4</th>\n",
       "      <td>5</td>\n",
       "      <td>East</td>\n",
       "      <td>Chicago</td>\n",
       "      <td>Chicago Bulls</td>\n",
       "      <td>Bulls</td>\n",
       "    </tr>\n",
       "  </tbody>\n",
       "</table>\n",
       "</div>"
      ],
      "text/plain": [
       "   id conference       city          full_name     name\n",
       "0   1       East    Atlanta      Atlanta Hawks    Hawks\n",
       "1   2       East     Boston     Boston Celtics  Celtics\n",
       "2   3       East   Brooklyn      Brooklyn Nets     Nets\n",
       "3   4       East  Charlotte  Charlotte Hornets  Hornets\n",
       "4   5       East    Chicago      Chicago Bulls    Bulls"
      ]
     },
     "execution_count": 48,
     "metadata": {},
     "output_type": "execute_result"
    }
   ],
   "source": [
    "df_info_equipos = pd.DataFrame(info_equipos)\n",
    "df_info_equipos[:5]"
   ]
  },
  {
   "cell_type": "code",
   "execution_count": null,
   "metadata": {},
   "outputs": [],
   "source": []
  }
 ],
 "metadata": {
  "kernelspec": {
   "display_name": "base",
   "language": "python",
   "name": "python3"
  },
  "language_info": {
   "codemirror_mode": {
    "name": "ipython",
    "version": 3
   },
   "file_extension": ".py",
   "mimetype": "text/x-python",
   "name": "python",
   "nbconvert_exporter": "python",
   "pygments_lexer": "ipython3",
   "version": "3.9.7"
  }
 },
 "nbformat": 4,
 "nbformat_minor": 2
}
