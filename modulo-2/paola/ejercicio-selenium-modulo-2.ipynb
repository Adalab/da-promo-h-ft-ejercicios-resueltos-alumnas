{
 "cells": [
  {
   "cell_type": "markdown",
   "metadata": {},
   "source": [
    "# Ejercicios\n",
    "Escribe un script en Python utilizando Selenium que realice las siguientes tareas en la página web del Decathlon:\n",
    "\n",
    "1. Abra una el navegador y maximice la ventana.\n",
    "\n",
    "2. Acceda al sitio web de Decathlon en la URL \"https://www.decathlon.es/\".\n",
    "\n",
    "3. Haga clic en el botón \"Aceptar\" en la notificación de cookies utilizando su selector CSS.\n",
    "\n",
    "4. Solicite al usuario que ingrese una búsqueda (por ejemplo, un producto deportivo) mediante una entrada de texto.\n",
    "\n",
    "5. Utilice el texto ingresado para buscar productos en el sitio web de Decathlon y presione la tecla \"Enter\" para iniciar la búsqueda.\n",
    "\n",
    "6. Inicialice un diccionario llamado `diccionario_resultados` con tres listas vacías: \"nombre\", \"precio\" y \"puntuación\".\n",
    "\n",
    "7. Itere sobre los primeros 5 resultados de la búsqueda y realice las siguientes acciones:\n",
    "\n",
    "    a. Haga clic en un resultado específico.\n",
    "    b. Recopile el nombre del producto, el precio y la puntuación del producto y almacénelos en las listas correspondientes en el diccionario `diccionario_resultados`.\n",
    "\n",
    "    c. Navegue de regreso a los resultados de búsqueda.\n",
    "\n",
    "8. Cierre el navegador Chrome.\n",
    "\n",
    "El resultado final debería ser un diccionario con información sobre los primeros 5 productos encontrados durante la búsqueda en el sitio web de Decathlon, incluyendo el nombre del producto, el precio y la puntuación. Muestralo en un DataFrame similar al ves a continuación: \n",
    "\n",
    "| nombre                                             | precio    | puntuacion |\n",
    "|----------------------------------------------------|-----------|------------|\n",
    "| Camiseta Real Madrid Local Adulto Temporada 23/24  | 99,99 €   | 5/5        |\n",
    "| Camiseta térmica interior de esquí y nieve Muj... | 6,99 €    | 4.7/5      |\n",
    "| Camiseta running térmica transpirable Mujer Ki... | 19,99 €   | 4.8/5      |\n",
    "| Camiseta térmica running Mujer negra              | 14,99 €   | 4.7/5      |\n",
    "| Camiseta de fútbol Adulto Kipsta F100 roja         | 5,99 €    | 4.5/5      |\n",
    "\n"
   ]
  },
  {
   "cell_type": "code",
   "execution_count": 126,
   "metadata": {},
   "outputs": [],
   "source": [
    "#  Importar librerías para tratamiento de datos\n",
    "# -----------------------------------------------------------------------\n",
    "import pandas as pd  # Pandas es una poderosa librería para manipulación y análisis de datos en Python.\n",
    "\n",
    "# Importar librerías para web scraping y manipulación de datos\n",
    "# -----------------------------------------------------------------------\n",
    "from bs4 import BeautifulSoup\n",
    "import requests\n",
    "\n",
    "# Importar librerías para automatización de navegadores web con Selenium\n",
    "# -----------------------------------------------------------------------\n",
    "from selenium import webdriver  # Selenium es una herramienta para automatizar la interacción con navegadores web.\n",
    "from webdriver_manager.chrome import ChromeDriverManager  # ChromeDriverManager gestiona la instalación del controlador de Chrome.\n",
    "from selenium.webdriver.common.keys import Keys  # Keys es útil para simular eventos de teclado en Selenium.\n",
    "from selenium.webdriver.support.ui import Select  # Select se utiliza para interactuar con elementos <select> en páginas web.\n",
    "\n",
    "# Importar librerías para pausar la ejecución\n",
    "# -----------------------------------------------------------------------\n",
    "from time import sleep  # Sleep se utiliza para pausar la ejecución del programa por un número de segundos.\n",
    "\n",
    "# Configuraciones\n",
    "# -----------------------------------------------------------------------\n",
    "pd.set_option('display.max_columns', None)  # Establece una opción de Pandas para mostrar todas las columnas de un DataFrame."
   ]
  },
  {
   "cell_type": "code",
   "execution_count": null,
   "metadata": {},
   "outputs": [],
   "source": [
    "\n"
   ]
  },
  {
   "cell_type": "code",
   "execution_count": null,
   "metadata": {},
   "outputs": [],
   "source": []
  },
  {
   "cell_type": "code",
   "execution_count": 127,
   "metadata": {},
   "outputs": [
    {
     "name": "stdout",
     "output_type": "stream",
     "text": [
      "{'nombre': ['Camiseta Real Madrid Local Adulto Temporada 23/24'], 'precio': ['79,99 €'], 'puntuacion': ['5/5']}\n"
     ]
    }
   ],
   "source": [
    "\n",
    "    \n",
    "driver = webdriver.Chrome() #abrir el navegador\n",
    "\n",
    "driver.get(\"https://www.decathlon.es/\") # abrir pagina web\n",
    "\n",
    "driver.maximize_window() #maximizar ventana navegador\n",
    "\n",
    "driver.find_element(\"css selector\", \"#didomi-notice-agree-button\").click() # acepto las coockies\n",
    "\n",
    "sleep(2)\n",
    "\n",
    "seleccion_usuario = input(\"elija un articulo deportivo para iniciar la busqueda\").upper() # busqueda del usuario \"camiseta\"\n",
    "    \n",
    "sleep(2)\n",
    "\n",
    "driver.find_element(\"css selector\", \"#search-bar > div > form > input\").send_keys(seleccion_usuario, Keys.ENTER) \n",
    "    \n",
    "diccionario_resultados = {\"nombre\":[],\n",
    "                            \"precio\":[],\n",
    "                            \"puntuacion\":[]}  \n",
    "    \n",
    "        \n",
    "    \n",
    "    \n",
    "        \n",
    "driver.find_element(\"css selector\", f\"#app > main > div.list-body.svelte-4gq2qk > section.listing-section.svelte-4gq2qk > div > div:nth-child(1)\").click()\n",
    "        \n",
    "sleep(2)\n",
    "        #sacar nombre                            \n",
    "\n",
    "diccionario_resultados[\"nombre\"].append(driver.find_element(\"css selector\", \"#app > main > article > div.vtmn-relative.vtmn-z-\\[2\\] > section > h1\").text)\n",
    "                                                                                    \n",
    "        #  Recopilar el precio del producto\n",
    "sleep(2)\n",
    "diccionario_resultados[\"precio\"].append(driver.find_element(\"xpath\",'//*[@id=\"app\"]/main/article/div[2]/section/div[1]/div[1]/div/div[2]/span').text)\n",
    "\n",
    "        # Recopilar la puntuación del producto\n",
    "sleep(5)                                               \n",
    "diccionario_resultados[\"puntuacion\"].append(driver.find_element(\"xpath\", '/html/body/div[2]/main/article/div[2]/section/div[3]/div/button/div/span[6]').text)     \n",
    "                                                                        \n",
    "sleep(2)\n",
    "        \n",
    "driver.back()\n",
    "    \n",
    "    \n",
    "driver.close()\n",
    "\n",
    "print(diccionario_resultados)"
   ]
  },
  {
   "cell_type": "code",
   "execution_count": 128,
   "metadata": {},
   "outputs": [],
   "source": [
    "# NOMBRES css\n",
    "#1#app > main > article > div.vtmn-relative.vtmn-z-\\[2\\] > section > h1\n",
    "#2#app > main > article > div.vtmn-relative.vtmn-z-\\[2\\] > section > h1\n",
    "#3#app > main > article > div.vtmn-relative.vtmn-z-\\[2\\] > section > h1\n"
   ]
  },
  {
   "cell_type": "code",
   "execution_count": 129,
   "metadata": {},
   "outputs": [],
   "source": [
    "#PRECIOS xpath\n",
    "\n",
    "#2#//*[@id=\"app\"]/main/article/div[2]/section/div[1]/div[2]/div/div/span\n",
    "#3#//*[@id=\"app\"]/main/article/div[2]/section/div[1]/div[2]/div/div/span\n",
    "#"
   ]
  },
  {
   "cell_type": "code",
   "execution_count": 130,
   "metadata": {},
   "outputs": [],
   "source": [
    "# PUNTUACION xpath (full)\n",
    "\n",
    "#/html/body/div[2]/main/article/div[2]/section/div[2]/div/button/div/span[6]\n",
    "#/html/body/div[2]/main/article/div[2]/section/div[2]/div/button/div/span[6]\n",
    "\n",
    "\n",
    "\n",
    "\n"
   ]
  },
  {
   "cell_type": "code",
   "execution_count": 131,
   "metadata": {},
   "outputs": [],
   "source": [
    "def buscar_resultados_decathlon():\n",
    "    \n",
    "    driver = webdriver.Chrome() #abrir el navegador\n",
    "\n",
    "    driver.get(\"https://www.decathlon.es/\") # abrir pagina web\n",
    "\n",
    "    driver.maximize_window() #maximizar ventana navegador\n",
    "\n",
    "    driver.find_element(\"css selector\", \"#didomi-notice-agree-button\").click() # acepto las coockies\n",
    "\n",
    "    sleep(2)\n",
    "\n",
    "    seleccion_usuario = input(\"elija un articulo deportivo para iniciar la busqueda\").upper() # busqueda del usuario \"camiseta\"\n",
    "    \n",
    "    sleep(2)\n",
    "\n",
    "    driver.find_element(\"css selector\", \"#search-bar > div > form > input\").send_keys(seleccion_usuario, Keys.ENTER) \n",
    "    \n",
    "    diccionario_resultados = {\"nombre\":[],\n",
    "                            \"precio\":[],\n",
    "                            \"puntuacion\":[]}  \n",
    "    \n",
    "        \n",
    "    \n",
    "    for  i in range(1,11):\n",
    "        \n",
    "        driver.find_element(\"css selector\", f\"#app > main > div.list-body.svelte-4gq2qk > section.listing-section.svelte-4gq2qk > div > div:nth-child({i})\").click()\n",
    "        \n",
    "        sleep(5)\n",
    "        #sacar nombre                            \n",
    "\n",
    "        diccionario_resultados[\"nombre\"].append(driver.find_element(\"css selector\", \"#app > main > article > div.vtmn-relative.vtmn-z-\\[2\\] > section > h1\").text)\n",
    "                                                                                    \n",
    "        #  Recopilar el precio del producto\n",
    "        sleep(5)\n",
    "        diccionario_resultados[\"precio\"].append(driver.find_element(\"xpath\",'//*[@id=\"app\"]/main/article/div[2]/section/div[1]/div[1]/div/div[2]/span').text)\n",
    "\n",
    "        # Recopilar la puntuación del producto\n",
    "        sleep(5)                                               \n",
    "        diccionario_resultados[\"puntuacion\"].append(driver.find_element(\"xpath\", '/html/body/div[2]/main/article/div[2]/section/div[3]/div/button/div/span[6]').text)     \n",
    "    \n",
    "        sleep(5)\n",
    "        \n",
    "        driver.back()\n",
    "    \n",
    "    \n",
    "    driver.close()\n",
    "\n",
    "    return diccionario_resultados\n"
   ]
  },
  {
   "cell_type": "code",
   "execution_count": 132,
   "metadata": {},
   "outputs": [
    {
     "ename": "NoSuchElementException",
     "evalue": "Message: no such element: Unable to locate element: {\"method\":\"css selector\",\"selector\":\"#app > main > article > div.vtmn-relative.vtmn-z-\\[2\\] > section > h1\"}\n  (Session info: chrome=122.0.6261.129); For documentation on this error, please visit: https://www.selenium.dev/documentation/webdriver/troubleshooting/errors#no-such-element-exception\nStacktrace:\n\tGetHandleVerifier [0x00007FF72CD5AD02+56930]\n\t(No symbol) [0x00007FF72CCCF602]\n\t(No symbol) [0x00007FF72CB842E5]\n\t(No symbol) [0x00007FF72CBC98ED]\n\t(No symbol) [0x00007FF72CBC9A2C]\n\t(No symbol) [0x00007FF72CC0A967]\n\t(No symbol) [0x00007FF72CBEBCDF]\n\t(No symbol) [0x00007FF72CC081E2]\n\t(No symbol) [0x00007FF72CBEBA43]\n\t(No symbol) [0x00007FF72CBBD438]\n\t(No symbol) [0x00007FF72CBBE4D1]\n\tGetHandleVerifier [0x00007FF72D0D6F8D+3711213]\n\tGetHandleVerifier [0x00007FF72D1304CD+4077101]\n\tGetHandleVerifier [0x00007FF72D12865F+4044735]\n\tGetHandleVerifier [0x00007FF72CDF9736+706710]\n\t(No symbol) [0x00007FF72CCDB8DF]\n\t(No symbol) [0x00007FF72CCD6AC4]\n\t(No symbol) [0x00007FF72CCD6C1C]\n\t(No symbol) [0x00007FF72CCC68D4]\n\tBaseThreadInitThunk [0x00007FFC1FA77344+20]\n\tRtlUserThreadStart [0x00007FFC1FC026B1+33]\n",
     "output_type": "error",
     "traceback": [
      "\u001b[1;31m---------------------------------------------------------------------------\u001b[0m",
      "\u001b[1;31mNoSuchElementException\u001b[0m                    Traceback (most recent call last)",
      "Cell \u001b[1;32mIn[132], line 1\u001b[0m\n\u001b[1;32m----> 1\u001b[0m resultado_dec \u001b[38;5;241m=\u001b[39m \u001b[43mbuscar_resultados_decathlon\u001b[49m\u001b[43m(\u001b[49m\u001b[43m)\u001b[49m\n",
      "Cell \u001b[1;32mIn[131], line 32\u001b[0m, in \u001b[0;36mbuscar_resultados_decathlon\u001b[1;34m()\u001b[0m\n\u001b[0;32m     29\u001b[0m sleep(\u001b[38;5;241m5\u001b[39m)\n\u001b[0;32m     30\u001b[0m \u001b[38;5;66;03m#sacar nombre                            \u001b[39;00m\n\u001b[1;32m---> 32\u001b[0m diccionario_resultados[\u001b[38;5;124m\"\u001b[39m\u001b[38;5;124mnombre\u001b[39m\u001b[38;5;124m\"\u001b[39m]\u001b[38;5;241m.\u001b[39mappend(\u001b[43mdriver\u001b[49m\u001b[38;5;241;43m.\u001b[39;49m\u001b[43mfind_element\u001b[49m\u001b[43m(\u001b[49m\u001b[38;5;124;43m\"\u001b[39;49m\u001b[38;5;124;43mcss selector\u001b[39;49m\u001b[38;5;124;43m\"\u001b[39;49m\u001b[43m,\u001b[49m\u001b[43m \u001b[49m\u001b[38;5;124;43m\"\u001b[39;49m\u001b[38;5;124;43m#app > main > article > div.vtmn-relative.vtmn-z-\u001b[39;49m\u001b[38;5;124;43m\\\u001b[39;49m\u001b[38;5;124;43m[2\u001b[39;49m\u001b[38;5;124;43m\\\u001b[39;49m\u001b[38;5;124;43m] > section > h1\u001b[39;49m\u001b[38;5;124;43m\"\u001b[39;49m\u001b[43m)\u001b[49m\u001b[38;5;241m.\u001b[39mtext)\n\u001b[0;32m     34\u001b[0m \u001b[38;5;66;03m#  Recopilar el precio del producto\u001b[39;00m\n\u001b[0;32m     35\u001b[0m sleep(\u001b[38;5;241m5\u001b[39m)\n",
      "File \u001b[1;32m~\\AppData\\Local\\Packages\\PythonSoftwareFoundation.Python.3.9_qbz5n2kfra8p0\\LocalCache\\local-packages\\Python39\\site-packages\\selenium\\webdriver\\remote\\webdriver.py:741\u001b[0m, in \u001b[0;36mWebDriver.find_element\u001b[1;34m(self, by, value)\u001b[0m\n\u001b[0;32m    738\u001b[0m     by \u001b[38;5;241m=\u001b[39m By\u001b[38;5;241m.\u001b[39mCSS_SELECTOR\n\u001b[0;32m    739\u001b[0m     value \u001b[38;5;241m=\u001b[39m \u001b[38;5;124mf\u001b[39m\u001b[38;5;124m'\u001b[39m\u001b[38;5;124m[name=\u001b[39m\u001b[38;5;124m\"\u001b[39m\u001b[38;5;132;01m{\u001b[39;00mvalue\u001b[38;5;132;01m}\u001b[39;00m\u001b[38;5;124m\"\u001b[39m\u001b[38;5;124m]\u001b[39m\u001b[38;5;124m'\u001b[39m\n\u001b[1;32m--> 741\u001b[0m \u001b[38;5;28;01mreturn\u001b[39;00m \u001b[38;5;28;43mself\u001b[39;49m\u001b[38;5;241;43m.\u001b[39;49m\u001b[43mexecute\u001b[49m\u001b[43m(\u001b[49m\u001b[43mCommand\u001b[49m\u001b[38;5;241;43m.\u001b[39;49m\u001b[43mFIND_ELEMENT\u001b[49m\u001b[43m,\u001b[49m\u001b[43m \u001b[49m\u001b[43m{\u001b[49m\u001b[38;5;124;43m\"\u001b[39;49m\u001b[38;5;124;43musing\u001b[39;49m\u001b[38;5;124;43m\"\u001b[39;49m\u001b[43m:\u001b[49m\u001b[43m \u001b[49m\u001b[43mby\u001b[49m\u001b[43m,\u001b[49m\u001b[43m \u001b[49m\u001b[38;5;124;43m\"\u001b[39;49m\u001b[38;5;124;43mvalue\u001b[39;49m\u001b[38;5;124;43m\"\u001b[39;49m\u001b[43m:\u001b[49m\u001b[43m \u001b[49m\u001b[43mvalue\u001b[49m\u001b[43m}\u001b[49m\u001b[43m)\u001b[49m[\u001b[38;5;124m\"\u001b[39m\u001b[38;5;124mvalue\u001b[39m\u001b[38;5;124m\"\u001b[39m]\n",
      "File \u001b[1;32m~\\AppData\\Local\\Packages\\PythonSoftwareFoundation.Python.3.9_qbz5n2kfra8p0\\LocalCache\\local-packages\\Python39\\site-packages\\selenium\\webdriver\\remote\\webdriver.py:347\u001b[0m, in \u001b[0;36mWebDriver.execute\u001b[1;34m(self, driver_command, params)\u001b[0m\n\u001b[0;32m    345\u001b[0m response \u001b[38;5;241m=\u001b[39m \u001b[38;5;28mself\u001b[39m\u001b[38;5;241m.\u001b[39mcommand_executor\u001b[38;5;241m.\u001b[39mexecute(driver_command, params)\n\u001b[0;32m    346\u001b[0m \u001b[38;5;28;01mif\u001b[39;00m response:\n\u001b[1;32m--> 347\u001b[0m     \u001b[38;5;28;43mself\u001b[39;49m\u001b[38;5;241;43m.\u001b[39;49m\u001b[43merror_handler\u001b[49m\u001b[38;5;241;43m.\u001b[39;49m\u001b[43mcheck_response\u001b[49m\u001b[43m(\u001b[49m\u001b[43mresponse\u001b[49m\u001b[43m)\u001b[49m\n\u001b[0;32m    348\u001b[0m     response[\u001b[38;5;124m\"\u001b[39m\u001b[38;5;124mvalue\u001b[39m\u001b[38;5;124m\"\u001b[39m] \u001b[38;5;241m=\u001b[39m \u001b[38;5;28mself\u001b[39m\u001b[38;5;241m.\u001b[39m_unwrap_value(response\u001b[38;5;241m.\u001b[39mget(\u001b[38;5;124m\"\u001b[39m\u001b[38;5;124mvalue\u001b[39m\u001b[38;5;124m\"\u001b[39m, \u001b[38;5;28;01mNone\u001b[39;00m))\n\u001b[0;32m    349\u001b[0m     \u001b[38;5;28;01mreturn\u001b[39;00m response\n",
      "File \u001b[1;32m~\\AppData\\Local\\Packages\\PythonSoftwareFoundation.Python.3.9_qbz5n2kfra8p0\\LocalCache\\local-packages\\Python39\\site-packages\\selenium\\webdriver\\remote\\errorhandler.py:229\u001b[0m, in \u001b[0;36mErrorHandler.check_response\u001b[1;34m(self, response)\u001b[0m\n\u001b[0;32m    227\u001b[0m         alert_text \u001b[38;5;241m=\u001b[39m value[\u001b[38;5;124m\"\u001b[39m\u001b[38;5;124malert\u001b[39m\u001b[38;5;124m\"\u001b[39m]\u001b[38;5;241m.\u001b[39mget(\u001b[38;5;124m\"\u001b[39m\u001b[38;5;124mtext\u001b[39m\u001b[38;5;124m\"\u001b[39m)\n\u001b[0;32m    228\u001b[0m     \u001b[38;5;28;01mraise\u001b[39;00m exception_class(message, screen, stacktrace, alert_text)  \u001b[38;5;66;03m# type: ignore[call-arg]  # mypy is not smart enough here\u001b[39;00m\n\u001b[1;32m--> 229\u001b[0m \u001b[38;5;28;01mraise\u001b[39;00m exception_class(message, screen, stacktrace)\n",
      "\u001b[1;31mNoSuchElementException\u001b[0m: Message: no such element: Unable to locate element: {\"method\":\"css selector\",\"selector\":\"#app > main > article > div.vtmn-relative.vtmn-z-\\[2\\] > section > h1\"}\n  (Session info: chrome=122.0.6261.129); For documentation on this error, please visit: https://www.selenium.dev/documentation/webdriver/troubleshooting/errors#no-such-element-exception\nStacktrace:\n\tGetHandleVerifier [0x00007FF72CD5AD02+56930]\n\t(No symbol) [0x00007FF72CCCF602]\n\t(No symbol) [0x00007FF72CB842E5]\n\t(No symbol) [0x00007FF72CBC98ED]\n\t(No symbol) [0x00007FF72CBC9A2C]\n\t(No symbol) [0x00007FF72CC0A967]\n\t(No symbol) [0x00007FF72CBEBCDF]\n\t(No symbol) [0x00007FF72CC081E2]\n\t(No symbol) [0x00007FF72CBEBA43]\n\t(No symbol) [0x00007FF72CBBD438]\n\t(No symbol) [0x00007FF72CBBE4D1]\n\tGetHandleVerifier [0x00007FF72D0D6F8D+3711213]\n\tGetHandleVerifier [0x00007FF72D1304CD+4077101]\n\tGetHandleVerifier [0x00007FF72D12865F+4044735]\n\tGetHandleVerifier [0x00007FF72CDF9736+706710]\n\t(No symbol) [0x00007FF72CCDB8DF]\n\t(No symbol) [0x00007FF72CCD6AC4]\n\t(No symbol) [0x00007FF72CCD6C1C]\n\t(No symbol) [0x00007FF72CCC68D4]\n\tBaseThreadInitThunk [0x00007FFC1FA77344+20]\n\tRtlUserThreadStart [0x00007FFC1FC026B1+33]\n"
     ]
    }
   ],
   "source": [
    "resultado_dec = buscar_resultados_decathlon()"
   ]
  },
  {
   "cell_type": "code",
   "execution_count": 133,
   "metadata": {},
   "outputs": [
    {
     "data": {
      "text/plain": [
       "{'nombre': ['Camiseta Real Madrid Local Adulto Temporada 23/24'],\n",
       " 'precio': ['79,99 €'],\n",
       " 'puntuacion': ['']}"
      ]
     },
     "execution_count": 133,
     "metadata": {},
     "output_type": "execute_result"
    }
   ],
   "source": [
    "resultado_dec"
   ]
  }
 ],
 "metadata": {
  "kernelspec": {
   "display_name": "Python 3",
   "language": "python",
   "name": "python3"
  },
  "language_info": {
   "codemirror_mode": {
    "name": "ipython",
    "version": 3
   },
   "file_extension": ".py",
   "mimetype": "text/x-python",
   "name": "python",
   "nbconvert_exporter": "python",
   "pygments_lexer": "ipython3",
   "version": "3.9.13"
  }
 },
 "nbformat": 4,
 "nbformat_minor": 2
}
