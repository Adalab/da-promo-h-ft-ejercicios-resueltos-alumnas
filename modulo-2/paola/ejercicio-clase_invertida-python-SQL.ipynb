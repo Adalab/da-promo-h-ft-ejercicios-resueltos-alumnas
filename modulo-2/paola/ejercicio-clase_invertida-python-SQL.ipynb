{
 "cells": [
  {
   "cell_type": "markdown",
   "metadata": {},
   "source": [
    "# Ejercicios\n",
    "\n",
    "1. Haz las importaciones necesarias para establecer la conxión y trabajar con Pandas.Establece la conexión usando mysql.connector utilizando try/except por si la conexión devielve un error."
   ]
  },
  {
   "cell_type": "code",
   "execution_count": 1,
   "metadata": {},
   "outputs": [],
   "source": [
    "# Importar librería para la conexión con MySQL\n",
    "# -----------------------------------------------------------------------\n",
    "import mysql.connector\n",
    "from mysql.connector import errorcode\n",
    "\n",
    "\n",
    "# Importar librerías para manipulación y análisis de datos\n",
    "# -----------------------------------------------------------------------\n",
    "import pandas as pd\n",
    "import numpy as np"
   ]
  },
  {
   "cell_type": "code",
   "execution_count": 2,
   "metadata": {},
   "outputs": [],
   "source": [
    "# En este código estamos haciendo un try except. Si recordamos esto nos permitía hacer un manejo de los errores, para evitar que nuestro código se pare. Para eso lo que estamos haciendo es\n",
    "## intenta hacer la conexión son la base de datos de tienda \n",
    "try:\n",
    "  cnx = mysql.connector.connect(user='root', password='AlumnaAdalab',\n",
    "                              host='127.0.0.1',)\n",
    "# en caso de que no lo consigas por que hay algún error entonces ...\n",
    "except mysql.connector.Error as err:\n",
    "\n",
    "  # si es un error con la contraseña devuelveme un mensaje de acceso denegado ya que tenemos problemas con la contraseña\n",
    "  if err.errno == errorcode.ER_ACCESS_DENIED_ERROR:\n",
    "    print(\"Something is wrong with your user name or password\")\n",
    "  \n",
    "  # si el error no tiene que ver con la contraseña, puede ser porque la base de datos no exista, devuelveme un mensaje de que la base de datos no existe\n",
    "  elif err.errno == errorcode.ER_BAD_DB_ERROR:\n",
    "    print(\"Database does not exist\")\n",
    "  \n",
    "  # si no es por ninguno de los errores anteriores, printeame cual es el error que estoy teniendo en mi conexión\n",
    "  else:\n",
    "    print(err)\n",
    "else:\n",
    "  cnx.close()"
   ]
  },
  {
   "cell_type": "markdown",
   "metadata": {},
   "source": [
    "2. Crea un nuevo \"schema\" llamado \"alumnas-promo-H\""
   ]
  },
  {
   "cell_type": "code",
   "execution_count": 4,
   "metadata": {},
   "outputs": [
    {
     "name": "stdout",
     "output_type": "stream",
     "text": [
      "CMySQLCursor: CREATE DATABASE alumnas_promo_H\n"
     ]
    }
   ],
   "source": [
    "cnx = mysql.connector.connect(user='root', password='AlumnaAdalab',\n",
    "                              host='127.0.0.1')\n",
    "\n",
    "\n",
    "mycursor = cnx.cursor()\n",
    "try:\n",
    "    mycursor.execute(\"CREATE DATABASE alumnas_promo_H\")\n",
    "    print(mycursor)\n",
    "except mysql.connector.Error as err:\n",
    "    print(err)\n",
    "    print(\"Error Code:\", err.errno)\n",
    "    print(\"SQLSTATE\", err.sqlstate)\n",
    "    print(\"Message\", err.msg)"
   ]
  },
  {
   "cell_type": "markdown",
   "metadata": {},
   "source": [
    "3. Crea una tabla con la información de las alumnas de la promo. Debe incluir: id_alumna, nombre, apellidos, ciudad y teléfono."
   ]
  },
  {
   "cell_type": "code",
   "execution_count": 5,
   "metadata": {},
   "outputs": [
    {
     "name": "stdout",
     "output_type": "stream",
     "text": [
      "CMySQLCursor: CREATE TABLE ALUMNAS_PROMO (ID INT,NOMBR..\n"
     ]
    }
   ],
   "source": [
    "cnx = mysql.connector.connect(user='root', password='AlumnaAdalab',\n",
    "                              host='127.0.0.1', database='alumnas_promo_H')\n",
    "\n",
    "\n",
    "mycursor = cnx.cursor()\n",
    "try:\n",
    "    mycursor.execute(\"CREATE TABLE ALUMNAS_PROMO (ID INT,NOMBRE VARCHAR(100), APELLIDOS VARCHAR(100),CIUDAD VARCHAR (100), TELEFONO VARCHAR(30))\")\n",
    "    print(mycursor)\n",
    "except mysql.connector.Error as err:\n",
    "    print(err)\n",
    "    print(\"Error Code:\", err.errno)\n",
    "    print(\"SQLSTATE\", err.sqlstate)\n",
    "    print(\"Message\", err.msg)"
   ]
  },
  {
   "cell_type": "markdown",
   "metadata": {},
   "source": [
    "4. Inserta por lo menos 10 datos en la tabla creada en el ejercicio anterior (pueden ser inventados)."
   ]
  },
  {
   "cell_type": "code",
   "execution_count": 9,
   "metadata": {},
   "outputs": [
    {
     "name": "stdout",
     "output_type": "stream",
     "text": [
      "10 registro/s insertado/s.\n"
     ]
    }
   ],
   "source": [
    "cnx = mysql.connector.connect(user='root', password='AlumnaAdalab',\n",
    "                              host='127.0.0.1', database='alumnas_promo_H')\n",
    "\n",
    "\n",
    "mycursor = cnx.cursor()\n",
    "sql_isert_alumnas = \"INSERT INTO ALUMNAS_PROMO (ID, NOMBRE, APELLIDOS, CIUDAD ,TELEFONO) VALUES (%s, %s,%s,%s,%s)\"\n",
    "val = [\n",
    "  (1 ,'Nuria', 'Cano Girones','Madrid','1234657810'),\n",
    "  (2, 'Patricia', 'González Gruber','Valencia','1289546107'),\n",
    "  (3,'Margarita', 'Torres Rodriguez','Madrid','1287854107'),\n",
    "  (4, 'Violaine', 'Deloutsal','Madrid','1281234107'),\n",
    "  (5, 'Diana', 'García Martín','Madrid','1284312107'),\n",
    "  (6, 'Raquel', 'Castellanos Alfonso','Granada','1284985407'),\n",
    "  (7, 'Mabel', 'Martínez Rodríguez','Barcelona','1284365407'),\n",
    "  (8, 'Paola', 'Sánchez Solórzano','Barcelona','626148965'),\n",
    "  (9, 'Lidia', 'Fraile Martín','Valencia','1277985407'),\n",
    "  (10, 'Gloria', 'Gonzáles Muñoz','Madrid','1564895407')\n",
    "  \n",
    "]\n",
    "\n",
    "try: \n",
    "    mycursor.executemany(sql, val)\n",
    "    cnx.commit()\n",
    "    print(mycursor.rowcount, \"registro/s insertado/s.\")\n",
    "\n",
    "except mysql.connector.Error as err:\n",
    "    print(err)\n",
    "    print(\"Error Code:\", err.errno)\n",
    "    print(\"SQLSTATE\", err.sqlstate)\n",
    "    print(\"Message\", err.msg)"
   ]
  },
  {
   "cell_type": "markdown",
   "metadata": {},
   "source": [
    "5. Haz una consulta que devuelva todos los registros de la tabla \"alumnas\" y conviértelo en Dataframe (no te olvides del nombre de las columnas)."
   ]
  },
  {
   "cell_type": "code",
   "execution_count": 26,
   "metadata": {},
   "outputs": [
    {
     "data": {
      "text/html": [
       "<div>\n",
       "<style scoped>\n",
       "    .dataframe tbody tr th:only-of-type {\n",
       "        vertical-align: middle;\n",
       "    }\n",
       "\n",
       "    .dataframe tbody tr th {\n",
       "        vertical-align: top;\n",
       "    }\n",
       "\n",
       "    .dataframe thead th {\n",
       "        text-align: right;\n",
       "    }\n",
       "</style>\n",
       "<table border=\"1\" class=\"dataframe\">\n",
       "  <thead>\n",
       "    <tr style=\"text-align: right;\">\n",
       "      <th></th>\n",
       "      <th>NOMBRE</th>\n",
       "      <th>APELLIDOS</th>\n",
       "      <th>CIUDAD</th>\n",
       "      <th>TELEFONO</th>\n",
       "    </tr>\n",
       "    <tr>\n",
       "      <th>ID</th>\n",
       "      <th></th>\n",
       "      <th></th>\n",
       "      <th></th>\n",
       "      <th></th>\n",
       "    </tr>\n",
       "  </thead>\n",
       "  <tbody>\n",
       "    <tr>\n",
       "      <th>1</th>\n",
       "      <td>Nuria</td>\n",
       "      <td>Cano Girones</td>\n",
       "      <td>Madrid</td>\n",
       "      <td>1234657810</td>\n",
       "    </tr>\n",
       "    <tr>\n",
       "      <th>2</th>\n",
       "      <td>Patricia</td>\n",
       "      <td>González Gruber</td>\n",
       "      <td>Valencia</td>\n",
       "      <td>1289546107</td>\n",
       "    </tr>\n",
       "    <tr>\n",
       "      <th>3</th>\n",
       "      <td>Margarita</td>\n",
       "      <td>Torres Rodriguez</td>\n",
       "      <td>Madrid</td>\n",
       "      <td>1287854107</td>\n",
       "    </tr>\n",
       "    <tr>\n",
       "      <th>4</th>\n",
       "      <td>Violaine</td>\n",
       "      <td>Deloutsal</td>\n",
       "      <td>Madrid</td>\n",
       "      <td>1281234107</td>\n",
       "    </tr>\n",
       "    <tr>\n",
       "      <th>5</th>\n",
       "      <td>Diana</td>\n",
       "      <td>García Martín</td>\n",
       "      <td>Madrid</td>\n",
       "      <td>1284312107</td>\n",
       "    </tr>\n",
       "    <tr>\n",
       "      <th>6</th>\n",
       "      <td>Raquel</td>\n",
       "      <td>Castellanos Alfonso</td>\n",
       "      <td>Granada</td>\n",
       "      <td>1284985407</td>\n",
       "    </tr>\n",
       "    <tr>\n",
       "      <th>7</th>\n",
       "      <td>Mabel</td>\n",
       "      <td>Martínez Rodríguez</td>\n",
       "      <td>Barcelona</td>\n",
       "      <td>1284365407</td>\n",
       "    </tr>\n",
       "    <tr>\n",
       "      <th>8</th>\n",
       "      <td>Paola</td>\n",
       "      <td>Sánchez Solórzano</td>\n",
       "      <td>Barcelona</td>\n",
       "      <td>626148965</td>\n",
       "    </tr>\n",
       "    <tr>\n",
       "      <th>9</th>\n",
       "      <td>Lidia</td>\n",
       "      <td>Fraile Martín</td>\n",
       "      <td>Valencia</td>\n",
       "      <td>1277985407</td>\n",
       "    </tr>\n",
       "    <tr>\n",
       "      <th>10</th>\n",
       "      <td>Gloria</td>\n",
       "      <td>Gonzáles Muñoz</td>\n",
       "      <td>Madrid</td>\n",
       "      <td>1564895407</td>\n",
       "    </tr>\n",
       "  </tbody>\n",
       "</table>\n",
       "</div>"
      ],
      "text/plain": [
       "       NOMBRE            APELLIDOS     CIUDAD    TELEFONO\n",
       "ID                                                       \n",
       "1       Nuria         Cano Girones     Madrid  1234657810\n",
       "2    Patricia      González Gruber   Valencia  1289546107\n",
       "3   Margarita     Torres Rodriguez     Madrid  1287854107\n",
       "4    Violaine            Deloutsal     Madrid  1281234107\n",
       "5       Diana        García Martín     Madrid  1284312107\n",
       "6      Raquel  Castellanos Alfonso    Granada  1284985407\n",
       "7       Mabel   Martínez Rodríguez  Barcelona  1284365407\n",
       "8       Paola    Sánchez Solórzano  Barcelona   626148965\n",
       "9       Lidia        Fraile Martín   Valencia  1277985407\n",
       "10     Gloria       Gonzáles Muñoz     Madrid  1564895407"
      ]
     },
     "execution_count": 26,
     "metadata": {},
     "output_type": "execute_result"
    }
   ],
   "source": [
    "# realizamos la conexión con el servidor\n",
    "cnx = mysql.connector.connect(user='root', password='AlumnaAdalab',\n",
    "                              host='127.0.0.1',\n",
    "                              database='alumnas_promo_H')\n",
    "\n",
    "\n",
    "# escribimos nuestra query\n",
    "sql_todas_alum = \"SELECT * FROM ALUMNAS_PROMO\"\n",
    "\n",
    "# utilizamos el método pd.read_sql_qury() para convertir los resultados de nuestra query en un DataFrame que podamos ver de forma amigable en Python\n",
    "df = pd.read_sql_query(sql_todas_alum, cnx )\n",
    "\n",
    "\n",
    "#Lo siguiente es un wrap up que funciona tanto con una tabla como con una consulta SQL.\n",
    "#pd.read_sql(sql, cnx)\n",
    "\n",
    "#Cerramos la conexion\n",
    "cnx.close()\n",
    "\n",
    "#establesco como indice el ID\n",
    "df_alumnas =df.set_index('ID') \n",
    "\n",
    "#imprimo la tabla\n",
    "df_alumnas"
   ]
  },
  {
   "cell_type": "markdown",
   "metadata": {},
   "source": [
    "6. Muestra los 3 primeros y tres últimos registros del Dataframe."
   ]
  },
  {
   "cell_type": "code",
   "execution_count": 30,
   "metadata": {},
   "outputs": [
    {
     "data": {
      "text/html": [
       "<div>\n",
       "<style scoped>\n",
       "    .dataframe tbody tr th:only-of-type {\n",
       "        vertical-align: middle;\n",
       "    }\n",
       "\n",
       "    .dataframe tbody tr th {\n",
       "        vertical-align: top;\n",
       "    }\n",
       "\n",
       "    .dataframe thead th {\n",
       "        text-align: right;\n",
       "    }\n",
       "</style>\n",
       "<table border=\"1\" class=\"dataframe\">\n",
       "  <thead>\n",
       "    <tr style=\"text-align: right;\">\n",
       "      <th></th>\n",
       "      <th>NOMBRE</th>\n",
       "      <th>APELLIDOS</th>\n",
       "      <th>CIUDAD</th>\n",
       "      <th>TELEFONO</th>\n",
       "    </tr>\n",
       "    <tr>\n",
       "      <th>ID</th>\n",
       "      <th></th>\n",
       "      <th></th>\n",
       "      <th></th>\n",
       "      <th></th>\n",
       "    </tr>\n",
       "  </thead>\n",
       "  <tbody>\n",
       "    <tr>\n",
       "      <th>1</th>\n",
       "      <td>Nuria</td>\n",
       "      <td>Cano Girones</td>\n",
       "      <td>Madrid</td>\n",
       "      <td>1234657810</td>\n",
       "    </tr>\n",
       "    <tr>\n",
       "      <th>2</th>\n",
       "      <td>Patricia</td>\n",
       "      <td>González Gruber</td>\n",
       "      <td>Valencia</td>\n",
       "      <td>1289546107</td>\n",
       "    </tr>\n",
       "    <tr>\n",
       "      <th>3</th>\n",
       "      <td>Margarita</td>\n",
       "      <td>Torres Rodriguez</td>\n",
       "      <td>Madrid</td>\n",
       "      <td>1287854107</td>\n",
       "    </tr>\n",
       "  </tbody>\n",
       "</table>\n",
       "</div>"
      ],
      "text/plain": [
       "       NOMBRE         APELLIDOS    CIUDAD    TELEFONO\n",
       "ID                                                   \n",
       "1       Nuria      Cano Girones    Madrid  1234657810\n",
       "2    Patricia   González Gruber  Valencia  1289546107\n",
       "3   Margarita  Torres Rodriguez    Madrid  1287854107"
      ]
     },
     "execution_count": 30,
     "metadata": {},
     "output_type": "execute_result"
    }
   ],
   "source": [
    "df_alumnas.head(3) "
   ]
  },
  {
   "cell_type": "code",
   "execution_count": 31,
   "metadata": {},
   "outputs": [
    {
     "data": {
      "text/html": [
       "<div>\n",
       "<style scoped>\n",
       "    .dataframe tbody tr th:only-of-type {\n",
       "        vertical-align: middle;\n",
       "    }\n",
       "\n",
       "    .dataframe tbody tr th {\n",
       "        vertical-align: top;\n",
       "    }\n",
       "\n",
       "    .dataframe thead th {\n",
       "        text-align: right;\n",
       "    }\n",
       "</style>\n",
       "<table border=\"1\" class=\"dataframe\">\n",
       "  <thead>\n",
       "    <tr style=\"text-align: right;\">\n",
       "      <th></th>\n",
       "      <th>NOMBRE</th>\n",
       "      <th>APELLIDOS</th>\n",
       "      <th>CIUDAD</th>\n",
       "      <th>TELEFONO</th>\n",
       "    </tr>\n",
       "    <tr>\n",
       "      <th>ID</th>\n",
       "      <th></th>\n",
       "      <th></th>\n",
       "      <th></th>\n",
       "      <th></th>\n",
       "    </tr>\n",
       "  </thead>\n",
       "  <tbody>\n",
       "    <tr>\n",
       "      <th>8</th>\n",
       "      <td>Paola</td>\n",
       "      <td>Sánchez Solórzano</td>\n",
       "      <td>Barcelona</td>\n",
       "      <td>626148965</td>\n",
       "    </tr>\n",
       "    <tr>\n",
       "      <th>9</th>\n",
       "      <td>Lidia</td>\n",
       "      <td>Fraile Martín</td>\n",
       "      <td>Valencia</td>\n",
       "      <td>1277985407</td>\n",
       "    </tr>\n",
       "    <tr>\n",
       "      <th>10</th>\n",
       "      <td>Gloria</td>\n",
       "      <td>Gonzáles Muñoz</td>\n",
       "      <td>Madrid</td>\n",
       "      <td>1564895407</td>\n",
       "    </tr>\n",
       "  </tbody>\n",
       "</table>\n",
       "</div>"
      ],
      "text/plain": [
       "    NOMBRE          APELLIDOS     CIUDAD    TELEFONO\n",
       "ID                                                  \n",
       "8    Paola  Sánchez Solórzano  Barcelona   626148965\n",
       "9    Lidia      Fraile Martín   Valencia  1277985407\n",
       "10  Gloria     Gonzáles Muñoz     Madrid  1564895407"
      ]
     },
     "execution_count": 31,
     "metadata": {},
     "output_type": "execute_result"
    }
   ],
   "source": [
    "df_alumnas.tail(3)"
   ]
  },
  {
   "cell_type": "markdown",
   "metadata": {},
   "source": [
    "7. ¿Hay registros duplicados?"
   ]
  },
  {
   "cell_type": "code",
   "execution_count": 32,
   "metadata": {},
   "outputs": [
    {
     "data": {
      "text/plain": [
       "ID\n",
       "1     False\n",
       "2     False\n",
       "3     False\n",
       "4     False\n",
       "5     False\n",
       "6     False\n",
       "7     False\n",
       "8     False\n",
       "9     False\n",
       "10    False\n",
       "dtype: bool"
      ]
     },
     "execution_count": 32,
     "metadata": {},
     "output_type": "execute_result"
    }
   ],
   "source": [
    "df_alumnas.duplicated()"
   ]
  },
  {
   "cell_type": "markdown",
   "metadata": {},
   "source": [
    "### Bonus:"
   ]
  },
  {
   "cell_type": "markdown",
   "metadata": {},
   "source": [
    "8. Haz una consulta para extraer las diferentes ciudades en las que hay alumnas.\n"
   ]
  },
  {
   "cell_type": "code",
   "execution_count": 41,
   "metadata": {},
   "outputs": [
    {
     "data": {
      "text/html": [
       "<div>\n",
       "<style scoped>\n",
       "    .dataframe tbody tr th:only-of-type {\n",
       "        vertical-align: middle;\n",
       "    }\n",
       "\n",
       "    .dataframe tbody tr th {\n",
       "        vertical-align: top;\n",
       "    }\n",
       "\n",
       "    .dataframe thead th {\n",
       "        text-align: right;\n",
       "    }\n",
       "</style>\n",
       "<table border=\"1\" class=\"dataframe\">\n",
       "  <thead>\n",
       "    <tr style=\"text-align: right;\">\n",
       "      <th></th>\n",
       "      <th>CIUDAD</th>\n",
       "    </tr>\n",
       "  </thead>\n",
       "  <tbody>\n",
       "    <tr>\n",
       "      <th>0</th>\n",
       "      <td>Madrid</td>\n",
       "    </tr>\n",
       "    <tr>\n",
       "      <th>1</th>\n",
       "      <td>Valencia</td>\n",
       "    </tr>\n",
       "    <tr>\n",
       "      <th>2</th>\n",
       "      <td>Granada</td>\n",
       "    </tr>\n",
       "    <tr>\n",
       "      <th>3</th>\n",
       "      <td>Barcelona</td>\n",
       "    </tr>\n",
       "  </tbody>\n",
       "</table>\n",
       "</div>"
      ],
      "text/plain": [
       "      CIUDAD\n",
       "0     Madrid\n",
       "1   Valencia\n",
       "2    Granada\n",
       "3  Barcelona"
      ]
     },
     "execution_count": 41,
     "metadata": {},
     "output_type": "execute_result"
    }
   ],
   "source": [
    "# realizamos la conexión con el servidor\n",
    "cnx = mysql.connector.connect(user='root', password='AlumnaAdalab',\n",
    "                              host='127.0.0.1',\n",
    "                              database='alumnas_promo_H')\n",
    "\n",
    "\n",
    "# escribimos nuestra query\n",
    "sql_ciudades = \"SELECT DISTINCT CIUDAD FROM ALUMNAS_PROMO\"\n",
    "\n",
    "# utilizamos el método pd.read_sql_qury() para convertir los resultados de nuestra query en un DataFrame que podamos ver de forma amigable en Python\n",
    "df_ciudades = pd.read_sql_query(sql_ciudades, cnx )\n",
    "\n",
    "\n",
    "#Lo siguiente es un wrap up que funciona tanto con una tabla como con una consulta SQL.\n",
    "#pd.read_sql(sql, cnx)\n",
    "\n",
    "#Cerramos la conexion\n",
    "cnx.close()\n",
    "\n",
    "\n",
    "#imprimo la tabla\n",
    "df_ciudades"
   ]
  },
  {
   "cell_type": "markdown",
   "metadata": {},
   "source": [
    "9. Crea al menos dos Dataframes con la información de las alumnas de dos ciudades diferentes (usando dos queries)."
   ]
  },
  {
   "cell_type": "code",
   "execution_count": 43,
   "metadata": {},
   "outputs": [],
   "source": [
    "# realizamos la conexión con el servidor\n",
    "cnx = mysql.connector.connect(user='root', password='AlumnaAdalab',\n",
    "                              host='127.0.0.1',\n",
    "                              database='alumnas_promo_H')\n",
    "\n",
    "\n",
    "# escribimos nuestra query\n",
    "sql_Madrid = \"SELECT  NOMBRE, APELLIDOS,CIUDAD FROM ALUMNAS_PROMO WHERE CIUDAD = 'Madrid'\"\n",
    "sql_Barcelona = \"SELECT  NOMBRE, APELLIDOS,CIUDAD FROM ALUMNAS_PROMO WHERE CIUDAD = 'Barcelona'\"\n",
    "\n",
    "# utilizamos el método pd.read_sql_qury() para convertir los resultados de nuestra query en un DataFrame que podamos ver de forma amigable en Python\n",
    "df_alumnas_Madrid = pd.read_sql_query(sql_Madrid, cnx )\n",
    "df_alumnas_Barcelona = pd.read_sql_query(sql_Barcelona, cnx)\n",
    "\n",
    "#Lo siguiente es un wrap up que funciona tanto con una tabla como con una consulta SQL.\n",
    "#pd.read_sql(sql, cnx)\n",
    "\n",
    "#Cerramos la conexion\n",
    "cnx.close()\n"
   ]
  },
  {
   "cell_type": "code",
   "execution_count": 44,
   "metadata": {},
   "outputs": [
    {
     "data": {
      "text/html": [
       "<div>\n",
       "<style scoped>\n",
       "    .dataframe tbody tr th:only-of-type {\n",
       "        vertical-align: middle;\n",
       "    }\n",
       "\n",
       "    .dataframe tbody tr th {\n",
       "        vertical-align: top;\n",
       "    }\n",
       "\n",
       "    .dataframe thead th {\n",
       "        text-align: right;\n",
       "    }\n",
       "</style>\n",
       "<table border=\"1\" class=\"dataframe\">\n",
       "  <thead>\n",
       "    <tr style=\"text-align: right;\">\n",
       "      <th></th>\n",
       "      <th>NOMBRE</th>\n",
       "      <th>APELLIDOS</th>\n",
       "      <th>CIUDAD</th>\n",
       "    </tr>\n",
       "  </thead>\n",
       "  <tbody>\n",
       "    <tr>\n",
       "      <th>0</th>\n",
       "      <td>Nuria</td>\n",
       "      <td>Cano Girones</td>\n",
       "      <td>Madrid</td>\n",
       "    </tr>\n",
       "    <tr>\n",
       "      <th>1</th>\n",
       "      <td>Margarita</td>\n",
       "      <td>Torres Rodriguez</td>\n",
       "      <td>Madrid</td>\n",
       "    </tr>\n",
       "    <tr>\n",
       "      <th>2</th>\n",
       "      <td>Violaine</td>\n",
       "      <td>Deloutsal</td>\n",
       "      <td>Madrid</td>\n",
       "    </tr>\n",
       "    <tr>\n",
       "      <th>3</th>\n",
       "      <td>Diana</td>\n",
       "      <td>García Martín</td>\n",
       "      <td>Madrid</td>\n",
       "    </tr>\n",
       "    <tr>\n",
       "      <th>4</th>\n",
       "      <td>Gloria</td>\n",
       "      <td>Gonzáles Muñoz</td>\n",
       "      <td>Madrid</td>\n",
       "    </tr>\n",
       "  </tbody>\n",
       "</table>\n",
       "</div>"
      ],
      "text/plain": [
       "      NOMBRE         APELLIDOS  CIUDAD\n",
       "0      Nuria      Cano Girones  Madrid\n",
       "1  Margarita  Torres Rodriguez  Madrid\n",
       "2   Violaine         Deloutsal  Madrid\n",
       "3      Diana     García Martín  Madrid\n",
       "4     Gloria    Gonzáles Muñoz  Madrid"
      ]
     },
     "execution_count": 44,
     "metadata": {},
     "output_type": "execute_result"
    }
   ],
   "source": [
    "#imprimo la tabla alumnas_Madrid \n",
    "df_alumnas_Madrid  "
   ]
  },
  {
   "cell_type": "code",
   "execution_count": 45,
   "metadata": {},
   "outputs": [
    {
     "data": {
      "text/html": [
       "<div>\n",
       "<style scoped>\n",
       "    .dataframe tbody tr th:only-of-type {\n",
       "        vertical-align: middle;\n",
       "    }\n",
       "\n",
       "    .dataframe tbody tr th {\n",
       "        vertical-align: top;\n",
       "    }\n",
       "\n",
       "    .dataframe thead th {\n",
       "        text-align: right;\n",
       "    }\n",
       "</style>\n",
       "<table border=\"1\" class=\"dataframe\">\n",
       "  <thead>\n",
       "    <tr style=\"text-align: right;\">\n",
       "      <th></th>\n",
       "      <th>NOMBRE</th>\n",
       "      <th>APELLIDOS</th>\n",
       "      <th>CIUDAD</th>\n",
       "    </tr>\n",
       "  </thead>\n",
       "  <tbody>\n",
       "    <tr>\n",
       "      <th>0</th>\n",
       "      <td>Mabel</td>\n",
       "      <td>Martínez Rodríguez</td>\n",
       "      <td>Barcelona</td>\n",
       "    </tr>\n",
       "    <tr>\n",
       "      <th>1</th>\n",
       "      <td>Paola</td>\n",
       "      <td>Sánchez Solórzano</td>\n",
       "      <td>Barcelona</td>\n",
       "    </tr>\n",
       "  </tbody>\n",
       "</table>\n",
       "</div>"
      ],
      "text/plain": [
       "  NOMBRE           APELLIDOS     CIUDAD\n",
       "0  Mabel  Martínez Rodríguez  Barcelona\n",
       "1  Paola   Sánchez Solórzano  Barcelona"
      ]
     },
     "execution_count": 45,
     "metadata": {},
     "output_type": "execute_result"
    }
   ],
   "source": [
    "#imprimo la tabla alumnas_Barcelona \n",
    "df_alumnas_Barcelona"
   ]
  }
 ],
 "metadata": {
  "kernelspec": {
   "display_name": "base",
   "language": "python",
   "name": "python3"
  },
  "language_info": {
   "codemirror_mode": {
    "name": "ipython",
    "version": 3
   },
   "file_extension": ".py",
   "mimetype": "text/x-python",
   "name": "python",
   "nbconvert_exporter": "python",
   "pygments_lexer": "ipython3",
   "version": "3.9.7"
  }
 },
 "nbformat": 4,
 "nbformat_minor": 2
}
