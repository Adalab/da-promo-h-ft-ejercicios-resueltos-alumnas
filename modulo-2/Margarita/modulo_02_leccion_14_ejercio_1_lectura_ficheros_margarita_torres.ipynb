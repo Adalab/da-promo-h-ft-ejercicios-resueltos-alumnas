{
 "cells": [
  {
   "cell_type": "markdown",
   "metadata": {},
   "source": [
    "- Ejercicios:\n",
    "    - Actualiza el json de personal, añadiendo un año más a la edad y experiencia de cada registro de personal.\n",
    "    - Cambia el nivel en función de la experiencia: Junior = 1 año, Mid = 2 o 3 años, Senior más de 4 años.\n",
    "    - Cambia el salario en base al nivel: Junior = 25.000, Mid = 35.000, Senior = 50.000\n",
    "    - Guarda el json con el nombre \"personal_actualizado.json\"\n",
    "    - Abre el json con Pandas."
   ]
  },
  {
   "cell_type": "code",
   "execution_count": 1,
   "metadata": {},
   "outputs": [],
   "source": [
    "# importamos las librerías que necesitaremos\n",
    "\n",
    "# Importar librería para trabajar con archivos JSON\n",
    "# -----------------------------------------------------------------------\n",
    "import json\n",
    "\n",
    "# Importar librerías para manipulación y análisis de datos\n",
    "# -----------------------------------------------------------------------\n",
    "import pandas as pd\n"
   ]
  },
  {
   "cell_type": "code",
   "execution_count": 2,
   "metadata": {},
   "outputs": [],
   "source": [
    "with open(\"personal.json\", \"r\") as fichero: # introducimos el nombre de nuestro archivo json y \"r\" porque lo vamos a leer(read)\n",
    "    personal = json.load(fichero) # igualamos el archivo cargado a una variable para tenerlo almacenado"
   ]
  },
  {
   "cell_type": "code",
   "execution_count": 3,
   "metadata": {},
   "outputs": [
    {
     "data": {
      "text/plain": [
       "{'workers': [{'nombre': 'Ana',\n",
       "   'edad': 34,\n",
       "   'experiencia': 5,\n",
       "   'nivel': 'Senior',\n",
       "   'salario': 50000,\n",
       "   'mascota': 'gatos'},\n",
       "  {'nombre': 'Eva',\n",
       "   'edad': 37,\n",
       "   'experiencia': 2,\n",
       "   'nivel': 'Mid',\n",
       "   'salario': 35000},\n",
       "  {'nombre': 'Marta',\n",
       "   'edad': 27,\n",
       "   'experiencia': 1,\n",
       "   'nivel': 'Junior',\n",
       "   'salario': 25000},\n",
       "  {'nombre': 'Paula',\n",
       "   'edad': 30,\n",
       "   'experiencia': 3,\n",
       "   'nivel': 'Mid',\n",
       "   'salario': 35000}]}"
      ]
     },
     "execution_count": 3,
     "metadata": {},
     "output_type": "execute_result"
    }
   ],
   "source": [
    "# Actualizamos el json de personal:\n",
    "personal"
   ]
  },
  {
   "cell_type": "code",
   "execution_count": 4,
   "metadata": {},
   "outputs": [
    {
     "data": {
      "text/plain": [
       "list"
      ]
     },
     "execution_count": 4,
     "metadata": {},
     "output_type": "execute_result"
    }
   ],
   "source": [
    "#Añadimos un año mas a cada registro de edad:\n",
    "#buscamos la forma de acceder a edad:\n",
    "type(personal['workers']) # sabemos que personal es un dict con una lista\n"
   ]
  },
  {
   "cell_type": "code",
   "execution_count": 5,
   "metadata": {},
   "outputs": [
    {
     "name": "stdout",
     "output_type": "stream",
     "text": [
      "{'workers': [{'nombre': 'Ana', 'edad': 35, 'experiencia': 5, 'nivel': 'Senior', 'salario': 50000, 'mascota': 'gatos'}, {'nombre': 'Eva', 'edad': 38, 'experiencia': 2, 'nivel': 'Mid', 'salario': 35000}, {'nombre': 'Marta', 'edad': 28, 'experiencia': 1, 'nivel': 'Junior', 'salario': 25000}, {'nombre': 'Paula', 'edad': 31, 'experiencia': 3, 'nivel': 'Mid', 'salario': 35000}]}\n"
     ]
    }
   ],
   "source": [
    "#donde cada lista es un trabajador:\n",
    "for i in personal['workers']: # accedemos a cada item de la lista y modificamos la edad que estará en i['edad']\n",
    "    i['edad']+=1             # le susmamos 1.\n",
    "print(personal)"
   ]
  },
  {
   "cell_type": "code",
   "execution_count": 6,
   "metadata": {},
   "outputs": [
    {
     "name": "stdout",
     "output_type": "stream",
     "text": [
      "{'workers': [{'nombre': 'Ana', 'edad': 35, 'experiencia': 'mid', 'nivel': 'Senior', 'salario': 35000, 'mascota': 'gatos'}, {'nombre': 'Eva', 'edad': 38, 'experiencia': 'senior', 'nivel': 'Mid', 'salario': 50000}, {'nombre': 'Marta', 'edad': 28, 'experiencia': 'Junior', 'nivel': 'Junior', 'salario': 25000}, {'nombre': 'Paula', 'edad': 31, 'experiencia': 'mid', 'nivel': 'Mid', 'salario': 35000}]}\n"
     ]
    }
   ],
   "source": [
    "#cambiamos el nivel en funcion de la experiencia:\n",
    "for i in personal['workers']:\n",
    "    if i['experiencia'] == 1:\n",
    "        i['experiencia']= 'Junior'\n",
    "        i['salario']= 25000\n",
    "    elif 2<=i['experiencia'] >= 3:\n",
    "        i['experiencia']= 'mid'\n",
    "        i['salario']= 35000\n",
    "    else:\n",
    "        i['experiencia']= 'senior'\n",
    "        i['salario']= 50000\n",
    "print(personal)\n"
   ]
  },
  {
   "cell_type": "code",
   "execution_count": 8,
   "metadata": {},
   "outputs": [],
   "source": [
    "#guardamos el json modificado en formato.json:\n",
    "with open(\"personal_actualizado.json\", \"w\") as fichero:\n",
    "    json.dump(personal, fichero)"
   ]
  },
  {
   "cell_type": "code",
   "execution_count": 9,
   "metadata": {},
   "outputs": [
    {
     "data": {
      "text/html": [
       "<div>\n",
       "<style scoped>\n",
       "    .dataframe tbody tr th:only-of-type {\n",
       "        vertical-align: middle;\n",
       "    }\n",
       "\n",
       "    .dataframe tbody tr th {\n",
       "        vertical-align: top;\n",
       "    }\n",
       "\n",
       "    .dataframe thead th {\n",
       "        text-align: right;\n",
       "    }\n",
       "</style>\n",
       "<table border=\"1\" class=\"dataframe\">\n",
       "  <thead>\n",
       "    <tr style=\"text-align: right;\">\n",
       "      <th></th>\n",
       "      <th>workers</th>\n",
       "    </tr>\n",
       "  </thead>\n",
       "  <tbody>\n",
       "    <tr>\n",
       "      <th>0</th>\n",
       "      <td>{'nombre': 'Ana', 'edad': 35, 'experiencia': '...</td>\n",
       "    </tr>\n",
       "    <tr>\n",
       "      <th>1</th>\n",
       "      <td>{'nombre': 'Eva', 'edad': 38, 'experiencia': '...</td>\n",
       "    </tr>\n",
       "    <tr>\n",
       "      <th>2</th>\n",
       "      <td>{'nombre': 'Marta', 'edad': 28, 'experiencia':...</td>\n",
       "    </tr>\n",
       "    <tr>\n",
       "      <th>3</th>\n",
       "      <td>{'nombre': 'Paula', 'edad': 31, 'experiencia':...</td>\n",
       "    </tr>\n",
       "  </tbody>\n",
       "</table>\n",
       "</div>"
      ],
      "text/plain": [
       "                                             workers\n",
       "0  {'nombre': 'Ana', 'edad': 35, 'experiencia': '...\n",
       "1  {'nombre': 'Eva', 'edad': 38, 'experiencia': '...\n",
       "2  {'nombre': 'Marta', 'edad': 28, 'experiencia':...\n",
       "3  {'nombre': 'Paula', 'edad': 31, 'experiencia':..."
      ]
     },
     "execution_count": 9,
     "metadata": {},
     "output_type": "execute_result"
    }
   ],
   "source": [
    "#abrimos el archivo con pandas:\n",
    "df=pd.read_json(\"personal_actualizado.json\")\n",
    "df"
   ]
  }
 ],
 "metadata": {
  "kernelspec": {
   "display_name": "base",
   "language": "python",
   "name": "python3"
  },
  "language_info": {
   "codemirror_mode": {
    "name": "ipython",
    "version": 3
   },
   "file_extension": ".py",
   "mimetype": "text/x-python",
   "name": "python",
   "nbconvert_exporter": "python",
   "pygments_lexer": "ipython3",
   "version": "3.11.7"
  }
 },
 "nbformat": 4,
 "nbformat_minor": 2
}
