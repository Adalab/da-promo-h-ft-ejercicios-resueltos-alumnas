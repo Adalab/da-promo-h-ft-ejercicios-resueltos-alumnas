{
 "cells": [
  {
   "cell_type": "code",
   "execution_count": null,
   "metadata": {},
   "outputs": [],
   "source": [
    "#Ejercicio 1. Haz las importaciones necesarias para establecer la conexión y trabajar con Pandas.\n",
    "#Establece la conexión usando mysql.connector \n",
    "#Utilizando try/except por si la conexión devuelve un error."
   ]
  },
  {
   "cell_type": "code",
   "execution_count": 1,
   "metadata": {},
   "outputs": [],
   "source": [
    "import mysql.connector\n",
    "from mysql.connector import errorcode\n",
    "import pandas as pd"
   ]
  },
  {
   "cell_type": "code",
   "execution_count": 5,
   "metadata": {},
   "outputs": [],
   "source": [
    "try:\n",
    "  conexion = mysql.connector.connect(user='root', password='AlumnaAdalab',\n",
    "                              host='localhost')\n",
    "# en caso de que no lo consigas por que hay algún error entonces ...\n",
    "except mysql.connector.Error as err:\n",
    "\n",
    "  # si es un error con la contraseña devuelveme un mensaje de acceso denegado ya que tenemos problemas con la contraseña\n",
    "  if err.errno == errorcode.ER_ACCESS_DENIED_ERROR:\n",
    "    print(\"Something is wrong with your user name or password\")\n",
    "  \n",
    "  # si el error no tiene que ver con la contraseña, puede ser porque la base de datos no exista, devuelveme un mensaje de que la base de datos no existe\n",
    "  elif err.errno == errorcode.ER_BAD_DB_ERROR:\n",
    "    print(\"Database does not exist\")\n",
    "  \n",
    "  # si no es por ninguno de los errores anteriores, printeame cual es el error que estoy teniendo en mi conexión\n",
    "  else:\n",
    "    print(err)\n",
    "else:\n",
    "  conexion.close()"
   ]
  },
  {
   "cell_type": "code",
   "execution_count": 8,
   "metadata": {},
   "outputs": [
    {
     "name": "stdout",
     "output_type": "stream",
     "text": [
      "CMySQLCursor: CREATE SCHEMA alumnas_promo_H\n"
     ]
    }
   ],
   "source": [
    "# Ejercicio 2. Crea un nuevo \"schema\" llamado \"alumnas-promo-X\"\n",
    "conexion = mysql.connector.connect(user='root', password='AlumnaAdalab',\n",
    "                              host='localhost')\n",
    "\n",
    "\n",
    "mycursor = conexion.cursor()\n",
    "try:\n",
    "    mycursor.execute(\"CREATE SCHEMA alumnas_promo_H\")\n",
    "    print(mycursor)\n",
    "except mysql.connector.Error as err:\n",
    "    print(err)\n",
    "    print(\"Error Code:\", err.errno)\n",
    "    print(\"SQLSTATE\", err.sqlstate)\n",
    "    print(\"Message\", err.msg)\n"
   ]
  },
  {
   "cell_type": "code",
   "execution_count": 12,
   "metadata": {},
   "outputs": [
    {
     "name": "stdout",
     "output_type": "stream",
     "text": [
      "CMySQLCursor: CREATE TABLE info_alumnas (id_alumna INT..\n"
     ]
    }
   ],
   "source": [
    "# Ejercicio 3.Crea una tabla con la información de las alumnas de la promo. \n",
    "#Debe incluir: id_alumna, nombre, apellidos, ciudad y teléfono\n",
    "\n",
    "conexion = mysql.connector.connect(user='root', password='AlumnaAdalab',\n",
    "                              host='localhost',database='alumnas_promo_H')\n",
    "\n",
    "mycursor = conexion.cursor()\n",
    "\n",
    "try:\n",
    "    mycursor.execute(\"CREATE TABLE info_alumnas (id_alumna INT,nombre VARCHAR (20),apellidos VARCHAR(40),ciudad VARCHAR(20),telefono CHAR(9))\")\n",
    "    print(mycursor)\n",
    "except mysql.connector.Error as err:\n",
    "    print(err)\n",
    "    print(\"Error Code:\", err.errno)\n",
    "    print(\"SQLSTATE\", err.sqlstate)\n",
    "    print(\"Message\", err.msg)\n"
   ]
  },
  {
   "cell_type": "code",
   "execution_count": 19,
   "metadata": {},
   "outputs": [
    {
     "name": "stdout",
     "output_type": "stream",
     "text": [
      "10 registros insertados\n"
     ]
    }
   ],
   "source": [
    "# Ejercicio 4. Inserta por lo menos 10 datos en la tabla creada en el ejercicio anterior.\n",
    "\n",
    "conexion = mysql.connector.connect(user='root', password='AlumnaAdalab',\n",
    "                              host='localhost',database='alumnas_promo_H')\n",
    "\n",
    "mycursor = conexion.cursor()\n",
    "query = \"INSERT INTO info_alumnas(id_alumna,nombre,apellidos,ciudad,telefono) VALUES(%s,%s,%s,%s,%s)\"\n",
    "val = [\n",
    "    ('1','Sandra','Perez Gomez','Madrid','676801212'),\n",
    "    ('2','Esther','Jerez Font','Granada','676828185'),\n",
    "    ('3','Giselle','Monte Rios','Sevilla','676858482'),\n",
    "    ('4','Hugo','Feliz Conesa','Madrid','652345678'),\n",
    "    ('5','Sofia','Reyes Astorga','Cadiz','615424247'),\n",
    "    ('6','Begoña','Gael Sierra','Leon','674121315'),\n",
    "    ('7','Leonor','Cristal Senta','Madrid','742515656'),\n",
    "    ('8','Silvia','Piñel Saez','Jaen','785451214'),\n",
    "    ('9','Nuria','Cano Girones','Barcelona','689525451'),\n",
    "    ('10','Belen','Santo Zambuña','Alava','643351233')\n",
    "]\n",
    "\n",
    "try:\n",
    "    mycursor.executemany(query,val)\n",
    "    conexion.commit()\n",
    "    print(mycursor.rowcount,\"registros insertados\")\n",
    "except mysql.connector.Error as err:\n",
    "    print(err)\n",
    "    print(\"Error Code:\", err.errno)\n",
    "    print(\"SQLSTATE\", err.sqlstate)\n",
    "    print(\"Message\", err.msg)\n"
   ]
  },
  {
   "cell_type": "code",
   "execution_count": 26,
   "metadata": {},
   "outputs": [
    {
     "data": {
      "text/html": [
       "<div>\n",
       "<style scoped>\n",
       "    .dataframe tbody tr th:only-of-type {\n",
       "        vertical-align: middle;\n",
       "    }\n",
       "\n",
       "    .dataframe tbody tr th {\n",
       "        vertical-align: top;\n",
       "    }\n",
       "\n",
       "    .dataframe thead th {\n",
       "        text-align: right;\n",
       "    }\n",
       "</style>\n",
       "<table border=\"1\" class=\"dataframe\">\n",
       "  <thead>\n",
       "    <tr style=\"text-align: right;\">\n",
       "      <th></th>\n",
       "      <th>id_alumna</th>\n",
       "      <th>nombre</th>\n",
       "      <th>apellidos</th>\n",
       "      <th>ciudad</th>\n",
       "      <th>telefono</th>\n",
       "    </tr>\n",
       "  </thead>\n",
       "  <tbody>\n",
       "    <tr>\n",
       "      <th>0</th>\n",
       "      <td>1</td>\n",
       "      <td>Sandra</td>\n",
       "      <td>Perez Gomez</td>\n",
       "      <td>Madrid</td>\n",
       "      <td>676801212</td>\n",
       "    </tr>\n",
       "    <tr>\n",
       "      <th>1</th>\n",
       "      <td>2</td>\n",
       "      <td>Esther</td>\n",
       "      <td>Jerez Font</td>\n",
       "      <td>Granada</td>\n",
       "      <td>676828185</td>\n",
       "    </tr>\n",
       "    <tr>\n",
       "      <th>2</th>\n",
       "      <td>3</td>\n",
       "      <td>Giselle</td>\n",
       "      <td>Monte Rios</td>\n",
       "      <td>Sevilla</td>\n",
       "      <td>676858482</td>\n",
       "    </tr>\n",
       "    <tr>\n",
       "      <th>3</th>\n",
       "      <td>4</td>\n",
       "      <td>Hugo</td>\n",
       "      <td>Feliz Conesa</td>\n",
       "      <td>Madrid</td>\n",
       "      <td>652345678</td>\n",
       "    </tr>\n",
       "    <tr>\n",
       "      <th>4</th>\n",
       "      <td>5</td>\n",
       "      <td>Sofia</td>\n",
       "      <td>Reyes Astorga</td>\n",
       "      <td>Cadiz</td>\n",
       "      <td>615424247</td>\n",
       "    </tr>\n",
       "    <tr>\n",
       "      <th>5</th>\n",
       "      <td>6</td>\n",
       "      <td>Begoña</td>\n",
       "      <td>Gael Sierra</td>\n",
       "      <td>Leon</td>\n",
       "      <td>674121315</td>\n",
       "    </tr>\n",
       "    <tr>\n",
       "      <th>6</th>\n",
       "      <td>7</td>\n",
       "      <td>Leonor</td>\n",
       "      <td>Cristal Senta</td>\n",
       "      <td>Madrid</td>\n",
       "      <td>742515656</td>\n",
       "    </tr>\n",
       "    <tr>\n",
       "      <th>7</th>\n",
       "      <td>8</td>\n",
       "      <td>Silvia</td>\n",
       "      <td>Piñel Saez</td>\n",
       "      <td>Jaen</td>\n",
       "      <td>785451214</td>\n",
       "    </tr>\n",
       "    <tr>\n",
       "      <th>8</th>\n",
       "      <td>9</td>\n",
       "      <td>Nuria</td>\n",
       "      <td>Cano Girones</td>\n",
       "      <td>Barcelona</td>\n",
       "      <td>689525451</td>\n",
       "    </tr>\n",
       "    <tr>\n",
       "      <th>9</th>\n",
       "      <td>10</td>\n",
       "      <td>Belen</td>\n",
       "      <td>Santo Zambuña</td>\n",
       "      <td>Alava</td>\n",
       "      <td>643351233</td>\n",
       "    </tr>\n",
       "  </tbody>\n",
       "</table>\n",
       "</div>"
      ],
      "text/plain": [
       "   id_alumna   nombre      apellidos     ciudad   telefono\n",
       "0          1   Sandra    Perez Gomez     Madrid  676801212\n",
       "1          2   Esther     Jerez Font    Granada  676828185\n",
       "2          3  Giselle     Monte Rios    Sevilla  676858482\n",
       "3          4     Hugo   Feliz Conesa     Madrid  652345678\n",
       "4          5    Sofia  Reyes Astorga      Cadiz  615424247\n",
       "5          6   Begoña    Gael Sierra       Leon  674121315\n",
       "6          7   Leonor  Cristal Senta     Madrid  742515656\n",
       "7          8   Silvia     Piñel Saez       Jaen  785451214\n",
       "8          9    Nuria   Cano Girones  Barcelona  689525451\n",
       "9         10    Belen  Santo Zambuña      Alava  643351233"
      ]
     },
     "execution_count": 26,
     "metadata": {},
     "output_type": "execute_result"
    }
   ],
   "source": [
    "# Ejercicio 5. Haz una consulta que devuelva todos los registros de la tabla \"alumnas\" y conviértelo en Dataframe (no te olvides del nombre de las columnas).\n",
    "\n",
    "conexion = mysql.connector.connect(user='root', password='AlumnaAdalab',\n",
    "                              host='localhost',\n",
    "                              database='alumnas_promo_H')\n",
    "mycursor = conexion.cursor()\n",
    "mycursor.execute(\"SELECT * FROM info_alumnas\")\n",
    "\n",
    "consulta1 = mycursor.fetchall()\n",
    "\n",
    "df = pd.DataFrame(consulta1, columns = ['id_alumna','nombre','apellidos','ciudad','telefono'])\n",
    "\n",
    "conexion.close()\n",
    "\n",
    "df\n"
   ]
  },
  {
   "cell_type": "code",
   "execution_count": 28,
   "metadata": {},
   "outputs": [
    {
     "data": {
      "text/plain": [
       "(   id_alumna   nombre    apellidos   ciudad   telefono\n",
       " 0          1   Sandra  Perez Gomez   Madrid  676801212\n",
       " 1          2   Esther   Jerez Font  Granada  676828185\n",
       " 2          3  Giselle   Monte Rios  Sevilla  676858482,\n",
       "    id_alumna  nombre      apellidos     ciudad   telefono\n",
       " 7          8  Silvia     Piñel Saez       Jaen  785451214\n",
       " 8          9   Nuria   Cano Girones  Barcelona  689525451\n",
       " 9         10   Belen  Santo Zambuña      Alava  643351233)"
      ]
     },
     "execution_count": 28,
     "metadata": {},
     "output_type": "execute_result"
    }
   ],
   "source": [
    "# Ejercicio 6. Muestra los 3 primeros y tres últimos registros del Dataframe\n",
    "\n",
    "df.head(3),df.tail(3)\n"
   ]
  },
  {
   "cell_type": "code",
   "execution_count": 29,
   "metadata": {},
   "outputs": [
    {
     "data": {
      "text/plain": [
       "0    False\n",
       "1    False\n",
       "2    False\n",
       "3    False\n",
       "4    False\n",
       "5    False\n",
       "6    False\n",
       "7    False\n",
       "8    False\n",
       "9    False\n",
       "dtype: bool"
      ]
     },
     "execution_count": 29,
     "metadata": {},
     "output_type": "execute_result"
    }
   ],
   "source": [
    "# Ejercicio 7.¿Hay registros duplicados?\n",
    "\n",
    "df.duplicated()"
   ]
  },
  {
   "cell_type": "code",
   "execution_count": 31,
   "metadata": {},
   "outputs": [
    {
     "data": {
      "text/plain": [
       "[('Madrid',),\n",
       " ('Granada',),\n",
       " ('Sevilla',),\n",
       " ('Cadiz',),\n",
       " ('Leon',),\n",
       " ('Jaen',),\n",
       " ('Barcelona',),\n",
       " ('Alava',)]"
      ]
     },
     "execution_count": 31,
     "metadata": {},
     "output_type": "execute_result"
    }
   ],
   "source": [
    "# Ejercicio 8. Haz una consulta para extraer las diferentes ciudades en las que hay alumnas.\n",
    "\n",
    "conexion = mysql.connector.connect(user='root', password='AlumnaAdalab',\n",
    "                              host='localhost',\n",
    "                              database='alumnas_promo_H')\n",
    "mycursor = conexion.cursor()\n",
    "mycursor.execute(\"SELECT ciudad FROM info_alumnas GROUP BY ciudad\")\n",
    "\n",
    "consulta2 = mycursor.fetchall()\n",
    "\n",
    "conexion.close()\n",
    "\n",
    "consulta2"
   ]
  },
  {
   "cell_type": "code",
   "execution_count": 40,
   "metadata": {},
   "outputs": [
    {
     "data": {
      "text/html": [
       "<div>\n",
       "<style scoped>\n",
       "    .dataframe tbody tr th:only-of-type {\n",
       "        vertical-align: middle;\n",
       "    }\n",
       "\n",
       "    .dataframe tbody tr th {\n",
       "        vertical-align: top;\n",
       "    }\n",
       "\n",
       "    .dataframe thead th {\n",
       "        text-align: right;\n",
       "    }\n",
       "</style>\n",
       "<table border=\"1\" class=\"dataframe\">\n",
       "  <thead>\n",
       "    <tr style=\"text-align: right;\">\n",
       "      <th></th>\n",
       "      <th>id_alumna</th>\n",
       "      <th>nombre</th>\n",
       "      <th>apellidos</th>\n",
       "      <th>ciudad</th>\n",
       "      <th>telefono</th>\n",
       "    </tr>\n",
       "  </thead>\n",
       "  <tbody>\n",
       "    <tr>\n",
       "      <th>0</th>\n",
       "      <td>1</td>\n",
       "      <td>Sandra</td>\n",
       "      <td>Perez Gomez</td>\n",
       "      <td>Madrid</td>\n",
       "      <td>676801212</td>\n",
       "    </tr>\n",
       "    <tr>\n",
       "      <th>1</th>\n",
       "      <td>4</td>\n",
       "      <td>Hugo</td>\n",
       "      <td>Feliz Conesa</td>\n",
       "      <td>Madrid</td>\n",
       "      <td>652345678</td>\n",
       "    </tr>\n",
       "    <tr>\n",
       "      <th>2</th>\n",
       "      <td>7</td>\n",
       "      <td>Leonor</td>\n",
       "      <td>Cristal Senta</td>\n",
       "      <td>Madrid</td>\n",
       "      <td>742515656</td>\n",
       "    </tr>\n",
       "  </tbody>\n",
       "</table>\n",
       "</div>"
      ],
      "text/plain": [
       "   id_alumna  nombre      apellidos  ciudad   telefono\n",
       "0          1  Sandra    Perez Gomez  Madrid  676801212\n",
       "1          4    Hugo   Feliz Conesa  Madrid  652345678\n",
       "2          7  Leonor  Cristal Senta  Madrid  742515656"
      ]
     },
     "execution_count": 40,
     "metadata": {},
     "output_type": "execute_result"
    }
   ],
   "source": [
    "# Ejercicio 9. Crea al menos dos Dataframes con la información de las alumnas de dos ciudades diferentes (usando dos queries)\n",
    "\n",
    "conexion = mysql.connector.connect(user='root', password='AlumnaAdalab',\n",
    "                              host='localhost',\n",
    "                              database='alumnas_promo_H')\n",
    "mycursor = conexion.cursor()\n",
    "mycursor.execute(\"SELECT * FROM info_alumnas WHERE ciudad='Madrid'\")\n",
    "\n",
    "consulta3 = mycursor.fetchall()\n",
    "\n",
    "df = pd.DataFrame(consulta3, columns = ['id_alumna','nombre','apellidos','ciudad','telefono'])\n",
    "\n",
    "conexion.close()\n",
    "\n",
    "df\n"
   ]
  },
  {
   "cell_type": "code",
   "execution_count": 41,
   "metadata": {},
   "outputs": [
    {
     "data": {
      "text/html": [
       "<div>\n",
       "<style scoped>\n",
       "    .dataframe tbody tr th:only-of-type {\n",
       "        vertical-align: middle;\n",
       "    }\n",
       "\n",
       "    .dataframe tbody tr th {\n",
       "        vertical-align: top;\n",
       "    }\n",
       "\n",
       "    .dataframe thead th {\n",
       "        text-align: right;\n",
       "    }\n",
       "</style>\n",
       "<table border=\"1\" class=\"dataframe\">\n",
       "  <thead>\n",
       "    <tr style=\"text-align: right;\">\n",
       "      <th></th>\n",
       "      <th>id_alumna</th>\n",
       "      <th>nombre</th>\n",
       "      <th>apellidos</th>\n",
       "      <th>ciudad</th>\n",
       "      <th>telefono</th>\n",
       "    </tr>\n",
       "  </thead>\n",
       "  <tbody>\n",
       "    <tr>\n",
       "      <th>0</th>\n",
       "      <td>5</td>\n",
       "      <td>Sofia</td>\n",
       "      <td>Reyes Astorga</td>\n",
       "      <td>Cadiz</td>\n",
       "      <td>615424247</td>\n",
       "    </tr>\n",
       "  </tbody>\n",
       "</table>\n",
       "</div>"
      ],
      "text/plain": [
       "   id_alumna nombre      apellidos ciudad   telefono\n",
       "0          5  Sofia  Reyes Astorga  Cadiz  615424247"
      ]
     },
     "execution_count": 41,
     "metadata": {},
     "output_type": "execute_result"
    }
   ],
   "source": [
    "\n",
    "conexion = mysql.connector.connect(user='root', password='AlumnaAdalab',\n",
    "                              host='localhost',\n",
    "                              database='alumnas_promo_H')\n",
    "mycursor = conexion.cursor()\n",
    "mycursor.execute(\"SELECT * FROM info_alumnas WHERE ciudad='Cadiz'\")\n",
    "\n",
    "consulta3 = mycursor.fetchall()\n",
    "\n",
    "df = pd.DataFrame(consulta3, columns = ['id_alumna','nombre','apellidos','ciudad','telefono'])\n",
    "\n",
    "conexion.close()\n",
    "\n",
    "df"
   ]
  },
  {
   "cell_type": "code",
   "execution_count": null,
   "metadata": {},
   "outputs": [],
   "source": []
  }
 ],
 "metadata": {
  "kernelspec": {
   "display_name": "base",
   "language": "python",
   "name": "python3"
  },
  "language_info": {
   "codemirror_mode": {
    "name": "ipython",
    "version": 3
   },
   "file_extension": ".py",
   "mimetype": "text/x-python",
   "name": "python",
   "nbconvert_exporter": "python",
   "pygments_lexer": "ipython3",
   "version": "3.9.7"
  }
 },
 "nbformat": 4,
 "nbformat_minor": 2
}
