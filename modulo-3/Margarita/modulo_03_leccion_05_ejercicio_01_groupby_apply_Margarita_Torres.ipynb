{
 "cells": [
  {
   "cell_type": "markdown",
   "metadata": {},
   "source": [
    "# Ejercicios\n",
    "\n",
    "En estos usaremos el conjunto de datos que guardamos ayer en los ejercicios de la clase invertida. Los ejercicios que os planteamos hoy son: \n"
   ]
  },
  {
   "cell_type": "code",
   "execution_count": 104,
   "metadata": {},
   "outputs": [],
   "source": [
    "# importamos las librerías que necesitamos\n",
    "\n",
    "# Tratamiento de datos\n",
    "# -----------------------------------------------------------------------\n",
    "import pandas as pd\n",
    "import numpy as np\n",
    "\n",
    "\n",
    "# Configuración\n",
    "# -----------------------------------------------------------------------\n",
    "pd.set_option('display.max_columns', None) # para poder visualizar todas las columnas de los DataFrames"
   ]
  },
  {
   "cell_type": "code",
   "execution_count": 105,
   "metadata": {},
   "outputs": [
    {
     "data": {
      "text/html": [
       "<div>\n",
       "<style scoped>\n",
       "    .dataframe tbody tr th:only-of-type {\n",
       "        vertical-align: middle;\n",
       "    }\n",
       "\n",
       "    .dataframe tbody tr th {\n",
       "        vertical-align: top;\n",
       "    }\n",
       "\n",
       "    .dataframe thead th {\n",
       "        text-align: right;\n",
       "    }\n",
       "</style>\n",
       "<table border=\"1\" class=\"dataframe\">\n",
       "  <thead>\n",
       "    <tr style=\"text-align: right;\">\n",
       "      <th></th>\n",
       "      <th>index</th>\n",
       "      <th>title</th>\n",
       "      <th>title_orig</th>\n",
       "      <th>price</th>\n",
       "      <th>retail_price</th>\n",
       "      <th>units_sold</th>\n",
       "      <th>uses_ad_boosts</th>\n",
       "      <th>rating_x</th>\n",
       "      <th>rating_count</th>\n",
       "      <th>rating_five_count</th>\n",
       "      <th>rating_four_count</th>\n",
       "      <th>rating_three_count</th>\n",
       "      <th>rating_two_count</th>\n",
       "      <th>rating_one_count</th>\n",
       "      <th>badges_count</th>\n",
       "      <th>badge_local_product</th>\n",
       "      <th>badge_product_quality</th>\n",
       "      <th>badge_fast_shipping</th>\n",
       "      <th>tags</th>\n",
       "      <th>product_color</th>\n",
       "      <th>product_variation_size_id</th>\n",
       "      <th>product_variation_inventory</th>\n",
       "      <th>shipping_option_name</th>\n",
       "      <th>shipping_option_price</th>\n",
       "      <th>shipping_is_express</th>\n",
       "      <th>countries_shipped_to</th>\n",
       "      <th>inventory_total</th>\n",
       "      <th>has_urgency_banner</th>\n",
       "      <th>urgency_text</th>\n",
       "      <th>origin_country</th>\n",
       "      <th>merchant_title</th>\n",
       "      <th>merchant_name</th>\n",
       "      <th>merchant_info_subtitle</th>\n",
       "      <th>merchant_rating_count</th>\n",
       "      <th>merchant_rating</th>\n",
       "      <th>merchant_id</th>\n",
       "      <th>merchant_has_profile_picture</th>\n",
       "      <th>merchant_profile_picture</th>\n",
       "      <th>product_url</th>\n",
       "      <th>product_picture</th>\n",
       "      <th>product_id</th>\n",
       "      <th>merchant_id.1</th>\n",
       "      <th>listed_products</th>\n",
       "      <th>total_units_sold</th>\n",
       "      <th>mean_units_sold_per_product</th>\n",
       "      <th>rating_y</th>\n",
       "      <th>merchant_ratings_count</th>\n",
       "      <th>mean_product_prices</th>\n",
       "      <th>mean_retail_prices</th>\n",
       "      <th>average_discount</th>\n",
       "      <th>mean_discount</th>\n",
       "      <th>mean_product_ratings_count</th>\n",
       "      <th>total_urgency_count</th>\n",
       "      <th>urgency_text_rate</th>\n",
       "    </tr>\n",
       "  </thead>\n",
       "  <tbody>\n",
       "    <tr>\n",
       "      <th>0</th>\n",
       "      <td>0</td>\n",
       "      <td>2020 Summer Vintage Flamingo Print  Pajamas Se...</td>\n",
       "      <td>2020 Summer Vintage Flamingo Print  Pajamas Se...</td>\n",
       "      <td>16.0</td>\n",
       "      <td>14</td>\n",
       "      <td>100</td>\n",
       "      <td>0</td>\n",
       "      <td>3.76</td>\n",
       "      <td>54</td>\n",
       "      <td>26.0</td>\n",
       "      <td>8.0</td>\n",
       "      <td>10.0</td>\n",
       "      <td>1.0</td>\n",
       "      <td>9.0</td>\n",
       "      <td>0</td>\n",
       "      <td>0</td>\n",
       "      <td>0</td>\n",
       "      <td>0</td>\n",
       "      <td>Summer,Fashion,womenunderwearsuit,printedpajam...</td>\n",
       "      <td>white</td>\n",
       "      <td>M</td>\n",
       "      <td>50</td>\n",
       "      <td>Livraison standard</td>\n",
       "      <td>4</td>\n",
       "      <td>0</td>\n",
       "      <td>34</td>\n",
       "      <td>50</td>\n",
       "      <td>1.0</td>\n",
       "      <td>Quantité limitée !</td>\n",
       "      <td>CN</td>\n",
       "      <td>zgrdejia</td>\n",
       "      <td>zgrdejia</td>\n",
       "      <td>NaN</td>\n",
       "      <td>568</td>\n",
       "      <td>4.128521</td>\n",
       "      <td>595097d6a26f6e070cb878d1</td>\n",
       "      <td>0</td>\n",
       "      <td>NaN</td>\n",
       "      <td>https://www.wish.com/c/5e9ae51d43d6a96e303acdb0</td>\n",
       "      <td>https://contestimg.wish.com/api/webimage/5e9ae...</td>\n",
       "      <td>5e9ae51d43d6a96e303acdb0</td>\n",
       "      <td>5357bcf2bb72c5504882e889</td>\n",
       "      <td>2.0</td>\n",
       "      <td>120000.0</td>\n",
       "      <td>60000.0</td>\n",
       "      <td>4.219</td>\n",
       "      <td>320031.0</td>\n",
       "      <td>9.0</td>\n",
       "      <td>20.0</td>\n",
       "      <td>54.0</td>\n",
       "      <td>54.0</td>\n",
       "      <td>8836.0</td>\n",
       "      <td>1.0</td>\n",
       "      <td>50.0</td>\n",
       "    </tr>\n",
       "  </tbody>\n",
       "</table>\n",
       "</div>"
      ],
      "text/plain": [
       "   index                                              title  \\\n",
       "0      0  2020 Summer Vintage Flamingo Print  Pajamas Se...   \n",
       "\n",
       "                                          title_orig  price  retail_price  \\\n",
       "0  2020 Summer Vintage Flamingo Print  Pajamas Se...   16.0            14   \n",
       "\n",
       "   units_sold  uses_ad_boosts  rating_x  rating_count  rating_five_count  \\\n",
       "0         100               0      3.76            54               26.0   \n",
       "\n",
       "   rating_four_count  rating_three_count  rating_two_count  rating_one_count  \\\n",
       "0                8.0                10.0               1.0               9.0   \n",
       "\n",
       "   badges_count  badge_local_product  badge_product_quality  \\\n",
       "0             0                    0                      0   \n",
       "\n",
       "   badge_fast_shipping                                               tags  \\\n",
       "0                    0  Summer,Fashion,womenunderwearsuit,printedpajam...   \n",
       "\n",
       "  product_color product_variation_size_id  product_variation_inventory  \\\n",
       "0         white                         M                           50   \n",
       "\n",
       "  shipping_option_name  shipping_option_price  shipping_is_express  \\\n",
       "0   Livraison standard                      4                    0   \n",
       "\n",
       "   countries_shipped_to  inventory_total  has_urgency_banner  \\\n",
       "0                    34               50                 1.0   \n",
       "\n",
       "         urgency_text origin_country merchant_title merchant_name  \\\n",
       "0  Quantité limitée !             CN       zgrdejia      zgrdejia   \n",
       "\n",
       "  merchant_info_subtitle  merchant_rating_count  merchant_rating  \\\n",
       "0                    NaN                    568         4.128521   \n",
       "\n",
       "                merchant_id  merchant_has_profile_picture  \\\n",
       "0  595097d6a26f6e070cb878d1                             0   \n",
       "\n",
       "  merchant_profile_picture                                      product_url  \\\n",
       "0                      NaN  https://www.wish.com/c/5e9ae51d43d6a96e303acdb0   \n",
       "\n",
       "                                     product_picture  \\\n",
       "0  https://contestimg.wish.com/api/webimage/5e9ae...   \n",
       "\n",
       "                 product_id             merchant_id.1  listed_products  \\\n",
       "0  5e9ae51d43d6a96e303acdb0  5357bcf2bb72c5504882e889              2.0   \n",
       "\n",
       "   total_units_sold  mean_units_sold_per_product  rating_y  \\\n",
       "0          120000.0                      60000.0     4.219   \n",
       "\n",
       "   merchant_ratings_count  mean_product_prices  mean_retail_prices  \\\n",
       "0                320031.0                  9.0                20.0   \n",
       "\n",
       "   average_discount  mean_discount  mean_product_ratings_count  \\\n",
       "0              54.0           54.0                      8836.0   \n",
       "\n",
       "   total_urgency_count  urgency_text_rate  \n",
       "0                  1.0               50.0  "
      ]
     },
     "execution_count": 105,
     "metadata": {},
     "output_type": "execute_result"
    }
   ],
   "source": [
    "# cargamos el dataframe creado en la lección anterior\n",
    "df = pd.read_csv(\"rtating_and_permormance_limpio.csv\", index_col = 0)\n",
    "df.head(1)"
   ]
  },
  {
   "cell_type": "markdown",
   "metadata": {},
   "source": [
    "\n",
    "# Ejercicios\n",
    "\n",
    "Vamos a seguir trabajando con el *csv* de `rating-and-performance`, pero vamos a añadir un *csv* más para completar la información de nuestro *e-commerce*. En concreto, vamos a incluir: \n",
    "\n",
    "- `insights.csv`: Tenemos datos sobre el éxito de vendedores activos. Sus columnas son: \n",
    "\n",
    "\n",
    "\n",
    "    | Nombre de columna         | Descripción                                                                                            |\n",
    "    |---------------------------|--------------------------------------------------------------------------------------------------------|\n",
    "    | rating                    | La calificación del producto. (Float)                                                                  |\n",
    "    | listedproducts            | El número de productos listados en la plataforma de comercio electrónico Wish. (Integer)                |\n",
    "    | totalunitssold            | El número total de unidades vendidas del producto. (Integer)                                           |\n",
    "    | meanunitssoldperproduct   | El número promedio de unidades vendidas por producto. (Float)                                         |\n",
    "    | merchantratingscount      | El número de calificaciones para el vendedor. (Integer)                                                |\n",
    "    | meanproductprices         | El precio promedio del producto. (Float)                                                               |\n",
    "    | meanretailprices          | El precio minorista promedio del producto. (Float)                                                     |\n",
    "    | averagediscount           | El descuento promedio aplicado al producto. (Float)                                                    |\n",
    "    | meandiscount              | El descuento medio aplicado al producto. (Float)                                                       |\n",
    "    | meanproductratingscount   | El número promedio de calificaciones para el producto. (Float)                                         |\n",
    "    | totalurgencycount         | El número total de recuentos de urgencia para el producto. (Integer)                                   |\n",
    "    | urgencytextrate           | La tasa de ofertas de texto de urgencia para el producto. (Float)                                      |\n",
    "\n",
    "\n",
    "\n",
    "\n",
    "\n",
    "\n",
    "\n",
    "\n",
    "\n",
    "\n",
    "\n"
   ]
  },
  {
   "cell_type": "markdown",
   "metadata": {},
   "source": [
    "| Columna                      | Descripción                                                                                                    |\n",
    "|------------------------------|----------------------------------------------------------------------------------------------------------------|\n",
    "| title                        | El título del producto. (*object*)                                                                      |\n",
    "| title_orig                   | El título original del producto. (*object*)                                                             |\n",
    "| price                        | El precio del producto. (*float*)                                                                             |\n",
    "| retail_price                 | El precio minorista original del producto. (*float*)                                                           |\n",
    "| currency_buyer               | La moneda del comprador. (*object*)                                                                     |\n",
    "| units_sold                   | El número de unidades vendidas. (*integer*)                                                                       |\n",
    "| uses_ad_boosts               | Un indicador de si el producto ha sido promovido mediante anuncios. (*bool*)                                  |\n",
    "| rating                       | La calificación del producto. (*float*)                                                                       |\n",
    "| rating_count                 | El número total de calificaciones para el producto. (*integer*)                                                    |\n",
    "| rating_five_count            | El número de calificaciones de cinco estrellas para el producto. (*integer*)                                       |\n",
    "| rating_four_count            | El número de calificaciones de cuatro estrellas para el producto. (*integer*)                                      |\n",
    "| rating_three_count           | El número de calificaciones de tres estrellas para el producto. (*integer*)                                        |\n",
    "| rating_two_count             | El número de calificaciones de dos estrellas para el producto. (*integer*)                                         |\n",
    "| rating_one_count             | El número de calificaciones de una estrella para el producto. (*integer*)                                          |\n",
    "| badges_count                 | El número de insignias asociadas al producto. (*integer*)                                                          |\n",
    "| badge_local_product          | Un indicador de si el producto es local. (*bool*)                                                             |\n",
    "| badge_product_quality        | Un indicador de si el producto tiene una insignia de calidad. (*bool*)                                        |\n",
    "| badge_fast_shipping          | Un indicador de si el producto tiene una insignia de envío rápido. (*bool*)                                   |\n",
    "| tags                         | Las etiquetas asociadas al producto. (*object*)                                                         |\n",
    "| product_color                | El color del producto. (*object*)                                                                       |\n",
    "| product_variation_inventory  | El inventario de la variación del producto. (*integer*)                                                           |\n",
    "| shipping_option_name         | El nombre de la opción de envío. (*object*)                                                             |\n",
    "| shipping_option_price        | El precio de la opción de envío. (*float*)                                                                    |\n",
    "| shipping_is_express          | Un indicador de si la opción de envío es express. (*bool*)                                                    |\n",
    "| countries_shipped_to         | Los países a los que se envía el producto. (*object*)                                                   |\n",
    "| inventory_total              | El inventario total del producto. (*integer*)                                                                     |\n",
    "| has_urgency_banner           | Un indicador de si el producto tiene un banner de urgencia. (*bool*)                                          |\n",
    "| urgency_text                 | El texto del banner de urgencia. (*object*)                                                             |\n",
    "| origin_country               | El país de origen del producto. (*object*)                                                              |\n",
    "| merchant_title               | El título del comerciante. (*object*)                                                                   |\n",
    "| merchant_name                | El nombre del comerciante. (*object*)                                                                   |\n",
    "| merchant_info_subtitle       | El subtítulo del comerciante. (*object*)                                                                |\n",
    "| merchant_rating_count        | El número total de calificaciones para el comerciante. (*integer*)                                                 |\n",
    "| merchant_has_profile_picture | Un indicador de si el comerciante tiene una imagen de perfil. (*bool*)                                       |\n",
    "| merchant_profile_picture     | La imagen de perfil del comerciante. (*object*)                                                         |\n",
    "| product_url                  | La URL del producto. (*object*)                                                                         |\n",
    "| product_picture              | La imagen del producto. (*object*)                                                                      |\n",
    "| theme                        | El tema del producto. (*object*)                                                                        |\n",
    "| crawl_month                  | El mes en que se obtuvo el producto. (*object*)                                                         |\n",
    "\n",
    "\n"
   ]
  },
  {
   "cell_type": "markdown",
   "metadata": {},
   "source": [
    "1. Total de unidades vendidas por país de origen del vendedor. Debéis agrupar los datos según el país de origen del vendedor y calcular el total de unidades vendidas para cada país. Esto nos dará una idea de qué países tienen una mayor participación en las ventas totales y cuáles tienen menos. Devuelve los resultados en un DataFrame ordenados de mayor a menor en función de la cantidad de unidades vendidas. "
   ]
  },
  {
   "cell_type": "code",
   "execution_count": 106,
   "metadata": {},
   "outputs": [],
   "source": [
    "unidades_vendidas_pais=df.groupby('origin_country')['units_sold'].count()"
   ]
  },
  {
   "cell_type": "code",
   "execution_count": 107,
   "metadata": {},
   "outputs": [
    {
     "data": {
      "text/html": [
       "<div>\n",
       "<style scoped>\n",
       "    .dataframe tbody tr th:only-of-type {\n",
       "        vertical-align: middle;\n",
       "    }\n",
       "\n",
       "    .dataframe tbody tr th {\n",
       "        vertical-align: top;\n",
       "    }\n",
       "\n",
       "    .dataframe thead th {\n",
       "        text-align: right;\n",
       "    }\n",
       "</style>\n",
       "<table border=\"1\" class=\"dataframe\">\n",
       "  <thead>\n",
       "    <tr style=\"text-align: right;\">\n",
       "      <th></th>\n",
       "      <th>origin_country</th>\n",
       "      <th>units_sold</th>\n",
       "    </tr>\n",
       "  </thead>\n",
       "  <tbody>\n",
       "    <tr>\n",
       "      <th>1</th>\n",
       "      <td>CN</td>\n",
       "      <td>1516</td>\n",
       "    </tr>\n",
       "    <tr>\n",
       "      <th>4</th>\n",
       "      <td>US</td>\n",
       "      <td>31</td>\n",
       "    </tr>\n",
       "    <tr>\n",
       "      <th>5</th>\n",
       "      <td>VE</td>\n",
       "      <td>5</td>\n",
       "    </tr>\n",
       "    <tr>\n",
       "      <th>3</th>\n",
       "      <td>SG</td>\n",
       "      <td>2</td>\n",
       "    </tr>\n",
       "    <tr>\n",
       "      <th>0</th>\n",
       "      <td>AT</td>\n",
       "      <td>1</td>\n",
       "    </tr>\n",
       "    <tr>\n",
       "      <th>2</th>\n",
       "      <td>GB</td>\n",
       "      <td>1</td>\n",
       "    </tr>\n",
       "  </tbody>\n",
       "</table>\n",
       "</div>"
      ],
      "text/plain": [
       "  origin_country  units_sold\n",
       "1             CN        1516\n",
       "4             US          31\n",
       "5             VE           5\n",
       "3             SG           2\n",
       "0             AT           1\n",
       "2             GB           1"
      ]
     },
     "execution_count": 107,
     "metadata": {},
     "output_type": "execute_result"
    }
   ],
   "source": [
    "#usamos el metodo .sort_values(by=,inplace,ascending=False)\n",
    "df_unidades_vendidas_pais=unidades_vendidas_pais.reset_index()\n",
    "df_unidades_vendidas_pais.sort_values(by=['units_sold'], inplace=True, ascending=False) \n",
    "df_unidades_vendidas_pais"
   ]
  },
  {
   "cell_type": "markdown",
   "metadata": {},
   "source": [
    "2. Estadísticas de precio por país de envío. Vamos a explorar el precio promedio y el precio máximo de los productos según el país al que se envían. Al hacer esto, podremos entender cómo varían los precios según el destino del envío y si hay alguna tendencia interesante que valga la pena analizar.  Devuelve los resultados en un DataFrame. "
   ]
  },
  {
   "cell_type": "code",
   "execution_count": 108,
   "metadata": {},
   "outputs": [
    {
     "data": {
      "text/html": [
       "<div>\n",
       "<style scoped>\n",
       "    .dataframe tbody tr th:only-of-type {\n",
       "        vertical-align: middle;\n",
       "    }\n",
       "\n",
       "    .dataframe tbody tr th {\n",
       "        vertical-align: top;\n",
       "    }\n",
       "\n",
       "    .dataframe thead th {\n",
       "        text-align: right;\n",
       "    }\n",
       "</style>\n",
       "<table border=\"1\" class=\"dataframe\">\n",
       "  <thead>\n",
       "    <tr style=\"text-align: right;\">\n",
       "      <th></th>\n",
       "      <th>origin_country</th>\n",
       "      <th>mean</th>\n",
       "      <th>max</th>\n",
       "    </tr>\n",
       "  </thead>\n",
       "  <tbody>\n",
       "    <tr>\n",
       "      <th>0</th>\n",
       "      <td>AT</td>\n",
       "      <td>7.000000</td>\n",
       "      <td>7.00</td>\n",
       "    </tr>\n",
       "    <tr>\n",
       "      <th>1</th>\n",
       "      <td>CN</td>\n",
       "      <td>8.341629</td>\n",
       "      <td>49.00</td>\n",
       "    </tr>\n",
       "    <tr>\n",
       "      <th>2</th>\n",
       "      <td>GB</td>\n",
       "      <td>9.000000</td>\n",
       "      <td>9.00</td>\n",
       "    </tr>\n",
       "    <tr>\n",
       "      <th>3</th>\n",
       "      <td>SG</td>\n",
       "      <td>3.380000</td>\n",
       "      <td>3.93</td>\n",
       "    </tr>\n",
       "    <tr>\n",
       "      <th>4</th>\n",
       "      <td>US</td>\n",
       "      <td>9.397097</td>\n",
       "      <td>16.00</td>\n",
       "    </tr>\n",
       "    <tr>\n",
       "      <th>5</th>\n",
       "      <td>VE</td>\n",
       "      <td>8.298000</td>\n",
       "      <td>16.00</td>\n",
       "    </tr>\n",
       "  </tbody>\n",
       "</table>\n",
       "</div>"
      ],
      "text/plain": [
       "  origin_country      mean    max\n",
       "0             AT  7.000000   7.00\n",
       "1             CN  8.341629  49.00\n",
       "2             GB  9.000000   9.00\n",
       "3             SG  3.380000   3.93\n",
       "4             US  9.397097  16.00\n",
       "5             VE  8.298000  16.00"
      ]
     },
     "execution_count": 108,
     "metadata": {},
     "output_type": "execute_result"
    }
   ],
   "source": [
    "#trabajaremos con las columnas : 'countries_shipped_to', 'price'\n",
    "#agrupamos precio medio y el precio maximo segun el pais de envio:\n",
    "#para poder incluir varios metodos usamos .agg([lista metodos])\n",
    "lista_metodos=['mean','max']\n",
    "st_precio_pais_envio=df.groupby('origin_country')['price'].agg(lista_metodos)\n",
    "df_st_precio_pais_envio=st_precio_pais_envio.reset_index() #usamos .restes_index para transformarlo en un dF Y GUARDARLO EN UNA VARIABLE.\n",
    "df_st_precio_pais_envio"
   ]
  },
  {
   "cell_type": "markdown",
   "metadata": {},
   "source": [
    "3. Conteo de productos con y sin distintivo de producto local. Vamos a clasificar los productos según si tienen o no un distintivo de producto local. Luego, calcularemos el conteo de productos en cada categoría para comprender cuántos productos tienen este distintivo y cuántos no. Esto puede proporcionarnos información sobre cómo se promocionan los productos con esta característica. Devuelve los resultados en un DataFrame. "
   ]
  },
  {
   "cell_type": "markdown",
   "metadata": {},
   "source": [
    "| badge_local_product          | Un indicador de si el producto es local. \n",
    "\n",
    "| title                        | El título del producto. "
   ]
  },
  {
   "cell_type": "code",
   "execution_count": 109,
   "metadata": {},
   "outputs": [
    {
     "data": {
      "text/plain": [
       "title\n",
       "Nouvelle mode d'été femmes robe décontractée col rond lâche Big Swing jupe sans manches Soild couleur robe de plage                                                                      24\n",
       "Mini robe de soirée décontractée sans manches pour femmes                                                                                                                                12\n",
       "Femmes d'été Sling Dress V-cou Floral Strap plissé Casual Pocket Large Dress                                                                                                              9\n",
       "Tissu taille formateur gilet chaud shaper été shaperwear minceur réglable sueur ceinture corps shaper                                                                                     9\n",
       "Pantalon à lacets à la mode pour femmes d'été, plus la taille Pantalon court à taille haute décontracté                                                                                   9\n",
       "                                                                                                                                                                                         ..\n",
       "T-shirt Femme 4 Couleurs Mode d'été Femme Couture Dentelle Sexy Couture Couture Couleur unie T-shirt Femme Femme Coupe Mince Taille Plus Grande Chemisier T-shirt T-shirt Taille Plus     1\n",
       "Femmes deux pièces ensemble imprimé vague rayé hauts sans manches + jupes courtes excellent                                                                                               1\n",
       "Pandolah Hot Women Maillot de bain une pièce Maillot de bain à pois Maillot de bain Push up Maillot de bain grande taille Monokini M-3XL                                                  1\n",
       "Femmes Mode Lâche Casual Sans Manches Fleur Imprimer Col En V D'été Gilet Camisole Casual Plus La Taille Lâche Débardeurs                                                                 1\n",
       "Pantalon de yoga pour femmes à la mode Slim Fit Fitness Running Leggings                                                                                                                  1\n",
       "Name: count, Length: 1201, dtype: int64"
      ]
     },
     "execution_count": 109,
     "metadata": {},
     "output_type": "execute_result"
    }
   ],
   "source": [
    "#usaremos las columnas: 'badge_local_product'\n",
    "df['badge_local_product'].value_counts()\n",
    "df['title'].value_counts()"
   ]
  },
  {
   "cell_type": "code",
   "execution_count": 110,
   "metadata": {},
   "outputs": [
    {
     "data": {
      "text/html": [
       "<div>\n",
       "<style scoped>\n",
       "    .dataframe tbody tr th:only-of-type {\n",
       "        vertical-align: middle;\n",
       "    }\n",
       "\n",
       "    .dataframe tbody tr th {\n",
       "        vertical-align: top;\n",
       "    }\n",
       "\n",
       "    .dataframe thead th {\n",
       "        text-align: right;\n",
       "    }\n",
       "</style>\n",
       "<table border=\"1\" class=\"dataframe\">\n",
       "  <thead>\n",
       "    <tr style=\"text-align: right;\">\n",
       "      <th></th>\n",
       "      <th>badge_local_product</th>\n",
       "      <th>title</th>\n",
       "    </tr>\n",
       "  </thead>\n",
       "  <tbody>\n",
       "    <tr>\n",
       "      <th>0</th>\n",
       "      <td>0</td>\n",
       "      <td>1544</td>\n",
       "    </tr>\n",
       "    <tr>\n",
       "      <th>1</th>\n",
       "      <td>1</td>\n",
       "      <td>29</td>\n",
       "    </tr>\n",
       "  </tbody>\n",
       "</table>\n",
       "</div>"
      ],
      "text/plain": [
       "   badge_local_product  title\n",
       "0                    0   1544\n",
       "1                    1     29"
      ]
     },
     "execution_count": 110,
     "metadata": {},
     "output_type": "execute_result"
    }
   ],
   "source": [
    "df_distintivo=df.groupby('badge_local_product')['title'].count().reset_index()\n",
    "df_distintivo"
   ]
  },
  {
   "cell_type": "markdown",
   "metadata": {},
   "source": [
    "4. Promedio de unidades vendidas por tipo de envío. Nuestro objetivo es analizar cómo se correlaciona el tipo de envío (columna `shipping_option_name` ) con las unidades vendidas. Vamos a calcular el promedio de unidades vendidas para cada tipo de opción de envío. Esto podría ayudarnos a determinar si ciertos métodos de envío están relacionados con un mayor o menor rendimiento en las ventas. Devuelve los resultados en un DataFrame.  ¿Qué conclusiones puedes sacar de este resultado?"
   ]
  },
  {
   "cell_type": "code",
   "execution_count": 111,
   "metadata": {},
   "outputs": [
    {
     "data": {
      "text/html": [
       "<div>\n",
       "<style scoped>\n",
       "    .dataframe tbody tr th:only-of-type {\n",
       "        vertical-align: middle;\n",
       "    }\n",
       "\n",
       "    .dataframe tbody tr th {\n",
       "        vertical-align: top;\n",
       "    }\n",
       "\n",
       "    .dataframe thead th {\n",
       "        text-align: right;\n",
       "    }\n",
       "</style>\n",
       "<table border=\"1\" class=\"dataframe\">\n",
       "  <thead>\n",
       "    <tr style=\"text-align: right;\">\n",
       "      <th></th>\n",
       "      <th>shipping_option_name</th>\n",
       "      <th>units_sold</th>\n",
       "    </tr>\n",
       "  </thead>\n",
       "  <tbody>\n",
       "    <tr>\n",
       "      <th>0</th>\n",
       "      <td>Ekspresowa wysyłka</td>\n",
       "      <td>10000.000000</td>\n",
       "    </tr>\n",
       "    <tr>\n",
       "      <th>1</th>\n",
       "      <td>Envio Padrão</td>\n",
       "      <td>2488.888889</td>\n",
       "    </tr>\n",
       "    <tr>\n",
       "      <th>2</th>\n",
       "      <td>Envío normal</td>\n",
       "      <td>3220.000000</td>\n",
       "    </tr>\n",
       "    <tr>\n",
       "      <th>3</th>\n",
       "      <td>Expediere Standard</td>\n",
       "      <td>400.000000</td>\n",
       "    </tr>\n",
       "    <tr>\n",
       "      <th>4</th>\n",
       "      <td>Livraison Express</td>\n",
       "      <td>400.000000</td>\n",
       "    </tr>\n",
       "    <tr>\n",
       "      <th>5</th>\n",
       "      <td>Livraison standard</td>\n",
       "      <td>4383.756631</td>\n",
       "    </tr>\n",
       "    <tr>\n",
       "      <th>6</th>\n",
       "      <td>Spedizione standard</td>\n",
       "      <td>550.000000</td>\n",
       "    </tr>\n",
       "    <tr>\n",
       "      <th>7</th>\n",
       "      <td>Standard Shipping</td>\n",
       "      <td>4216.666667</td>\n",
       "    </tr>\n",
       "    <tr>\n",
       "      <th>8</th>\n",
       "      <td>Standardowa wysyłka</td>\n",
       "      <td>10033.333333</td>\n",
       "    </tr>\n",
       "    <tr>\n",
       "      <th>9</th>\n",
       "      <td>Standardversand</td>\n",
       "      <td>100.000000</td>\n",
       "    </tr>\n",
       "    <tr>\n",
       "      <th>10</th>\n",
       "      <td>Standart Gönderi</td>\n",
       "      <td>5500.000000</td>\n",
       "    </tr>\n",
       "    <tr>\n",
       "      <th>11</th>\n",
       "      <td>Стандартная доставка</td>\n",
       "      <td>3366.666667</td>\n",
       "    </tr>\n",
       "    <tr>\n",
       "      <th>12</th>\n",
       "      <td>الشحن القياسي</td>\n",
       "      <td>325.000000</td>\n",
       "    </tr>\n",
       "    <tr>\n",
       "      <th>13</th>\n",
       "      <td>การส่งสินค้ามาตรฐาน</td>\n",
       "      <td>5000.000000</td>\n",
       "    </tr>\n",
       "    <tr>\n",
       "      <th>14</th>\n",
       "      <td>ការដឹកជញ្ជូនតាមស្តង់ដារ</td>\n",
       "      <td>10000.000000</td>\n",
       "    </tr>\n",
       "  </tbody>\n",
       "</table>\n",
       "</div>"
      ],
      "text/plain": [
       "       shipping_option_name    units_sold\n",
       "0        Ekspresowa wysyłka  10000.000000\n",
       "1              Envio Padrão   2488.888889\n",
       "2              Envío normal   3220.000000\n",
       "3        Expediere Standard    400.000000\n",
       "4         Livraison Express    400.000000\n",
       "5        Livraison standard   4383.756631\n",
       "6       Spedizione standard    550.000000\n",
       "7         Standard Shipping   4216.666667\n",
       "8       Standardowa wysyłka  10033.333333\n",
       "9           Standardversand    100.000000\n",
       "10         Standart Gönderi   5500.000000\n",
       "11     Стандартная доставка   3366.666667\n",
       "12            الشحن القياسي    325.000000\n",
       "13      การส่งสินค้ามาตรฐาน   5000.000000\n",
       "14  ការដឹកជញ្ជូនតាមស្តង់ដារ  10000.000000"
      ]
     },
     "execution_count": 111,
     "metadata": {},
     "output_type": "execute_result"
    }
   ],
   "source": [
    "#vamos a usar las columans= 'shipping_option_name', 'unitds_sold'\n",
    "df_promedio_und_vendidads=df.groupby('shipping_option_name')['units_sold'].mean().reset_index()\n",
    "df_promedio_und_vendidads"
   ]
  },
  {
   "cell_type": "code",
   "execution_count": 112,
   "metadata": {},
   "outputs": [
    {
     "name": "stdout",
     "output_type": "stream",
     "text": [
      "El numero de grupos distintos obtenidos es 15\n"
     ]
    }
   ],
   "source": [
    "df_und_vendid_by_shipping=df.groupby('shipping_option_name')['units_sold']\n",
    "print(f'El numero de grupos distintos obtenidos es {df_und_vendid_by_shipping.ngroups}')"
   ]
  },
  {
   "cell_type": "markdown",
   "metadata": {},
   "source": [
    "Hay tres tipos de envio que tienen una media de unidades vendidas, significativamente superior a las otras : ការដឹកជញ្ជូនតាមស្តង់ដារ , Ekspresowa wysyłka, Standardowa wysyłka."
   ]
  },
  {
   "cell_type": "markdown",
   "metadata": {},
   "source": [
    "5. Reemplazo de valores. A lo largo del DataFrame tenemos algunas columnas cuyos valores son cero y uno, lo que podría llevar a confusión en su interpretación. Estas columnas son: \n",
    "\n",
    "    - `uses_ad_boosts`: La cual indica si la plataforma de comercio electrónico ha utilizado o no la función de impulso de anuncios.  Si el valor de uses_ad_boosts es 1, indica que el vendedor ha invertido en publicidad adicional para resaltar el producto. Si el valor es 0, no ha sido promocionado a través de anuncios adicionales.\n",
    "\n",
    "    - `badge_local_product`: Indica que el producto se produce, fabrica o se envía desde la misma región o país en el que se realiza la transacción de compra. Si el valor es 1, significa que el producto tiene un distintivo que lo califica como un producto local. Si el valor es 0, indica que el producto no tiene este distintivo.\n",
    "\n",
    "    - `badge_product_quality`: Indica que el producto cumple con ciertos estándares de calidad, características o evaluaciones positivas por parte de los consumidores. Si el valor es 1, significa que el producto tiene un distintivo que lo califica como un producto de alta calidad. Si el valor es 0, indica que el producto no tiene este distintivo de calidad.\n",
    "\n",
    "    - `badge_fast_shipping`: Indica que el producto se enviará y entregará en un plazo más corto en comparación con otras opciones de envío estándar. Si el valor es 1, significa que el producto tiene un distintivo que indica un envío rápido. Si el valor es 0, indica que el producto no tiene este distintivo de envío rápido.\n",
    "\n",
    "    - `shipping_is_express`: Se refiere a si una opción de envío para un producto en una plataforma de comercio electrónico se considera como \"envío exprés\" o \"envío rápido\". Si el valor es 1, significa que la opción de envío asociada se considera como una entrega rápida o exprés. Si el valor es 0, indica que la opción de envío no se considera como envío exprés.\n",
    "\n",
    "    Todas estas columnas cumplen un patrón, y es que los 0 corresponden con 'No' y los 1 con 'Si'. Por esto, en este ejercicio deberéis reemplazar los 0: No y los 1: Si. "
   ]
  },
  {
   "cell_type": "code",
   "execution_count": 113,
   "metadata": {},
   "outputs": [
    {
     "data": {
      "text/html": [
       "<div>\n",
       "<style scoped>\n",
       "    .dataframe tbody tr th:only-of-type {\n",
       "        vertical-align: middle;\n",
       "    }\n",
       "\n",
       "    .dataframe tbody tr th {\n",
       "        vertical-align: top;\n",
       "    }\n",
       "\n",
       "    .dataframe thead th {\n",
       "        text-align: right;\n",
       "    }\n",
       "</style>\n",
       "<table border=\"1\" class=\"dataframe\">\n",
       "  <thead>\n",
       "    <tr style=\"text-align: right;\">\n",
       "      <th></th>\n",
       "      <th>uses_ad_boosts</th>\n",
       "      <th>badge_local_product</th>\n",
       "      <th>badge_product_quality</th>\n",
       "      <th>badge_fast_shipping</th>\n",
       "      <th>shipping_is_express</th>\n",
       "    </tr>\n",
       "  </thead>\n",
       "  <tbody>\n",
       "    <tr>\n",
       "      <th>0</th>\n",
       "      <td>No</td>\n",
       "      <td>No</td>\n",
       "      <td>No</td>\n",
       "      <td>No</td>\n",
       "      <td>No</td>\n",
       "    </tr>\n",
       "    <tr>\n",
       "      <th>1</th>\n",
       "      <td>Si</td>\n",
       "      <td>No</td>\n",
       "      <td>No</td>\n",
       "      <td>No</td>\n",
       "      <td>No</td>\n",
       "    </tr>\n",
       "    <tr>\n",
       "      <th>2</th>\n",
       "      <td>No</td>\n",
       "      <td>No</td>\n",
       "      <td>No</td>\n",
       "      <td>No</td>\n",
       "      <td>No</td>\n",
       "    </tr>\n",
       "    <tr>\n",
       "      <th>3</th>\n",
       "      <td>Si</td>\n",
       "      <td>No</td>\n",
       "      <td>No</td>\n",
       "      <td>No</td>\n",
       "      <td>No</td>\n",
       "    </tr>\n",
       "    <tr>\n",
       "      <th>4</th>\n",
       "      <td>Si</td>\n",
       "      <td>No</td>\n",
       "      <td>No</td>\n",
       "      <td>No</td>\n",
       "      <td>No</td>\n",
       "    </tr>\n",
       "    <tr>\n",
       "      <th>...</th>\n",
       "      <td>...</td>\n",
       "      <td>...</td>\n",
       "      <td>...</td>\n",
       "      <td>...</td>\n",
       "      <td>...</td>\n",
       "    </tr>\n",
       "    <tr>\n",
       "      <th>1568</th>\n",
       "      <td>Si</td>\n",
       "      <td>No</td>\n",
       "      <td>No</td>\n",
       "      <td>No</td>\n",
       "      <td>No</td>\n",
       "    </tr>\n",
       "    <tr>\n",
       "      <th>1569</th>\n",
       "      <td>Si</td>\n",
       "      <td>No</td>\n",
       "      <td>No</td>\n",
       "      <td>No</td>\n",
       "      <td>No</td>\n",
       "    </tr>\n",
       "    <tr>\n",
       "      <th>1570</th>\n",
       "      <td>No</td>\n",
       "      <td>No</td>\n",
       "      <td>No</td>\n",
       "      <td>No</td>\n",
       "      <td>No</td>\n",
       "    </tr>\n",
       "    <tr>\n",
       "      <th>1571</th>\n",
       "      <td>No</td>\n",
       "      <td>No</td>\n",
       "      <td>No</td>\n",
       "      <td>No</td>\n",
       "      <td>No</td>\n",
       "    </tr>\n",
       "    <tr>\n",
       "      <th>1572</th>\n",
       "      <td>Si</td>\n",
       "      <td>No</td>\n",
       "      <td>No</td>\n",
       "      <td>No</td>\n",
       "      <td>No</td>\n",
       "    </tr>\n",
       "  </tbody>\n",
       "</table>\n",
       "<p>1573 rows × 5 columns</p>\n",
       "</div>"
      ],
      "text/plain": [
       "     uses_ad_boosts badge_local_product badge_product_quality  \\\n",
       "0                No                  No                    No   \n",
       "1                Si                  No                    No   \n",
       "2                No                  No                    No   \n",
       "3                Si                  No                    No   \n",
       "4                Si                  No                    No   \n",
       "...             ...                 ...                   ...   \n",
       "1568             Si                  No                    No   \n",
       "1569             Si                  No                    No   \n",
       "1570             No                  No                    No   \n",
       "1571             No                  No                    No   \n",
       "1572             Si                  No                    No   \n",
       "\n",
       "     badge_fast_shipping shipping_is_express  \n",
       "0                     No                  No  \n",
       "1                     No                  No  \n",
       "2                     No                  No  \n",
       "3                     No                  No  \n",
       "4                     No                  No  \n",
       "...                  ...                 ...  \n",
       "1568                  No                  No  \n",
       "1569                  No                  No  \n",
       "1570                  No                  No  \n",
       "1571                  No                  No  \n",
       "1572                  No                  No  \n",
       "\n",
       "[1573 rows x 5 columns]"
      ]
     },
     "execution_count": 113,
     "metadata": {},
     "output_type": "execute_result"
    }
   ],
   "source": [
    "#? usamos el metodo. map que nos sustituye los 0 por un 'No' y los 1 por un 'Si' de las columnas: 'uses_ad_boosts','badge_local_product', 'badge_product_quality', 'badge_fast_shipping','shipping_is_express'\n",
    "# lo primero que vamos a hacer es crear un diccionario donde:\n",
    "# las claves sean los valores que tenemos en la columna sobre la que queremos aplicar el map\n",
    "# los valores del diccionario serán los valores nuevos que queremos tener en la columna\n",
    "# En nuestro caso queremos reemplazar los 0 por No y los 1 por Si\n",
    "\n",
    "diccionario_mapa = {0: \"No\", 1: \"Si\"}\n",
    "#aplicamos un ciclo for:\n",
    "lista_columnas=['uses_ad_boosts','badge_local_product', 'badge_product_quality', 'badge_fast_shipping','shipping_is_express']\n",
    "for i in lista_columnas:\n",
    "    df[i]=df[i].map(diccionario_mapa) #todo lo que no esté en el diccionario_map nos lo devuelve como NaN\n",
    "\n",
    "df[['uses_ad_boosts','badge_local_product', 'badge_product_quality', 'badge_fast_shipping','shipping_is_express']]\n",
    "    \n"
   ]
  },
  {
   "cell_type": "markdown",
   "metadata": {},
   "source": [
    "6. Calificación de la calidad del producto. Sobreescribe la columna `badge_product_quality`  utilizando `apply()` para asignar \"Buena\" a las filas donde 'badge_product_quality' sea \"No\" y \"Excelente\" donde sea \"Si\"."
   ]
  },
  {
   "cell_type": "code",
   "execution_count": 114,
   "metadata": {},
   "outputs": [
    {
     "data": {
      "text/plain": [
       "badge_product_quality\n",
       "No    1456\n",
       "Si     117\n",
       "Name: count, dtype: int64"
      ]
     },
     "execution_count": 114,
     "metadata": {},
     "output_type": "execute_result"
    }
   ],
   "source": [
    "df['badge_product_quality'].value_counts()"
   ]
  },
  {
   "cell_type": "code",
   "execution_count": 115,
   "metadata": {},
   "outputs": [],
   "source": [
    "#Creamos una funcion que sustituya en 'badge_product_quality': 'No'--->'Buena' y 'si'----->'Excelente' \n",
    "\n",
    "def sus_si_no(dato):\n",
    "\n",
    "    '''Sustituye 'No'--->'Buena' y 'si'----->'Excelente' \n",
    "    arg:\n",
    "    datos del df\n",
    "    ------------\n",
    "    return:\n",
    "    dato corregido\n",
    "    '''\n",
    "\n",
    "    if dato == 'No':\n",
    "        return 'buena'\n",
    "    elif dato== 'Si':\n",
    "        return 'Excelente'\n",
    "    else:\n",
    "        pass\n",
    "    \n",
    "    \n"
   ]
  },
  {
   "cell_type": "code",
   "execution_count": 116,
   "metadata": {},
   "outputs": [
    {
     "data": {
      "text/plain": [
       "0       buena\n",
       "1       buena\n",
       "2       buena\n",
       "3       buena\n",
       "4       buena\n",
       "        ...  \n",
       "1568    buena\n",
       "1569    buena\n",
       "1570    buena\n",
       "1571    buena\n",
       "1572    buena\n",
       "Name: badge_product_quality, Length: 1573, dtype: object"
      ]
     },
     "execution_count": 116,
     "metadata": {},
     "output_type": "execute_result"
    }
   ],
   "source": [
    "df['badge_product_quality']=df['badge_product_quality'].apply(sus_si_no) #* Aplicamos la funcion .apply para ejecutar la funcion anterior sobre el df.\n",
    "df['badge_product_quality']"
   ]
  },
  {
   "cell_type": "code",
   "execution_count": 117,
   "metadata": {},
   "outputs": [
    {
     "data": {
      "text/plain": [
       "badge_product_quality\n",
       "buena        1456\n",
       "Excelente     117\n",
       "Name: count, dtype: int64"
      ]
     },
     "execution_count": 117,
     "metadata": {},
     "output_type": "execute_result"
    }
   ],
   "source": [
    "df['badge_product_quality'].value_counts()"
   ]
  },
  {
   "cell_type": "markdown",
   "metadata": {},
   "source": [
    "7. Cálculo de descuento. Crea una nueva columna `discount_percentage` utilizando `apply()` que calcule el porcentaje de descuento  basado en las columnas 'price' y 'retail_price', redondea los decimales a 2. Después elimina las columnas de `average_discount` y `mean_discount` \n"
   ]
  },
  {
   "cell_type": "code",
   "execution_count": 118,
   "metadata": {},
   "outputs": [],
   "source": [
    "#usaremos las columnas:'price', 'retail_price'\n",
    "#creamos una funcion que calcule el porcentaje:\n",
    "def porcentaje(pvp, precio_minorista):\n",
    "\n",
    "    '''Calcula el porcentaje  de descuento aplicado entre dos precios\n",
    "    args:\n",
    "        pvp- Precio con descuento.\n",
    "        precio_minorista- Precio con descuento.\n",
    "    return:\n",
    "        porcentaje aplicado.\n",
    "    '''\n",
    "\n",
    "    descuento=((pvp-precio_minorista)*100/precio_minorista)\n",
    "    return descuento\n"
   ]
  },
  {
   "cell_type": "code",
   "execution_count": 119,
   "metadata": {},
   "outputs": [],
   "source": [
    "#usamos el metodo apply y un lamba  y metemos el resultado en una nueva columna:\n",
    "df['discount_percentage']=df.apply(lambda x: porcentaje(x['price'],x['retail_price']),axis=1).round(2) #! Cada x representa cada fila del dataframe."
   ]
  },
  {
   "cell_type": "code",
   "execution_count": 120,
   "metadata": {},
   "outputs": [
    {
     "data": {
      "text/plain": [
       "0       14.29\n",
       "1      -63.64\n",
       "2      -81.40\n",
       "3        0.00\n",
       "4       -9.33\n",
       "        ...  \n",
       "1568   -33.33\n",
       "1569   -96.43\n",
       "1570   -73.68\n",
       "1571    18.18\n",
       "1572    16.67\n",
       "Name: discount_percentage, Length: 1573, dtype: float64"
      ]
     },
     "execution_count": 120,
     "metadata": {},
     "output_type": "execute_result"
    }
   ],
   "source": [
    "df['discount_percentage']"
   ]
  },
  {
   "cell_type": "code",
   "execution_count": 121,
   "metadata": {},
   "outputs": [],
   "source": [
    "#Eliminamos las columnas 'average_discount', 'mean_discount'\n",
    "lista_columnas_eliminar=['average_discount', 'mean_discount']\n",
    "df.drop(lista_columnas_eliminar,axis=1,inplace=True)"
   ]
  },
  {
   "cell_type": "code",
   "execution_count": 122,
   "metadata": {},
   "outputs": [
    {
     "data": {
      "text/plain": [
       "Index(['index', 'title', 'title_orig', 'price', 'retail_price', 'units_sold',\n",
       "       'uses_ad_boosts', 'rating_x', 'rating_count', 'rating_five_count',\n",
       "       'rating_four_count', 'rating_three_count', 'rating_two_count',\n",
       "       'rating_one_count', 'badges_count', 'badge_local_product',\n",
       "       'badge_product_quality', 'badge_fast_shipping', 'tags', 'product_color',\n",
       "       'product_variation_size_id', 'product_variation_inventory',\n",
       "       'shipping_option_name', 'shipping_option_price', 'shipping_is_express',\n",
       "       'countries_shipped_to', 'inventory_total', 'has_urgency_banner',\n",
       "       'urgency_text', 'origin_country', 'merchant_title', 'merchant_name',\n",
       "       'merchant_info_subtitle', 'merchant_rating_count', 'merchant_rating',\n",
       "       'merchant_id', 'merchant_has_profile_picture',\n",
       "       'merchant_profile_picture', 'product_url', 'product_picture',\n",
       "       'product_id', 'merchant_id.1', 'listed_products', 'total_units_sold',\n",
       "       'mean_units_sold_per_product', 'rating_y', 'merchant_ratings_count',\n",
       "       'mean_product_prices', 'mean_retail_prices',\n",
       "       'mean_product_ratings_count', 'total_urgency_count',\n",
       "       'urgency_text_rate', 'discount_percentage'],\n",
       "      dtype='object')"
      ]
     },
     "execution_count": 122,
     "metadata": {},
     "output_type": "execute_result"
    }
   ],
   "source": [
    "df.columns #lo comprobamos en la lista de columnas"
   ]
  },
  {
   "cell_type": "markdown",
   "metadata": {},
   "source": [
    "8. Evaluación de la valoración del vendedor. Utiliza `apply()` para crear una nueva columna 'seller_reputation' donde los valores sean \"Buena\" si 'merchant_rating' es mayor o igual a 4, y \"Regular\" si es menor a 4. Después elimina la columna `merchant_rating`. "
   ]
  },
  {
   "cell_type": "code",
   "execution_count": 123,
   "metadata": {},
   "outputs": [
    {
     "data": {
      "text/plain": [
       "dtype('float64')"
      ]
     },
     "execution_count": 123,
     "metadata": {},
     "output_type": "execute_result"
    }
   ],
   "source": [
    "df['merchant_rating'].dtype"
   ]
  },
  {
   "cell_type": "code",
   "execution_count": 125,
   "metadata": {},
   "outputs": [],
   "source": [
    "#Creamos una funcion segun las especificaciones del ejercicio:\n",
    "df[\"seller_reputation\"] = df[\"merchant_rating\"].apply(lambda x: \"Buena\" if x >= 4 else \"Regular\" ) #! Cada x representa la fila del dataframe\n"
   ]
  },
  {
   "cell_type": "code",
   "execution_count": 126,
   "metadata": {},
   "outputs": [
    {
     "data": {
      "text/plain": [
       "0         Buena\n",
       "1       Regular\n",
       "2       Regular\n",
       "3         Buena\n",
       "4         Buena\n",
       "         ...   \n",
       "1568      Buena\n",
       "1569    Regular\n",
       "1570    Regular\n",
       "1571    Regular\n",
       "1572      Buena\n",
       "Name: seller_reputation, Length: 1573, dtype: object"
      ]
     },
     "execution_count": 126,
     "metadata": {},
     "output_type": "execute_result"
    }
   ],
   "source": [
    "#comprobamos:\n",
    "df[\"seller_reputation\"]"
   ]
  },
  {
   "cell_type": "code",
   "execution_count": 127,
   "metadata": {},
   "outputs": [],
   "source": [
    "#borramos la columna redundante:merchant_rating'\n",
    "df.drop('merchant_rating', axis = 1, inplace = True)"
   ]
  },
  {
   "cell_type": "markdown",
   "metadata": {},
   "source": [
    "9. Guarda los resultados en un DataFrame para usarlo en la próxima lección. "
   ]
  },
  {
   "cell_type": "code",
   "execution_count": 128,
   "metadata": {},
   "outputs": [],
   "source": [
    "df.to_csv('rating_perform_clean.csv')"
   ]
  }
 ],
 "metadata": {
  "kernelspec": {
   "display_name": "base",
   "language": "python",
   "name": "python3"
  },
  "language_info": {
   "codemirror_mode": {
    "name": "ipython",
    "version": 3
   },
   "file_extension": ".py",
   "mimetype": "text/x-python",
   "name": "python",
   "nbconvert_exporter": "python",
   "pygments_lexer": "ipython3",
   "version": "3.11.7"
  }
 },
 "nbformat": 4,
 "nbformat_minor": 2
}
