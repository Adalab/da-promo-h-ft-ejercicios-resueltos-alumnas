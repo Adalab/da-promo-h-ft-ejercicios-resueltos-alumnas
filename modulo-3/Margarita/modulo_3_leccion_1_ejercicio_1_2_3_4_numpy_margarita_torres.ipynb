{
 "cells": [
  {
   "cell_type": "code",
   "execution_count": 7,
   "metadata": {},
   "outputs": [
    {
     "name": "stdout",
     "output_type": "stream",
     "text": [
      "Requirement already satisfied: numpy in c:\\users\\marg_\\anaconda3\\lib\\site-packages (1.26.4)\n"
     ]
    }
   ],
   "source": [
    "!pip install numpy"
   ]
  },
  {
   "cell_type": "code",
   "execution_count": 8,
   "metadata": {},
   "outputs": [],
   "source": [
    "import numpy as np"
   ]
  },
  {
   "cell_type": "markdown",
   "metadata": {},
   "source": [
    "# Ejercicios arrays\n",
    "\n",
    "1.  Genera un *array* bidimensional de 4 x 3 con valores aleatorios enteros entre el 34 y el 98. Una vez creado cada array comprueba las dimensiones y los tipos de datos que tenemos en el array. \n",
    "\n",
    "2. Crea dos *arrays* (unidimensional, bidimensional) usando el método `np.array()`. \n",
    "\n",
    "    Las listas para crear los *arrays* son las siguientes\n",
    "\n",
    "    ```python\n",
    "    lista1 = [34,56,71,98, 10]\n",
    "    lista2 = [[23,45,89, 56], [12,43,82,44]]\n",
    "    ```\n",
    "\n",
    "    **Bonus** Haz una pequeña descripción de cada *array* usando los métodos de exploración de *arrays* que hemos aprendido."
   ]
  },
  {
   "cell_type": "code",
   "execution_count": 9,
   "metadata": {},
   "outputs": [
    {
     "name": "stdout",
     "output_type": "stream",
     "text": [
      "la matriz obtenida es\n",
      "\n",
      " [[53 78 48]\n",
      " [69 71 35]\n",
      " [59 36 48]\n",
      " [91 63 83]]\n",
      "\n",
      "Las dimensiones de la array creado es 2\n",
      "\n",
      "El tipo de de datotos dentro de la array es int32\n"
     ]
    }
   ],
   "source": [
    "# 1.  Genera un *array* bidimensional de 4 x 3 con valores aleatorios enteros entre el 34 y el 98. \n",
    "# Una vez creado cada array comprueba las dimensiones y los tipos de datos que tenemos en el array. \n",
    "\n",
    "array_randint= np.random.randint(34,98,(4,3),int)\n",
    "print(f'la matriz obtenida es\\n\\n {array_randint}\\n')\n",
    "print(f'Las dimensiones de la array creado es {array_randint.ndim}\\n')\n",
    "print(f'El tipo de de datotos dentro de la array es {array_randint.dtype}')\n",
    "\n",
    "\n"
   ]
  },
  {
   "cell_type": "code",
   "execution_count": 10,
   "metadata": {},
   "outputs": [],
   "source": [
    "#2. Crea dos *arrays* (unidimensional, bidimensional) usando el método `np.array()`.\n",
    "#**Bonus** Haz una pequeña descripción de cada *array* usando los métodos de exploración de *arrays* que hemos aprendido.\n",
    "\n",
    "lista1 = [34,56,71,98, 10]\n",
    "lista2 = [[23,45,89, 56], [12,43,82,44]]"
   ]
  },
  {
   "cell_type": "code",
   "execution_count": 11,
   "metadata": {},
   "outputs": [
    {
     "name": "stdout",
     "output_type": "stream",
     "text": [
      "Array unidimensional\n",
      "[34 56 71 98 10]\n",
      "\n",
      "DATOS ARRAY:\n",
      "\n",
      "forma: (5,)\n",
      "dimensiones: 1\n",
      "numero de elementos 5\n",
      "tipo de elementos: int32\n"
     ]
    }
   ],
   "source": [
    "a1=np.array(lista1)\n",
    "print(f'Array unidimensional\\n{a1}\\n')\n",
    "\n",
    "print('DATOS ARRAY:\\n')\n",
    "\n",
    "print(f'forma: {a1.shape}')\n",
    "print(f'dimensiones: {a1.ndim}')\n",
    "print(f'numero de elementos {a1.size}')\n",
    "print(f'tipo de elementos: {a1.dtype}')"
   ]
  },
  {
   "cell_type": "code",
   "execution_count": 12,
   "metadata": {},
   "outputs": [
    {
     "name": "stdout",
     "output_type": "stream",
     "text": [
      "array bidimensional:\n",
      "[[23 45 89 56]\n",
      " [12 43 82 44]]\n",
      "\n",
      "DATOS ARRAY:\n",
      "\n",
      "forma: (2, 4)\n",
      "dimensiones: 2\n",
      "numero de elementos: 8\n",
      "tipo de elementos: int32\n"
     ]
    }
   ],
   "source": [
    "a2=np.array(lista2)\n",
    "print(f'array bidimensional:\\n{a2}\\n')\n",
    "\n",
    "print('DATOS ARRAY:\\n')\n",
    "\n",
    "print(f'forma: {a2.shape}')\n",
    "print(f'dimensiones: {a2.ndim}')\n",
    "print(f'numero de elementos: {a2.size}')\n",
    "print(f'tipo de elementos: {a2.dtype}')"
   ]
  },
  {
   "cell_type": "markdown",
   "metadata": {},
   "source": [
    "# Ejercicios indexación\n",
    "\n",
    "\n",
    "1. Crea un *array* unidimensional con 50 elementos con el método que prefieras y extrae: \n",
    "\n",
    "    - El primer elemento.\n",
    "\n",
    "\n",
    "    - Lo elementos que están en posición impar.\n",
    "\n",
    "\n",
    "    - Los cuatro primeros elementos.\n",
    "\n",
    "\n",
    "    - Los últimos tres elementos.\n",
    "\n",
    "\n",
    "    - Los elementos entre el 4 y el 8 (incluido). \n",
    "\n",
    "2. Crea un *array* de dos dimensiones de 4 x 5 con el método que prefieras y extrae:\n",
    "\n",
    "    - La primera fila y todas las columnas.\n",
    "\n",
    "\n",
    "    - Todas las filas pares.\n",
    "\n",
    "\n",
    "    - La primera columna y todas las filas."
   ]
  },
  {
   "cell_type": "code",
   "execution_count": 13,
   "metadata": {},
   "outputs": [
    {
     "name": "stdout",
     "output_type": "stream",
     "text": [
      "El array que usaremos es\n",
      " [ 0  1  2  3  4  5  6  7  8  9 10 11 12 13 14 15 16 17 18 19 20 21 22 23\n",
      " 24 25 26 27 28 29 30 31 32 33 34 35 36 37 38 39 40 41 42 43 44 45 46 47\n",
      " 48 49]\n"
     ]
    }
   ],
   "source": [
    "#1. Crea un *array* unidimensional con 50 elementos con el método que prefieras y extrae: \n",
    "a3=np.arange(50)\n",
    "print('El array que usaremos es\\n', a3)"
   ]
  },
  {
   "cell_type": "code",
   "execution_count": 14,
   "metadata": {},
   "outputs": [
    {
     "name": "stdout",
     "output_type": "stream",
     "text": [
      "primer elemenot es:\n"
     ]
    },
    {
     "data": {
      "text/plain": [
       "0"
      ]
     },
     "execution_count": 14,
     "metadata": {},
     "output_type": "execute_result"
    }
   ],
   "source": [
    "#- El primer elemento.\n",
    "print('primer elemenot es:')\n",
    "a3[0]\n",
    "\n"
   ]
  },
  {
   "cell_type": "code",
   "execution_count": 15,
   "metadata": {},
   "outputs": [
    {
     "name": "stdout",
     "output_type": "stream",
     "text": [
      "Elementos en la s posiciones impares:\n"
     ]
    },
    {
     "data": {
      "text/plain": [
       "array([ 0,  1,  2,  3,  4,  5,  6,  7,  8,  9, 10, 11, 12, 13, 14, 15, 16,\n",
       "       17, 18, 19, 20, 21, 22, 23, 24, 25, 26, 27, 28, 29, 30, 31, 32, 33,\n",
       "       34, 35, 36, 37, 38, 39, 40, 41, 42, 43, 44, 45, 46, 47, 48, 49])"
      ]
     },
     "execution_count": 15,
     "metadata": {},
     "output_type": "execute_result"
    }
   ],
   "source": [
    "#- Lo elementos que están en posición impar.\n",
    "print('Elementos en la s posiciones impares:')\n",
    "a3[::1]"
   ]
  },
  {
   "cell_type": "code",
   "execution_count": 16,
   "metadata": {},
   "outputs": [
    {
     "name": "stdout",
     "output_type": "stream",
     "text": [
      "Los prijmeros 4 elementos son:\n"
     ]
    },
    {
     "data": {
      "text/plain": [
       "array([0, 1, 2, 3, 4])"
      ]
     },
     "execution_count": 16,
     "metadata": {},
     "output_type": "execute_result"
    }
   ],
   "source": [
    "#- Los cuatro primeros elementos.\n",
    "print('Los prijmeros 4 elementos son:')\n",
    "a3[:5]"
   ]
  },
  {
   "cell_type": "code",
   "execution_count": 17,
   "metadata": {},
   "outputs": [
    {
     "name": "stdout",
     "output_type": "stream",
     "text": [
      "Los 3 ultimos elementos son:\n"
     ]
    },
    {
     "data": {
      "text/plain": [
       "array([47, 48, 49])"
      ]
     },
     "execution_count": 17,
     "metadata": {},
     "output_type": "execute_result"
    }
   ],
   "source": [
    "#Los últimos tres elementos.\n",
    "print('Los 3 ultimos elementos son:')\n",
    "a3[-3:]"
   ]
  },
  {
   "cell_type": "code",
   "execution_count": 18,
   "metadata": {},
   "outputs": [
    {
     "name": "stdout",
     "output_type": "stream",
     "text": [
      "Los elementos entre el 4-8 incluido:\n"
     ]
    },
    {
     "data": {
      "text/plain": [
       "array([3, 4, 5, 6, 7])"
      ]
     },
     "execution_count": 18,
     "metadata": {},
     "output_type": "execute_result"
    }
   ],
   "source": [
    "#Los elementos entre el 4 y el 8 (incluido). \n",
    "print('Los elementos entre el 4-8 incluido:')\n",
    "a3[3:8]"
   ]
  },
  {
   "cell_type": "code",
   "execution_count": 19,
   "metadata": {},
   "outputs": [
    {
     "name": "stdout",
     "output_type": "stream",
     "text": [
      "El array que usaremos es\n",
      " [[24 14  0 45 20]\n",
      " [42 32 44 15 38]\n",
      " [ 7 22 30 35 19]\n",
      " [49 36 48 23  6]]\n"
     ]
    }
   ],
   "source": [
    "#2. Crea un *array* de dos dimensiones de 4 x 5 con el método que prefieras y extrae:\n",
    "a4=np.random.randint(0,50,(4,5))#numpy.random.randint(low, high, size, dtype)\n",
    "print('El array que usaremos es\\n', a4)"
   ]
  },
  {
   "cell_type": "code",
   "execution_count": 20,
   "metadata": {},
   "outputs": [
    {
     "name": "stdout",
     "output_type": "stream",
     "text": [
      "La primera fila y todas als columans son:\n"
     ]
    },
    {
     "data": {
      "text/plain": [
       "array([24, 14,  0, 45, 20])"
      ]
     },
     "execution_count": 20,
     "metadata": {},
     "output_type": "execute_result"
    }
   ],
   "source": [
    "# - La primera fila y todas las columnas.\n",
    "print('La primera fila y todas als columans son:')\n",
    "a4[0]\n"
   ]
  },
  {
   "cell_type": "code",
   "execution_count": 21,
   "metadata": {},
   "outputs": [
    {
     "name": "stdout",
     "output_type": "stream",
     "text": [
      "todas las filas pares\n"
     ]
    },
    {
     "data": {
      "text/plain": [
       "array([[42, 32, 44, 15, 38],\n",
       "       [49, 36, 48, 23,  6]])"
      ]
     },
     "execution_count": 21,
     "metadata": {},
     "output_type": "execute_result"
    }
   ],
   "source": [
    "#Todas las filas pares.\n",
    "print('todas las filas pares')\n",
    "a4[1::2]"
   ]
  },
  {
   "cell_type": "code",
   "execution_count": 22,
   "metadata": {},
   "outputs": [
    {
     "name": "stdout",
     "output_type": "stream",
     "text": [
      "La primera columna y todas las filas\n"
     ]
    },
    {
     "data": {
      "text/plain": [
       "array([24, 42,  7, 49])"
      ]
     },
     "execution_count": 22,
     "metadata": {},
     "output_type": "execute_result"
    }
   ],
   "source": [
    "\n",
    "#La primera columna y todas las filas.\n",
    "\n",
    "print('La primera columna y todas las filas')\n",
    "a4[:,0]"
   ]
  },
  {
   "cell_type": "markdown",
   "metadata": {},
   "source": [
    "# Ejercicios filtrados\n",
    "\n",
    "\n",
    "1. Crea un *array* bidimensional con 20 elementos aleatrorios entre 0 y 50 con el método que prefieras y: \n",
    "\n",
    "    - Crea una mascara o filtro donde los valores mayores a 30 y menores a 10 se reemplace por \"objetivo\" y el resto por \"no es mi objetivo\".\n",
    "\n",
    "\n",
    "    - Los valores de mi array bidimensional multiplicalos por el escalar 10.\n",
    "\n",
    "\n",
    "2. Crea un nuevo *array* de dos dimensiones con la misma forma que el anterior y con el método que prefieras y realiz lo siguiente:\n",
    "\n",
    "    - Suma el primer array con el segundo.\n",
    "\n",
    "\n",
    "    - Aplicar la potencia para el primer array elevado al segundo."
   ]
  },
  {
   "cell_type": "code",
   "execution_count": 23,
   "metadata": {},
   "outputs": [
    {
     "name": "stdout",
     "output_type": "stream",
     "text": [
      "Creamos un array bidimensional con 20 elementos comprendidos entre 0 y 50\n"
     ]
    },
    {
     "data": {
      "text/plain": [
       "array([[41, 36, 28, 33, 49],\n",
       "       [24, 45, 46, 37, 41],\n",
       "       [23, 19,  5,  4, 27],\n",
       "       [ 2,  9, 12, 39, 13],\n",
       "       [32, 20,  0, 48, 24]])"
      ]
     },
     "execution_count": 23,
     "metadata": {},
     "output_type": "execute_result"
    }
   ],
   "source": [
    "#1. Crea un *array* bidimensional con 20 elementos aleatrorios entre 0 y 50 con el método que prefieras y: \n",
    "print('Creamos un array bidimensional con 20 elementos comprendidos entre 0 y 50')\n",
    "a5=np.random.randint(0,50,(5,5)) #Como vamos a operar, no especificamos el tipo de valor ya que queremos por defecto sea float\n",
    "a5"
   ]
  },
  {
   "cell_type": "code",
   "execution_count": 24,
   "metadata": {},
   "outputs": [
    {
     "name": "stdout",
     "output_type": "stream",
     "text": [
      "El resultado al aplicar la mascara es:\n",
      " [['O' 'O' 'NO' 'O' 'O']\n",
      " ['NO' 'O' 'O' 'O' 'O']\n",
      " ['NO' 'NO' 'O' 'O' 'NO']\n",
      " ['O' 'O' 'NO' 'O' 'NO']\n",
      " ['O' 'NO' 'O' 'O' 'NO']]\n"
     ]
    }
   ],
   "source": [
    "#- Crea una mascara o filtro donde los valores mayores a 30 y menores a 10 se reemplace por \"objetivo\" (O)\n",
    "#y el resto por \"no es mi objetivo\"(NO).\n",
    "condicion1=(10<a5)\n",
    "condicion2=(a5<30)\n",
    "resultado1=np.where((condicion1 & condicion2),'NO','O')\n",
    "print('El resultado al aplicar la mascara es:\\n',resultado1)"
   ]
  },
  {
   "cell_type": "code",
   "execution_count": 25,
   "metadata": {},
   "outputs": [
    {
     "name": "stdout",
     "output_type": "stream",
     "text": [
      "El resultado de multiplicar a5 por 10, es:\n",
      " [[410 360 280 330 490]\n",
      " [240 450 460 370 410]\n",
      " [230 190  50  40 270]\n",
      " [ 20  90 120 390 130]\n",
      " [320 200   0 480 240]]\n"
     ]
    }
   ],
   "source": [
    "# - Los valores de mi array bidimensional multiplicalos por el escalar 10.\n",
    "resultado2=a5*10\n",
    "print('El resultado de multiplicar a5 por 10, es:\\n', resultado2)\n"
   ]
  },
  {
   "cell_type": "code",
   "execution_count": 27,
   "metadata": {},
   "outputs": [
    {
     "name": "stdout",
     "output_type": "stream",
     "text": [
      "Creamos un array bidimensional con 20 elementos comprendidos entre 0 y 50\n"
     ]
    },
    {
     "data": {
      "text/plain": [
       "array([[12, 10, 17, 49, 38],\n",
       "       [18,  2,  6, 20,  3],\n",
       "       [44, 21, 25, 39, 17],\n",
       "       [32, 49, 14, 40, 44],\n",
       "       [ 7,  3,  5, 26, 21]])"
      ]
     },
     "execution_count": 27,
     "metadata": {},
     "output_type": "execute_result"
    }
   ],
   "source": [
    "#2. Crea un nuevo *array* de dos dimensiones con la misma forma que el anterior y con el método que prefieras y realiz lo siguiente:\n",
    "print('Creamos un array bidimensional con 20 elementos comprendidos entre 0 y 50')\n",
    "a6=np.random.randint(0,50,(5,5)) #Como vamos a operar, no especificamos el tipo de valor ya que queremos por defecto sea float\n",
    "a6"
   ]
  },
  {
   "cell_type": "code",
   "execution_count": 28,
   "metadata": {},
   "outputs": [
    {
     "name": "stdout",
     "output_type": "stream",
     "text": [
      "El primer array es:\n",
      "[[41 36 28 33 49]\n",
      " [24 45 46 37 41]\n",
      " [23 19  5  4 27]\n",
      " [ 2  9 12 39 13]\n",
      " [32 20  0 48 24]]\n",
      "\n",
      "\n",
      "El resultado de sumar las arrays anteriores, a5,a6:\n",
      " [[53 46 45 82 87]\n",
      " [42 47 52 57 44]\n",
      " [67 40 30 43 44]\n",
      " [34 58 26 79 57]\n",
      " [39 23  5 74 45]]\n"
     ]
    }
   ],
   "source": [
    "#- Suma el primer array con el segundo.\n",
    "print(f'El primer array es:\\n{a5}\\n')\n",
    "resultado3=np.add(a5,a6)\n",
    "print('\\nEl resultado de sumar las arrays anteriores, a5,a6:\\n', resultado3)"
   ]
  },
  {
   "cell_type": "code",
   "execution_count": 29,
   "metadata": {},
   "outputs": [
    {
     "name": "stdout",
     "output_type": "stream",
     "text": [
      "\n",
      "El resultado de sumar las arrays anteriores, a5,a6:\n",
      " [[-1236507039 -1190133760           0  1716413985  1079737889]\n",
      " [          0        2025   884362304   -84138319       68921]\n",
      " [ 1212290145   972113667   167814181           0  1910090587]\n",
      " [          0 -1999808631 -1879048192  1635284161  1856643633]\n",
      " [          0        8000           0           0           0]]\n"
     ]
    }
   ],
   "source": [
    "#- Aplicar la potencia para el primer array elevado al segundo.\n",
    "resultado4=np.power(a5,a6)\n",
    "print('\\nEl resultado de sumar las arrays anteriores, a5,a6:\\n', resultado4)"
   ]
  },
  {
   "cell_type": "code",
   "execution_count": null,
   "metadata": {},
   "outputs": [],
   "source": [
    "#np.power lee las ptencias de 10, como si fueran string. Esto se soluciona creando valores float aleatorios. \n",
    "#Each numpy data type in has a minimum and maximum value based on the number of bits. \n",
    "#From your output, it looks like your array has dtype np.int64. You can check out those min/max values using np.iinfo()"
   ]
  },
  {
   "cell_type": "markdown",
   "metadata": {},
   "source": [
    "# Ejercicios funciones\n",
    "\n",
    "\n",
    "1. En este ejercicio vamos a tratar de usar algunos de los métodos aprendidos. \n",
    "\n",
    "    - Crea un *array*, puede ser bidimensional! Eso si, los valores tienen que estar entre 0-100\n",
    "\n",
    "    - Calcula: \n",
    "\n",
    "        - La media de los elementos\n",
    "        - La media de las columnas y redondéalo a dos decimales\n",
    "        - El valor máximo de cada fila\n",
    "        - El valor mínimo de cada fila\n",
    "        - Hay algun valor que sea mayor que 90 en tu *array* \n",
    "        - Donde los podemos encontrar, cuáles son sus índices\n",
    "        - Ordena el *array* de mayor a menor\n",
    "\n",
    "    📝 **NOTA** En este ejercicio os hemos pedido algunos de los métodos, pero sentiros libres de practicar otros para ir asentando los conocimientos. "
   ]
  },
  {
   "cell_type": "code",
   "execution_count": 31,
   "metadata": {},
   "outputs": [
    {
     "name": "stdout",
     "output_type": "stream",
     "text": [
      "Creamos una array con datos entre 0 y 100:\n"
     ]
    },
    {
     "data": {
      "text/plain": [
       "array([[40, 99, 53],\n",
       "       [32, 58, 15],\n",
       "       [ 2, 58, 51],\n",
       "       [50, 36, 83]])"
      ]
     },
     "execution_count": 31,
     "metadata": {},
     "output_type": "execute_result"
    }
   ],
   "source": [
    "print('Creamos una array con datos entre 0 y 100:')\n",
    "a7=np.random.randint(0,100,(4,3))\n",
    "a7"
   ]
  },
  {
   "cell_type": "code",
   "execution_count": 34,
   "metadata": {},
   "outputs": [
    {
     "name": "stdout",
     "output_type": "stream",
     "text": [
      "La media de los valores es: 48.08\n"
     ]
    }
   ],
   "source": [
    "media=np.mean(a7)\n",
    "print('La media de los valores es:', round(media,2))"
   ]
  },
  {
   "cell_type": "code",
   "execution_count": 39,
   "metadata": {},
   "outputs": [
    {
     "name": "stdout",
     "output_type": "stream",
     "text": [
      "La media de las columnas es: [64.   35.   37.   56.33]\n"
     ]
    }
   ],
   "source": [
    "\n",
    "media_columnas=np.mean(a7,axis=1)\n",
    "print('La media de las columnas es:',np.round(media_columnas,2))"
   ]
  },
  {
   "cell_type": "code",
   "execution_count": 40,
   "metadata": {},
   "outputs": [
    {
     "name": "stdout",
     "output_type": "stream",
     "text": [
      "El valor maximo del array es: 99\n",
      "El valor maximo del array es: 2\n"
     ]
    }
   ],
   "source": [
    "maxim=np.max(a7)\n",
    "print('El valor maximo del array es:',maxim)\n",
    "minim=np.min(a7)\n",
    "print('El valor maximo del array es:',minim)"
   ]
  },
  {
   "cell_type": "code",
   "execution_count": 49,
   "metadata": {},
   "outputs": [
    {
     "name": "stdout",
     "output_type": "stream",
     "text": [
      "Hay algun valor que sea mayor que 90 en tu *array*:\n",
      "\n",
      "Los resultados mayores de 90 son: [99]\n",
      "Los podemos encontrar en los siguinetes indices (array([0], dtype=int64), array([1], dtype=int64))\n"
     ]
    }
   ],
   "source": [
    "print('Hay algun valor que sea mayor que 90 en tu *array*:\\n')\n",
    "resultado=a7[a7>90]\n",
    "if list(resultado) ==[]:\n",
    "    print('No hay ningun valor mayor que 90')\n",
    "else:\n",
    "    print('Los resultados mayores de 90 son:', list(resultado))\n",
    "    indices=np.where(a7>90)\n",
    "    print('Los podemos encontrar en los siguinetes indices', indices)\n",
    "\n"
   ]
  },
  {
   "cell_type": "code",
   "execution_count": 55,
   "metadata": {},
   "outputs": [
    {
     "name": "stdout",
     "output_type": "stream",
     "text": [
      "El array unidimensional es:\n",
      "[40 99 53 32 58 15  2 58 51 50 36 83]\n",
      "\n",
      "El array unidimensional ordenado de manor a mayor es:\n",
      "[99 83 58 58 53 51 50 40 36 32 15  2]\n",
      "\n",
      "El array de mayor a menor es:\n",
      " [[99 83 58]\n",
      " [58 53 51]\n",
      " [50 40 36]\n",
      " [32 15  2]]\n"
     ]
    }
   ],
   "source": [
    "#Para ordenarlo de mayor a menor, todo el array:\n",
    "#Lo pasamos a una dimension:\n",
    "a7_unidimensional=a7.flatten()\n",
    "print(f'El array unidimensional es:\\n{a7_unidimensional}\\n')\n",
    "\n",
    "#Lo ordenamos de mayor a menor:\n",
    "mayor_menor=-np.sort(-a7_unidimensional)\n",
    "print(f'El array unidimensional ordenado de manor a mayor es:\\n{mayor_menor}\\n')\n",
    "\n",
    "#Lo de devolvemos a su estructura anterior:\n",
    "a7_ordenado=np.reshape(mayor_menor,(4,3))\n",
    "print(f'El array de mayor a menor es:\\n',a7_ordenado)"
   ]
  }
 ],
 "metadata": {
  "kernelspec": {
   "display_name": "base",
   "language": "python",
   "name": "python3"
  },
  "language_info": {
   "codemirror_mode": {
    "name": "ipython",
    "version": 3
   },
   "file_extension": ".py",
   "mimetype": "text/x-python",
   "name": "python",
   "nbconvert_exporter": "python",
   "pygments_lexer": "ipython3",
   "version": "3.11.7"
  }
 },
 "nbformat": 4,
 "nbformat_minor": 2
}
