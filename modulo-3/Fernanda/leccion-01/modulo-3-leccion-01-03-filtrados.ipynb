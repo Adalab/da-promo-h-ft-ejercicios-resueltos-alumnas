{
 "cells": [
  {
   "cell_type": "code",
   "execution_count": 1,
   "metadata": {},
   "outputs": [],
   "source": [
    "# antes de empezar importamos la librería de NumPy para poder trabajar con todos sus métodos. \n",
    "import numpy as np"
   ]
  },
  {
   "cell_type": "code",
   "execution_count": 2,
   "metadata": {},
   "outputs": [
    {
     "name": "stdout",
     "output_type": "stream",
     "text": [
      "El array bidimensional que tenemos es: \n",
      " [[0.41584614 0.82312683 0.19433902 0.81775218]\n",
      " [0.76281141 0.86328659 0.94662046 0.87703294]\n",
      " [0.02764513 0.03467823 0.14428307 0.98926624]\n",
      " [0.51561502 0.17237538 0.59164942 0.77651838]\n",
      " [0.76409676 0.31078056 0.00390948 0.17254908]]\n",
      "\n",
      "El primer elemento de nuestro array es: \n",
      " [0.41584614 0.82312683 0.19433902 0.81775218]\n"
     ]
    }
   ],
   "source": [
    "# definimos un array bidimensional\n",
    "# en este caso estamos generando un array de 5 filas y 4 columnas con números aleatorios entre el 0 y el 1\n",
    "\n",
    "bidimensional = np.random.rand(5, 4)\n",
    "print(f\"El array bidimensional que tenemos es: \\n {bidimensional}\")\n",
    "\n",
    "# desgranemos la indexación en este tipo de arrays\n",
    "# si accedemos al elemento 0 del array obtenemos a la fila que queramos de nuestro array\n",
    "\n",
    "print(f\"\\nEl primer elemento de nuestro array es: \\n {bidimensional[0]}\")"
   ]
  },
  {
   "cell_type": "code",
   "execution_count": 3,
   "metadata": {},
   "outputs": [
    {
     "name": "stdout",
     "output_type": "stream",
     "text": [
      "El array bidimensional con el que vamos a trabajar es: \n",
      " [[0.41584614 0.82312683 0.19433902 0.81775218]\n",
      " [0.76281141 0.86328659 0.94662046 0.87703294]\n",
      " [0.02764513 0.03467823 0.14428307 0.98926624]\n",
      " [0.51561502 0.17237538 0.59164942 0.77651838]\n",
      " [0.76409676 0.31078056 0.00390948 0.17254908]]\n",
      "-----------------------------\n",
      "Primer paso: creación de una máscara booleana \n",
      " [[False  True False  True]\n",
      " [ True  True  True  True]\n",
      " [False False False  True]\n",
      " [ True False  True  True]\n",
      " [ True False False False]]\n",
      "-----------------------------\n",
      "Segundo paso: aplicar la máscara booleana \n",
      " [0.82312683 0.81775218 0.76281141 0.86328659 0.94662046 0.87703294\n",
      " 0.98926624 0.51561502 0.59164942 0.77651838 0.76409676]\n"
     ]
    }
   ],
   "source": [
    "# en este caso reutilizaremos el array bidimensional que creamos en el apartado anterior\n",
    "print(f\"El array bidimensional con el que vamos a trabajar es: \\n {bidimensional}\")\n",
    "\n",
    "# creamos la máscara, en este caso nuestra condición será: ¿qué elementos son mayores que 0.5?\n",
    "print(\"-----------------------------\")\n",
    "print(f\"Primer paso: creación de una máscara booleana \\n {bidimensional > 0.5}\")\n",
    "\n",
    "# aplicamos la máscara creada en el paso anterior, en este caso, NumPy nos devolverá solo los elementos \n",
    "# que coinciden con la condicion\n",
    "print(\"-----------------------------\")\n",
    "print(f\"Segundo paso: aplicar la máscara booleana \\n {bidimensional[bidimensional > 0.5]}\")"
   ]
  },
  {
   "cell_type": "markdown",
   "metadata": {},
   "source": [
    "Imaginemos ahora que queremos seleccionar ciertos valores basados en dos condiciones. En este caso:\n",
    "\n",
    "- Usaremos el operador `&` para indicar que queremos que se cumplan las dos condiciones. Lo que conocíamos hasta ahora como `and`.\n",
    "\n",
    "\n",
    "- Usaremos el operador `|` para indicar que se cumpla una condición y otra. Lo que conocíamos hasta ahora como `or`. "
   ]
  },
  {
   "cell_type": "code",
   "execution_count": 7,
   "metadata": {},
   "outputs": [
    {
     "name": "stdout",
     "output_type": "stream",
     "text": [
      "El array bidimensional con el que vamos a trabajar es: \n",
      " [[0.41584614 0.82312683 0.19433902 0.81775218]\n",
      " [0.76281141 0.86328659 0.94662046 0.87703294]\n",
      " [0.02764513 0.03467823 0.14428307 0.98926624]\n",
      " [0.51561502 0.17237538 0.59164942 0.77651838]\n",
      " [0.76409676 0.31078056 0.00390948 0.17254908]]\n",
      "-----------------------------\n",
      "El resultado del filtrado < 0.2 o > 0.7 es: \n",
      " [0.82312683 0.19433902 0.81775218 0.76281141 0.86328659 0.94662046\n",
      " 0.87703294 0.02764513 0.03467823 0.14428307 0.98926624 0.17237538\n",
      " 0.77651838 0.76409676 0.00390948 0.17254908]\n"
     ]
    }
   ],
   "source": [
    "# en este caso reutilizaremos el array bidimensional que creamos en el apartado anterior\n",
    "print(f\"El array bidimensional con el que vamos a trabajar es: \\n {bidimensional}\")\n",
    "\n",
    "\n",
    "# queremos seleccionar aquellos números que sean MENORES que 0.2 \n",
    "# o MAYORES que 0.7. FIJATE QUE CADA CONDICIÓN VA ENTRE PARÉNTESIS SEPARADA POR EL OPERADOR \"|\"\n",
    "print(\"-----------------------------\")\n",
    "resultado_filtradoI = bidimensional[(bidimensional < 0.2) |  (bidimensional >0.7)]\n",
    "print(f\"El resultado del filtrado < 0.2 o > 0.7 es: \\n {resultado_filtradoI}\")"
   ]
  },
  {
   "cell_type": "markdown",
   "metadata": {},
   "source": [
    "## Filtrado con `np.where()`\n",
    "\n",
    "Permite realizar una evaluación condicional sobre un *array*. La función `np.where()` devuelve un nuevo array con los elementos seleccionados según la condición especificada.\n",
    "\n",
    "Su sintaxis básica es:\n",
    "```python\n",
    "np.where(condición, valor_si_verdadero, valor_si_falso)\n",
    "```\n",
    "\n",
    "Donde:\n",
    "\n",
    "- **condición**: Es una expresión booleana que define la condición a evaluar. \n",
    "\n",
    "- **valor_si_verdadero** (opcional):  Es el valor o array que se selecciona si la condición es verdadera.\n",
    "\n",
    "- **valor_si_falso** (opcional): Es el valor o array que se selecciona si la condición es falsa."
   ]
  },
  {
   "cell_type": "code",
   "execution_count": 10,
   "metadata": {},
   "outputs": [
    {
     "name": "stdout",
     "output_type": "stream",
     "text": [
      "El array con el que vamos a trabajar en este apartado de la lección es: \n",
      " [[0.41584614 0.82312683 0.19433902 0.81775218]\n",
      " [0.76281141 0.86328659 0.94662046 0.87703294]\n",
      " [0.02764513 0.03467823 0.14428307 0.98926624]\n",
      " [0.51561502 0.17237538 0.59164942 0.77651838]\n",
      " [0.76409676 0.31078056 0.00390948 0.17254908]]\n",
      "--------------------------\n",
      "El resultado del np.where() es: \n",
      " (array([0, 0, 1, 1, 1, 2], dtype=int64), array([1, 3, 1, 2, 3, 3], dtype=int64))\n"
     ]
    }
   ],
   "source": [
    "print(f\"El array con el que vamos a trabajar en este apartado de la lección es: \\n {bidimensional}\")\n",
    "\n",
    "# usamos el método 'np.where()' para evaluar una condición, en este caso para encontrar los valores mayores que 0.8\n",
    "resultado_where = np.where(bidimensional > 0.8)\n",
    "print(\"--------------------------\")\n",
    "print(\"El resultado del np.where() es: \\n\", resultado_where)\n",
    "\n"
   ]
  },
  {
   "cell_type": "markdown",
   "metadata": {},
   "source": [
    "Seguramente hayan notado que la salida del resulado, pasemos a explicarlo un poco!\n",
    "\n",
    "tengamos en cuenta nuestro siguiente array y el resultado de nuestro where:\n",
    "\n",
    "```python\n",
    "[[0.41584614 0.82312683 0.19433902 0.81775218]\n",
    " [0.76281141 0.86328659 0.94662046 0.87703294]\n",
    " [0.02764513 0.03467823 0.14428307 0.98926624]\n",
    " [0.51561502 0.17237538 0.59164942 0.77651838]\n",
    " [0.76409676 0.31078056 0.00390948 0.17254908]]\n",
    "\n",
    " El resultado del np.where() es: \n",
    " (array([0, 0, 1, 1, 1, 2], dtype=int64), array([1, 3, 1, 2, 3, 3], dtype=int64))\n",
    "```\n",
    "\n",
    "nuestro where ha encontrado las posiciones de los elementos en array que son mayores que 0.8. El resultado es una tupla de dos arrays:\n",
    "\n",
    "*   El primer array contiene los índices de las filas.\n",
    "*   El segundo array contiene los índices de las columnas.\n",
    "\n",
    "\n",
    "El detalle es el siguiente:\n",
    "\n",
    "*   array([0, 0, 1, 1, 1, 2], dtype=int64) representa las filas.\n",
    "*   array([1, 3, 1, 2, 3], dtype=int64) representa las columnas.\n",
    "\n",
    "Al combinar cada fila y columna con su posicion, nos da una ubicacion de los elementos que cumplen mi condicion. por ejemplo el primer valor del array de filas es 0 y el primer valor de array de columnas es 1, por lo tanto el elemento que cumple la condicion esta en [0,1]\n",
    "\n",
    "Vamos a verificar los valores en esas posiciones para confirmar que son mayores que 0.8:\n",
    "\n",
    "*   array[0, 1] -> 0.82312683\n",
    "*   array[0, 3] -> 0.81775218\n",
    "*   array[1, 1] -> 0.86328659\n",
    "*   array[1, 2] -> 0.94662046\n",
    "*   array[1, 3] -> 0.87703294\n",
    "*   array[2, 3] -> 0.98926624\n",
    "\n",
    "\n",
    "Efectivamente, todos estos valores son mayores que 0.8!"
   ]
  },
  {
   "cell_type": "markdown",
   "metadata": {},
   "source": [
    "Ok, dijimos anteriormente que nosotros utilizando where, podriamos asignar valores segun se cumpla o no una condicion, para este caso asignaremos xxx cuando se cumpla la condicion (es decir, la condicion sea verdadera) y asignaremos ooo cuando no lo sea."
   ]
  },
  {
   "cell_type": "code",
   "execution_count": 9,
   "metadata": {},
   "outputs": [
    {
     "name": "stdout",
     "output_type": "stream",
     "text": [
      "El array con el que vamos a trabajar en este apartado de la lección es: \n",
      " [[0.41584614 0.82312683 0.19433902 0.81775218]\n",
      " [0.76281141 0.86328659 0.94662046 0.87703294]\n",
      " [0.02764513 0.03467823 0.14428307 0.98926624]\n",
      " [0.51561502 0.17237538 0.59164942 0.77651838]\n",
      " [0.76409676 0.31078056 0.00390948 0.17254908]]\n",
      "--------------------------\n",
      "El resultado del np.where() es: \n",
      " [['ooo' 'xxx' 'ooo' 'xxx']\n",
      " ['ooo' 'xxx' 'xxx' 'xxx']\n",
      " ['ooo' 'ooo' 'ooo' 'xxx']\n",
      " ['ooo' 'ooo' 'ooo' 'ooo']\n",
      " ['ooo' 'ooo' 'ooo' 'ooo']]\n"
     ]
    }
   ],
   "source": [
    "print(f\"El array con el que vamos a trabajar en este apartado de la lección es: \\n {bidimensional}\")\n",
    "\n",
    "# usamos el método 'np.where()' para evaluar una condición, en este caso para encontrar los valores mayores que 0.8\n",
    "resultado_where = np.where(bidimensional > 0.8,\"xxx\",\"ooo\")\n",
    "print(\"--------------------------\")\n",
    "print(\"El resultado del np.where() es: \\n\", resultado_where)"
   ]
  },
  {
   "cell_type": "markdown",
   "metadata": {},
   "source": [
    "NOTA IMPORTANTE! En la demostracion anterior asignamos un tipo de dato str a nuestros valores evaluados de la matriz, esto podria ser un problema si necesitamos que los valores siempre sean numericos."
   ]
  },
  {
   "cell_type": "markdown",
   "metadata": {},
   "source": [
    "# Operaciones aritméticas con *arrays* \n",
    "\n",
    "*NumPy* proporciona una amplia gama de funciones y operaciones para realizar cálculos aritméticos en *arrays* de manera eficiente.\n",
    "\n",
    "Algunas de las operaciones aritméticas comunes que puedes realizar con arrays de NumPy:\n",
    "\n",
    "1. Suma: Usaremos el método `np.add()`\n",
    "  \n",
    "2. Resta: En este caso`np.subtract()`\n",
    "\n",
    "3. Multiplicación: Usaremos `np.multiply()`\n",
    "\n",
    "4. División: Método `np.divide()`\n",
    "\n",
    "5. Potencia: Usaremos el método `np.power()`\n",
    "\n",
    "6. Operaciones con escalares\n",
    "\n",
    "Los operadores `+`, `-`, `*` y `/` también funcionan para realizar las operaciones correspondientes directamente entre *arrays* de *NumPy*. Sin embargo, aunque los podemos usar, los métodos aprendidos específicos de NumPy son los más adecuados."
   ]
  },
  {
   "cell_type": "code",
   "execution_count": 11,
   "metadata": {},
   "outputs": [
    {
     "name": "stdout",
     "output_type": "stream",
     "text": [
      "El array 1 es:\n",
      "  [[[4 2 8]\n",
      "  [9 7 3]]\n",
      "\n",
      " [[3 7 8]\n",
      "  [9 5 1]]] \n",
      "\n",
      "El array 2 es:\n",
      "  [[[3 5 8]\n",
      "  [2 1 2]]\n",
      "\n",
      " [[1 8 3]\n",
      "  [9 5 1]]]\n",
      "--------------------------------\n",
      "El resultado de la suma de los dos arrays es:\n",
      " [[[ 7  7 16]\n",
      "  [11  8  5]]\n",
      "\n",
      " [[ 4 15 11]\n",
      "  [18 10  2]]]\n"
     ]
    }
   ],
   "source": [
    "# lo primero que vamos a hacer es definir dos arrays con los que trabajaremos. \n",
    "# en este caso vamos a generar dos arrays tridimensionales con números enteros entre el 1 y 10\n",
    "# el array consta de 2 matrices, 2 filas y tres colummas \n",
    "array1 = np.random.randint(1,10, (2, 2, 3))\n",
    "array2 = np.random.randint(1,10, (2, 2, 3))\n",
    "\n",
    "print(\"El array 1 es:\\n \", array1, '\\n')\n",
    "print(\"El array 2 es:\\n \", array2)\n",
    "\n",
    "# sumar dos arrays\n",
    "print(\"--------------------------------\")\n",
    "suma = np.add(array1, array2)  # Suma los elementos correspondientes de los dos arrays\n",
    "print(\"El resultado de la suma de los dos arrays es:\\n\", suma)\n"
   ]
  },
  {
   "cell_type": "markdown",
   "metadata": {},
   "source": [
    "Como pueden ver, las operaciones se realizan por posicion, es decir, en este caso se suma la posicion [0][0][0] del primer array tridimensional con la posicion similar del segundo array tridimensional."
   ]
  },
  {
   "cell_type": "code",
   "execution_count": 12,
   "metadata": {},
   "outputs": [
    {
     "name": "stdout",
     "output_type": "stream",
     "text": [
      "El array 1 es:\n",
      "  [[[4 2 8]\n",
      "  [9 7 3]]\n",
      "\n",
      " [[3 7 8]\n",
      "  [9 5 1]]] \n",
      "\n",
      "El array 2 es:\n",
      "  [[[3 5 8]\n",
      "  [2 1 2]]\n",
      "\n",
      " [[1 8 3]\n",
      "  [9 5 1]]]\n",
      "--------------------------------\n",
      "El resultado de la resta de los dos arrays es:\n",
      " [[[ 1 -3  0]\n",
      "  [ 7  6  1]]\n",
      "\n",
      " [[ 2 -1  5]\n",
      "  [ 0  0  0]]]\n"
     ]
    }
   ],
   "source": [
    "# misma logica en el caso de la resta:\n",
    "print(\"El array 1 es:\\n \", array1, '\\n')\n",
    "print(\"El array 2 es:\\n \", array2)\n",
    "\n",
    "# restar dos arrays\n",
    "print(\"--------------------------------\")\n",
    "resta = np.subtract(array1, array2)  # Resta los elementos correspondientes de los dos arrays\n",
    "print(\"El resultado de la resta de los dos arrays es:\\n\", resta)"
   ]
  },
  {
   "cell_type": "code",
   "execution_count": 13,
   "metadata": {},
   "outputs": [
    {
     "name": "stdout",
     "output_type": "stream",
     "text": [
      "El array 1 es:\n",
      "  [[[4 2 8]\n",
      "  [9 7 3]]\n",
      "\n",
      " [[3 7 8]\n",
      "  [9 5 1]]] \n",
      "\n",
      "El array 2 es:\n",
      "  [[[3 5 8]\n",
      "  [2 1 2]]\n",
      "\n",
      " [[1 8 3]\n",
      "  [9 5 1]]]\n",
      "--------------------------------\n",
      "El resultado de la multiplicación de los dos arrays es:\n",
      " [[[12 10 64]\n",
      "  [18  7  6]]\n",
      "\n",
      " [[ 3 56 24]\n",
      "  [81 25  1]]]\n"
     ]
    }
   ],
   "source": [
    "# la multiplicacion mantiene la misma logica de operar por cada posicion entre los diferentes arrays.\n",
    "print(\"El array 1 es:\\n \", array1, '\\n')\n",
    "print(\"El array 2 es:\\n \", array2)\n",
    "\n",
    "# multiplicar dos arrays\n",
    "print(\"--------------------------------\")\n",
    "multipicacion = np.multiply(array1, array2)  # Multiplicacion los elementos correspondientes de los dos arrays\n",
    "print(\"El resultado de la multiplicación de los dos arrays es:\\n\", multipicacion)"
   ]
  },
  {
   "cell_type": "code",
   "execution_count": 15,
   "metadata": {},
   "outputs": [
    {
     "name": "stdout",
     "output_type": "stream",
     "text": [
      "El array 1 es:\n",
      "  [[[3 4 5]\n",
      "  [2 8 1]]\n",
      "\n",
      " [[6 2 1]\n",
      "  [7 8 3]]] \n",
      "\n",
      "El array 2 es:\n",
      "  [[[5 7 5]\n",
      "  [2 5 1]]\n",
      "\n",
      " [[3 9 7]\n",
      "  [6 6 3]]]\n",
      "--------------------------------\n",
      "El resultado de la división de los dos arrays es:\n",
      " [[[0.6        0.57142857 1.        ]\n",
      "  [1.         1.6        1.        ]]\n",
      "\n",
      " [[2.         0.22222222 0.14285714]\n",
      "  [1.16666667 1.33333333 1.        ]]]\n"
     ]
    }
   ],
   "source": [
    "# Para la division, seguimos con la logica de operar por cada posicion entre los arrays.\n",
    "print(\"El array 1 es:\\n \", array1, '\\n')\n",
    "print(\"El array 2 es:\\n \", array2)\n",
    "\n",
    "# dividir dos arrays\n",
    "print(\"--------------------------------\")\n",
    "division = np.divide(array1, array2)  # Division los elementos correspondientes de los dos arrays\n",
    "print(\"El resultado de la división de los dos arrays es:\\n\", division)"
   ]
  },
  {
   "cell_type": "code",
   "execution_count": 14,
   "metadata": {},
   "outputs": [
    {
     "name": "stdout",
     "output_type": "stream",
     "text": [
      "El array 1 es:\n",
      "  [[[4 2 8]\n",
      "  [9 7 3]]\n",
      "\n",
      " [[3 7 8]\n",
      "  [9 5 1]]] \n",
      "\n",
      "El array 2 es:\n",
      "  [[[3 5 8]\n",
      "  [2 1 2]]\n",
      "\n",
      " [[1 8 3]\n",
      "  [9 5 1]]]\n",
      "--------------------------------\n",
      "El resultado de la potencia de los dos arrays es:\n",
      " [[[       64        32  16777216]\n",
      "  [       81         7         9]]\n",
      "\n",
      " [[        3   5764801       512]\n",
      "  [387420489      3125         1]]]\n"
     ]
    }
   ],
   "source": [
    "#en este caso la potenciacion sigue las mismas reglas anteriores.\n",
    "print(\"El array 1 es:\\n \", array1, '\\n')\n",
    "print(\"El array 2 es:\\n \", array2)\n",
    "\n",
    "# elevar dos arrays\n",
    "print(\"--------------------------------\")\n",
    "elevado = np.power(array1, array2)  # Elevar los elementos correspondientes de los dos arrays\n",
    "print(\"El resultado de la potencia de los dos arrays es:\\n\", elevado)"
   ]
  },
  {
   "cell_type": "code",
   "execution_count": 19,
   "metadata": {},
   "outputs": [
    {
     "name": "stdout",
     "output_type": "stream",
     "text": [
      "El array 1 es:\n",
      "  [[[3 4 5]\n",
      "  [2 8 1]]\n",
      "\n",
      " [[6 2 1]\n",
      "  [7 8 3]]] \n",
      "\n",
      "--------------------------------\n",
      "El resultado de la multiplicación del array con el escalar es:\n",
      " [[[ 6  8 10]\n",
      "  [ 4 16  2]]\n",
      "\n",
      " [[12  4  2]\n",
      "  [14 16  6]]]\n"
     ]
    }
   ],
   "source": [
    "# operaciones con escalares\n",
    "# definimos un escalar\n",
    "escalar = 2\n",
    "# y seguimos con nuestro array de ejemplo\n",
    "print(\"El array 1 es:\\n \", array1, '\\n')\n",
    "\n",
    "print(\"--------------------------------\")\n",
    "\n",
    "multiplicacion_escalar = array1 * escalar\n",
    "print(\"El resultado de la multiplicación del array con el escalar es:\\n\", multiplicacion_escalar)\n",
    "\n",
    "# Aca lo que sucede es que ese escalar se multiplicara por cada posicion de mi array definido."
   ]
  },
  {
   "cell_type": "markdown",
   "metadata": {},
   "source": [
    "# Ejercicios\n",
    "\n",
    "\n",
    "1. Crea un *array* bidimensional con 20 elementos aleatrorios entre 0 y 50 con el método que prefieras y: \n",
    "\n",
    "    - Crea una mascara o filtro donde los valores mayores a 30 y menores a 10 se reemplace por \"objetivo\" y el resto por \"no es mi objetivo\".\n",
    "\n",
    "\n",
    "    - Los valores de mi array bidimensional multiplicalos por el escalar 10.\n",
    "\n",
    "\n",
    "2. Crea un nuevo *array* de dos dimensiones con la misma forma que el anterior y con el método que prefieras y realiz lo siguiente:\n",
    "\n",
    "    - Suma el primer array con el segundo.\n",
    "\n",
    "\n",
    "    - Aplicar la potencia para el primer array elevado al segundo.\n"
   ]
  },
  {
   "cell_type": "code",
   "execution_count": 6,
   "metadata": {},
   "outputs": [
    {
     "name": "stdout",
     "output_type": "stream",
     "text": [
      "Array bidimensional de 4x5 con elementos aleatorios entre 0 y 50:\n",
      " [[18 14 13 50 46]\n",
      " [17 50 16  7  3]\n",
      " [19 44 37 20 18]\n",
      " [42 36 44 46 48]]\n"
     ]
    }
   ],
   "source": [
    "# 1 Crea un *array* bidimensional con 20 elementos aleatrorios entre 0 y 50 con el método que prefieras\n",
    "\n",
    "array_bi = np.random.randint(0, 51, size=(4, 5))\n",
    "\n",
    "print(\"Array bidimensional de 4x5 con elementos aleatorios entre 0 y 50:\\n\", array_bi)\n",
    "\n"
   ]
  },
  {
   "cell_type": "code",
   "execution_count": 7,
   "metadata": {},
   "outputs": [
    {
     "name": "stdout",
     "output_type": "stream",
     "text": [
      "[['no es mi objetivo' 'no es mi objetivo' 'no es mi objetivo' 'objetivo'\n",
      "  'objetivo']\n",
      " ['no es mi objetivo' 'objetivo' 'no es mi objetivo' 'objetivo'\n",
      "  'objetivo']\n",
      " ['no es mi objetivo' 'objetivo' 'objetivo' 'no es mi objetivo'\n",
      "  'no es mi objetivo']\n",
      " ['objetivo' 'objetivo' 'objetivo' 'objetivo' 'objetivo']]\n"
     ]
    }
   ],
   "source": [
    "# 1.1 Crea una mascara o filtro donde los valores mayores a 30 y menores a 10 se reemplace por \"objetivo\" y el resto por \"no es mi objetivo\".\n",
    "\n",
    "resultado_mascara = np.where((array_bi > 30) |(array_bi < 10),\"objetivo\", \"no es mi objetivo\")\n",
    "print(resultado_mascara)"
   ]
  },
  {
   "cell_type": "code",
   "execution_count": 8,
   "metadata": {},
   "outputs": [
    {
     "name": "stdout",
     "output_type": "stream",
     "text": [
      "El array_bi es:\n",
      "  [[18 14 13 50 46]\n",
      " [17 50 16  7  3]\n",
      " [19 44 37 20 18]\n",
      " [42 36 44 46 48]] \n",
      "\n",
      "--------------------------------\n",
      "El resultado de la multiplicación del array con el escalar es:\n",
      " [[180 140 130 500 460]\n",
      " [170 500 160  70  30]\n",
      " [190 440 370 200 180]\n",
      " [420 360 440 460 480]]\n"
     ]
    }
   ],
   "source": [
    "# 1.2 Los valores de mi array bidimens\n",
    "# ional multiplicalos por el escalar 10.\n",
    "\n",
    "# definimos un escalar\n",
    "escalar1 = 10\n",
    "# y seguimos con nuestro array de ejemplo\n",
    "print(\"El array_bi es:\\n \", array_bi, '\\n')\n",
    "\n",
    "print(\"--------------------------------\")\n",
    "\n",
    "multiplicacion_escalar1 = array_bi * escalar1\n",
    "print(\"El resultado de la multiplicación del array con el escalar es:\\n\", multiplicacion_escalar1)\n",
    "\n",
    "# Aca lo que sucede es que ese escalar se multiplicara por cada posicion de mi array definido."
   ]
  },
  {
   "cell_type": "code",
   "execution_count": 17,
   "metadata": {},
   "outputs": [
    {
     "name": "stdout",
     "output_type": "stream",
     "text": [
      "[[18 14 13 50 46]\n",
      " [17 50 16  7  3]\n",
      " [19 44 37 20 18]\n",
      " [42 36 44 46 48]]\n",
      "[[ 3 16  7  8  2]\n",
      " [10  6  4 17  6]\n",
      " [15 11  6  9  4]\n",
      " [10 13 10  1  7]]\n"
     ]
    }
   ],
   "source": [
    "#2. Crea un nuevo *array* de dos dimensiones con la misma forma que el anterior y con el método que prefieras\n",
    "\n",
    "array_bii = np.random.randint(0, 20, size=(4, 5))\n",
    "\n",
    "print(array_bi)\n",
    "print(array_bii)"
   ]
  },
  {
   "cell_type": "code",
   "execution_count": 18,
   "metadata": {},
   "outputs": [
    {
     "name": "stdout",
     "output_type": "stream",
     "text": [
      "El resultado de la suma de los dos arrays es:\n",
      " [[21 30 20 58 48]\n",
      " [27 56 20 24  9]\n",
      " [34 55 43 29 22]\n",
      " [52 49 54 47 55]]\n"
     ]
    }
   ],
   "source": [
    "# 2.1 Suma el primer array con el segundo.\n",
    "\n",
    "suma = np.add(array_bi, array_bii)  # Suma los elementos correspondientes de los dos arrays\n",
    "print(\"El resultado de la suma de los dos arrays es:\\n\", suma)"
   ]
  },
  {
   "cell_type": "code",
   "execution_count": 19,
   "metadata": {},
   "outputs": [
    {
     "name": "stdout",
     "output_type": "stream",
     "text": [
      "El resultado de la potencia de los dos arrays es:\n",
      " [[                5832  2177953337809371136             62748517\n",
      "        39062500000000                 2116]\n",
      " [       2015993900449          15625000000                65536\n",
      "       232630513987207                  729]\n",
      " [-3265617043834753317  1196683881290399744           2565726409\n",
      "          512000000000               104976]\n",
      " [   17080198121677824  4561031516192243712    27197360938418176\n",
      "                    46         587068342272]]\n"
     ]
    }
   ],
   "source": [
    "# 2.2 Aplicar la potencia para el primer array elevado al segundo.\n",
    "\n",
    "elevado = np.power(array_bi, array_bii)  # Elevar los elementos correspondientes de los dos arrays\n",
    "print(\"El resultado de la potencia de los dos arrays es:\\n\", elevado)"
   ]
  }
 ],
 "metadata": {
  "kernelspec": {
   "display_name": "Python 3 (ipykernel)",
   "language": "python",
   "name": "python3"
  },
  "language_info": {
   "codemirror_mode": {
    "name": "ipython",
    "version": 3
   },
   "file_extension": ".py",
   "mimetype": "text/x-python",
   "name": "python",
   "nbconvert_exporter": "python",
   "pygments_lexer": "ipython3",
   "version": "3.9.7"
  },
  "toc": {
   "base_numbering": 1,
   "nav_menu": {},
   "number_sections": true,
   "sideBar": true,
   "skip_h1_title": false,
   "title_cell": "Table of Contents",
   "title_sidebar": "Contents",
   "toc_cell": true,
   "toc_position": {
    "height": "calc(100% - 180px)",
    "left": "10px",
    "top": "150px",
    "width": "426.667px"
   },
   "toc_section_display": true,
   "toc_window_display": true
  }
 },
 "nbformat": 4,
 "nbformat_minor": 2
}
