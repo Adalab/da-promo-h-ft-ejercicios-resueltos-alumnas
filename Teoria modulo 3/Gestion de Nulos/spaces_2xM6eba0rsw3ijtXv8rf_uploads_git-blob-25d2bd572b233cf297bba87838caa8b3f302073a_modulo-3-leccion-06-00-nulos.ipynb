{
 "cells": [
  {
   "cell_type": "markdown",
   "metadata": {},
   "source": [
    "# Gestión de nulos"
   ]
  },
  {
   "cell_type": "code",
   "execution_count": 1,
   "metadata": {},
   "outputs": [
    {
     "name": "stdout",
     "output_type": "stream",
     "text": [
      "Requirement already satisfied: scikit-learn in /Users/lydiafrailemartin/opt/anaconda3/lib/python3.9/site-packages (0.24.2)\n",
      "Requirement already satisfied: numpy>=1.13.3 in /Users/lydiafrailemartin/opt/anaconda3/lib/python3.9/site-packages (from scikit-learn) (1.20.3)\n",
      "Requirement already satisfied: threadpoolctl>=2.0.0 in /Users/lydiafrailemartin/opt/anaconda3/lib/python3.9/site-packages (from scikit-learn) (2.2.0)\n",
      "Requirement already satisfied: joblib>=0.11 in /Users/lydiafrailemartin/opt/anaconda3/lib/python3.9/site-packages (from scikit-learn) (1.1.0)\n",
      "Requirement already satisfied: scipy>=0.19.1 in /Users/lydiafrailemartin/opt/anaconda3/lib/python3.9/site-packages (from scikit-learn) (1.7.1)\n",
      "Requirement already satisfied: seaborn in /Users/lydiafrailemartin/opt/anaconda3/lib/python3.9/site-packages (0.11.2)\n",
      "Requirement already satisfied: scipy>=1.0 in /Users/lydiafrailemartin/opt/anaconda3/lib/python3.9/site-packages (from seaborn) (1.7.1)\n",
      "Requirement already satisfied: numpy>=1.15 in /Users/lydiafrailemartin/opt/anaconda3/lib/python3.9/site-packages (from seaborn) (1.20.3)\n",
      "Requirement already satisfied: pandas>=0.23 in /Users/lydiafrailemartin/opt/anaconda3/lib/python3.9/site-packages (from seaborn) (1.3.4)\n",
      "Requirement already satisfied: matplotlib>=2.2 in /Users/lydiafrailemartin/opt/anaconda3/lib/python3.9/site-packages (from seaborn) (3.4.3)\n",
      "Requirement already satisfied: pyparsing>=2.2.1 in /Users/lydiafrailemartin/opt/anaconda3/lib/python3.9/site-packages (from matplotlib>=2.2->seaborn) (3.0.4)\n",
      "Requirement already satisfied: pillow>=6.2.0 in /Users/lydiafrailemartin/opt/anaconda3/lib/python3.9/site-packages (from matplotlib>=2.2->seaborn) (8.4.0)\n",
      "Requirement already satisfied: kiwisolver>=1.0.1 in /Users/lydiafrailemartin/opt/anaconda3/lib/python3.9/site-packages (from matplotlib>=2.2->seaborn) (1.3.1)\n",
      "Requirement already satisfied: python-dateutil>=2.7 in /Users/lydiafrailemartin/opt/anaconda3/lib/python3.9/site-packages (from matplotlib>=2.2->seaborn) (2.8.2)\n",
      "Requirement already satisfied: cycler>=0.10 in /Users/lydiafrailemartin/opt/anaconda3/lib/python3.9/site-packages (from matplotlib>=2.2->seaborn) (0.10.0)\n",
      "Requirement already satisfied: six in /Users/lydiafrailemartin/opt/anaconda3/lib/python3.9/site-packages (from cycler>=0.10->matplotlib>=2.2->seaborn) (1.16.0)\n",
      "Requirement already satisfied: pytz>=2017.3 in /Users/lydiafrailemartin/opt/anaconda3/lib/python3.9/site-packages (from pandas>=0.23->seaborn) (2021.3)\n",
      "Requirement already satisfied: matplotlib in /Users/lydiafrailemartin/opt/anaconda3/lib/python3.9/site-packages (3.4.3)\n",
      "Requirement already satisfied: kiwisolver>=1.0.1 in /Users/lydiafrailemartin/opt/anaconda3/lib/python3.9/site-packages (from matplotlib) (1.3.1)\n",
      "Requirement already satisfied: pyparsing>=2.2.1 in /Users/lydiafrailemartin/opt/anaconda3/lib/python3.9/site-packages (from matplotlib) (3.0.4)\n",
      "Requirement already satisfied: pillow>=6.2.0 in /Users/lydiafrailemartin/opt/anaconda3/lib/python3.9/site-packages (from matplotlib) (8.4.0)\n",
      "Requirement already satisfied: python-dateutil>=2.7 in /Users/lydiafrailemartin/opt/anaconda3/lib/python3.9/site-packages (from matplotlib) (2.8.2)\n",
      "Requirement already satisfied: cycler>=0.10 in /Users/lydiafrailemartin/opt/anaconda3/lib/python3.9/site-packages (from matplotlib) (0.10.0)\n",
      "Requirement already satisfied: numpy>=1.16 in /Users/lydiafrailemartin/opt/anaconda3/lib/python3.9/site-packages (from matplotlib) (1.20.3)\n",
      "Requirement already satisfied: six in /Users/lydiafrailemartin/opt/anaconda3/lib/python3.9/site-packages (from cycler>=0.10->matplotlib) (1.16.0)\n"
     ]
    }
   ],
   "source": [
    "# antes de empezar la lección tendremos que instalarunas librerías. Para ello tendreis que descomentar (una a una) la linea de abajo y ejecutar la celda\n",
    "!pip install scikit-learn\n",
    "!pip install seaborn\n",
    "!pip install matplotlib"
   ]
  },
  {
   "cell_type": "code",
   "execution_count": 2,
   "metadata": {},
   "outputs": [],
   "source": [
    "# importamos las librerías que necesitamos\n",
    "\n",
    "# Tratamiento de datos\n",
    "# -----------------------------------------------------------------------\n",
    "import pandas as pd\n",
    "import numpy as np\n",
    "\n",
    "# Imputación de nulos usando métodos avanzados estadísticos\n",
    "# -----------------------------------------------------------------------\n",
    "from sklearn.impute import SimpleImputer\n",
    "from sklearn.experimental import enable_iterative_imputer\n",
    "from sklearn.impute import IterativeImputer\n",
    "from sklearn.impute import KNNImputer\n",
    "\n",
    "# Librerías de visualización\n",
    "# -----------------------------------------------------------------------\n",
    "import seaborn as sns\n",
    "import matplotlib.pyplot as plt\n",
    "# Configuración\n",
    "# -----------------------------------------------------------------------\n",
    "pd.set_option('display.max_columns', None) # para poder visualizar todas las columnas de los DataFrames"
   ]
  },
  {
   "cell_type": "code",
   "execution_count": null,
   "metadata": {},
   "outputs": [],
   "source": [
    "# cargamos el dataframe creado en la lección anterior\n",
    "df = pd.read_csv(\"bank-additional_clean.csv\", index_col = 0)\n",
    "df.head(1)"
   ]
  },
  {
   "cell_type": "markdown",
   "metadata": {},
   "source": [
    "# Estrategias para la imputación de nulos\n",
    "\n",
    "En este punto, se nos puede pasar por la cabeza algo bastante intuitivo... Y es que podemos pensar que con la imputación nos estamos \"inventando datos\". Pero cuidado! Porque imputar valores es diferente de inventar datos: al inventar no usamos ningún criterio, y el valor asignado será totalmente arbitrario. Pero en la imputación lo que hacemos es mirar el comportamiento de los datos vecinos para poder estimar el valor del dato faltante.\n",
    "\n",
    "Sigamos profundizando un poco más en la gestión de valores nulos, en este punto debemos tener en cuenta que no será lo mismo hacer una imputación de valores nulos en variables numéricas o categóricas, ya que podremos usar diferentes enfoques. Los enfoques más comunes son:\n",
    "\n",
    "\n",
    "- **Para variables categóricas**\n",
    "\n",
    "    - Imputación basada en la moda: Podemos reemplazar los valores nulos con la moda (valor más frecuente) de la variable. Esto se puede hacer utilizando el método `fillna()` de Pandas.\n",
    "\n",
    "    - Imputación como una categoría especial: En algunos casos, podríamos querer mantener los valores nulos como una categoría especial si representan una condición específica en tus datos.\n",
    " \n",
    " \n",
    "\n",
    "- **Para variables numéricas**\n",
    "\n",
    "    - Imputación basada en estadísticos: Podemos utilizar la media, la mediana o la moda de la variable para reemplazar los valores nulos. Esto se puede hacer utilizando la clase `SimpleImputer` de Scikit-learn o el `fillna` de Pandas .\n",
    "\n",
    "    - Imputación basada en modelos: Podemos utilizar modelos de regresión u otros modelos de aprendizaje automático para predecir los valores nulos basándote en las otras variables. Esto se puede hacer utilizando la clase `IterativeImputer` o el `KNNImputer`."
   ]
  },
  {
   "cell_type": "code",
   "execution_count": 5,
   "metadata": {},
   "outputs": [
    {
     "data": {
      "text/plain": [
       "income                0.000000\n",
       "kidhome               0.000000\n",
       "teenhome              0.000000\n",
       "dt_customer           0.000000\n",
       "numwebvisitsmonth     0.000000\n",
       "id                    0.000000\n",
       "age                  11.906977\n",
       "job                   0.802326\n",
       "marital               0.197674\n",
       "education             4.202326\n",
       "default              20.886047\n",
       "housing               2.386047\n",
       "loan                  2.386047\n",
       "contact               0.000000\n",
       "duration              0.000000\n",
       "campaign              0.000000\n",
       "pdays                96.306977\n",
       "previous              0.000000\n",
       "poutcome              0.000000\n",
       "empvarrate            0.000000\n",
       "conspriceidx          1.095349\n",
       "consconfidx           0.000000\n",
       "euribor3m            21.525581\n",
       "nremployed            0.000000\n",
       "y                     0.000000\n",
       "date                  0.576744\n",
       "latitude              0.000000\n",
       "longitude             0.000000\n",
       "contact_month         0.576744\n",
       "contact_year          0.576744\n",
       "age_cat               0.000000\n",
       "dtype: float64"
      ]
     },
     "execution_count": 5,
     "metadata": {},
     "output_type": "execute_result"
    }
   ],
   "source": [
    "# lo primero que vamos a hacer es calcular el porcentaje de nulos que tenemos para cada columna\n",
    "porc_nulos = (df.isnull().sum() / df.shape[0]) * 100\n",
    "porc_nulos"
   ]
  },
  {
   "cell_type": "code",
   "execution_count": 7,
   "metadata": {},
   "outputs": [
    {
     "data": {
      "text/html": [
       "<div>\n",
       "<style scoped>\n",
       "    .dataframe tbody tr th:only-of-type {\n",
       "        vertical-align: middle;\n",
       "    }\n",
       "\n",
       "    .dataframe tbody tr th {\n",
       "        vertical-align: top;\n",
       "    }\n",
       "\n",
       "    .dataframe thead th {\n",
       "        text-align: right;\n",
       "    }\n",
       "</style>\n",
       "<table border=\"1\" class=\"dataframe\">\n",
       "  <thead>\n",
       "    <tr style=\"text-align: right;\">\n",
       "      <th></th>\n",
       "      <th>%_nulos</th>\n",
       "    </tr>\n",
       "  </thead>\n",
       "  <tbody>\n",
       "    <tr>\n",
       "      <th>age</th>\n",
       "      <td>11.906977</td>\n",
       "    </tr>\n",
       "    <tr>\n",
       "      <th>job</th>\n",
       "      <td>0.802326</td>\n",
       "    </tr>\n",
       "    <tr>\n",
       "      <th>marital</th>\n",
       "      <td>0.197674</td>\n",
       "    </tr>\n",
       "    <tr>\n",
       "      <th>education</th>\n",
       "      <td>4.202326</td>\n",
       "    </tr>\n",
       "    <tr>\n",
       "      <th>default</th>\n",
       "      <td>20.886047</td>\n",
       "    </tr>\n",
       "    <tr>\n",
       "      <th>housing</th>\n",
       "      <td>2.386047</td>\n",
       "    </tr>\n",
       "    <tr>\n",
       "      <th>loan</th>\n",
       "      <td>2.386047</td>\n",
       "    </tr>\n",
       "    <tr>\n",
       "      <th>pdays</th>\n",
       "      <td>96.306977</td>\n",
       "    </tr>\n",
       "    <tr>\n",
       "      <th>conspriceidx</th>\n",
       "      <td>1.095349</td>\n",
       "    </tr>\n",
       "    <tr>\n",
       "      <th>euribor3m</th>\n",
       "      <td>21.525581</td>\n",
       "    </tr>\n",
       "    <tr>\n",
       "      <th>date</th>\n",
       "      <td>0.576744</td>\n",
       "    </tr>\n",
       "    <tr>\n",
       "      <th>contact_month</th>\n",
       "      <td>0.576744</td>\n",
       "    </tr>\n",
       "    <tr>\n",
       "      <th>contact_year</th>\n",
       "      <td>0.576744</td>\n",
       "    </tr>\n",
       "  </tbody>\n",
       "</table>\n",
       "</div>"
      ],
      "text/plain": [
       "                 %_nulos\n",
       "age            11.906977\n",
       "job             0.802326\n",
       "marital         0.197674\n",
       "education       4.202326\n",
       "default        20.886047\n",
       "housing         2.386047\n",
       "loan            2.386047\n",
       "pdays          96.306977\n",
       "conspriceidx    1.095349\n",
       "euribor3m      21.525581\n",
       "date            0.576744\n",
       "contact_month   0.576744\n",
       "contact_year    0.576744"
      ]
     },
     "execution_count": 7,
     "metadata": {},
     "output_type": "execute_result"
    }
   ],
   "source": [
    "# lo convertimos a DataFrame\n",
    "df_nulos = pd.DataFrame(porc_nulos, columns = [\"%_nulos\"])\n",
    "\n",
    "# filtramos el DataFrame para quedarnos solo con aquellas columnas que tengan nulos\n",
    "df_nulos[df_nulos[\"%_nulos\"] > 0]"
   ]
  },
  {
   "cell_type": "markdown",
   "metadata": {},
   "source": [
    "Lo primero que vemos en este DataFrame de nulos, es que tenemos algunas columnas con un gran porcentaje de nulos. En este punto nos puede surgir la duda de **¿a partir de que porcentaje de nulos podemos eliminar una columna?** Para determinar si una columna debe ser eliminada debido a la cantidad de valores nulos que contiene, no hay un porcentaje fijo que se deba seguir. La decisión de eliminar una columna dependerá del contexto y del análisis que se esté realizando.\n"
   ]
  }
 ],
 "metadata": {
  "kernelspec": {
   "display_name": "Python 3 (ipykernel)",
   "language": "python",
   "name": "python3"
  },
  "language_info": {
   "codemirror_mode": {
    "name": "ipython",
    "version": 3
   },
   "file_extension": ".py",
   "mimetype": "text/x-python",
   "name": "python",
   "nbconvert_exporter": "python",
   "pygments_lexer": "ipython3",
   "version": "3.9.7"
  },
  "toc": {
   "base_numbering": 1,
   "nav_menu": {},
   "number_sections": true,
   "sideBar": true,
   "skip_h1_title": false,
   "title_cell": "Table of Contents",
   "title_sidebar": "Contents",
   "toc_cell": true,
   "toc_position": {
    "height": "calc(100% - 180px)",
    "left": "10px",
    "top": "150px",
    "width": "384px"
   },
   "toc_section_display": true,
   "toc_window_display": false
  }
 },
 "nbformat": 4,
 "nbformat_minor": 2
}
