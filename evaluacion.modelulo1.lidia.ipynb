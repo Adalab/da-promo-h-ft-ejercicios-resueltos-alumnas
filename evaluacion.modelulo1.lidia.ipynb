{
 "cells": [
  {
   "cell_type": "code",
   "execution_count": 2,
   "metadata": {},
   "outputs": [],
   "source": [
    "#opcion 1\n",
    "\n",
    "inventario = []\n",
    "clientes = {}\n",
    "ventas_totales = 0\n",
    "    \n",
    "\n",
    "\n",
    "\n"
   ]
  },
  {
   "cell_type": "code",
   "execution_count": null,
   "metadata": {},
   "outputs": [],
   "source": [
    "#opcion2 \n",
    "class TiendaOnline:\n",
    "    def __init__(self):\n",
    "        self.inventario = []\n",
    "        self.clientes = {}\n",
    "        self.ventas_totales = 0\n",
    "    \n",
    "    def agregar_productos(self,nombre,precio,cantidad):\n",
    "        self.nombre=nombre\n",
    "        self.precio=precio\n",
    "        self.cantidad=cantidad\n",
    "        \n",
    "\n"
   ]
  },
  {
   "cell_type": "code",
   "execution_count": 8,
   "metadata": {},
   "outputs": [],
   "source": [
    "#opcion 3 \n",
    "class Producto:\n",
    "    def __init__(self, nombre, precio, cantidad):\n",
    "        self.nombre = nombre\n",
    "        self.precio = precio\n",
    "        self.cantidad = cantidad\n",
    "\n",
    "class Cliente:\n",
    "    def __init__(self, nombre, email):\n",
    "        self.nombre = nombre\n",
    "        self.email = email\n",
    "        self.compras = []\n",
    "\n",
    "class Inventario:\n",
    "    def __init__(self):\n",
    "        self.inventario = []\n",
    "\n",
    "    def agregar_producto(self, nombre, precio, cantidad):\n",
    "        self.inventario.append(Producto(nombre, precio, cantidad))\n",
    "\n",
    "    def ver_inventario(self):\n",
    "        print(\"Inventario:\")\n",
    "        for producto in self.inventario:\n",
    "            print(f\"Nombre: {producto.nombre}, Precio: {producto.precio}$, Cantidad: {producto.cantidad}\")\n",
    "\n",
    "    def buscar_producto(self, nombre):\n",
    "        for producto in self.inventario:\n",
    "            if producto.nombre == nombre:\n",
    "                print(f\"Detalles del producto '{nombre}':\")\n",
    "                print(f\"Nombre: {producto.nombre}, Precio: {producto.precio}$, Cantidad: {producto.cantidad}\")\n",
    "                break\n",
    "        else:\n",
    "            print(f\"No existe '{nombre}' en el inventario.\")\n",
    "\n",
    "    def actualizar_stock(self, nombre, cantidad):\n",
    "        for producto in self.inventario:\n",
    "            if producto.nombre == nombre:\n",
    "                producto.cantidad += cantidad\n",
    "                print(f\"Stock del producto '{nombre}' actualizado. Nueva cantidad: {producto.cantidad}\")\n",
    "                break\n",
    "        else:\n",
    "            print(f\"No se encontró el producto '{nombre}' en el inventario.\")\n",
    "\n",
    "    def eliminar_producto(self, nombre):\n",
    "        for producto in self.inventario:\n",
    "            if producto.nombre == nombre:\n",
    "                self.inventario.remove(producto)\n",
    "                print(f\"Producto '{nombre}' eliminado del inventario.\")\n",
    "                break\n",
    "        else:\n",
    "            print(f\"No se encontró el producto '{nombre}' en el inventario.\")\n",
    "\n",
    "    def calcular_valor_inventario(self):\n",
    "        valor_total = sum(producto.precio * producto.cantidad for producto in self.inventario)\n",
    "        print\n"
   ]
  },
  {
   "cell_type": "code",
   "execution_count": null,
   "metadata": {},
   "outputs": [],
   "source": [
    "#opcion 4\n",
    "\n",
    "class TiendaOnline:\n",
    "    def __init__(self):\n",
    "        self.inventario= []\n",
    "        self.cliente={}\n",
    "        self.venta_totales=0.0\n",
    "    \n",
    "    def agregar_producto (self, nombre, precio, cantidad):\n",
    "        for producto in self.inventario:\n",
    "            if producto[\"nombre\"]==nombre:\n",
    "                producto[\"cantidad\"]+=cantidad\n",
    "                return\n",
    "         self.inventario.append({})\n",
    "\n",
    "    "
   ]
  },
  {
   "cell_type": "code",
   "execution_count": null,
   "metadata": {},
   "outputs": [],
   "source": []
  }
 ],
 "metadata": {
  "kernelspec": {
   "display_name": "Python 3",
   "language": "python",
   "name": "python3"
  },
  "language_info": {
   "codemirror_mode": {
    "name": "ipython",
    "version": 3
   },
   "file_extension": ".py",
   "mimetype": "text/x-python",
   "name": "python",
   "nbconvert_exporter": "python",
   "pygments_lexer": "ipython3",
   "version": "3.9.6"
  }
 },
 "nbformat": 4,
 "nbformat_minor": 2
}
