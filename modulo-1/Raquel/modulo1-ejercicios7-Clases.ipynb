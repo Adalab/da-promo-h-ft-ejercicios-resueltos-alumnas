{
 "cells": [
  {
   "cell_type": "markdown",
   "metadata": {},
   "source": [
    "#Ejercicios CLASES\n",
    "1"
   ]
  },
  {
   "cell_type": "code",
   "execution_count": 35,
   "metadata": {},
   "outputs": [],
   "source": [
    "class Vehiculo:\n",
    "    def __init__(self, marca, modelo, año,velocidad_actual = 120, encendido= True):\n",
    "        self.marca = marca\n",
    "        self.modelo = modelo\n",
    "        self.año = año\n",
    "        self.velocidad_actual = velocidad_actual\n",
    "        self.encendido= encendido\n",
    "\n",
    "    def informacion(self):\n",
    "        return (f\"La info del vehiculo es: marca {self.marca}, modelo {self.modelo}, año {self.año}\")\n",
    "\n",
    "    def encender(self):\n",
    "        if not self.encendido:\n",
    "            self.encendido =True\n",
    "            return \"El vehículo ahora está encendido\"\n",
    "        else:\n",
    "            return \"Ey,no puedes encender un vehículo ya encendido. ;)\"\n",
    "        \n",
    "    def apagar(self):\n",
    "        if self.encendido:\n",
    "            self.encendido = False\n",
    "            self.velocidad_actual =0\n",
    "            print(f\"La velocidad de tu vehículo ahora es {self.velocidad_actual} km/hora.\")\n",
    "            return  \"Tu vehículo está apagado.\"\n",
    "        else:\n",
    "            return \"Tu vehículo ya está apagado.\"\n",
    "        \n",
    "    def acelerar(self, velocidad):\n",
    "        if self.encendido:\n",
    "            velocidad += self.velocidad_actual\n",
    "            return f\"El vehículo va ahora a {self.velocidad_actual} km por hora.\"\n",
    "        else:\n",
    "            return \"No puedes acelerar un vehículo apagado.\"\n",
    "        \n",
    "    def frenar (self, frenando):\n",
    "        if self.encendido:\n",
    "            self.velocidad_actual -= frenando\n",
    "            if self.velocidad_actual <= 0:\n",
    "                self.velocidad_actual=0\n",
    "            return f\"El vehículo ha frenado y va ahora a {self.velocidad_actual} km por hora.\"\n",
    "        else:\n",
    "            return \"No puedes frenar un vehículo apagado.\"\n",
    "        \n",
    "    def detener(self):\n",
    "        if self.encendido:\n",
    "            while self.velocidad_actual > 0:\n",
    "                    self.frenar(5)\n",
    "            return f\"El vehículo se ha detenido por completo.\"\n",
    "\n",
    "        else:\n",
    "            return \"No se puede detener más. Ahora el vehículo está apagado.\"                     \n",
    "            \n"
   ]
  },
  {
   "cell_type": "code",
   "execution_count": 36,
   "metadata": {},
   "outputs": [],
   "source": [
    "bmw = Vehiculo(\"bmw\",\"e40\",1980)\n"
   ]
  },
  {
   "cell_type": "code",
   "execution_count": 37,
   "metadata": {},
   "outputs": [
    {
     "data": {
      "text/plain": [
       "'La info del vehiculo es: marca bmw, modelo e40, año 1980'"
      ]
     },
     "execution_count": 37,
     "metadata": {},
     "output_type": "execute_result"
    }
   ],
   "source": [
    "bmw.informacion()"
   ]
  },
  {
   "cell_type": "code",
   "execution_count": 38,
   "metadata": {},
   "outputs": [
    {
     "data": {
      "text/plain": [
       "'El vehículo se ha detenido por completo.'"
      ]
     },
     "execution_count": 38,
     "metadata": {},
     "output_type": "execute_result"
    }
   ],
   "source": [
    "bmw.detener()"
   ]
  },
  {
   "cell_type": "code",
   "execution_count": 55,
   "metadata": {},
   "outputs": [],
   "source": [
    "#SUBCLASE\n",
    "\n",
    "class Coche(Vehiculo):\n",
    "    def __init__(self, marca, modelo, año, combustible):\n",
    "        super().__init__(marca, modelo, año)\n",
    "        self.combustible = combustible\n",
    "\n",
    "    def informacion(self):\n",
    "        return (f\"Mi coche es de la marca {self.marca}, modelo {self.modelo}, año {self.año} y es {self.combustible}.\")\n",
    "            \n"
   ]
  },
  {
   "cell_type": "code",
   "execution_count": 56,
   "metadata": {},
   "outputs": [],
   "source": [
    "micoche= Coche(\"toyota\", \"auris\", 2015, \"gasolina\")"
   ]
  },
  {
   "cell_type": "code",
   "execution_count": 57,
   "metadata": {},
   "outputs": [
    {
     "data": {
      "text/plain": [
       "'Mi coche es de la marca toyota, modelo auris, año 2015 y es gasolina.'"
      ]
     },
     "execution_count": 57,
     "metadata": {},
     "output_type": "execute_result"
    }
   ],
   "source": [
    "micoche.informacion()"
   ]
  }
 ],
 "metadata": {
  "kernelspec": {
   "display_name": "Python 3",
   "language": "python",
   "name": "python3"
  },
  "language_info": {
   "codemirror_mode": {
    "name": "ipython",
    "version": 3
   },
   "file_extension": ".py",
   "mimetype": "text/x-python",
   "name": "python",
   "nbconvert_exporter": "python",
   "pygments_lexer": "ipython3",
   "version": "3.12.3"
  }
 },
 "nbformat": 4,
 "nbformat_minor": 2
}
