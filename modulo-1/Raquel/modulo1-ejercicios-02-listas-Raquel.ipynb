{
 "cells": [
  {
   "cell_type": "code",
   "execution_count": 38,
   "metadata": {},
   "outputs": [],
   "source": [
    "colores = [\"rosa\", \"azul\", \"amarillo\", \"beige\",\"rojo\",\"naranja\"]\n",
    "buses = [\"autoscasado\", \"coche de san fernando\", \"mi coche\", \"el coche de lucas\", \"coche de amiga\"]\n",
    "temperaturas = [19, 19, 21, 26, 28, 26]\n",
    "\n",
    "nombre = \"raquel\"\n",
    "nombre_lista = list(nombre)\n",
    "apellidos = \"Castellanos Alfonso\"\n",
    "apellidos_lista = list(apellidos)"
   ]
  },
  {
   "cell_type": "code",
   "execution_count": 39,
   "metadata": {},
   "outputs": [
    {
     "name": "stdout",
     "output_type": "stream",
     "text": [
      "5\n",
      "19\n",
      "28\n",
      "19\n"
     ]
    }
   ],
   "source": [
    "print(len(buses))\n",
    "print(len(apellidos))\n",
    "\n",
    "t_max = (max(temperaturas))\n",
    "print(t_max)\n",
    "\n",
    "t_min = (min(temperaturas))\n",
    "print(t_min)"
   ]
  },
  {
   "cell_type": "code",
   "execution_count": 40,
   "metadata": {},
   "outputs": [
    {
     "name": "stdout",
     "output_type": "stream",
     "text": [
      "True\n",
      "True\n",
      "True\n"
     ]
    }
   ],
   "source": [
    "print(\"e\" in nombre)\n",
    "print(\"rosa\" in colores)\n",
    "print(\"x\" not in nombre) "
   ]
  },
  {
   "cell_type": "code",
   "execution_count": 41,
   "metadata": {},
   "outputs": [
    {
     "name": "stdout",
     "output_type": "stream",
     "text": [
      "[19, 19, 21, 26, 28, 26] []\n"
     ]
    }
   ],
   "source": [
    "temperaturas2 = temperaturas.copy()\n",
    "temperaturas3 = temperaturas.copy()\n",
    "\n",
    "temperaturas2.clear()\n",
    "print(temperaturas , temperaturas2)"
   ]
  },
  {
   "cell_type": "code",
   "execution_count": 42,
   "metadata": {},
   "outputs": [
    {
     "name": "stdout",
     "output_type": "stream",
     "text": [
      "['a', 'e', 'l', 'q', 'r', 'u']\n",
      "[' ', 'A', 'C', 'a', 'a', 'e', 'f', 'l', 'l', 'l', 'n', 'n', 'o', 'o', 'o', 's', 's', 's', 't']\n"
     ]
    }
   ],
   "source": [
    "nombre2 = nombre_lista.copy() \n",
    "apellidos2 = apellidos_lista.copy()\n",
    "\n",
    "temperaturas.sort(reverse=True)\n",
    "nombre2.sort()\n",
    "print(nombre2)\n",
    "\n",
    "apellidos2.sort()\n",
    "print(apellidos2)"
   ]
  },
  {
   "cell_type": "code",
   "execution_count": 54,
   "metadata": {},
   "outputs": [
    {
     "name": "stdout",
     "output_type": "stream",
     "text": [
      "1\n",
      "0\n",
      "1\n",
      "2\n"
     ]
    }
   ],
   "source": [
    "nombre_lista.count(\"a\")\n",
    "nombre_lista.count(\"o\")\n",
    "\n",
    "print(nombre2.count(\"a\"))\n",
    "print(nombre2.count(\"o\"))\n",
    "\n",
    "print(temperaturas.count(t_max))\n",
    "print(temperaturas.count(t_min))"
   ]
  },
  {
   "cell_type": "code",
   "execution_count": 62,
   "metadata": {},
   "outputs": [
    {
     "name": "stdout",
     "output_type": "stream",
     "text": [
      "saturday\n",
      "18\n",
      "True\n",
      "4\n",
      "18\n",
      "2\n"
     ]
    }
   ],
   "source": [
    "dias_en = ['monday', 'tuesday', 'wednesday', 'thursday', 'friday', 'saturday', 'sunday']\n",
    "temperaturas_diciembre = [10, 10, 13, 14, 12, 15, \n",
    "                            12, 11, 13, 17, 18, 15, \n",
    "                            15, 17, 17, 13, 13, 11,\n",
    "                            12, 10, 12, 14, 12, 12,\n",
    "                            11, 12, 16, 16, 14, 17, 18]\n",
    "\n",
    "print(dias_en[-2])\n",
    "print(temperaturas_diciembre[-1])\n",
    "print(\"friday\" in dias_en)\n",
    "print(dias_en.index(\"friday\"))\n",
    "\n",
    "print(max(temperaturas_diciembre))\n",
    "print(dias_en.index(\"wednesday\"))"
   ]
  },
  {
   "cell_type": "code",
   "execution_count": 66,
   "metadata": {},
   "outputs": [
    {
     "name": "stdout",
     "output_type": "stream",
     "text": [
      "la temperatura máxima esta semana será 14 ºC, que ocurrirá en 1 día. El día más frío tendrá una temperatura máxima de 10 ºC, que ocurrirá en 2 días.\n"
     ]
    }
   ],
   "source": [
    "temperatura1 = 14\n",
    "dia1 = 1\n",
    "\n",
    "print(\"la temperatura máxima esta semana será\", temperatura1, \"ºC, que ocurrirá en 1 día. El día más frío tendrá una temperatura máxima de 10 ºC, que ocurrirá en 2 días.\")"
   ]
  }
 ],
 "metadata": {
  "kernelspec": {
   "display_name": "Python 3",
   "language": "python",
   "name": "python3"
  },
  "language_info": {
   "codemirror_mode": {
    "name": "ipython",
    "version": 3
   },
   "file_extension": ".py",
   "mimetype": "text/x-python",
   "name": "python",
   "nbconvert_exporter": "python",
   "pygments_lexer": "ipython3",
   "version": "3.12.2"
  }
 },
 "nbformat": 4,
 "nbformat_minor": 2
}
