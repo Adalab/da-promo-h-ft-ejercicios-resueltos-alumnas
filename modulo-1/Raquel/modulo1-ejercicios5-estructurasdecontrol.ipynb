{
 "cells": [
  {
   "cell_type": "code",
   "execution_count": 1,
   "metadata": {},
   "outputs": [
    {
     "name": "stdout",
     "output_type": "stream",
     "text": [
      "esta es una de las letras que busco y\n",
      "esta es una de las letras que busco t\n",
      "esta es una de las letras que busco h\n",
      "esta es una de las letras que busco o\n",
      "esta es una de las letras que busco n\n"
     ]
    }
   ],
   "source": [
    "#EJERCICIOS ESTRUCTURAS CONTROL\n",
    "\n",
    "#1\n",
    "ej1 = \"Python\"\n",
    "\n",
    "for letras in ej1:\n",
    "    if letras == \"P\":\n",
    "        continue\n",
    "      \n",
    "    else:\n",
    "        print(\"esta es una de las letras que busco\", letras)\n"
   ]
  },
  {
   "cell_type": "code",
   "execution_count": 18,
   "metadata": {},
   "outputs": [
    {
     "name": "stdout",
     "output_type": "stream",
     "text": [
      "H\n",
      "e\n",
      "o\n"
     ]
    }
   ],
   "source": [
    "#2\n",
    "hola = \"Hello\"\n",
    "\n",
    "for letter in hola:\n",
    "    if letter != \"l\":\n",
    "        print(letter)\n"
   ]
  },
  {
   "cell_type": "code",
   "execution_count": 20,
   "metadata": {},
   "outputs": [
    {
     "name": "stdout",
     "output_type": "stream",
     "text": [
      "H\n",
      "e\n",
      "o\n"
     ]
    }
   ],
   "source": [
    "#3\n",
    "hola = \"Hello\"\n",
    "\n",
    "for letter in hola:\n",
    "    if letter == \"l\":\n",
    "        continue\n",
    "\n",
    "    else:\n",
    "        print(letter)"
   ]
  },
  {
   "cell_type": "code",
   "execution_count": 21,
   "metadata": {},
   "outputs": [
    {
     "name": "stdout",
     "output_type": "stream",
     "text": [
      "H\n",
      "e\n",
      "l\n",
      "l\n"
     ]
    }
   ],
   "source": [
    "#4\n",
    "for letter in hola:\n",
    "    if letter != \"o\":\n",
    "        print(letter)\n",
    "\n",
    "    else:\n",
    "        break"
   ]
  },
  {
   "cell_type": "code",
   "execution_count": 25,
   "metadata": {},
   "outputs": [
    {
     "name": "stdout",
     "output_type": "stream",
     "text": [
      "¡Un error!\n"
     ]
    }
   ],
   "source": [
    "#5\n",
    "doce = \"12\"\n",
    "seis = 6\n",
    "try:\n",
    "    print(doce+seis)\n",
    "\n",
    "except:\n",
    "    print(\"¡Un error!\")"
   ]
  },
  {
   "cell_type": "code",
   "execution_count": 1,
   "metadata": {},
   "outputs": [
    {
     "name": "stdout",
     "output_type": "stream",
     "text": [
      "¡Un error!\n"
     ]
    }
   ],
   "source": [
    "#6 \n",
    "doce = \"12\"\n",
    "seis = 6\n",
    "if doce != seis:\n",
    "    print(\"¡Un error!\")"
   ]
  },
  {
   "cell_type": "code",
   "execution_count": 2,
   "metadata": {},
   "outputs": [
    {
     "name": "stdout",
     "output_type": "stream",
     "text": [
      "Se acabó. Has ingresado un negativo\n",
      "La lista de numeros positivos es 7\n"
     ]
    }
   ],
   "source": [
    "#7\n",
    "lista_enteros =0\n",
    "\n",
    "while True:\n",
    "     num_user = int(input(\"Ingresa un número entero\"))\n",
    "     \n",
    "     if num_user < 0:\n",
    "          print(\"Se acabó. Has ingresado un negativo\")\n",
    "          break\n",
    "        \n",
    "     elif num_user %2 !=0:\n",
    "          lista_enteros += num_user\n",
    "\n",
    "print(\"La suma de los numeros pares es\", lista_enteros)\n",
    "          \n",
    "\n"
   ]
  },
  {
   "cell_type": "code",
   "execution_count": 16,
   "metadata": {},
   "outputs": [
    {
     "name": "stdout",
     "output_type": "stream",
     "text": [
      "ERROR: Asegúrate de que ingresas un número.\n"
     ]
    }
   ],
   "source": [
    "#8\n",
    "\n",
    "try:\n",
    "    numero1= int(input(\"ingresa un numero\"))\n",
    "    numero2= int(input(\"ingreso el segundo numero\"))\n",
    "\n",
    "    division = numero1/numero2\n",
    "    print(f\"El resultado es {division}\")\n",
    "\n",
    "except ZeroDivisionError:\n",
    "    print(\"Ups... Por favor ingresa un número diferente a O.\")\n",
    "\n",
    "except ValueError:\n",
    "    print(\"ERROR: Asegúrate de que ingresas un número.\")"
   ]
  },
  {
   "cell_type": "code",
   "execution_count": 19,
   "metadata": {},
   "outputs": [
    {
     "ename": "SyntaxError",
     "evalue": "incomplete input (818495394.py, line 11)",
     "output_type": "error",
     "traceback": [
      "\u001b[1;36m  Cell \u001b[1;32mIn[19], line 11\u001b[1;36m\u001b[0m\n\u001b[1;33m    \u001b[0m\n\u001b[1;37m    ^\u001b[0m\n\u001b[1;31mSyntaxError\u001b[0m\u001b[1;31m:\u001b[0m incomplete input\n"
     ]
    }
   ],
   "source": [
    "#9 ?\n",
    "try:\n",
    "    num = int(input(\"Ingresa el numero que quieras.\"))\n",
    "    if num < 0:\n",
    "        ValueError\n",
    "        print(\"Vaya. No es posible realizar esta operación con un número negativo.\")\n",
    "    \n",
    "    else:\n",
    "        raiz= num**0.5\n",
    "        print(f\"La raíz cuadrada de {num} es {raiz}\")\n",
    "\n"
   ]
  },
  {
   "cell_type": "code",
   "execution_count": 33,
   "metadata": {},
   "outputs": [
    {
     "name": "stdout",
     "output_type": "stream",
     "text": [
      "Tu numero es 6\n"
     ]
    }
   ],
   "source": [
    "#10\n",
    "numeros = [1,2,4,5,6,33,8,8,31,63,62,4,2,52]\n",
    "try:\n",
    "    num = numeros[int(input(\"Ingresa un número de índice para conseguir un elemento de la lista.\"))]\n",
    "    print(f\"Tu numero es {num}\")\n",
    "    \n",
    "except IndexError:\n",
    "    print(\"Ese índice está fuera de nuestra lista.\")"
   ]
  }
 ],
 "metadata": {
  "kernelspec": {
   "display_name": "Python 3",
   "language": "python",
   "name": "python3"
  },
  "language_info": {
   "codemirror_mode": {
    "name": "ipython",
    "version": 3
   },
   "file_extension": ".py",
   "mimetype": "text/x-python",
   "name": "python",
   "nbconvert_exporter": "python",
   "pygments_lexer": "ipython3",
   "version": "3.12.3"
  }
 },
 "nbformat": 4,
 "nbformat_minor": 2
}
