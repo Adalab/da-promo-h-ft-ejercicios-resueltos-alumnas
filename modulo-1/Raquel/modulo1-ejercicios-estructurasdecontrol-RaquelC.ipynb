{
 "cells": [
  {
   "cell_type": "code",
   "execution_count": 1,
   "metadata": {},
   "outputs": [
    {
     "name": "stdout",
     "output_type": "stream",
     "text": [
      "esta es una de las letras que busco y\n",
      "esta es una de las letras que busco t\n",
      "esta es una de las letras que busco h\n",
      "esta es una de las letras que busco o\n",
      "esta es una de las letras que busco n\n"
     ]
    }
   ],
   "source": [
    "#EJERCICIOS ESTRUCTURAS CONTROL\n",
    "\n",
    "#1\n",
    "ej1 = \"Python\"\n",
    "\n",
    "for letras in ej1:\n",
    "    if letras == \"P\":\n",
    "        continue\n",
    "      \n",
    "    else:\n",
    "        print(\"esta es una de las letras que busco\", letras)\n"
   ]
  },
  {
   "cell_type": "code",
   "execution_count": 18,
   "metadata": {},
   "outputs": [
    {
     "name": "stdout",
     "output_type": "stream",
     "text": [
      "H\n",
      "e\n",
      "o\n"
     ]
    }
   ],
   "source": [
    "#2\n",
    "hola = \"Hello\"\n",
    "\n",
    "for letter in hola:\n",
    "    if letter != \"l\":\n",
    "        print(letter)\n"
   ]
  },
  {
   "cell_type": "code",
   "execution_count": 20,
   "metadata": {},
   "outputs": [
    {
     "name": "stdout",
     "output_type": "stream",
     "text": [
      "H\n",
      "e\n",
      "o\n"
     ]
    }
   ],
   "source": [
    "#3\n",
    "hola = \"Hello\"\n",
    "\n",
    "for letter in hola:\n",
    "    if letter == \"l\":\n",
    "        continue\n",
    "\n",
    "    else:\n",
    "        print(letter)"
   ]
  },
  {
   "cell_type": "code",
   "execution_count": 21,
   "metadata": {},
   "outputs": [
    {
     "name": "stdout",
     "output_type": "stream",
     "text": [
      "H\n",
      "e\n",
      "l\n",
      "l\n"
     ]
    }
   ],
   "source": [
    "#4\n",
    "for letter in hola:\n",
    "    if letter != \"o\":\n",
    "        print(letter)\n",
    "\n",
    "    else:\n",
    "        break"
   ]
  },
  {
   "cell_type": "code",
   "execution_count": 25,
   "metadata": {},
   "outputs": [
    {
     "name": "stdout",
     "output_type": "stream",
     "text": [
      "¡Un error!\n"
     ]
    }
   ],
   "source": [
    "#5\n",
    "doce = \"12\"\n",
    "seis = 6\n",
    "try:\n",
    "    print(doce+seis)\n",
    "\n",
    "except:\n",
    "    print(\"¡Un error!\")"
   ]
  },
  {
   "cell_type": "code",
   "execution_count": null,
   "metadata": {},
   "outputs": [],
   "source": [
    "#6 DUDAS CON EL ENUNCIADO\n",
    "#????????\n",
    "\n",
    "doce = \"12\"\n",
    "seis = 6"
   ]
  },
  {
   "cell_type": "code",
   "execution_count": 46,
   "metadata": {},
   "outputs": [
    {
     "ename": "SyntaxError",
     "evalue": "invalid syntax (269446647.py, line 6)",
     "output_type": "error",
     "traceback": [
      "\u001b[1;36m  Cell \u001b[1;32mIn[46], line 6\u001b[1;36m\u001b[0m\n\u001b[1;33m    num_user >= 0:\u001b[0m\n\u001b[1;37m                 ^\u001b[0m\n\u001b[1;31mSyntaxError\u001b[0m\u001b[1;31m:\u001b[0m invalid syntax\n"
     ]
    }
   ],
   "source": [
    "#7\n",
    "num_user = int(input(\"Ingresa un número entero\"))\n",
    "lista_enteros =[]\n",
    "\n",
    "try:\n",
    "    if num_user >= 0:\n",
    "         lista_enteros.append(num_user)\n",
    "    print(\"La lista de numeros positivos es\", lista_enteros)\n",
    "\n",
    "except ValueError:\n",
    "     print(\"Has ingresado un negativo\")\n",
    "\n"
   ]
  },
  {
   "cell_type": "markdown",
   "metadata": {},
   "source": [
    "\n",
    "\n",
    "5. Define  la variable `doce = '12'` y `seis = 6`. Intenta sumarlos. En el caso de que te salga un error imprime `'¡Un error!'`. Para eso usa un `try` ... `except`\n",
    "\n",
    "6. Basándonos en el ejercicio anterior, sin usar un `try` ... `except`, ¿cómo podríamos solucionar el problema? \n",
    "\n",
    "7. Solicita al usuario ingresar números enteros positivos hasta que ingrese un número negativo. Luego, muestra la suma de todos los números pares ingresados.\n",
    "\n",
    "8. Solicita al usuario ingresar dos números y muestra el resultado de dividir el primero por el segundo. Asegúrate de manejar la excepción si el segundo número es cero.\n",
    "\n",
    "9. Solicita al usuario ingresar un número y muestra su raíz cuadrada. Maneja la excepción si el número es negativo.\n",
    "\n",
    "10. Crea una lista de números y solicita al usuario ingresar un índice para acceder a un elemento de la lista. Maneja la excepción si el índice está fuera de rango."
   ]
  }
 ],
 "metadata": {
  "kernelspec": {
   "display_name": "Python 3",
   "language": "python",
   "name": "python3"
  },
  "language_info": {
   "codemirror_mode": {
    "name": "ipython",
    "version": 3
   },
   "file_extension": ".py",
   "mimetype": "text/x-python",
   "name": "python",
   "nbconvert_exporter": "python",
   "pygments_lexer": "ipython3",
   "version": "3.12.2"
  }
 },
 "nbformat": 4,
 "nbformat_minor": 2
}
