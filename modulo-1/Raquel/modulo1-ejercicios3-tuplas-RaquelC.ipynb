{
 "cells": [
  {
   "cell_type": "code",
   "execution_count": 42,
   "metadata": {},
   "outputs": [
    {
     "name": "stdout",
     "output_type": "stream",
     "text": [
      "<class 'tuple'>\n",
      "<class 'tuple'>\n",
      "(61, 1.54, 'pelo marrón', 'm', 42, 39)\n",
      "(68, 1.65, 'color')\n"
     ]
    },
    {
     "data": {
      "text/plain": [
       "3"
      ]
     },
     "execution_count": 42,
     "metadata": {},
     "output_type": "execute_result"
    }
   ],
   "source": [
    "#EJERCICIOS TUPLAS\n",
    "\n",
    "#1\n",
    "persona1 = 61, 1.54, \"pelo marrón\"\n",
    "print(type(persona1))\n",
    "\n",
    "#2\n",
    "persona2 = (68, 1.65, \"pelo rubio\")\n",
    "\n",
    "#3\n",
    "talla = [\"m\", 42, 39]\n",
    "#4\n",
    "talla_tupla = tuple(talla)\n",
    "print(type(talla_tupla))\n",
    "\n",
    "#5\n",
    "tupla_unica = persona1 + talla_tupla\n",
    "print(tupla_unica)\n",
    "\n",
    "#6\n",
    "a,b,c = persona2\n",
    "persona2_cambio = a, b, \"color\"\n",
    "print(persona2_cambio)\n",
    "\n",
    "#7\n",
    "len(persona1)\n",
    " \n"
   ]
  },
  {
   "cell_type": "code",
   "execution_count": 43,
   "metadata": {},
   "outputs": [
    {
     "name": "stdout",
     "output_type": "stream",
     "text": [
      "[61, 1.54, 'pelo marrón']\n",
      "[61, 1.54, 'pelo marrón', 61, 1.54, 'pelo marrón', 61, 1.54, 'pelo marrón']\n"
     ]
    }
   ],
   "source": [
    "#8\n",
    "lista_persona1 = list(persona1)\n",
    "print(lista_persona1)\n",
    "\n",
    "peso = lista_persona1.copy()\n",
    "altura = lista_persona1.copy()\n",
    "color_pelo = lista_persona1.copy()\n",
    "print(peso + altura + color_pelo)\n"
   ]
  },
  {
   "cell_type": "markdown",
   "metadata": {},
   "source": [
    "\n",
    "\n",
    "\n",
    "\n",
    "- Desempaquetar\n",
    "\n",
    "  8. Crea las variables `peso`, `altura`, `color_pelo` y llénalas con el contenido de `persona1`. Imprime `color_pelo` para comprobar el resultado. \n",
    "\n",
    "- Zipear\n",
    "\n",
    "  9. Crea el zip `personas` con `persona1` y `persona2`.\n",
    "\n",
    "  10. ¿Cuántas \"elementos\" tiene `personas`? ¿Por qué?\n",
    "\n",
    "  11. Crea una tupla `etiquetas` con `'peso'`, `'altura'`, y `'color_pelo'`.\n",
    "\n",
    "  12. Crea al zip de `etiquetas`, `persona1`, y `persona2`, llamado \"todo\".\n",
    "\n",
    "- Manipular zips\n",
    "\n",
    "  13. Ordena las propiedades de la variable `personas` alfabéticamente. ¿Puedes? ¿Por qué?"
   ]
  },
  {
   "cell_type": "code",
   "execution_count": 44,
   "metadata": {},
   "outputs": [
    {
     "name": "stdout",
     "output_type": "stream",
     "text": [
      "[(61, 68), (1.54, 1.65), ('pelo marrón', 'pelo rubio')]\n"
     ]
    }
   ],
   "source": [
    "#9\n",
    "personas = list(zip(persona1 , persona2))\n",
    "print(personas)\n"
   ]
  },
  {
   "cell_type": "code",
   "execution_count": 45,
   "metadata": {},
   "outputs": [
    {
     "data": {
      "text/plain": [
       "3"
      ]
     },
     "execution_count": 45,
     "metadata": {},
     "output_type": "execute_result"
    }
   ],
   "source": [
    "#10\n",
    "len(personas)"
   ]
  },
  {
   "cell_type": "code",
   "execution_count": 46,
   "metadata": {},
   "outputs": [
    {
     "data": {
      "text/plain": [
       "3"
      ]
     },
     "execution_count": 46,
     "metadata": {},
     "output_type": "execute_result"
    }
   ],
   "source": [
    "personas_lista = (list(personas))\n",
    "\n",
    "#10\n",
    "len(personas_lista)"
   ]
  },
  {
   "cell_type": "code",
   "execution_count": 49,
   "metadata": {},
   "outputs": [
    {
     "name": "stdout",
     "output_type": "stream",
     "text": [
      "[('peso', 61, 68), ('altura', 1.54, 1.65), ('color_pelo', 'pelo marrón', 'pelo rubio')]\n"
     ]
    }
   ],
   "source": [
    "#11\n",
    "etiquetas = (\"peso\", \"altura\", \"color_pelo\")\n",
    "\n",
    "#12\n",
    "todo = list(zip(etiquetas, persona1, persona2))\n",
    "print(todo)\n"
   ]
  },
  {
   "cell_type": "code",
   "execution_count": null,
   "metadata": {},
   "outputs": [],
   "source": [
    "#13\n",
    "personas.sort()"
   ]
  }
 ],
 "metadata": {
  "kernelspec": {
   "display_name": "Python 3",
   "language": "python",
   "name": "python3"
  },
  "language_info": {
   "codemirror_mode": {
    "name": "ipython",
    "version": 3
   },
   "file_extension": ".py",
   "mimetype": "text/x-python",
   "name": "python",
   "nbconvert_exporter": "python",
   "pygments_lexer": "ipython3",
   "version": "3.12.2"
  }
 },
 "nbformat": 4,
 "nbformat_minor": 2
}
