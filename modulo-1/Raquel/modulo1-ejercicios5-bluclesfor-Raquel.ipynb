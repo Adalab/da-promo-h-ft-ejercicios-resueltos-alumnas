{
 "cells": [
  {
   "cell_type": "code",
   "execution_count": 77,
   "metadata": {},
   "outputs": [
    {
     "name": "stdout",
     "output_type": "stream",
     "text": [
      "[2, 1] [12] [45, 67, 23, 45, 66, 34, 67, 99, 98, 67, 64, 44, 100]\n"
     ]
    }
   ],
   "source": [
    "#EJERCICIOS BUCLES FOR\n",
    "\n",
    "#1\n",
    "temperaturas = [2,45,67,23, 45,66,12,1,34,67,99,98,67,64, 44, 100]\n",
    "bajas_temp = []\n",
    "medias_temp = []\n",
    "altas_temp = []\n",
    "\n",
    "for numero in temperaturas:\n",
    "    if numero in range(10):\n",
    "        bajas_temp.append(numero)\n",
    "    elif numero in range(11,20):\n",
    "        medias_temp.append(numero)\n",
    "    else:\n",
    "        altas_temp.append(numero)\n",
    "\n",
    "print(bajas_temp, medias_temp, altas_temp) \n",
    "\n",
    "    "
   ]
  },
  {
   "cell_type": "code",
   "execution_count": 78,
   "metadata": {},
   "outputs": [
    {
     "name": "stdout",
     "output_type": "stream",
     "text": [
      "[35.6, 33.8] [53.6] [113.0, 152.6, 73.4, 113.0, 150.8, 93.2, 152.6, 210.2, 208.4, 152.6, 147.2, 111.2, 212.0]\n"
     ]
    }
   ],
   "source": [
    "#2. Las temperaturas están en grados centígrados. Para cada una de las listas creadas en el ejercicio anterior, convertid las temperaturas a grados fahrenheit\n",
    "\n",
    "bajas_fahrenheit= []\n",
    "medias_fahrenheit= []\n",
    "altas_fahrenheit=[]\n",
    "\n",
    "for first in bajas_temp:\n",
    "    fahrenheit= (first*9/5)+32\n",
    "    bajas_fahrenheit.append(fahrenheit)\n",
    "\n",
    "for second in medias_temp:\n",
    "    fahrenheit= (second*9/5)+32\n",
    "    medias_fahrenheit.append(fahrenheit)\n",
    "\n",
    "for third in altas_temp:\n",
    "    fahrenheit= (third*9/5)+32\n",
    "    altas_fahrenheit.append(fahrenheit)\n",
    "\n",
    "print(bajas_fahrenheit, medias_fahrenheit, altas_fahrenheit)\n",
    "\n"
   ]
  },
  {
   "cell_type": "code",
   "execution_count": 79,
   "metadata": {},
   "outputs": [
    {
     "name": "stdout",
     "output_type": "stream",
     "text": [
      "0\n",
      "1\n",
      "2\n",
      "3\n",
      "4\n",
      "5\n"
     ]
    }
   ],
   "source": [
    "#3 Define e imprime un rango de 0 a 6 (excluido).\n",
    "for ra in range(6):\n",
    "    print(ra)"
   ]
  },
  {
   "cell_type": "code",
   "execution_count": 80,
   "metadata": {},
   "outputs": [
    {
     "name": "stdout",
     "output_type": "stream",
     "text": [
      "3\n",
      "4\n",
      "5\n",
      "6\n"
     ]
    }
   ],
   "source": [
    "#4\n",
    "for what in range(3,7):\n",
    "    print(what)"
   ]
  },
  {
   "cell_type": "code",
   "execution_count": 81,
   "metadata": {},
   "outputs": [
    {
     "name": "stdout",
     "output_type": "stream",
     "text": [
      "6\n",
      "7\n",
      "8\n"
     ]
    }
   ],
   "source": [
    "#5\n",
    "for you in range(6,9):\n",
    "    print(you)"
   ]
  },
  {
   "cell_type": "code",
   "execution_count": 82,
   "metadata": {},
   "outputs": [
    {
     "name": "stdout",
     "output_type": "stream",
     "text": [
      "2\n",
      "3\n",
      "4\n"
     ]
    }
   ],
   "source": [
    "for dos in range(2,5):\n",
    "    print(dos)"
   ]
  },
  {
   "cell_type": "code",
   "execution_count": 83,
   "metadata": {},
   "outputs": [
    {
     "name": "stdout",
     "output_type": "stream",
     "text": [
      "2\n",
      "5\n",
      "8\n",
      "11\n"
     ]
    }
   ],
   "source": [
    "#7\n",
    "for rango in range(2,13,3):\n",
    "    print(rango)\n"
   ]
  },
  {
   "cell_type": "code",
   "execution_count": 84,
   "metadata": {},
   "outputs": [
    {
     "name": "stdout",
     "output_type": "stream",
     "text": [
      "1\n",
      "3\n",
      "5\n",
      "7\n",
      "9\n"
     ]
    }
   ],
   "source": [
    "#8\n",
    "for impar in range(1,11,2):\n",
    "    print(impar)\n",
    "\n"
   ]
  },
  {
   "cell_type": "code",
   "execution_count": 85,
   "metadata": {},
   "outputs": [
    {
     "name": "stdout",
     "output_type": "stream",
     "text": [
      "4\n",
      "2025\n",
      "4489\n",
      "529\n",
      "2025\n",
      "4356\n",
      "144\n",
      "1\n",
      "1156\n",
      "4489\n",
      "9801\n",
      "9604\n",
      "4489\n",
      "4096\n",
      "1936\n",
      "10000\n"
     ]
    }
   ],
   "source": [
    "#9 Temperaturas al cuadrado\n",
    "\n",
    "for x in temperaturas:\n",
    "    elevados = x**2\n",
    "    print(elevados)"
   ]
  },
  {
   "cell_type": "code",
   "execution_count": 86,
   "metadata": {},
   "outputs": [
    {
     "name": "stdout",
     "output_type": "stream",
     "text": [
      "[2, 45, 67, 23, 45, 66, 12, 1, 34, 67, 99, 98, 67, 64, 44, 100]\n",
      "[0, 1, 1, 1, 1, 0, 0, 1, 0, 1, 1, 0, 1, 0, 0, 0]\n"
     ]
    }
   ],
   "source": [
    "#10 lista nueva donde tengamos el resto de la división de cada uno de los números entre 2.  \n",
    "\n",
    "print(temperaturas)\n",
    "lista_new = []\n",
    "\n",
    "for y in temperaturas:\n",
    "    resto= y %2\n",
    "    lista_new.append(resto)\n",
    "print(lista_new)\n",
    "\n",
    "\n"
   ]
  },
  {
   "cell_type": "code",
   "execution_count": 87,
   "metadata": {},
   "outputs": [
    {
     "name": "stdout",
     "output_type": "stream",
     "text": [
      "[True, False, False, False, False, True, True, False, True, False, False, True, False, True, True, True]\n"
     ]
    }
   ],
   "source": [
    "#11 lista nueva donde tengamos solo los elementos pares de la lista `temperaturas`. \n",
    "\n",
    "nueva_pares = []\n",
    "\n",
    "for z in temperaturas:\n",
    "    pruf = z%2 ==0\n",
    "    nueva_pares.append(pruf)\n",
    "print(nueva_pares)"
   ]
  },
  {
   "cell_type": "code",
   "execution_count": 88,
   "metadata": {},
   "outputs": [
    {
     "name": "stdout",
     "output_type": "stream",
     "text": [
      "[2, 45, 23, 45, 12, 1, 34, 44]\n"
     ]
    }
   ],
   "source": [
    "#12\n",
    "\n",
    "menores = []\n",
    "\n",
    "for r in temperaturas:\n",
    "   if r <= 50:\n",
    "    menores.append(r)\n",
    "\n",
    "print(menores)\n"
   ]
  }
 ],
 "metadata": {
  "kernelspec": {
   "display_name": "Python 3",
   "language": "python",
   "name": "python3"
  },
  "language_info": {
   "codemirror_mode": {
    "name": "ipython",
    "version": 3
   },
   "file_extension": ".py",
   "mimetype": "text/x-python",
   "name": "python",
   "nbconvert_exporter": "python",
   "pygments_lexer": "ipython3",
   "version": "3.12.2"
  }
 },
 "nbformat": 4,
 "nbformat_minor": 2
}
