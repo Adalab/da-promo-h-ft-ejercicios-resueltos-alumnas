{
 "cells": [
  {
   "cell_type": "code",
   "execution_count": 1,
   "metadata": {},
   "outputs": [
    {
     "name": "stdout",
     "output_type": "stream",
     "text": [
      "Estoy comiendo manzana\n",
      "Estoy comiendo plátano\n",
      "Estoy comiendo naranja\n"
     ]
    }
   ],
   "source": [
    "frutas = [\"manzana\", \"plátano\", \"naranja\"]\n",
    "\n",
    "for fruta in frutas:\n",
    "    print(\"Estoy comiendo\", fruta)"
   ]
  },
  {
   "cell_type": "code",
   "execution_count": 6,
   "metadata": {},
   "outputs": [
    {
     "name": "stdout",
     "output_type": "stream",
     "text": [
      "show me list1\n",
      "show me list2\n",
      "show me list3\n"
     ]
    }
   ],
   "source": [
    "prueba = [\"list1\",\"list2\", \"list3\"]\n",
    "for showme in prueba:\n",
    "    print(\"show me\", showme)"
   ]
  },
  {
   "cell_type": "code",
   "execution_count": 7,
   "metadata": {},
   "outputs": [
    {
     "name": "stdout",
     "output_type": "stream",
     "text": [
      "[1, 4, 9, 16, 25]\n"
     ]
    }
   ],
   "source": [
    "numeros = [1, 2, 3, 4, 5]\n",
    "cuadrados = [num**2 for num in numeros]\n",
    "\n",
    "print(cuadrados)  # Output: [1, 4, 9, 16, 25]"
   ]
  },
  {
   "cell_type": "code",
   "execution_count": 8,
   "metadata": {},
   "outputs": [
    {
     "name": "stdout",
     "output_type": "stream",
     "text": [
      "Error: No se puede dividir entre cero.\n"
     ]
    }
   ],
   "source": [
    "try:\n",
    "    dividendo = 10\n",
    "    divisor = 0\n",
    "    resultado = dividendo / divisor\n",
    "except ZeroDivisionError:\n",
    "    print(\"Error: No se puede dividir entre cero.\")"
   ]
  },
  {
   "cell_type": "code",
   "execution_count": 13,
   "metadata": {},
   "outputs": [
    {
     "ename": "NameError",
     "evalue": "name 'textos' is not defined",
     "output_type": "error",
     "traceback": [
      "\u001b[1;31m---------------------------------------------------------------------------\u001b[0m",
      "\u001b[1;31mNameError\u001b[0m                                 Traceback (most recent call last)",
      "Cell \u001b[1;32mIn[13], line 3\u001b[0m\n\u001b[0;32m      1\u001b[0m mi_lista \u001b[38;5;241m=\u001b[39m [\u001b[38;5;124m\"\u001b[39m\u001b[38;5;124mfisbs\u001b[39m\u001b[38;5;124m\"\u001b[39m, \u001b[38;5;124m\"\u001b[39m\u001b[38;5;124mCNW\u001b[39m\u001b[38;5;124m\"\u001b[39m, \u001b[38;5;124m\"\u001b[39m\u001b[38;5;124mJCBhgH\u001b[39m\u001b[38;5;124m\"\u001b[39m, \u001b[38;5;124m\"\u001b[39m\u001b[38;5;124mgJhU\u001b[39m\u001b[38;5;124m\"\u001b[39m]\n\u001b[0;32m      2\u001b[0m [textos\u001b[38;5;241m.\u001b[39mlower() \u001b[38;5;28;01mfor\u001b[39;00m textos \u001b[38;5;129;01min\u001b[39;00m mi_lista \u001b[38;5;28;01mif\u001b[39;00m \u001b[38;5;28mlen\u001b[39m(textos) \u001b[38;5;241m>\u001b[39m \u001b[38;5;241m3\u001b[39m]\n\u001b[1;32m----> 3\u001b[0m \u001b[38;5;28mprint\u001b[39m(\u001b[43mtextos\u001b[49m) \n",
      "\u001b[1;31mNameError\u001b[0m: name 'textos' is not defined"
     ]
    }
   ],
   "source": [
    "mi_lista = [\"fisbs\", \"CNW\", \"JCBhgH\", \"gJhU\"]\n",
    "prueba = [textos.lower() for textos in mi_lista if len(textos) > 3]\n",
    "print(textos) "
   ]
  }
 ],
 "metadata": {
  "kernelspec": {
   "display_name": "Python 3",
   "language": "python",
   "name": "python3"
  },
  "language_info": {
   "codemirror_mode": {
    "name": "ipython",
    "version": 3
   },
   "file_extension": ".py",
   "mimetype": "text/x-python",
   "name": "python",
   "nbconvert_exporter": "python",
   "pygments_lexer": "ipython3",
   "version": "3.12.2"
  }
 },
 "nbformat": 4,
 "nbformat_minor": 2
}
