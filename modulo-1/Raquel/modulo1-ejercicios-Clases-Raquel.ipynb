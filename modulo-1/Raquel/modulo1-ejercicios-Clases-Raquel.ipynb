{
 "cells": [
  {
   "cell_type": "markdown",
   "metadata": {},
   "source": [
    "#Ejercicios CLASES\n",
    "1"
   ]
  },
  {
   "cell_type": "code",
   "execution_count": 18,
   "metadata": {},
   "outputs": [],
   "source": [
    "class Vehiculo:\n",
    "    def __init__(self, marca, modelo, año,velocidad_actual = 120, encendido= False):\n",
    "        self.marca = marca\n",
    "        self.modelo = modelo\n",
    "        self.año = año\n",
    "        self.velocidad_actual = velocidad_actual\n",
    "        self.encendido= encendido\n",
    "\n",
    "    def informacion(self):\n",
    "        return (f\"La info del vehiculo es: marca {self.marca}, modelo {self.modelo}, año {self.año}\")\n",
    "\n",
    "    def encender(self):\n",
    "        if not self.encendido:\n",
    "            self.encendido =True\n",
    "            return \"El vehículo ahora está encendido\"\n",
    "        else:\n",
    "            return \"Ey,no puedes encender un vehículo ya encendido. ;)\"\n",
    "        \n",
    "    def apagar(self):\n",
    "        if self.encendido:\n",
    "            self.encendido = False\n",
    "            self.velocidad_actual =0\n",
    "            print(f\"La velocidad de tu vehículo ahora es {self.velocidad_actual}\")\n",
    "            return  \"Tu vehículo está apagado.\"\n",
    "        else:\n",
    "            return \"Tu vehículo ya está apagado.\"\n",
    "        \n",
    "            \n"
   ]
  },
  {
   "cell_type": "code",
   "execution_count": 19,
   "metadata": {},
   "outputs": [],
   "source": [
    "bmw = Vehiculo(\"bmw\",\"e40\",1980)\n"
   ]
  },
  {
   "cell_type": "code",
   "execution_count": 20,
   "metadata": {},
   "outputs": [
    {
     "data": {
      "text/plain": [
       "'La info del vehiculo es: marca bmw, modelo e40, año 1980'"
      ]
     },
     "execution_count": 20,
     "metadata": {},
     "output_type": "execute_result"
    }
   ],
   "source": [
    "bmw.informacion()"
   ]
  },
  {
   "cell_type": "code",
   "execution_count": 21,
   "metadata": {},
   "outputs": [
    {
     "data": {
      "text/plain": [
       "'Tu vehículo ya está apagado.'"
      ]
     },
     "execution_count": 21,
     "metadata": {},
     "output_type": "execute_result"
    }
   ],
   "source": [
    "bmw.apagar()"
   ]
  },
  {
   "cell_type": "code",
   "execution_count": 22,
   "metadata": {},
   "outputs": [],
   "source": [
    "def acelerar (self,velocidad):\n",
    "    if self.encendido: #si el vehículo está encendido, se puede acelerar\n",
    "        self.velocidad_actual += velocidad\n",
    "        return f\"el vehículo aceleró y ahora va a {self.velocidad_actual}km/h\"\n",
    "    else:\n",
    "        return f\"No se puede acelerar, el vehículo está apagado\"\n",
    "    \n",
    "def frenar(self,velocidad):\n",
    "    if self.encendido:\n",
    "        self.velocidad_actual -= velocidad #le pido que le reste la velocidad que yo le voy a pasar con el argumento\n",
    "        if self.velocidad_actual <=0:\n",
    "            self.velocidad_actual =0\n",
    "        return f\"El vehículo freno y ahora va a {self.velocidad_actual} km/h\"\n",
    "    else:\n",
    "        return \"no se puede frenar, el vehículo está apagado.\"\n",
    "\n",
    "def detener(self):\n",
    "    if self.encendido:\n",
    "        while self.velocidad_actual >0:\n",
    "            self.velocidad_actual = max(0,self.velocidad_actual)\n",
    "        return \"el vehículo de detuvo.\"\n",
    "    else:\n",
    "        return \"No se puede detener porque el vehículo está apagado.\" \n",
    "\n",
    "\n",
    "class Coche(Vehiculo):\n",
    "    def __init__(self, marca, modelo, color):\n",
    "        super().__init__(marca, modelo)\n",
    "        self.color= color\n",
    "\n",
    "    def accion(self):\n",
    "        return \"Algo pasa\"\n",
    "\n"
   ]
  },
  {
   "cell_type": "code",
   "execution_count": 23,
   "metadata": {},
   "outputs": [
    {
     "ename": "TypeError",
     "evalue": "Vehiculo.__init__() missing 1 required positional argument: 'año'",
     "output_type": "error",
     "traceback": [
      "\u001b[1;31m---------------------------------------------------------------------------\u001b[0m",
      "\u001b[1;31mTypeError\u001b[0m                                 Traceback (most recent call last)",
      "Cell \u001b[1;32mIn[23], line 1\u001b[0m\n\u001b[1;32m----> 1\u001b[0m mitoyo \u001b[38;5;241m=\u001b[39m \u001b[43mCoche\u001b[49m\u001b[43m(\u001b[49m\u001b[38;5;124;43m\"\u001b[39;49m\u001b[38;5;124;43mtoyota\u001b[39;49m\u001b[38;5;124;43m\"\u001b[39;49m\u001b[43m,\u001b[49m\u001b[43m \u001b[49m\u001b[38;5;124;43m\"\u001b[39;49m\u001b[38;5;124;43mauris\u001b[39;49m\u001b[38;5;124;43m\"\u001b[39;49m\u001b[43m,\u001b[49m\u001b[43m \u001b[49m\u001b[38;5;124;43m\"\u001b[39;49m\u001b[38;5;124;43mblanco\u001b[39;49m\u001b[38;5;124;43m\"\u001b[39;49m\u001b[43m)\u001b[49m\n",
      "Cell \u001b[1;32mIn[22], line 28\u001b[0m, in \u001b[0;36mCoche.__init__\u001b[1;34m(self, marca, modelo, color)\u001b[0m\n\u001b[0;32m     27\u001b[0m \u001b[38;5;28;01mdef\u001b[39;00m \u001b[38;5;21m__init__\u001b[39m(\u001b[38;5;28mself\u001b[39m, marca, modelo, color):\n\u001b[1;32m---> 28\u001b[0m     \u001b[38;5;28;43msuper\u001b[39;49m\u001b[43m(\u001b[49m\u001b[43m)\u001b[49m\u001b[38;5;241;43m.\u001b[39;49m\u001b[38;5;21;43m__init__\u001b[39;49m\u001b[43m(\u001b[49m\u001b[43mmarca\u001b[49m\u001b[43m,\u001b[49m\u001b[43m \u001b[49m\u001b[43mmodelo\u001b[49m\u001b[43m)\u001b[49m\n\u001b[0;32m     29\u001b[0m     \u001b[38;5;28mself\u001b[39m\u001b[38;5;241m.\u001b[39mcolor\u001b[38;5;241m=\u001b[39m color\n",
      "\u001b[1;31mTypeError\u001b[0m: Vehiculo.__init__() missing 1 required positional argument: 'año'"
     ]
    }
   ],
   "source": [
    "mitoyo = Coche(\"toyota\", \"auris\", \"blanco\")"
   ]
  }
 ],
 "metadata": {
  "kernelspec": {
   "display_name": "Python 3",
   "language": "python",
   "name": "python3"
  },
  "language_info": {
   "codemirror_mode": {
    "name": "ipython",
    "version": 3
   },
   "file_extension": ".py",
   "mimetype": "text/x-python",
   "name": "python",
   "nbconvert_exporter": "python",
   "pygments_lexer": "ipython3",
   "version": "3.12.2"
  }
 },
 "nbformat": 4,
 "nbformat_minor": 2
}
