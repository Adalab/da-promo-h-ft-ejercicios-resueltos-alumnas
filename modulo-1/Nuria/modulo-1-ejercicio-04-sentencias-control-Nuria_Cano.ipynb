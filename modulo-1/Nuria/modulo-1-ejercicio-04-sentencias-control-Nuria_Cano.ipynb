{
 "cells": [
  {
   "cell_type": "code",
   "execution_count": 3,
   "metadata": {},
   "outputs": [
    {
     "name": "stdout",
     "output_type": "stream",
     "text": [
      "va1= 8 var2= 2 var3= 8\n"
     ]
    }
   ],
   "source": [
    "# Ejercicio 1\n",
    "var1=int(8)\n",
    "var2=int(2)\n",
    "var3=int(8)\n",
    "\n",
    "print('va1=',var1,'var2=',var2,'var3=',var3)"
   ]
  },
  {
   "cell_type": "code",
   "execution_count": 4,
   "metadata": {},
   "outputs": [
    {
     "name": "stdout",
     "output_type": "stream",
     "text": [
      "¡Es enorme!\n"
     ]
    }
   ],
   "source": [
    "# Ejercicio 2\n",
    "if var1 > 6:\n",
    "    print('¡Es enorme!')\n",
    "\n",
    "else:\n",
    "    print('Es pequeñita')"
   ]
  },
  {
   "cell_type": "code",
   "execution_count": 5,
   "metadata": {},
   "outputs": [
    {
     "name": "stdout",
     "output_type": "stream",
     "text": [
      "Es pequeñita\n"
     ]
    }
   ],
   "source": [
    "# Ejercicio 3\n",
    "if var2 > 6:\n",
    "    print('¡Es enorme también!')\n",
    "\n",
    "else:\n",
    "    print('Es pequeñita')"
   ]
  },
  {
   "cell_type": "code",
   "execution_count": 6,
   "metadata": {},
   "outputs": [
    {
     "name": "stdout",
     "output_type": "stream",
     "text": [
      "¡Es enorme!\n",
      "¡Pero de verdad!\n"
     ]
    }
   ],
   "source": [
    "# Ejercicio 4\n",
    "if var3 > 6:\n",
    "    print('¡Es enorme!')\n",
    "    print('¡Pero de verdad!')\n",
    "\n",
    "else:\n",
    "    print('Es pequeñita')"
   ]
  },
  {
   "cell_type": "code",
   "execution_count": 7,
   "metadata": {},
   "outputs": [
    {
     "name": "stdout",
     "output_type": "stream",
     "text": [
      "Son iguales.\n"
     ]
    }
   ],
   "source": [
    "# Ejercicio 5\n",
    "if var1 == var3:\n",
    "    print('Son iguales.')\n",
    "\n",
    "else:\n",
    "    print('Son distintas.')"
   ]
  },
  {
   "cell_type": "code",
   "execution_count": 8,
   "metadata": {},
   "outputs": [
    {
     "name": "stdout",
     "output_type": "stream",
     "text": [
      "Son distintas.\n"
     ]
    }
   ],
   "source": [
    "# Ejercicio 6\n",
    "if var1 == var2:\n",
    "    print('Son iguales.')\n",
    "\n",
    "else:\n",
    "    print('Son distintas.')"
   ]
  },
  {
   "cell_type": "code",
   "execution_count": 9,
   "metadata": {},
   "outputs": [
    {
     "name": "stdout",
     "output_type": "stream",
     "text": [
      "La diferencia es 6\n"
     ]
    }
   ],
   "source": [
    "# Ejercicio 7\n",
    "if var1 >= var2:\n",
    "    dif = var1 - var2\n",
    "    print('La diferencia es', dif)\n",
    "\n",
    "else:\n",
    "    print('var1 es mas pequeña que var2')"
   ]
  },
  {
   "cell_type": "code",
   "execution_count": 10,
   "metadata": {},
   "outputs": [
    {
     "name": "stdout",
     "output_type": "stream",
     "text": [
      "¡Es enorme!\n"
     ]
    }
   ],
   "source": [
    "# Ejercicio 8\n",
    "if var1 > 6:\n",
    "    print('¡Es enorme!')\n",
    "\n",
    "else:\n",
    "    print('Es chiquitín.')"
   ]
  },
  {
   "cell_type": "code",
   "execution_count": 11,
   "metadata": {},
   "outputs": [
    {
     "name": "stdout",
     "output_type": "stream",
     "text": [
      "Es chiquitín también\n"
     ]
    }
   ],
   "source": [
    "# Ejercicio 9\n",
    "if var2 > 6:\n",
    "    print('Es enorme también')\n",
    "\n",
    "else:\n",
    "    print('Es chiquitín también')"
   ]
  },
  {
   "cell_type": "code",
   "execution_count": 12,
   "metadata": {},
   "outputs": [
    {
     "name": "stdout",
     "output_type": "stream",
     "text": [
      "Son iguales\n"
     ]
    }
   ],
   "source": [
    "# Ejercicio 10\n",
    "if var1 == var3 :\n",
    "    print('Son iguales')\n",
    "\n",
    "else:\n",
    "    print('Son distintos')"
   ]
  },
  {
   "cell_type": "code",
   "execution_count": 16,
   "metadata": {},
   "outputs": [
    {
     "name": "stdout",
     "output_type": "stream",
     "text": [
      "Entrada gratis\n"
     ]
    }
   ],
   "source": [
    "# Ejercicio 11\n",
    "edad_cliente = int(input('Por favor, introduce tu edad en números:'))\n",
    "\n",
    "if edad_cliente < 4:\n",
    "    print('Entrada gratis')\n",
    "\n",
    "elif 4 <= edad_cliente <= 18:\n",
    "    print('Entrada 5€')\n",
    "\n",
    "else:\n",
    "    print('Entrada 10€')"
   ]
  },
  {
   "cell_type": "code",
   "execution_count": 17,
   "metadata": {},
   "outputs": [
    {
     "name": "stdout",
     "output_type": "stream",
     "text": [
      "Tienes ahorrados  5 €\n",
      "Tienes ahorrados  10 €\n",
      "Tienes ahorrados  15 €\n",
      "Tienes ahorrados  20 €\n"
     ]
    }
   ],
   "source": [
    "# Ejercicio 12\n",
    "ahorros = int(5)\n",
    "\n",
    "while ahorros <= 20:\n",
    "    print('Tienes ahorrados ', ahorros, '€')\n",
    "    ahorros += 5\n",
    "\n"
   ]
  },
  {
   "cell_type": "code",
   "execution_count": 34,
   "metadata": {},
   "outputs": [
    {
     "name": "stdout",
     "output_type": "stream",
     "text": [
      "No has introducido bien las unidades. Inténtalo de nuevo!\n"
     ]
    }
   ],
   "source": [
    "# Ejercicio 13\n",
    "unidad = input('Desde que unidades va a convertir la temperatura? Escribe C para Celsius o F para Fahrenheit')\n",
    "valor = float(input('Cuál es el valor de la temperatura que deseas converir? Si utilizas decimales sepáralos por un .'))\n",
    "\n",
    "if unidad in ('c','C'):\n",
    "    conversion1 = valor * 33.8\n",
    "    print('La temperatura en Fahrenheit es de ', conversion1)\n",
    "\n",
    "elif unidad in ('f','F'):\n",
    "    conversion2 = valor * -17.22\n",
    "    print('La temperatura en Celsius es ', conversion2)\n",
    "\n",
    "else:\n",
    "    print('No has introducido bien las unidades. Inténtalo de nuevo!') "
   ]
  },
  {
   "cell_type": "code",
   "execution_count": 57,
   "metadata": {},
   "outputs": [
    {
     "name": "stdout",
     "output_type": "stream",
     "text": [
      "No has introducido bien los valores.\n",
      "Recuerda introducir tus ingresos anuales en números y tu estado civil en myúsculas.\n",
      "Intentalo de nuevo\n"
     ]
    }
   ],
   "source": [
    "# Ejercicio 14\n",
    "ingreso_anual = input('Cual es tu ingreso anual?')\n",
    "estado_civil = input('Cual es tu estado civil? \\'soltero\\' (S) o \\'casado\\' (C)')\n",
    "\n",
    "if estado_civil == 'S':\n",
    "\n",
    "    if ingreso_anual <= 9875:\n",
    "        impuesto = ingreso_anual * 0.1\n",
    "        print('Tu impuesto es de', impuesto)\n",
    "\n",
    "    elif 9876 <= ingreso_anual <= 40125:\n",
    "        restante = ingreso_anual - 9875\n",
    "        impuesto = (9875 * 0.1) + (restante * 0.12)\n",
    "        print('Tu impuesto es de ', impuesto) \n",
    "\n",
    "elif estado_civil == 'C':\n",
    "    if ingreso_anual <= 19850:\n",
    "        impuesto = ingreso_anual * 0.1\n",
    "        print('Tu impuesto es de', impuesto)\n",
    "\n",
    "    elif 19851 <= ingreso_anual <= 80250:\n",
    "        restante = ingreso_anual - 19850\n",
    "        impuesto = (19850 * 0.1) + (restante * 0.12)\n",
    "        print('Tu impuesto es de ', impuesto)\n",
    "\n",
    "else:\n",
    "    print('No has introducido bien los valores.\\nRecuerda introducir tus ingresos anuales en números y tu estado civil en myúsculas.\\nIntentalo de nuevo')"
   ]
  },
  {
   "cell_type": "code",
   "execution_count": 69,
   "metadata": {},
   "outputs": [
    {
     "name": "stdout",
     "output_type": "stream",
     "text": [
      "El valor introducido no es correcto. Intentalod e nuevo\n"
     ]
    }
   ],
   "source": [
    "# Ejercicio 15\n",
    "contaminacion = float(input('Introduce el valor de la concentración de PM2,5 en µg/m³'))\n",
    "\n",
    "if 0 <= contaminacion <= 12:\n",
    "    print('La calidad del aire es excelente')\n",
    "\n",
    "elif 13 < contaminacion <= 35:\n",
    "    print('La calidad del aire es buena') \n",
    "\n",
    "elif 36 < contaminacion < 55:\n",
    "    print('La calidad del aire es aceptable')\n",
    "\n",
    "elif 56 < contaminacion < 150:\n",
    "    print('La calidad del aire no se considera saludable para grupos sensibles')\n",
    "    print('Adverimos de posibles efectos negativos en la salud')\n",
    "\n",
    "elif contaminacion >150:\n",
    "     print('La calidad del aire no se considera saludable')\n",
    "     print('Adverimos de posibles efectos negativos en la salud')\n",
    "\n",
    "else:\n",
    "    print('El valor introducido no es correcto. Intentalod e nuevo')\n",
    "     "
   ]
  },
  {
   "cell_type": "code",
   "execution_count": null,
   "metadata": {},
   "outputs": [],
   "source": []
  }
 ],
 "metadata": {
  "kernelspec": {
   "display_name": "base",
   "language": "python",
   "name": "python3"
  },
  "language_info": {
   "codemirror_mode": {
    "name": "ipython",
    "version": 3
   },
   "file_extension": ".py",
   "mimetype": "text/x-python",
   "name": "python",
   "nbconvert_exporter": "python",
   "pygments_lexer": "ipython3",
   "version": "3.9.7"
  }
 },
 "nbformat": 4,
 "nbformat_minor": 2
}
