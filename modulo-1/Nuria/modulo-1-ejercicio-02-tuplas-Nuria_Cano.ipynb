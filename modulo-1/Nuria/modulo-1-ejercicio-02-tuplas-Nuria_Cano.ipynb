{
 "cells": [
  {
   "cell_type": "markdown",
   "metadata": {},
   "source": [
    "EJERCICIO DE TUPLAS"
   ]
  },
  {
   "cell_type": "code",
   "execution_count": 1,
   "metadata": {},
   "outputs": [
    {
     "name": "stdout",
     "output_type": "stream",
     "text": [
      "(61, 1.54, 'marron')\n",
      "<class 'tuple'>\n"
     ]
    }
   ],
   "source": [
    "# Ejercico 1\n",
    "\n",
    "persona1 = 61,1.54,'marron'\n",
    "\n",
    "print(persona1)\n",
    "print(type(persona1))"
   ]
  },
  {
   "cell_type": "code",
   "execution_count": 2,
   "metadata": {},
   "outputs": [
    {
     "name": "stdout",
     "output_type": "stream",
     "text": [
      "(68, 1.65, 'rubio')\n",
      "<class 'tuple'>\n"
     ]
    }
   ],
   "source": [
    "# Ejercicio 2\n",
    "persona2 = (68, 1.65, 'rubio')\n",
    "\n",
    "print(persona2)\n",
    "print(type(persona2))\n"
   ]
  },
  {
   "cell_type": "code",
   "execution_count": 3,
   "metadata": {},
   "outputs": [
    {
     "name": "stdout",
     "output_type": "stream",
     "text": [
      "['M', 42, 39]\n",
      "<class 'list'>\n"
     ]
    }
   ],
   "source": [
    "# Ejercico 3\n",
    "\n",
    "talla = ['M', 42, 39]\n",
    "\n",
    "print(talla)\n",
    "print(type(talla))\n"
   ]
  },
  {
   "cell_type": "code",
   "execution_count": 4,
   "metadata": {},
   "outputs": [
    {
     "name": "stdout",
     "output_type": "stream",
     "text": [
      "('M', 42, 39)\n",
      "<class 'tuple'>\n"
     ]
    }
   ],
   "source": [
    "# Ejercicio 4\n",
    "tupla_talla = tuple(talla)\n",
    "\n",
    "print(tupla_talla)\n",
    "print(type(tupla_talla))\n"
   ]
  },
  {
   "cell_type": "code",
   "execution_count": 5,
   "metadata": {},
   "outputs": [
    {
     "name": "stdout",
     "output_type": "stream",
     "text": [
      "(61, 1.54, 'marron', 'M', 42, 39)\n"
     ]
    }
   ],
   "source": [
    "# Ejercicio 5\n",
    "persona1 = persona1 + tupla_talla\n",
    "print(persona1)"
   ]
  },
  {
   "cell_type": "code",
   "execution_count": 6,
   "metadata": {},
   "outputs": [
    {
     "name": "stdout",
     "output_type": "stream",
     "text": [
      "rubio\n"
     ]
    }
   ],
   "source": [
    "# Ejercicio 6\n",
    "list_persona2 = list(persona2)\n",
    "color = (list_persona2.pop(2))\n",
    "print(color)"
   ]
  },
  {
   "cell_type": "code",
   "execution_count": 7,
   "metadata": {},
   "outputs": [
    {
     "name": "stdout",
     "output_type": "stream",
     "text": [
      "6\n"
     ]
    }
   ],
   "source": [
    "# Ejercicio 7\n",
    "print(len(persona1))"
   ]
  },
  {
   "cell_type": "code",
   "execution_count": 8,
   "metadata": {},
   "outputs": [
    {
     "name": "stdout",
     "output_type": "stream",
     "text": [
      "marron\n"
     ]
    }
   ],
   "source": [
    "# Ejercico 8\n",
    "peso = persona1[0]\n",
    "altura = persona1[1]\n",
    "color_pelo = persona1[2]\n",
    "\n",
    "print(color_pelo)"
   ]
  },
  {
   "cell_type": "code",
   "execution_count": 9,
   "metadata": {},
   "outputs": [],
   "source": [
    "# Ejercico 9\n",
    "zip1 = zip(persona1,persona2)\n"
   ]
  },
  {
   "cell_type": "code",
   "execution_count": 10,
   "metadata": {},
   "outputs": [
    {
     "name": "stdout",
     "output_type": "stream",
     "text": [
      "3\n"
     ]
    }
   ],
   "source": [
    "# Ejercico 10\n",
    "print(len(list(zip1)))"
   ]
  },
  {
   "cell_type": "code",
   "execution_count": 11,
   "metadata": {},
   "outputs": [],
   "source": [
    "# Ejercicio 11\n",
    "etiquetas = 'peso', 'altura', 'color_pelo'\n"
   ]
  },
  {
   "cell_type": "code",
   "execution_count": 12,
   "metadata": {},
   "outputs": [],
   "source": [
    "# Ejercicio 12\n",
    "todo = zip(etiquetas,persona1,persona2)"
   ]
  },
  {
   "cell_type": "code",
   "execution_count": 13,
   "metadata": {},
   "outputs": [
    {
     "name": "stdout",
     "output_type": "stream",
     "text": [
      "[('altura', 1.54, 1.65), ('color_pelo', 'marron', 'rubio'), ('peso', 61, 68)]\n"
     ]
    }
   ],
   "source": [
    "# Ejercicio 13\n",
    "# Para manipular la informacion dentro de 'todos' primero hay que descomprimirla convirtiendola en un lista:\n",
    "todo_lista = list(todo)\n",
    "\n",
    "print(sorted(todo_lista))"
   ]
  },
  {
   "cell_type": "code",
   "execution_count": null,
   "metadata": {},
   "outputs": [],
   "source": []
  }
 ],
 "metadata": {
  "kernelspec": {
   "display_name": "base",
   "language": "python",
   "name": "python3"
  },
  "language_info": {
   "codemirror_mode": {
    "name": "ipython",
    "version": 3
   },
   "file_extension": ".py",
   "mimetype": "text/x-python",
   "name": "python",
   "nbconvert_exporter": "python",
   "pygments_lexer": "ipython3",
   "version": "3.9.7"
  }
 },
 "nbformat": 4,
 "nbformat_minor": 2
}
