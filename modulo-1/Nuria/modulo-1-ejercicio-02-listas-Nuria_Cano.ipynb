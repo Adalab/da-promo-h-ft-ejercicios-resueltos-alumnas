{
 "cells": [
  {
   "cell_type": "code",
   "execution_count": 1,
   "metadata": {},
   "outputs": [
    {
     "name": "stdout",
     "output_type": "stream",
     "text": [
      "['azul', 'verde', 'amarillo', 'rojo', 'naranja', 'blanco']\n"
     ]
    }
   ],
   "source": [
    "# 1\n",
    "colores = ['azul','verde','amarillo','rojo','naranja','blanco']\n",
    "print(colores)"
   ]
  },
  {
   "cell_type": "code",
   "execution_count": 2,
   "metadata": {},
   "outputs": [
    {
     "name": "stdout",
     "output_type": "stream",
     "text": [
      "[21, 43, 65]\n"
     ]
    }
   ],
   "source": [
    "# 2\n",
    "buses = [21,43,65]\n",
    "print(buses)\n"
   ]
  },
  {
   "cell_type": "code",
   "execution_count": 3,
   "metadata": {},
   "outputs": [
    {
     "name": "stdout",
     "output_type": "stream",
     "text": [
      "[21, 23, 26, 25, 25, 25, 22]\n"
     ]
    }
   ],
   "source": [
    "# 3\n",
    "temperaturas = [21,23,26,25,25,25,22]\n",
    "print(temperaturas)"
   ]
  },
  {
   "cell_type": "code",
   "execution_count": 4,
   "metadata": {},
   "outputs": [
    {
     "name": "stdout",
     "output_type": "stream",
     "text": [
      "['N', 'u', 'r', 'i', 'A']\n",
      "['C', 'a', 'n', 'o']\n"
     ]
    }
   ],
   "source": [
    "# 4 y 5\n",
    "nombres = list('NuriA')\n",
    "apellidos = list('Cano')\n",
    "print(nombres)\n",
    "print(apellidos)"
   ]
  },
  {
   "cell_type": "code",
   "execution_count": 5,
   "metadata": {},
   "outputs": [
    {
     "data": {
      "text/plain": [
       "3"
      ]
     },
     "execution_count": 5,
     "metadata": {},
     "output_type": "execute_result"
    }
   ],
   "source": [
    "# 6\n",
    "len(buses)"
   ]
  },
  {
   "cell_type": "code",
   "execution_count": 6,
   "metadata": {},
   "outputs": [
    {
     "data": {
      "text/plain": [
       "4"
      ]
     },
     "execution_count": 6,
     "metadata": {},
     "output_type": "execute_result"
    }
   ],
   "source": [
    "# 7\n",
    "len(apellidos)"
   ]
  },
  {
   "cell_type": "code",
   "execution_count": 7,
   "metadata": {},
   "outputs": [
    {
     "name": "stdout",
     "output_type": "stream",
     "text": [
      "Temp max: 26 \n",
      "Temp min: 21\n"
     ]
    }
   ],
   "source": [
    "# 8\n",
    "t_max = max(temperaturas)\n",
    "t_min = min(temperaturas)\n",
    "print('Temp max:', t_max ,'\\nTemp min:', t_min)"
   ]
  },
  {
   "cell_type": "code",
   "execution_count": 8,
   "metadata": {},
   "outputs": [
    {
     "name": "stdout",
     "output_type": "stream",
     "text": [
      "hay una 'e' en nuria? False\n"
     ]
    }
   ],
   "source": [
    "# 9\n",
    "print('hay una \\'e\\' en nuria?', 'e' in nombres )"
   ]
  },
  {
   "cell_type": "code",
   "execution_count": 9,
   "metadata": {},
   "outputs": [
    {
     "name": "stdout",
     "output_type": "stream",
     "text": [
      "existe el color 'rosa' en la siguiente lista? \n",
      " ['azul', 'verde', 'amarillo', 'rojo', 'naranja', 'blanco'] \n",
      " False\n"
     ]
    }
   ],
   "source": [
    "# 10\n",
    "print('existe el color \\'rosa\\' en la siguiente lista?', '\\n', colores, '\\n', 'rosa' in colores)"
   ]
  },
  {
   "cell_type": "code",
   "execution_count": 10,
   "metadata": {},
   "outputs": [
    {
     "name": "stdout",
     "output_type": "stream",
     "text": [
      "Nuria no contiene una 'x': True\n"
     ]
    }
   ],
   "source": [
    "# 11\n",
    "print('Nuria no contiene una \\'x\\':', 'x' not in nombres )"
   ]
  },
  {
   "cell_type": "code",
   "execution_count": 11,
   "metadata": {},
   "outputs": [
    {
     "name": "stdout",
     "output_type": "stream",
     "text": [
      "[21, 23, 26, 25, 25, 25, 22] \n",
      " [21, 23, 26, 25, 25, 25, 22] \n",
      " [21, 23, 26, 25, 25, 25, 22]\n"
     ]
    }
   ],
   "source": [
    "# 12\n",
    "temperaturas2 = temperaturas.copy()\n",
    "temperaturas3 = temperaturas.copy()\n",
    "\n",
    "print(temperaturas,'\\n',temperaturas2,'\\n', temperaturas3)"
   ]
  },
  {
   "cell_type": "code",
   "execution_count": 12,
   "metadata": {},
   "outputs": [
    {
     "name": "stdout",
     "output_type": "stream",
     "text": [
      "[]\n"
     ]
    }
   ],
   "source": [
    "# 13\n",
    "temperaturas2.clear()\n",
    "print(temperaturas2)"
   ]
  },
  {
   "cell_type": "code",
   "execution_count": 13,
   "metadata": {},
   "outputs": [
    {
     "name": "stdout",
     "output_type": "stream",
     "text": [
      "[21, 23, 26, 25, 25, 25, 22] \n",
      " []\n"
     ]
    }
   ],
   "source": [
    "# 14\n",
    "print(temperaturas,'\\n',temperaturas2)"
   ]
  },
  {
   "cell_type": "code",
   "execution_count": 14,
   "metadata": {},
   "outputs": [
    {
     "data": {
      "text/plain": [
       "['N', 'u', 'r', 'i', 'A']"
      ]
     },
     "execution_count": 14,
     "metadata": {},
     "output_type": "execute_result"
    }
   ],
   "source": [
    "# 15\n",
    "nombres2 = nombres.copy()\n",
    "nombres2"
   ]
  },
  {
   "cell_type": "code",
   "execution_count": 15,
   "metadata": {},
   "outputs": [
    {
     "data": {
      "text/plain": [
       "['C', 'a', 'n', 'o']"
      ]
     },
     "execution_count": 15,
     "metadata": {},
     "output_type": "execute_result"
    }
   ],
   "source": [
    "# 16\n",
    "apellidos2 = apellidos.copy()\n",
    "apellidos2"
   ]
  },
  {
   "cell_type": "code",
   "execution_count": 16,
   "metadata": {},
   "outputs": [
    {
     "data": {
      "text/plain": [
       "[21, 22, 23, 25, 25, 25, 26]"
      ]
     },
     "execution_count": 16,
     "metadata": {},
     "output_type": "execute_result"
    }
   ],
   "source": [
    "# 17\n",
    "temperaturas3.sort()\n",
    "temperaturas3"
   ]
  },
  {
   "cell_type": "code",
   "execution_count": 17,
   "metadata": {},
   "outputs": [
    {
     "name": "stdout",
     "output_type": "stream",
     "text": [
      "['A', 'N', 'i', 'r', 'u'] \n",
      " ['C', 'a', 'n', 'o']\n"
     ]
    }
   ],
   "source": [
    "# 18\n",
    "nombres2.sort()\n",
    "apellidos2.sort()\n",
    "\n",
    "print(nombres2, '\\n', apellidos2)"
   ]
  },
  {
   "cell_type": "code",
   "execution_count": 18,
   "metadata": {},
   "outputs": [
    {
     "name": "stdout",
     "output_type": "stream",
     "text": [
      "mi nombre tiene 1 a's y 0 o's\n"
     ]
    }
   ],
   "source": [
    "# 19\n",
    "print('mi nombre tiene',nombres.count('A'), 'a\\'s y',nombres.count('o'), 'o\\'s')"
   ]
  },
  {
   "cell_type": "code",
   "execution_count": 19,
   "metadata": {},
   "outputs": [
    {
     "name": "stdout",
     "output_type": "stream",
     "text": [
      "True \n",
      " True\n"
     ]
    }
   ],
   "source": [
    "# 20\n",
    "print(nombres.count('A') == nombres2.count('A'),\n",
    "     '\\n', nombres.count('o') == nombres2.count('o') )"
   ]
  },
  {
   "cell_type": "code",
   "execution_count": 20,
   "metadata": {},
   "outputs": [
    {
     "name": "stdout",
     "output_type": "stream",
     "text": [
      "number of times this week of max temp: 1 \n",
      " number of times this week of min temp: 1\n"
     ]
    }
   ],
   "source": [
    "# 21\n",
    "print('number of times this week of max temp:',temperaturas.count(t_max),\n",
    "      '\\n', 'number of times this week of min temp:',temperaturas.count(t_min))"
   ]
  },
  {
   "cell_type": "code",
   "execution_count": 21,
   "metadata": {},
   "outputs": [
    {
     "data": {
      "text/plain": [
       "['monday', 'tuesday', 'wednesday', 'thursday', 'friday', 'saturday', 'sunday']"
      ]
     },
     "execution_count": 21,
     "metadata": {},
     "output_type": "execute_result"
    }
   ],
   "source": [
    "# 22\n",
    "dias_en = ['monday', 'tuesday', 'wednesday', 'thursday', 'friday', 'saturday', 'sunday']\n",
    "dias_en"
   ]
  },
  {
   "cell_type": "code",
   "execution_count": 22,
   "metadata": {},
   "outputs": [],
   "source": [
    "# 23\n",
    "temperaturas_diciembre = [10, 10, 13, 14, 12, 15, \n",
    "                            12, 11, 13, 17, 18, 15, \n",
    "                            15, 17, 17, 13, 13, 11,\n",
    "                            12, 10, 12, 14, 12, 12,\n",
    "                            11, 12, 16, 16, 14, 17, 18]"
   ]
  },
  {
   "cell_type": "code",
   "execution_count": 23,
   "metadata": {},
   "outputs": [
    {
     "data": {
      "text/plain": [
       "'saturday'"
      ]
     },
     "execution_count": 23,
     "metadata": {},
     "output_type": "execute_result"
    }
   ],
   "source": [
    "# 24\n",
    "dias_en[-2]"
   ]
  },
  {
   "cell_type": "code",
   "execution_count": 24,
   "metadata": {},
   "outputs": [
    {
     "data": {
      "text/plain": [
       "18"
      ]
     },
     "execution_count": 24,
     "metadata": {},
     "output_type": "execute_result"
    }
   ],
   "source": [
    "# 25\n",
    "temperaturas_diciembre[-1]"
   ]
  },
  {
   "cell_type": "code",
   "execution_count": 25,
   "metadata": {},
   "outputs": [
    {
     "name": "stdout",
     "output_type": "stream",
     "text": [
      "existe 'friday' en la lista? True \n",
      " en que posicion? 4\n"
     ]
    }
   ],
   "source": [
    "# 26\n",
    "print('existe \\'friday\\' en la lista?', 'friday' in dias_en, \n",
    "      '\\n', 'en que posicion?',dias_en.index('friday'))\n"
   ]
  },
  {
   "cell_type": "code",
   "execution_count": 28,
   "metadata": {},
   "outputs": [
    {
     "data": {
      "text/plain": [
       "18"
      ]
     },
     "execution_count": 28,
     "metadata": {},
     "output_type": "execute_result"
    }
   ],
   "source": [
    "# 27\n",
    "max(temperaturas_diciembre)"
   ]
  },
  {
   "cell_type": "code",
   "execution_count": 31,
   "metadata": {},
   "outputs": [
    {
     "data": {
      "text/plain": [
       "2"
      ]
     },
     "execution_count": 31,
     "metadata": {},
     "output_type": "execute_result"
    }
   ],
   "source": [
    "# 28\n",
    "dias_en.index('wednesday')"
   ]
  },
  {
   "cell_type": "code",
   "execution_count": 37,
   "metadata": {},
   "outputs": [
    {
     "name": "stdout",
     "output_type": "stream",
     "text": [
      "La temperatura máxima esta semana será 18 ºC, que ocurrirá en 10 días(s). El día más frío tendrá una temperatura máxima de 10 ºC, que ocurrirá en 0 día(s)\n"
     ]
    }
   ],
   "source": [
    "# 30\n",
    "print('La temperatura máxima esta semana será', max(temperaturas_diciembre),'ºC, que ocurrirá en', temperaturas_diciembre.index(max(temperaturas_diciembre)) ,'días(s). El día más frío tendrá una temperatura máxima de',min(temperaturas_diciembre),'ºC, que ocurrirá en',temperaturas_diciembre.index(min(temperaturas_diciembre)),'día(s)')"
   ]
  }
 ],
 "metadata": {
  "kernelspec": {
   "display_name": "base",
   "language": "python",
   "name": "python3"
  },
  "language_info": {
   "codemirror_mode": {
    "name": "ipython",
    "version": 3
   },
   "file_extension": ".py",
   "mimetype": "text/x-python",
   "name": "python",
   "nbconvert_exporter": "python",
   "pygments_lexer": "ipython3",
   "version": "3.9.7"
  }
 },
 "nbformat": 4,
 "nbformat_minor": 2
}
