{
 "cells": [
  {
   "cell_type": "markdown",
   "metadata": {},
   "source": [
    "## Ejercicios"
   ]
  },
  {
   "cell_type": "code",
   "execution_count": 1,
   "metadata": {},
   "outputs": [],
   "source": [
    "#  Definir listas\n",
    "#   1. Haz una lista llamada `colores` donde almacenemos los primeros 6 colores que te vengan a la mente.\n",
    "#   2. Haz una lista llamada `buses` de las líneas de autobuses que pasan por tu casa.\n",
    "#   3. Apunta la previsión de temperaturas máximas para todos los días de esta semana en `temperaturas`.\n",
    "\n",
    "colores= [\"rosa\", \"verde\", \"violeta\", \"negro\", \"azul\", \"blanco\"]\n",
    "buses= [320,302,306,420]\n",
    "temperaturas= [ 18,22,18,19,15,20,18]"
   ]
  },
  {
   "cell_type": "code",
   "execution_count": 36,
   "metadata": {},
   "outputs": [],
   "source": [
    "#  Convertir a listas\n",
    "#   4. Convierte tu(s) nombre(s) a una lista `nombres` de caracteres.  \n",
    "#   5. Convierte tu(s) apellido(s) a una lista `apellidos` de caracteres.\n",
    "nombres=[\"P\",\"a\",\"o\",\"l\",\"a\",  \"J\",\"i\",\"n\",\"e\",\"t\",\"h\"]\n",
    "apellidos=[\"S\",\"a\",\"n\",\"c\",\"h\",\"e\",\"z\", \"S\",\"o\",\"l\",\"ó\",\"r\",\"z\",\"a\",\"n\",\"o\"]"
   ]
  },
  {
   "cell_type": "code",
   "execution_count": 37,
   "metadata": {},
   "outputs": [
    {
     "name": "stdout",
     "output_type": "stream",
     "text": [
      "4\n",
      "16\n",
      "15 22\n"
     ]
    }
   ],
   "source": [
    "#  Usar `len()`, `min()`, y `max()`\n",
    "#   6. ¿Cuántos búses pasan por tu casa?\n",
    "#   7. ¿Cuántos caracteres hay en tu apellido(s) (inluyendo los espacios)?\n",
    "#   8. ¿Cuáles son las temperaturas máximas (`t_max`) y mínimas (`t_min`) para esta semana?\n",
    "\n",
    "print (len(buses))\n",
    "print(len(apellidos))\n",
    "print(min(temperaturas), max(temperaturas))\n"
   ]
  },
  {
   "cell_type": "code",
   "execution_count": 38,
   "metadata": {},
   "outputs": [
    {
     "name": "stdout",
     "output_type": "stream",
     "text": [
      "True\n",
      "True\n",
      "True\n"
     ]
    }
   ],
   "source": [
    "# Usar `in`, `not in`\n",
    "#   9. Hay una 'e' en tu nombre?\n",
    "#   10. Tienes el color 'rosa' en la lista de colores?  \n",
    "#   11. ¿Tiene una 'x' tu nombre? (Usa `not in`)\n",
    "\n",
    "print(\"e\" in nombres)\n",
    "print(\"rosa\" in colores)\n",
    "print(\"x\" not in nombres)"
   ]
  },
  {
   "cell_type": "code",
   "execution_count": 39,
   "metadata": {},
   "outputs": [
    {
     "name": "stdout",
     "output_type": "stream",
     "text": [
      "[18, 22, 18, 19, 15, 20, 18]\n",
      "[18, 22, 18, 19, 15, 20, 18]\n",
      "[]\n",
      "['P', 'a', 'o', 'l', 'a', 'J', 'i', 'n', 'e', 't', 'h']\n",
      "['S', 'a', 'n', 'c', 'h', 'e', 'z', 'S', 'o', 'l', 'ó', 'r', 'z', 'a', 'n', 'o']\n"
     ]
    }
   ],
   "source": [
    "#  Hacer copias y borrar sus contenidos\n",
    "#   12. Copia el contenido de `temperaturas` a `temperaturas2`, y `temperaturas3`.\n",
    "#   13. Vacía el contenido de la variable `temperaturas2`\n",
    "#   14. Imprime el contenido de `temperaturas` y `temperaturas2`.\n",
    "#   15. Copia el contenido de `nombres` a `nombres2`.\n",
    "#   16. Copia el contenido de `apellidos` a `apellidos2` .\n",
    "\n",
    "temperaturas2= temperaturas.copy()\n",
    "print(temperaturas2)\n",
    "\n",
    "temperaturas3=temperaturas.copy()\n",
    "print(temperaturas3)\n",
    "\n",
    "temperaturas2.clear()\n",
    "print(temperaturas2)\n",
    "\n",
    "nombres2= nombres.copy()\n",
    "print(nombres2)\n",
    "\n",
    "apellidos2= apellidos.copy()\n",
    "print(apellidos2)"
   ]
  },
  {
   "cell_type": "code",
   "execution_count": 40,
   "metadata": {},
   "outputs": [
    {
     "name": "stdout",
     "output_type": "stream",
     "text": [
      "[18, 22, 18, 19, 15, 20, 18]\n",
      "[15, 18, 18, 18, 19, 20, 22]\n",
      "['J', 'P', 'a', 'a', 'e', 'h', 'i', 'l', 'n', 'o', 't'] ['S', 'S', 'a', 'a', 'c', 'e', 'h', 'l', 'n', 'n', 'o', 'o', 'r', 'z', 'z', 'ó']\n"
     ]
    }
   ],
   "source": [
    "# Cambiar el orden de los contenidos\n",
    "#   17. Ordena la variable `temperaturas3` de mayor a menor.\n",
    "#   18. Ordena los caracteres de tu nombre y tu apellido en las listas `nombres2` y `apellidos2`.\n",
    "# Imprime el resultado y investiga: ¿qué orden ha cogido? ¿Cómo trata las mayúsculas?\n",
    "print(temperaturas3)\n",
    "\n",
    "temperaturas3.sort()\n",
    "print(temperaturas3)\n",
    "\n",
    "nombres2.sort() , apellidos2.sort()\n",
    "print(nombres2 , apellidos2)\n",
    "##las mayusculas las deja al inicio y en el caso de mi apellido hay una tilde y lo deja al final"
   ]
  },
  {
   "cell_type": "code",
   "execution_count": 55,
   "metadata": {},
   "outputs": [
    {
     "name": "stdout",
     "output_type": "stream",
     "text": [
      "2\n",
      "1\n",
      "2\n",
      "1\n",
      "1\n",
      "1\n"
     ]
    }
   ],
   "source": [
    "#- Contar duplicados\n",
    "#   19. ¿Cuántas 'a' tiene tu nombre? ¿Y cuántas 'o'?\n",
    "#   20. Verifica si los resultados de ejercicio 19 son iguales para la lista `nombres2`.\n",
    "#   21. ¿Cuántas veces esta semana llega la temperatura a la `t_max`? ¿Y cuántas a la `t_min`?\n",
    "\n",
    "print( nombres.count(\"a\"))\n",
    "print(nombres.count(\"o\"))\n",
    "\n",
    "\n",
    "print(nombres2.count(\"a\"))\n",
    "print(nombres2.count(\"o\"))\n",
    "\n",
    "print(temperaturas.count(max(temperaturas)))\n",
    "\n",
    "\n",
    "\n",
    "print(temperaturas.count(min(temperaturas)))\n"
   ]
  },
  {
   "cell_type": "code",
   "execution_count": 56,
   "metadata": {},
   "outputs": [],
   "source": [
    "#  Definir otra lista\n",
    "\n",
    "#   22. La lista dias_en contiene 'monday', 'tuesday', 'wednesday', 'thursday', 'friday', 'saturday', y 'sunday'.\n",
    "#   23. Define temperaturas_diciembre 👇🏽:\n",
    "#     ```python\n",
    "\n",
    "#       temperaturas_diciembre = [10, 10, 13, 14, 12, 15, \n",
    "#                             12, 11, 13, 17, 18, 15, \n",
    "#                             15, 17, 17, 13, 13, 11,\n",
    "#                             12, 10, 12, 14, 12, 12,\n",
    "#                             11, 12, 16, 16, 14, 17, 18]\n",
    "\n",
    "dias_contiene= [\"monday\", \"tuesday\", \"wednesday\", 'thursday\", \"friday\", \"saturday\",  \"sunday\"]\n",
    "\n",
    "temperaturas_diciembre = [10, 10, 13, 14, 12, 15, \n",
    "                          12, 11, 13, 17, 18, 15, \n",
    "                          15, 17, 17, 13, 13, 11,\n",
    "                          12, 10, 12, 14, 12, 12,\n",
    "                          11, 12, 16, 16, 14, 17, 18]"
   ]
  },
  {
   "cell_type": "code",
   "execution_count": 64,
   "metadata": {},
   "outputs": [
    {
     "name": "stdout",
     "output_type": "stream",
     "text": [
      "saturday\n",
      "18\n",
      "esta el dia friday en dias_contiene: False\n",
      "4\n",
      "la maxima temperatura en diciembre es: 18\n",
      "2\n"
     ]
    }
   ],
   "source": [
    "\n",
    "# Indexación de listas\n",
    "\n",
    "#   24. ¿Cuál es el penúltimo día de la semana?\n",
    "print(dias_contiene[5])\n",
    "#   25. ¿Cuál es el último elemento de la lista de temperaturas de diciembre? \n",
    "print(temperaturas_diciembre[-1])\n",
    "#   27. ¿Está 'friday' en la lista de días en inglés? Si está, ¿dónde?\n",
    "print(\"esta el dia friday en dias_contiene:\",\"friday \" in dias_contiene) \n",
    "print(dias_contiene.index(\"friday\"))\n",
    "#   28. ¿Cuál era la temperatura máxima en diciembre?\n",
    "print(\"la maxima temperatura en diciembre es:\", max(temperaturas_diciembre))\n",
    "#   29. Encuentra el índice de 'miércoles' en dias_es.\n",
    "print(dias_contiene.index(\"wednesday\"))\n",
    "\n",
    "\n",
    "\n"
   ]
  },
  {
   "cell_type": "markdown",
   "metadata": {},
   "source": [
    "## Bonus\n",
    "\n",
    "### La temperatura máxima esta semana será 14 ºC, que ocurrirá en 1 días(s). El día más frío tendrá una temperatura máxima de 10 ºC, que ocurrirá en 2 día(s)."
   ]
  },
  {
   "cell_type": "code",
   "execution_count": null,
   "metadata": {},
   "outputs": [],
   "source": [
    "\n",
    "\n",
    "\n",
    "\n",
    "\n",
    "\n",
    "\n",
    "\n",
    "\n",
    "\n",
    "\n",
    "\n",
    "\n",
    "\n",
    "\n",
    "\n",
    "\n"
   ]
  },
  {
   "cell_type": "markdown",
   "metadata": {},
   "source": [
    "## Ejercicios Tuplas:\n",
    "\n"
   ]
  },
  {
   "cell_type": "code",
   "execution_count": 3,
   "metadata": {},
   "outputs": [],
   "source": [
    "# Definir tuplas\n",
    "\n",
    "#   1. Crea una tupla `persona1` para juntar los siguientes datos:\n",
    "# 61 kg, 1.54 m altura, pelo marrón, sin usar paréntesis. (Serán del tipo `int`, `float` y `str`.)\n",
    "#   2. Crea una tupla para la `persona2` de 68 kg, 1.65 m y pelo rubio, usando paréntesis.\n",
    "#   3. Crea una lista `talla` que recompila 'M', 42, y 39. \n",
    "\n",
    "persona_1= 61, 1.54, \"pelo marron\"\n",
    "persona_2=( 38, 1.65, \"pelo rubio\")\n",
    "talla =[\"M\", 42, 39]"
   ]
  },
  {
   "cell_type": "code",
   "execution_count": 22,
   "metadata": {},
   "outputs": [
    {
     "name": "stdout",
     "output_type": "stream",
     "text": [
      "[61, 1.54, 'pelo marron', 'M', 42, 39]\n",
      "(61, 1.54, 'pelo marron', 'M', 42, 39, 'M', 42, 39)\n"
     ]
    }
   ],
   "source": [
    "# Convertir y juntar\n",
    "#   4. Convierte la lista `talla` a una tupla.  \n",
    "#   5. Une a la tupla de `persona1` los datos en `talla`, para tener una única tupla.\n",
    "\n",
    "tupla_talla = tuple(talla)\n",
    "lista_persona1 = list(persona_1)\n",
    "print(lista_persona1)\n",
    "\n",
    "persona_1= tuple(lista_persona1 + talla)\n",
    "print(persona_1)\n",
    "\n",
    "\n"
   ]
  },
  {
   "cell_type": "code",
   "execution_count": 23,
   "metadata": {},
   "outputs": [
    {
     "name": "stdout",
     "output_type": "stream",
     "text": [
      "pelo rubio\n",
      "9\n"
     ]
    }
   ],
   "source": [
    "# Indexar tuplas\n",
    "#   6. Saca de `persona2` el contenido del tercer elemento y llámalo `color`.\n",
    "#   7. ¿Cuántos elementos hay ahora en `persona1`? (Es decir, ¿cuál es su longitud?)\n",
    "\n",
    "color= persona_2[2]\n",
    "print(color)\n",
    "\n",
    "print(len(persona_1))"
   ]
  },
  {
   "cell_type": "code",
   "execution_count": 35,
   "metadata": {},
   "outputs": [],
   "source": [
    "#  Desempaquetar\n",
    "#   8. Crea las variables `peso`, `altura`, `color_pelo` y llénalas con el contenido de `persona1`. Imprime `color_pelo` para comprobar el resultado. \n",
    "\n",
    "peso, altura, color_pelo = persona_2\n",
    "\n",
    "\n",
    "\n"
   ]
  },
  {
   "cell_type": "code",
   "execution_count": 37,
   "metadata": {},
   "outputs": [
    {
     "name": "stdout",
     "output_type": "stream",
     "text": [
      "<zip object at 0x7fb1f074f140>\n",
      "pelo rubio\n"
     ]
    }
   ],
   "source": [
    "# Zipear\n",
    "#   9. Crea el zip `personas` con `persona1` y `persona2`.\n",
    "#   10. ¿Cuántas \"elementos\" tiene `personas`? ¿Por qué?\n",
    "#   11. Crea una tupla `etiquetas` con `'peso'`, `'altura'`, y `'color_pelo'`.\n",
    "#   12. Crea al zip de `etiquetas`, `persona1`, y `persona2`, llamado \"todo\".\n",
    "\n",
    "personas = zip(persona_1, persona_2)\n",
    "\n",
    "\n",
    "print (personas)\n",
    "\n",
    "etiquetas= peso,altura,color_pelo\n",
    "print(color_pelo)\n",
    "\n",
    "\n",
    "\n"
   ]
  },
  {
   "cell_type": "code",
   "execution_count": 41,
   "metadata": {},
   "outputs": [
    {
     "name": "stdout",
     "output_type": "stream",
     "text": [
      "[(61, 38), (1.54, 1.65), ('pelo marron', 'pelo rubio')]\n"
     ]
    },
    {
     "ename": "AttributeError",
     "evalue": "'zip' object has no attribute 'sort'",
     "output_type": "error",
     "traceback": [
      "\u001b[0;31m---------------------------------------------------------------------------\u001b[0m",
      "\u001b[0;31mAttributeError\u001b[0m                            Traceback (most recent call last)",
      "\u001b[0;32m/tmp/ipykernel_9255/210236513.py\u001b[0m in \u001b[0;36m<module>\u001b[0;34m\u001b[0m\n\u001b[1;32m      5\u001b[0m \u001b[0mprint\u001b[0m\u001b[0;34m(\u001b[0m\u001b[0mpersonas_lista\u001b[0m\u001b[0;34m)\u001b[0m\u001b[0;34m\u001b[0m\u001b[0;34m\u001b[0m\u001b[0m\n\u001b[1;32m      6\u001b[0m \u001b[0;34m\u001b[0m\u001b[0m\n\u001b[0;32m----> 7\u001b[0;31m \u001b[0mpersonas\u001b[0m\u001b[0;34m.\u001b[0m\u001b[0msort\u001b[0m\u001b[0;34m(\u001b[0m\u001b[0;34m)\u001b[0m\u001b[0;34m\u001b[0m\u001b[0;34m\u001b[0m\u001b[0m\n\u001b[0m",
      "\u001b[0;31mAttributeError\u001b[0m: 'zip' object has no attribute 'sort'"
     ]
    }
   ],
   "source": [
    "# Manipular zips\n",
    "#   13. Ordena las propiedades de la variable `personas` alfabéticamente. ¿Puedes? ¿Por qué?\n",
    "\n",
    "personas_lista= list(personas)\n",
    "print(personas_lista)\n",
    "\n",
    "personas.sort()\n"
   ]
  }
 ],
 "metadata": {
  "kernelspec": {
   "display_name": "base",
   "language": "python",
   "name": "python3"
  },
  "language_info": {
   "codemirror_mode": {
    "name": "ipython",
    "version": 3
   },
   "file_extension": ".py",
   "mimetype": "text/x-python",
   "name": "python",
   "nbconvert_exporter": "python",
   "pygments_lexer": "ipython3",
   "version": "3.9.7"
  }
 },
 "nbformat": 4,
 "nbformat_minor": 2
}
