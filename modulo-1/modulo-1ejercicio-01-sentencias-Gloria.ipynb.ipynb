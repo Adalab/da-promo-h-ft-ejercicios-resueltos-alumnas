{
 "cells": [
  {
   "cell_type": "code",
   "execution_count": 1,
   "metadata": {},
   "outputs": [],
   "source": [
    "# Ejercicio 1:\n",
    "var1 = 8\n",
    "var2 = 2\n",
    "Var3 = 8"
   ]
  },
  {
   "cell_type": "code",
   "execution_count": 2,
   "metadata": {},
   "outputs": [
    {
     "name": "stdout",
     "output_type": "stream",
     "text": [
      "es enorme!\n"
     ]
    }
   ],
   "source": [
    "# Ejercicio 2:\n",
    "if var1 > 6:\n",
    "    print(\"es enorme!\")"
   ]
  },
  {
   "cell_type": "code",
   "execution_count": 3,
   "metadata": {},
   "outputs": [],
   "source": [
    "# Ejercicio 3:\n",
    "if var2 > 6:\n",
    "    print(\"es enorme también!\")"
   ]
  },
  {
   "cell_type": "code",
   "execution_count": 4,
   "metadata": {},
   "outputs": [
    {
     "name": "stdout",
     "output_type": "stream",
     "text": [
      "¡es enorme!\n",
      "¡pero de verdad!\n"
     ]
    }
   ],
   "source": [
    "# Ejercio 4:\n",
    "if Var3 > 6:\n",
    "    print(\"¡es enorme!\")\n",
    "    print(\"¡pero de verdad!\")"
   ]
  },
  {
   "cell_type": "code",
   "execution_count": 5,
   "metadata": {},
   "outputs": [
    {
     "name": "stdout",
     "output_type": "stream",
     "text": [
      "Son iguales\n"
     ]
    }
   ],
   "source": [
    "# Ejercicio 5:\n",
    "if var1 == Var3:\n",
    "    print(\"Son iguales\")"
   ]
  },
  {
   "cell_type": "code",
   "execution_count": 6,
   "metadata": {},
   "outputs": [],
   "source": [
    "# Ejercicio 6:\n",
    "if var1 == var2:\n",
    "    print(\"Son iguales\")"
   ]
  },
  {
   "cell_type": "code",
   "execution_count": 7,
   "metadata": {},
   "outputs": [
    {
     "name": "stdout",
     "output_type": "stream",
     "text": [
      "la diferencia es 6\n"
     ]
    }
   ],
   "source": [
    "# Ejercio 7:\n",
    "dif = (var1 - var2)\n",
    "if var1 >= var2:\n",
    "    print(\"la diferencia es\", dif)\n",
    "\n",
    " "
   ]
  },
  {
   "cell_type": "code",
   "execution_count": 8,
   "metadata": {},
   "outputs": [
    {
     "name": "stdout",
     "output_type": "stream",
     "text": [
      "es enorme!\n"
     ]
    }
   ],
   "source": [
    "# Ejercio 8:\n",
    "if var1 > 6:\n",
    "    print(\"es enorme!\")\n",
    "else :\n",
    "    print(\"es chiquitin\")"
   ]
  },
  {
   "cell_type": "code",
   "execution_count": 9,
   "metadata": {},
   "outputs": [
    {
     "name": "stdout",
     "output_type": "stream",
     "text": [
      "es chiquitín también!\n"
     ]
    }
   ],
   "source": [
    "# Ejercicio 9:\n",
    "if var2>6 :\n",
    "    print(\"es enorme también!\")\n",
    "else :\n",
    "    print(\"es chiquitín también!\")   \n"
   ]
  },
  {
   "cell_type": "code",
   "execution_count": 10,
   "metadata": {},
   "outputs": [
    {
     "name": "stdout",
     "output_type": "stream",
     "text": [
      "Son iguales\n"
     ]
    }
   ],
   "source": [
    "# Ejercicio 10:\n",
    "if var1 == Var3 :\n",
    "    print(\"Son iguales\")\n",
    "else :\n",
    "    print(\"son distintos\")"
   ]
  },
  {
   "cell_type": "code",
   "execution_count": 28,
   "metadata": {},
   "outputs": [
    {
     "name": "stdout",
     "output_type": "stream",
     "text": [
      "su edad es 15\n",
      "su entrada tiene un precio de 5 euros\n"
     ]
    }
   ],
   "source": [
    "# Ejercicio 11:\n",
    "edad_cliente = int(input())\n",
    "print(\"su edad es\", edad_cliente)\n",
    "if edad_cliente<4 :\n",
    "    print(\"su entrada es gratuita\")\n",
    "elif edad_cliente>=4 < 18 :\n",
    "    print(\"su entrada tiene un precio de 5 euros\")\n",
    "else :\n",
    "    print(\"su entrada tiene un precio de 10 euros\")"
   ]
  },
  {
   "cell_type": "code",
   "execution_count": 30,
   "metadata": {},
   "outputs": [
    {
     "name": "stdout",
     "output_type": "stream",
     "text": [
      "tiene ahorrado 5\n",
      "tiene ahorrado 10\n",
      "tiene ahorrado 15\n",
      "tiene ahorrado 20\n"
     ]
    }
   ],
   "source": [
    "# Ejercicio 12:\n",
    "ahorros = 5\n",
    "while ahorros <= 20 :\n",
    "    print(\"tiene ahorrado\", ahorros)\n",
    "    ahorros +=5\n"
   ]
  },
  {
   "cell_type": "code",
   "execution_count": 56,
   "metadata": {},
   "outputs": [
    {
     "name": "stdout",
     "output_type": "stream",
     "text": [
      "va a convertir las unidades desde: celsius\n",
      "cual es el valor de la temperatura que quiere convertir 17\n"
     ]
    }
   ],
   "source": [
    "# Ejercicio 13:\n",
    "calculo_grados = str(input(\"unidad de conversion celsius\"\" \"\"o\"\" \"\"fahrenheit\"))\n",
    "valor_temperatura = int(input(\"¿valor temperatura?\"))\n",
    "print(\"va a convertir las unidades desde:\", calculo_grados)\n",
    "print (\"cual es el valor de la temperatura que quiere convertir\", valor_temperatura)\n"
   ]
  },
  {
   "cell_type": "code",
   "execution_count": 57,
   "metadata": {},
   "outputs": [
    {
     "name": "stdout",
     "output_type": "stream",
     "text": [
      "la temperatura en grados fahrenheit es: -1.3999999999999986\n"
     ]
    }
   ],
   "source": [
    "grados_celsius = (valor_temperatura-32)*5/9\n",
    "grados_fahrenheit = (valor_temperatura*9/5)-32\n",
    "if calculo_grados == \"celsius\":\n",
    "   print(\"la temperatura en grados fahrenheit es:\",grados_fahrenheit)\n",
    "else :\n",
    "   print(\"la temperatura en grados celsius es:\", grados_celsius)"
   ]
  },
  {
   "cell_type": "code",
   "execution_count": 53,
   "metadata": {},
   "outputs": [
    {
     "name": "stdout",
     "output_type": "stream",
     "text": [
      "sus ingresos anuales son: 22000\n",
      "su estado civil es: casado\n"
     ]
    }
   ],
   "source": [
    "# Ejercicio 14:\n",
    "ingreso_anual = int(input(\"¿cuales son sus ingresos anuales?\"))\n",
    "estado_civil = str(input(\"soltero\" \" \" \"o\" \" \" \"casado\"))\n",
    "print(\"sus ingresos anuales son:\", ingreso_anual)\n",
    "print(\"su estado civil es:\", estado_civil)"
   ]
  },
  {
   "cell_type": "code",
   "execution_count": 62,
   "metadata": {},
   "outputs": [
    {
     "name": "stdout",
     "output_type": "stream",
     "text": [
      "su impuesto es: 2243.0\n"
     ]
    }
   ],
   "source": [
    "if estado_civil == \"soltero\" :\n",
    "    if ingreso_anual <= 9875 :\n",
    "        print(\"su impuesto es:\", ingreso_anual*0.10)\n",
    "    elif ingreso_anual >= 9876<= 40125 :\n",
    "        print(\"su impuesto es:\", (9875*0.10)+(ingreso_anual-9875)*0.12)\n",
    "if estado_civil == \"casado\" :\n",
    "    if ingreso_anual <= 19850 :\n",
    "        print(\"su impuesto es:\", ingreso_anual*0.10)\n",
    "    elif ingreso_anual >= 19851 <= 80250 :\n",
    "        print(\"su impuesto es:\", (19850*0.10)+(ingreso_anual-19850)*0.12)"
   ]
  },
  {
   "cell_type": "code",
   "execution_count": 76,
   "metadata": {},
   "outputs": [
    {
     "name": "stdout",
     "output_type": "stream",
     "text": [
      "la concentracion de PM2.5 actual es: 152\n"
     ]
    }
   ],
   "source": [
    "# Ejercicio 15:\n",
    "contaminacion = int(input(\"¿cuál es la concentracion de PM2.5 en el aire actualmente?:\"))\n",
    "print(\"la concentracion de PM2.5 actual es:\", contaminacion)\n",
    "if contaminacion <0 :\n",
    "    print(\"ha introducido un valor erroneo\")"
   ]
  },
  {
   "cell_type": "code",
   "execution_count": 78,
   "metadata": {},
   "outputs": [
    {
     "name": "stdout",
     "output_type": "stream",
     "text": [
      "el aire se considera no saludable, salgan en caso imprescindible o urgencia, con uso de mascarilla\n"
     ]
    }
   ],
   "source": [
    "if contaminacion <= 12 :\n",
    "    print(\"El aire se considera excelente\")\n",
    "elif contaminacion <=13 >=35 :\n",
    "    print(\"el aire se considera bueno\")    \n",
    "elif contaminacion <=36 >=55 :\n",
    "    print(\"El aire se considera aceptable\")\n",
    "elif contaminacion <=56 >=150 :\n",
    "    print(\"El aire se considera no saludable para grupos sensibles, usen mascarilla en el exterior\")\n",
    "elif contaminacion >150 :\n",
    "    print(\"el aire se considera no saludable, salgan en caso imprescindible o urgencia, con uso de mascarilla\") \n"
   ]
  }
 ],
 "metadata": {
  "kernelspec": {
   "display_name": "base",
   "language": "python",
   "name": "python3"
  },
  "language_info": {
   "codemirror_mode": {
    "name": "ipython",
    "version": 3
   },
   "file_extension": ".py",
   "mimetype": "text/x-python",
   "name": "python",
   "nbconvert_exporter": "python",
   "pygments_lexer": "ipython3",
   "version": "3.11.5"
  }
 },
 "nbformat": 4,
 "nbformat_minor": 2
}
