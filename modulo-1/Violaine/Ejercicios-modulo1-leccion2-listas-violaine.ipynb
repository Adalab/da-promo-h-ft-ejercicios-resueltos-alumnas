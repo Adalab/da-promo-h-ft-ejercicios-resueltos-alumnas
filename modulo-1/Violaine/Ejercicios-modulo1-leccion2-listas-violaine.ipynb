{
 "cells": [
  {
   "cell_type": "code",
   "execution_count": 300,
   "metadata": {},
   "outputs": [],
   "source": [
    "#Ejercicios de listas"
   ]
  },
  {
   "cell_type": "code",
   "execution_count": 301,
   "metadata": {},
   "outputs": [],
   "source": [
    "#1.Haz una lista llamada `colores` donde almacenemos los primeros 6 colores que te vengan a la mente.\n",
    "colores = [\"rojo\",\"verde\",\"rosa\",\"violeta\",\"negro\",\"turquesa\"]"
   ]
  },
  {
   "cell_type": "code",
   "execution_count": 302,
   "metadata": {},
   "outputs": [],
   "source": [
    "#2. Haz una lista llamada `buses` de las líneas de autobuses que pasan por tu casa.\n",
    "buses_higueron = [\"360\",\"215\",\"217\"]"
   ]
  },
  {
   "cell_type": "code",
   "execution_count": 303,
   "metadata": {},
   "outputs": [],
   "source": [
    "#  3. Apunta la previsión de temperaturas máximas para todos los días de esta semana en `temperaturas`.\n",
    "temperaturas = [29,27,22,21,23,26,27]"
   ]
  },
  {
   "cell_type": "code",
   "execution_count": 304,
   "metadata": {},
   "outputs": [
    {
     "name": "stdout",
     "output_type": "stream",
     "text": [
      "['V', 'i', 'o', 'l', 'a', 'i', 'n', 'e', ' ', 'J', 'e', 's', 's', 'i', 'c', 'a', ' ', 'D', 'o', 'm', 'i', 'n', 'i', 'q', 'u', 'e']\n"
     ]
    }
   ],
   "source": [
    "#4. Convierte tu(s) nombre(s) a una lista `nombres` de caracteres.\n",
    "nombres = \"Violaine Jessica Dominique\"\n",
    "lista_nombres = list(nombres)\n",
    "print(lista_nombres)"
   ]
  },
  {
   "cell_type": "code",
   "execution_count": 305,
   "metadata": {},
   "outputs": [
    {
     "name": "stdout",
     "output_type": "stream",
     "text": [
      "['D', 'e', 'l', 'o', 'u', 's', 't', 'a', 'l']\n"
     ]
    }
   ],
   "source": [
    "#5. Convierte tu(s) apellido(s) a una lista `apellidos` de caracteres.\n",
    "apellidos = \"Deloustal\"\n",
    "lista_apellido = list(apellidos)\n",
    "print(lista_apellido)"
   ]
  },
  {
   "cell_type": "code",
   "execution_count": 306,
   "metadata": {},
   "outputs": [
    {
     "data": {
      "text/plain": [
       "3"
      ]
     },
     "execution_count": 306,
     "metadata": {},
     "output_type": "execute_result"
    }
   ],
   "source": [
    "#6. ¿Cuántos búses pasan por tu casa?\n",
    "len(buses_higueron)"
   ]
  },
  {
   "cell_type": "code",
   "execution_count": 307,
   "metadata": {},
   "outputs": [
    {
     "name": "stdout",
     "output_type": "stream",
     "text": [
      "Deloustal\n"
     ]
    },
    {
     "data": {
      "text/plain": [
       "9"
      ]
     },
     "execution_count": 307,
     "metadata": {},
     "output_type": "execute_result"
    }
   ],
   "source": [
    "#7. ¿Cuántos caracteres hay en tu apellido(s) (inluyendo los espacios)?\n",
    "print(apellidos)\n",
    "len(apellidos)"
   ]
  },
  {
   "cell_type": "code",
   "execution_count": 308,
   "metadata": {},
   "outputs": [
    {
     "name": "stdout",
     "output_type": "stream",
     "text": [
      "29\n",
      "21\n"
     ]
    }
   ],
   "source": [
    "#8. ¿Cuáles son las temperaturas máximas (`t_max`) y mínimas (`t_min`) para esta semana?\n",
    "t_max = max(temperaturas)\n",
    "t_min = min(temperaturas)\n",
    "print(t_max)\n",
    "print(t_min)"
   ]
  },
  {
   "cell_type": "code",
   "execution_count": 309,
   "metadata": {},
   "outputs": [
    {
     "data": {
      "text/plain": [
       "True"
      ]
     },
     "execution_count": 309,
     "metadata": {},
     "output_type": "execute_result"
    }
   ],
   "source": [
    "#9. Hay una 'e' en tu nombre?\n",
    "\"e\" in nombres"
   ]
  },
  {
   "cell_type": "code",
   "execution_count": 310,
   "metadata": {},
   "outputs": [
    {
     "data": {
      "text/plain": [
       "True"
      ]
     },
     "execution_count": 310,
     "metadata": {},
     "output_type": "execute_result"
    }
   ],
   "source": [
    "#10. Tienes el color 'rosa' en la lista de colores?\n",
    "\"rosa\" in colores"
   ]
  },
  {
   "cell_type": "code",
   "execution_count": 311,
   "metadata": {},
   "outputs": [
    {
     "data": {
      "text/plain": [
       "True"
      ]
     },
     "execution_count": 311,
     "metadata": {},
     "output_type": "execute_result"
    }
   ],
   "source": [
    "#11. ¿Tiene una 'x' tu nombre? (Usa `not in`)\n",
    "\"x\" not in nombres"
   ]
  },
  {
   "cell_type": "code",
   "execution_count": 312,
   "metadata": {},
   "outputs": [
    {
     "name": "stdout",
     "output_type": "stream",
     "text": [
      "[29, 27, 22, 21, 23, 26, 27] [29, 27, 22, 21, 23, 26, 27]\n"
     ]
    }
   ],
   "source": [
    "#12. Copia el contenido de `temperaturas` a `temperaturas2`, y `temperaturas3`.\n",
    "temperaturas2 = temperaturas.copy()\n",
    "temperaturas3 = temperaturas.copy()\n",
    "print(temperaturas2,temperaturas3)"
   ]
  },
  {
   "cell_type": "code",
   "execution_count": 313,
   "metadata": {},
   "outputs": [],
   "source": [
    "#13. Vacía el contenido de la variable `temperaturas2`\n",
    "temperaturas2.clear()"
   ]
  },
  {
   "cell_type": "code",
   "execution_count": 314,
   "metadata": {},
   "outputs": [
    {
     "name": "stdout",
     "output_type": "stream",
     "text": [
      "[29, 27, 22, 21, 23, 26, 27] []\n"
     ]
    }
   ],
   "source": [
    "#14. Imprime el contenido de `temperaturas` y `temperaturas2`.\n",
    "print(temperaturas,temperaturas2)"
   ]
  },
  {
   "cell_type": "code",
   "execution_count": 315,
   "metadata": {},
   "outputs": [],
   "source": [
    "# 15. Copia el contenido de `nombres` a `nombres2`.\n",
    "nombres2 = lista_nombres.copy()"
   ]
  },
  {
   "cell_type": "code",
   "execution_count": 316,
   "metadata": {},
   "outputs": [],
   "source": [
    "#16. Copia el contenido de `apellidos` a `apellidos2`.\n",
    "apellidos2 = lista_apellido.copy()"
   ]
  },
  {
   "cell_type": "code",
   "execution_count": 317,
   "metadata": {},
   "outputs": [
    {
     "name": "stdout",
     "output_type": "stream",
     "text": [
      "[29, 27, 27, 26, 23, 22, 21]\n"
     ]
    }
   ],
   "source": [
    "#17. Ordena la variable `temperaturas3` de mayor a menor.\n",
    "temperaturas3.sort(reverse=True)\n",
    "print(temperaturas3)"
   ]
  },
  {
   "cell_type": "code",
   "execution_count": 318,
   "metadata": {},
   "outputs": [
    {
     "name": "stdout",
     "output_type": "stream",
     "text": [
      "[' ', ' ', 'D', 'J', 'V', 'a', 'a', 'c', 'e', 'e', 'e', 'i', 'i', 'i', 'i', 'i', 'l', 'm', 'n', 'n', 'o', 'o', 'q', 's', 's', 'u'] ['D', 'a', 'e', 'l', 'l', 'o', 's', 't', 'u']\n"
     ]
    }
   ],
   "source": [
    "#18. Ordena los caracteres de tu nombre y tu apellido en las listas `nombres2` y `apellidos2`. Imprime el resultado y investiga: ¿qué orden ha cogido? ¿Cómo trata las mayúsculas?\n",
    "nombres2.sort()\n",
    "apellidos2.sort()\n",
    "print(nombres2,apellidos2)"
   ]
  },
  {
   "cell_type": "code",
   "execution_count": 319,
   "metadata": {},
   "outputs": [
    {
     "name": "stdout",
     "output_type": "stream",
     "text": [
      "2 2\n"
     ]
    }
   ],
   "source": [
    "#19. ¿Cuántas 'a' tiene tu nombre? ¿Y cuántas 'o'?\n",
    "print(lista_nombres.count(\"a\"), lista_nombres.count(\"o\"))"
   ]
  },
  {
   "cell_type": "code",
   "execution_count": 320,
   "metadata": {},
   "outputs": [
    {
     "name": "stdout",
     "output_type": "stream",
     "text": [
      "2 2\n"
     ]
    }
   ],
   "source": [
    "#20. Verifica si los resultados de ejercicio 19 son iguales para la lista `nombres2`.\n",
    "print(nombres2.count(\"a\"), nombres2.count(\"o\"))"
   ]
  },
  {
   "cell_type": "code",
   "execution_count": 321,
   "metadata": {},
   "outputs": [
    {
     "name": "stdout",
     "output_type": "stream",
     "text": [
      "1\n",
      "1\n"
     ]
    }
   ],
   "source": [
    "#21. ¿Cuántas veces esta semana llega la temperatura a la `t_max`? ¿Y cuántas a la `t_min`?\n",
    "print(temperaturas.count(t_max))\n",
    "print(temperaturas.count(t_min))"
   ]
  },
  {
   "cell_type": "code",
   "execution_count": 322,
   "metadata": {},
   "outputs": [],
   "source": [
    "# 22. La lista dias_en contiene 'monday', 'tuesday', 'wednesday', 'thursday', 'friday', 'saturday', y 'sunday'.\n",
    "dias_en = ['monday', 'tuesday', 'wednesday', 'thursday', 'friday', 'saturday','sunday']"
   ]
  },
  {
   "cell_type": "code",
   "execution_count": 323,
   "metadata": {},
   "outputs": [
    {
     "name": "stdout",
     "output_type": "stream",
     "text": [
      "[10, 10, 13, 14, 12, 15, 12, 11, 13, 17, 18, 15, 15, 17, 17, 13, 13, 11, 12, 10, 12, 14, 12, 12, 11, 12, 16, 16, 14, 17, 18]\n"
     ]
    }
   ],
   "source": [
    "#23Define temperaturas_diciembre 👇🏽:\n",
    "#      temperaturas_diciembre = [10, 10, 13, 14, 12, 15, \n",
    "#                            12, 11, 13, 17, 18, 15, \n",
    "#                            15, 17, 17, 13, 13, 11,\n",
    "#                            12, 10, 12, 14, 12, 12,\n",
    "#                            11, 12, 16, 16, 14, 17, 18]\n",
    "temperaturas_diciembre = [10, 10, 13, 14, 12, 15, 12, 11, 13, 17, 18, 15, 15, 17, 17, 13, 13, 11, 12, 10, 12, 14, 12, 12, 11, 12, 16, 16, 14, 17, 18]\n",
    "print(temperaturas_diciembre)"
   ]
  },
  {
   "cell_type": "code",
   "execution_count": 324,
   "metadata": {},
   "outputs": [
    {
     "data": {
      "text/plain": [
       "17"
      ]
     },
     "execution_count": 324,
     "metadata": {},
     "output_type": "execute_result"
    }
   ],
   "source": [
    "#24. ¿Cuál es el penúltimo día de la semana?\n",
    "temperaturas_diciembre[-2]"
   ]
  },
  {
   "cell_type": "code",
   "execution_count": 325,
   "metadata": {},
   "outputs": [
    {
     "data": {
      "text/plain": [
       "18"
      ]
     },
     "execution_count": 325,
     "metadata": {},
     "output_type": "execute_result"
    }
   ],
   "source": [
    "#25. ¿Cuál es el último elemento de la lista de temperaturas de diciembre? \n",
    "temperaturas_diciembre[-1]"
   ]
  },
  {
   "cell_type": "code",
   "execution_count": 326,
   "metadata": {},
   "outputs": [
    {
     "data": {
      "text/plain": [
       "4"
      ]
     },
     "execution_count": 326,
     "metadata": {},
     "output_type": "execute_result"
    }
   ],
   "source": [
    "#27. ¿Está 'friday' en la lista de días en inglés? Si está, ¿dónde?\n",
    "dias_en.index(\"friday\")"
   ]
  },
  {
   "cell_type": "code",
   "execution_count": 327,
   "metadata": {},
   "outputs": [
    {
     "data": {
      "text/plain": [
       "18"
      ]
     },
     "execution_count": 327,
     "metadata": {},
     "output_type": "execute_result"
    }
   ],
   "source": [
    "# 28. ¿Cuál era la temperatura máxima en diciembre?\n",
    "max(temperaturas_diciembre)"
   ]
  },
  {
   "cell_type": "code",
   "execution_count": 328,
   "metadata": {},
   "outputs": [
    {
     "data": {
      "text/plain": [
       "'miercoles'"
      ]
     },
     "execution_count": 328,
     "metadata": {},
     "output_type": "execute_result"
    }
   ],
   "source": [
    "# 29. Encuentra el índice de 'miércoles' en dias_es.\n",
    "dias_es = [\"lunes\",\"martes\",\"miercoles\",\"jueves\",\"viernes\",\"sabado\",\"domingo\"]\n",
    "dias_es[2]"
   ]
  },
  {
   "cell_type": "code",
   "execution_count": 329,
   "metadata": {},
   "outputs": [
    {
     "name": "stdout",
     "output_type": "stream",
     "text": [
      "La temperatura maxima esta semana sera 29 C, que ocurrira en 1 dia.El día más frio tendra una temperatura maxima de 21 C, que occurirá en 1 dia\n"
     ]
    }
   ],
   "source": [
    "# 30. Imprime esta frase en pantalla: 'La temperatura máxima esta semana será 14 ºC, que ocurrirá en 1 días(s). El día más frío tendrá una temperatura máxima de 10 ºC, que ocurrirá en 2 día(s).'\n",
    "print(\"La temperatura maxima esta semana sera\", max(temperaturas), \"C, que ocurrira en\", temperaturas.count((max(temperaturas))),\"dia.El día más frio tendra una temperatura maxima de\", min(temperaturas),\"C, que occurirá en\", temperaturas.count((min(temperaturas))), \"dia\")"
   ]
  },
  {
   "cell_type": "code",
   "execution_count": null,
   "metadata": {},
   "outputs": [],
   "source": []
  },
  {
   "cell_type": "code",
   "execution_count": null,
   "metadata": {},
   "outputs": [],
   "source": []
  },
  {
   "cell_type": "code",
   "execution_count": null,
   "metadata": {},
   "outputs": [],
   "source": []
  },
  {
   "cell_type": "code",
   "execution_count": null,
   "metadata": {},
   "outputs": [],
   "source": []
  },
  {
   "cell_type": "code",
   "execution_count": null,
   "metadata": {},
   "outputs": [],
   "source": []
  },
  {
   "cell_type": "code",
   "execution_count": null,
   "metadata": {},
   "outputs": [],
   "source": []
  },
  {
   "cell_type": "code",
   "execution_count": null,
   "metadata": {},
   "outputs": [],
   "source": []
  },
  {
   "cell_type": "code",
   "execution_count": null,
   "metadata": {},
   "outputs": [],
   "source": []
  },
  {
   "cell_type": "code",
   "execution_count": null,
   "metadata": {},
   "outputs": [],
   "source": []
  },
  {
   "cell_type": "code",
   "execution_count": null,
   "metadata": {},
   "outputs": [],
   "source": []
  },
  {
   "cell_type": "code",
   "execution_count": null,
   "metadata": {},
   "outputs": [],
   "source": []
  },
  {
   "cell_type": "code",
   "execution_count": null,
   "metadata": {},
   "outputs": [],
   "source": []
  },
  {
   "cell_type": "code",
   "execution_count": null,
   "metadata": {},
   "outputs": [],
   "source": []
  },
  {
   "cell_type": "code",
   "execution_count": null,
   "metadata": {},
   "outputs": [],
   "source": []
  }
 ],
 "metadata": {
  "kernelspec": {
   "display_name": "Python 3",
   "language": "python",
   "name": "python3"
  },
  "language_info": {
   "codemirror_mode": {
    "name": "ipython",
    "version": 3
   },
   "file_extension": ".py",
   "mimetype": "text/x-python",
   "name": "python",
   "nbconvert_exporter": "python",
   "pygments_lexer": "ipython3",
   "version": "3.10.12"
  }
 },
 "nbformat": 4,
 "nbformat_minor": 2
}
