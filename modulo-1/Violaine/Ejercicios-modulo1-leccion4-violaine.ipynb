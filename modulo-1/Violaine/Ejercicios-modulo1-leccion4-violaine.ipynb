{
 "cells": [
  {
   "cell_type": "code",
   "execution_count": 28,
   "metadata": {},
   "outputs": [],
   "source": [
    "#1. Crea las siguientes variables:\n",
    "#`var1` sea un número con el valor `8`.\n",
    "#`var2` sea un número con el valor `2`.\n",
    "#`var3` sea un número con el valor `8`.\n",
    "\n",
    "var1 = 8\n",
    "var2 = 2\n",
    "var3 = 8"
   ]
  },
  {
   "cell_type": "code",
   "execution_count": 29,
   "metadata": {},
   "outputs": [
    {
     "name": "stdout",
     "output_type": "stream",
     "text": [
      "¡Es enorme!\n"
     ]
    }
   ],
   "source": [
    "#2. Comprueba si `var1` es mayor que 6, y si es así imprime `¡Es enorme!`.\n",
    "if var1 > 6:\n",
    "    print(\"¡Es enorme!\")"
   ]
  },
  {
   "cell_type": "code",
   "execution_count": 30,
   "metadata": {},
   "outputs": [],
   "source": [
    "#3. Comprueba si `var2` es mayor que 6, y si es así imprime `¡Es enorme también!`.\n",
    "if var2 > 6:\n",
    "    print(\"¡Es enorme también!\")\n"
   ]
  },
  {
   "cell_type": "code",
   "execution_count": 31,
   "metadata": {},
   "outputs": [
    {
     "name": "stdout",
     "output_type": "stream",
     "text": [
      "¡Es enorme!\n",
      "¡Pero de verdad!\n"
     ]
    }
   ],
   "source": [
    "#4. Comprueba si `var3` es mayor que 6, y si es así imprime `¡Es enorme!` seguido por `¡Pero de verdad!` en otra línea (deberéis tener dos *print*).\n",
    "if var3 > 6:\n",
    "    print(\"¡Es enorme!\")\n",
    "    print(\"¡Pero de verdad!\")"
   ]
  },
  {
   "cell_type": "code",
   "execution_count": 32,
   "metadata": {},
   "outputs": [
    {
     "name": "stdout",
     "output_type": "stream",
     "text": [
      "son iguales!\n"
     ]
    }
   ],
   "source": [
    "#5. Comprueba si `var1` es igual que `var3`, y si es así imprime `Son iguales.`.\n",
    "if var1 == var3:\n",
    "    print(\"son iguales!\")"
   ]
  },
  {
   "cell_type": "code",
   "execution_count": 33,
   "metadata": {},
   "outputs": [],
   "source": [
    "#6. Comprueba si `var1` es igual que `var2`, y si es así imprime `Son iguales.`\n",
    "if var1 == var2:\n",
    "    print(\"son iguales!\")"
   ]
  },
  {
   "cell_type": "code",
   "execution_count": 34,
   "metadata": {},
   "outputs": [
    {
     "name": "stdout",
     "output_type": "stream",
     "text": [
      "la diferencia es 6\n"
     ]
    }
   ],
   "source": [
    "#7. Comprueba si `var1` es mayor o igual que `var2`, y si es así calcula la diferencia entre `var1` y `var2`, guardala en la variable `dif`, e imprime `'La diferencia es',dif`. \n",
    "if var1 >= var2:\n",
    "    dif = var1 - var2\n",
    "    print(\"la diferencia es\", dif)"
   ]
  },
  {
   "cell_type": "code",
   "execution_count": 35,
   "metadata": {},
   "outputs": [
    {
     "name": "stdout",
     "output_type": "stream",
     "text": [
      "Es enorme!\n"
     ]
    }
   ],
   "source": [
    "#8. Comprueba si `var1` es mayor que 6, y si es así imprime `¡Es enorme!`. Si no es así imprime `Es chiquitín.`.\n",
    "if var1 > 6:\n",
    "    print(\"Es enorme!\")\n",
    "else: \n",
    "    print(\"Es chiquitin\")"
   ]
  },
  {
   "cell_type": "code",
   "execution_count": 36,
   "metadata": {},
   "outputs": [
    {
     "name": "stdout",
     "output_type": "stream",
     "text": [
      "es chiquitin tambien\n"
     ]
    }
   ],
   "source": [
    "#9. Comprueba si `var2` es mayor que 6, y si es así imprime `¡Es enorme también!`. Si no es así imprime `Es chiquitín también.`.\n",
    "if var2 > 6:\n",
    "    print(\"es enorme tambien\")\n",
    "else:\n",
    "    print(\"es chiquitin tambien\")"
   ]
  },
  {
   "cell_type": "code",
   "execution_count": 37,
   "metadata": {},
   "outputs": [
    {
     "name": "stdout",
     "output_type": "stream",
     "text": [
      "son iguales\n"
     ]
    }
   ],
   "source": [
    "#10. Comprueba si `var1` es igual a `var3`, y si es así imprime `Son iguales.` Si no es así imprime `Son distintos.`\n",
    "if var1 == var3:\n",
    "    print(\"son iguales\")\n",
    "else:\n",
    "    print(\"son distintos\")"
   ]
  },
  {
   "cell_type": "code",
   "execution_count": 38,
   "metadata": {},
   "outputs": [
    {
     "ename": "ValueError",
     "evalue": "invalid literal for int() with base 10: ''",
     "output_type": "error",
     "traceback": [
      "\u001b[0;31m---------------------------------------------------------------------------\u001b[0m",
      "\u001b[0;31mValueError\u001b[0m                                Traceback (most recent call last)",
      "Cell \u001b[0;32mIn[38], line 9\u001b[0m\n\u001b[1;32m      1\u001b[0m \u001b[38;5;66;03m#11. Escribe un programa para una empresa que tiene salas de juegos para todas las edades y quiere calcular de forma automática el precio que debe cobrar a sus clientes por entrar. El programa debe preguntar al usuario:\u001b[39;00m\n\u001b[1;32m      2\u001b[0m \n\u001b[1;32m      3\u001b[0m \u001b[38;5;66;03m#- La edad del cliente. \u001b[39;00m\n\u001b[0;32m   (...)\u001b[0m\n\u001b[1;32m      6\u001b[0m \u001b[38;5;66;03m#- Si tiene entre 4 y 18 años debe pagar 5€ y \u001b[39;00m\n\u001b[1;32m      7\u001b[0m \u001b[38;5;66;03m#- Si es mayor de 18 años, 10€.\u001b[39;00m\n\u001b[0;32m----> 9\u001b[0m edad_cliente \u001b[38;5;241m=\u001b[39m \u001b[38;5;28;43mint\u001b[39;49m\u001b[43m(\u001b[49m\u001b[38;5;28;43minput\u001b[39;49m\u001b[43m(\u001b[49m\u001b[38;5;124;43m\"\u001b[39;49m\u001b[38;5;124;43mañadir edad cliente: \u001b[39;49m\u001b[38;5;124;43m\"\u001b[39;49m\u001b[43m)\u001b[49m\u001b[43m)\u001b[49m\n\u001b[1;32m     10\u001b[0m \u001b[38;5;28;01mif\u001b[39;00m edad_cliente \u001b[38;5;241m<\u001b[39m \u001b[38;5;241m4\u001b[39m:\n\u001b[1;32m     11\u001b[0m     \u001b[38;5;28mprint\u001b[39m(\u001b[38;5;124m\"\u001b[39m\u001b[38;5;124mPueden entrar gratis\u001b[39m\u001b[38;5;124m\"\u001b[39m)\n",
      "\u001b[0;31mValueError\u001b[0m: invalid literal for int() with base 10: ''"
     ]
    }
   ],
   "source": [
    "#11. Escribe un programa para una empresa que tiene salas de juegos para todas las edades y quiere calcular de forma automática el precio que debe cobrar a sus clientes por entrar. El programa debe preguntar al usuario:\n",
    "\n",
    "#- La edad del cliente. \n",
    "#- Las condiciones que tendremos que chequear: \n",
    "#- Si el cliente es menor de 4 años puede entrar gratis, \n",
    "#- Si tiene entre 4 y 18 años debe pagar 5€ y \n",
    "#- Si es mayor de 18 años, 10€.\n",
    "\n",
    "edad_cliente = int(input(\"añadir edad cliente: \"))\n",
    "if edad_cliente < 4:\n",
    "    print(\"Pueden entrar gratis\")\n",
    "elif 4 < edad_cliente < 18:\n",
    "    print(\"El precio es de 5€\")\n",
    "else: \n",
    "    print(\"El precio es de 10€\")"
   ]
  },
  {
   "cell_type": "code",
   "execution_count": null,
   "metadata": {},
   "outputs": [],
   "source": [
    "#12. Inicia la varible `ahorros` con un valor de `5`. Crea un bucle while que mientras los ahorros sean igual o menor que `20` imprima por pantalla la cantidad de ahorros que tenemos, y añádele `5` más. Cuando la variable ahorros supere el valor de 20 el bucle deberá parar. \n",
    "ahorros = 5\n",
    "while ahorros <= 20:\n",
    "    print(ahorros)\n",
    "    ahorros += 5"
   ]
  },
  {
   "cell_type": "code",
   "execution_count": null,
   "metadata": {},
   "outputs": [],
   "source": [
    "#13. Escribe un programa que convierta grados Celsius a grados Fahrenheit o viceversa, según la elección del usuario. Para eso tendrás que preguntar: \n",
    "#- Desde que unidades va a convertir la temperatura, Celsius o Fahrenheit. \n",
    "#- Cuál es valor de la temperatura que quiere convertir. \n",
    "\n",
    "unidades = input(\"Desde que unidades va a convertir la temperatura, Celsius o Fahrenheit?\")\n",
    "valor = int(input(\"Cuál es el valor de la temperatura que quieres convertir?\"))\n",
    "if unidades.lower() == \"celsius\":\n",
    "    print((valor + 32),\"fahrenheit\")\n",
    "elif unidades.lower() == \"fahrenheit\":\n",
    "    print((valor - 32),\"celsius\")\n",
    "else: \n",
    "    print(\"Te has equivocado\")\n",
    "\n"
   ]
  },
  {
   "cell_type": "code",
   "execution_count": 50,
   "metadata": {},
   "outputs": [
    {
     "name": "stdout",
     "output_type": "stream",
     "text": [
      "Ganas demasiado para mi calculadora!!!!!\n"
     ]
    }
   ],
   "source": [
    "#14.  Crea un programa que calcule el impuesto sobre la renta de una persona basado en su ingreso anual y su estado civil (soltero o casado). Para eso deberás: \n",
    "ingreso_anual = int(input(\"Cual es su ingreso anual?\"))\n",
    "estado_civil = input(\"Cual es su estado civil. Casado (c) o Soltero (s) ?\")\n",
    "\n",
    "\n",
    "while estado_civil.lower() != \"s\" and estado_civil.lower() != \"c\":\n",
    "    estado_civil = input(\"Cual es su estado civil. Casado (c) o Soltero (s) ?\")\n",
    "\n",
    "if estado_civil == \"s\":\n",
    "    if ingreso_anual <= 9875:\n",
    "        print(\"El impuesto es el 10% del ingreso anual\")\n",
    "        porcentaje = ((ingreso_anual*10)/100)\n",
    "        print(porcentaje)\n",
    "    elif 9876 < ingreso_anual < 40125:\n",
    "        print(\"el impuesto es el 10% de los primeros $9875 más el 12% de la cantidad que excede los $9875\")\n",
    "        porcentaje = ((9875*10)/100)\n",
    "        porcentaje2 = (((ingreso_anual-9875)*12)/100)\n",
    "        print(porcentaje + porcentaje2)\n",
    "    else: print(\"Ganas demasiado para mi calculadora!!!!!\")\n",
    "if estado_civil == \"c\":\n",
    "    if ingreso_anual <= 19850:\n",
    "        print(\"El impuesto es el 10% del ingreso anual\")\n",
    "        porcentaje = ((ingreso_anual*10)/100)\n",
    "        print(porcentaje)\n",
    "    elif 19851 < ingreso_anual < 80250:\n",
    "        print(\"el impuesto es el 10% de los primeros $19850 más el 12% de la cantidad que excede los $80250\")\n",
    "        porcentaje = ((19850*10)/100)\n",
    "        porcentaje2 = ((80250*12)/100)\n",
    "        print(porcentaje + porcentaje2)\n",
    "    else: print(\"Ganas demasiado para mi calculadora!!!!!\")"
   ]
  },
  {
   "cell_type": "code",
   "execution_count": null,
   "metadata": {},
   "outputs": [],
   "source": [
    "#15. Crea un programa que evalúe el nivel de contaminación del aire en función de la concentración de partículas en suspensión (PM2.5) en microgramos por metro cúbico (µg/m³). Para eso deberás: "
   ]
  },
  {
   "cell_type": "code",
   "execution_count": null,
   "metadata": {},
   "outputs": [],
   "source": []
  },
  {
   "cell_type": "code",
   "execution_count": null,
   "metadata": {},
   "outputs": [],
   "source": []
  },
  {
   "cell_type": "code",
   "execution_count": null,
   "metadata": {},
   "outputs": [],
   "source": []
  },
  {
   "cell_type": "code",
   "execution_count": null,
   "metadata": {},
   "outputs": [],
   "source": []
  },
  {
   "cell_type": "code",
   "execution_count": null,
   "metadata": {},
   "outputs": [],
   "source": []
  },
  {
   "cell_type": "code",
   "execution_count": null,
   "metadata": {},
   "outputs": [],
   "source": []
  },
  {
   "cell_type": "code",
   "execution_count": null,
   "metadata": {},
   "outputs": [],
   "source": []
  },
  {
   "cell_type": "code",
   "execution_count": null,
   "metadata": {},
   "outputs": [],
   "source": []
  },
  {
   "cell_type": "code",
   "execution_count": null,
   "metadata": {},
   "outputs": [],
   "source": []
  },
  {
   "cell_type": "code",
   "execution_count": null,
   "metadata": {},
   "outputs": [],
   "source": []
  },
  {
   "cell_type": "code",
   "execution_count": null,
   "metadata": {},
   "outputs": [],
   "source": []
  },
  {
   "cell_type": "code",
   "execution_count": null,
   "metadata": {},
   "outputs": [],
   "source": []
  },
  {
   "cell_type": "code",
   "execution_count": null,
   "metadata": {},
   "outputs": [],
   "source": []
  },
  {
   "cell_type": "code",
   "execution_count": null,
   "metadata": {},
   "outputs": [],
   "source": []
  },
  {
   "cell_type": "code",
   "execution_count": null,
   "metadata": {},
   "outputs": [],
   "source": []
  },
  {
   "cell_type": "code",
   "execution_count": null,
   "metadata": {},
   "outputs": [],
   "source": []
  },
  {
   "cell_type": "code",
   "execution_count": null,
   "metadata": {},
   "outputs": [],
   "source": []
  },
  {
   "cell_type": "code",
   "execution_count": null,
   "metadata": {},
   "outputs": [],
   "source": []
  },
  {
   "cell_type": "code",
   "execution_count": null,
   "metadata": {},
   "outputs": [],
   "source": []
  },
  {
   "cell_type": "code",
   "execution_count": null,
   "metadata": {},
   "outputs": [],
   "source": []
  }
 ],
 "metadata": {
  "kernelspec": {
   "display_name": "Python 3",
   "language": "python",
   "name": "python3"
  },
  "language_info": {
   "codemirror_mode": {
    "name": "ipython",
    "version": 3
   },
   "file_extension": ".py",
   "mimetype": "text/x-python",
   "name": "python",
   "nbconvert_exporter": "python",
   "pygments_lexer": "ipython3",
   "version": "3.10.12"
  }
 },
 "nbformat": 4,
 "nbformat_minor": 2
}
