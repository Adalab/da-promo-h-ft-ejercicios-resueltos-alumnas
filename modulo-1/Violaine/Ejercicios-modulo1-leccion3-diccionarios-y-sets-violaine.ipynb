{
 "cells": [
  {
   "cell_type": "code",
   "execution_count": 361,
   "metadata": {},
   "outputs": [],
   "source": [
    "#Ejercicios de diccionarios y sets\n",
    "#Diccionarios"
   ]
  },
  {
   "cell_type": "code",
   "execution_count": 362,
   "metadata": {},
   "outputs": [
    {
     "name": "stdout",
     "output_type": "stream",
     "text": [
      "{'01/01': 'Año nuevo', '06/01': 'Epifanía del Señor', '15/04': 'Viernes Santo', '15/08': 'Asunción de la Virgen', '12/10': 'Fiesta Nacional de España', '01/11': 'Todos los Santos', '06/12': 'Día de la Constitución Española', '08/12': 'Inmaculada Concepción'}\n"
     ]
    }
   ],
   "source": [
    "#- Definir diccionarios\n",
    "#1. Crea el diccionario `festivos` con las fechas como claves y los nombres como valores: 01/01: Año Nuevo, 06/01: Epifanía del Señor, 15/04: Viernes Santo, 15/08: Asunción de la Virgen, 12/10: Fiesta Nacional de España, 01/11: Todos los Santos, 06/12: Día de la Constitución Española, y 08/12: Inmaculada Concepción.\n",
    "festivos = {\"01/01\":\"Año nuevo\", \"06/01\": \"Epifanía del Señor\", \"15/04\": \"Viernes Santo\", \"15/08\": \"Asunción de la Virgen\", \"12/10\": \"Fiesta Nacional de España\", \"01/11\": \"Todos los Santos\", \"06/12\": \"Día de la Constitución Española\", \"08/12\": \"Inmaculada Concepción\"}\n",
    "print(festivos)"
   ]
  },
  {
   "cell_type": "code",
   "execution_count": 363,
   "metadata": {},
   "outputs": [],
   "source": [
    "#2. Crea el diccionario `monarcas` con los países como claves y los nombres como valores: Bélgica: Philippe, Dinamarca: Margrethe II, Holanda: Beatrix, Noruega: Harald V, España: Felipe VI, Reino Unido: Carlos III.\n",
    "monarcas = {\"Bélgica\": \"Philippe\", \"Dinamarca\": \"Margrethe II\", \"Holanda\": \"Beatrix\", \"Noruega\": \"Harald V\", \"España\": \"Felipe VI\", \"Reino Unido\": \"Carlos III\"}"
   ]
  },
  {
   "cell_type": "code",
   "execution_count": 364,
   "metadata": {},
   "outputs": [
    {
     "data": {
      "text/plain": [
       "'Viernes Santo'"
      ]
     },
     "execution_count": 364,
     "metadata": {},
     "output_type": "execute_result"
    }
   ],
   "source": [
    "#- Leer, añadir, y cambiar elementos\n",
    "#3. ¿Qué festivo hay el 15/04?\n",
    "festivos.get(\"15/04\")"
   ]
  },
  {
   "cell_type": "code",
   "execution_count": 365,
   "metadata": {},
   "outputs": [
    {
     "name": "stdout",
     "output_type": "stream",
     "text": [
      "{'Bélgica': 'Philippe', 'Dinamarca': 'Margrethe II', 'Holanda': 'Willem-Alexander', 'Noruega': 'Harald V', 'España': 'Felipe VI', 'Reino Unido': 'Carlos III'}\n"
     ]
    }
   ],
   "source": [
    "#4. La reina `'Beatrix'` abdicó, ahora es el rey `'Willem-Alexander'`. Actualiza el dict.\n",
    "monarcas[\"Holanda\"] = \"Willem-Alexander\"\n",
    "print(monarcas)\n"
   ]
  },
  {
   "cell_type": "code",
   "execution_count": 366,
   "metadata": {},
   "outputs": [
    {
     "name": "stdout",
     "output_type": "stream",
     "text": [
      "{'Bélgica': 'Philippe', 'Dinamarca': 'Margrethe II', 'Holanda': 'Willem-Alexander', 'Noruega': 'Harald V', 'España': 'Felipe VI', 'Reino Unido': 'Carlos III', 'Luxemburgo': 'Henri'}\n"
     ]
    }
   ],
   "source": [
    "#5. El rey de Luxemburgo se llama `Henri`. Añadelo al dict usando `.update()`. \n",
    "update_lux = {\"Luxemburgo\":\"Henri\"}\n",
    "monarcas.update(update_lux)\n",
    "print(monarcas)"
   ]
  },
  {
   "cell_type": "code",
   "execution_count": 367,
   "metadata": {},
   "outputs": [
    {
     "data": {
      "text/plain": [
       "7"
      ]
     },
     "execution_count": 367,
     "metadata": {},
     "output_type": "execute_result"
    }
   ],
   "source": [
    "#- Comprobar contenidos\n",
    "#6. ¿Cuántos países están definidos en `monarcas`?\n",
    "len(monarcas)"
   ]
  },
  {
   "cell_type": "code",
   "execution_count": 368,
   "metadata": {},
   "outputs": [
    {
     "data": {
      "text/plain": [
       "False"
      ]
     },
     "execution_count": 368,
     "metadata": {},
     "output_type": "execute_result"
    }
   ],
   "source": [
    "#7. ¿Es `'Monaco'` uno de ellos?\n",
    "\"monaco\" in monarcas"
   ]
  },
  {
   "cell_type": "code",
   "execution_count": 369,
   "metadata": {},
   "outputs": [
    {
     "data": {
      "text/plain": [
       "True"
      ]
     },
     "execution_count": 369,
     "metadata": {},
     "output_type": "execute_result"
    }
   ],
   "source": [
    "#8. ¿Es verdad que nos olvidamos de poner `'Suecia'`? Compruébalo de una manera en que obtengas un `True` o `False`.\n",
    "\"Suecia\" not in monarcas"
   ]
  },
  {
   "cell_type": "code",
   "execution_count": 370,
   "metadata": {},
   "outputs": [
    {
     "data": {
      "text/plain": [
       "dict_keys(['Bélgica', 'Dinamarca', 'Holanda', 'Noruega', 'España', 'Reino Unido', 'Luxemburgo'])"
      ]
     },
     "execution_count": 370,
     "metadata": {},
     "output_type": "execute_result"
    }
   ],
   "source": [
    "#- Listar los contenidos\n",
    "#9. Saca una **lista** de todos los países en el dict `monarcas`.\n",
    "monarcas.keys()"
   ]
  },
  {
   "cell_type": "code",
   "execution_count": 371,
   "metadata": {},
   "outputs": [
    {
     "data": {
      "text/plain": [
       "dict_values(['Año nuevo', 'Epifanía del Señor', 'Viernes Santo', 'Asunción de la Virgen', 'Fiesta Nacional de España', 'Todos los Santos', 'Día de la Constitución Española', 'Inmaculada Concepción'])"
      ]
     },
     "execution_count": 371,
     "metadata": {},
     "output_type": "execute_result"
    }
   ],
   "source": [
    "#10. Saca una **lista** de los nombres de los festivos.\n",
    "festivos.values()"
   ]
  },
  {
   "cell_type": "code",
   "execution_count": 372,
   "metadata": {},
   "outputs": [
    {
     "name": "stdout",
     "output_type": "stream",
     "text": [
      "{'01/01': 'Año nuevo', '06/01': 'Epifanía del Señor', '15/04': 'Viernes Santo', '15/08': 'Asunción de la Virgen', '12/10': 'Fiesta Nacional de España', '01/11': 'Todos los Santos', '06/12': 'Día de la Constitución Española', '08/12': 'Inmaculada Concepción'}\n"
     ]
    }
   ],
   "source": [
    "# 11. Imprime el diccionario de festivos.\n",
    "print(festivos)"
   ]
  },
  {
   "cell_type": "code",
   "execution_count": 373,
   "metadata": {},
   "outputs": [
    {
     "name": "stdout",
     "output_type": "stream",
     "text": [
      "dict_items([('01/01', 'Año nuevo'), ('06/01', 'Epifanía del Señor'), ('15/04', 'Viernes Santo'), ('15/08', 'Asunción de la Virgen'), ('12/10', 'Fiesta Nacional de España'), ('01/11', 'Todos los Santos'), ('06/12', 'Día de la Constitución Española'), ('08/12', 'Inmaculada Concepción')])\n"
     ]
    }
   ],
   "source": [
    "#12. Imprime una **lista de tuplas** de todos los elementos que hay en festivos.\n",
    "print(festivos.items())"
   ]
  },
  {
   "cell_type": "code",
   "execution_count": 374,
   "metadata": {},
   "outputs": [
    {
     "name": "stdout",
     "output_type": "stream",
     "text": [
      "{'Bélgica': 'Philippe', 'Dinamarca': 'Margrethe II', 'Holanda': 'Willem-Alexander', 'Noruega': 'Harald V', 'España': 'Felipe VI', 'Reino Unido': 'Carlos III', 'Luxemburgo': 'Henri'}\n"
     ]
    }
   ],
   "source": [
    "#- Copiar dicts, y borrar elementos\n",
    "#13. Copia `monarcas` a `monarcas2010`.\n",
    "monarcas2010 = monarcas.copy()\n",
    "print(monarcas2010)"
   ]
  },
  {
   "cell_type": "code",
   "execution_count": 375,
   "metadata": {},
   "outputs": [
    {
     "name": "stdout",
     "output_type": "stream",
     "text": [
      "{'Bélgica': 'Philippe', 'Dinamarca': 'Margrethe II', 'Holanda': 'Willem-Alexander', 'Noruega': 'Harald V', 'Reino Unido': 'Carlos III', 'Luxemburgo': 'Henri'}\n"
     ]
    }
   ],
   "source": [
    "#14. Quita España de `monarcas2010`.\n",
    "monarcas2010.pop(\"España\")\n",
    "print(monarcas2010)"
   ]
  },
  {
   "cell_type": "code",
   "execution_count": 376,
   "metadata": {},
   "outputs": [
    {
     "data": {
      "text/plain": [
       "('Luxemburgo', 'Henri')"
      ]
     },
     "execution_count": 376,
     "metadata": {},
     "output_type": "execute_result"
    }
   ],
   "source": [
    "#15. Quita el último elemento de `monarcas2010`.\n",
    "monarcas2010.popitem()"
   ]
  },
  {
   "cell_type": "code",
   "execution_count": 377,
   "metadata": {},
   "outputs": [
    {
     "name": "stdout",
     "output_type": "stream",
     "text": [
      "{}\n"
     ]
    }
   ],
   "source": [
    "#- Vaciar y borrar dicts\n",
    "#16. Vacia el dict `monarcas2010`.\n",
    "monarcas2010.clear()\n",
    "print(monarcas2010)"
   ]
  },
  {
   "cell_type": "code",
   "execution_count": 378,
   "metadata": {},
   "outputs": [
    {
     "data": {
      "text/plain": [
       "'Epifanía del Señor'"
      ]
     },
     "execution_count": 378,
     "metadata": {},
     "output_type": "execute_result"
    }
   ],
   "source": [
    "#- Obtener valores\n",
    "#17. ¿Qué festivo hay el 06/01?\n",
    "festivos.setdefault(\"06/01\")"
   ]
  },
  {
   "cell_type": "code",
   "execution_count": 379,
   "metadata": {},
   "outputs": [
    {
     "data": {
      "text/plain": [
       "'Día internacional de la Mujer'"
      ]
     },
     "execution_count": 379,
     "metadata": {},
     "output_type": "execute_result"
    }
   ],
   "source": [
    "#18. Obten el festivo que haya el 08/03, y en su defecto devuélve 'Día Internacional de la Mujer'.\n",
    "festivos.setdefault(\"08/03\", \"Día internacional de la Mujer\")"
   ]
  },
  {
   "cell_type": "code",
   "execution_count": 380,
   "metadata": {},
   "outputs": [
    {
     "name": "stdout",
     "output_type": "stream",
     "text": [
      "Todos los Santos\n"
     ]
    }
   ],
   "source": [
    "#19. Obten el festivo que haya el 31/11, y si no existe crea un par de clave-valor nuevo con el valor de 'Todos los Santos'.\n",
    "print(festivos.setdefault(\"31/11\",\"Todos los Santos\"))"
   ]
  },
  {
   "cell_type": "code",
   "execution_count": 381,
   "metadata": {},
   "outputs": [],
   "source": [
    "# ejercicos SETS"
   ]
  },
  {
   "cell_type": "code",
   "execution_count": 382,
   "metadata": {},
   "outputs": [],
   "source": [
    "# 1 . Define la lista temperaturas diciembre\n",
    "temperaturas_diciembre = [10, 10, 13, 14, 12, 15, 12, 11, 13, 17, 18, 15, 15, 17, 17, 13, 13, 11, 12, 10, 12, 14, 12, 12, 11, 12, 16, 16, 14, 17, 18]"
   ]
  },
  {
   "cell_type": "code",
   "execution_count": 383,
   "metadata": {},
   "outputs": [
    {
     "data": {
      "text/plain": [
       "set"
      ]
     },
     "execution_count": 383,
     "metadata": {},
     "output_type": "execute_result"
    }
   ],
   "source": [
    "#2. Conviértala en un set  llamado `diciembre`.\n",
    "temperaturas_diciembre = set(temperaturas_diciembre)\n",
    "type(temperaturas_diciembre)"
   ]
  },
  {
   "cell_type": "code",
   "execution_count": 384,
   "metadata": {},
   "outputs": [
    {
     "name": "stdout",
     "output_type": "stream",
     "text": [
      "{'turquesa', 'naranja', 'blanco', 'rosa', 'verde', 'amarillo'}\n"
     ]
    }
   ],
   "source": [
    "#3 Piensa en 6 colores y almacenalos en un set llamado `colores`.\n",
    "colores = {\"rosa\", \"amarillo\", \"verde\", \"blanco\", \"naranja\", \"turquesa\"}\n",
    "type(colores)\n",
    "print(colores)"
   ]
  },
  {
   "cell_type": "code",
   "execution_count": 385,
   "metadata": {},
   "outputs": [
    {
     "name": "stdout",
     "output_type": "stream",
     "text": [
      "{'lila', 'turquesa', 'naranja', 'blanco', 'rosa', 'verde', 'amarillo'}\n"
     ]
    }
   ],
   "source": [
    "# 4. Añade `'lila'` a `colores`. \n",
    "colores.add(\"lila\")\n",
    "print(colores)"
   ]
  },
  {
   "cell_type": "code",
   "execution_count": 386,
   "metadata": {},
   "outputs": [
    {
     "name": "stdout",
     "output_type": "stream",
     "text": [
      "{'turquesa', 'rosa', 'amarillo', 'granate', 'lila', 'rojo', 'blanco', 'verde', 'azul', 'naranja'}\n"
     ]
    }
   ],
   "source": [
    "#5. Añade `'azul'`, `'rojo'`, y `'granate'` a `colores` usando `.update()`.\n",
    "colores.update([\"azul\", \"rojo\", \"granate\"])\n",
    "print(colores)"
   ]
  },
  {
   "cell_type": "code",
   "execution_count": 387,
   "metadata": {},
   "outputs": [
    {
     "data": {
      "text/plain": [
       "True"
      ]
     },
     "execution_count": 387,
     "metadata": {},
     "output_type": "execute_result"
    }
   ],
   "source": [
    "##6. Tu set de `colores`, ¿tiene `'verde'`? (in,not in)\n",
    "\"verde\" in colores"
   ]
  },
  {
   "cell_type": "code",
   "execution_count": 388,
   "metadata": {},
   "outputs": [
    {
     "data": {
      "text/plain": [
       "False"
      ]
     },
     "execution_count": 388,
     "metadata": {},
     "output_type": "execute_result"
    }
   ],
   "source": [
    "#7. ¿Y tiene `'ROJO'`?\n",
    "\"ROJO\" in colores"
   ]
  },
  {
   "cell_type": "code",
   "execution_count": 389,
   "metadata": {},
   "outputs": [
    {
     "name": "stdout",
     "output_type": "stream",
     "text": [
      "{10, 11, 12, 13, 14, 15, 16, 17, 18}\n"
     ]
    }
   ],
   "source": [
    "#8. Define el set `enero` para que sea igual a `diciembre`.\n",
    "enero = temperaturas_diciembre.copy()\n",
    "print(enero)"
   ]
  },
  {
   "cell_type": "code",
   "execution_count": 390,
   "metadata": {},
   "outputs": [
    {
     "name": "stdout",
     "output_type": "stream",
     "text": [
      "{10, 11, 12, 13, 14, 15, 16, 18}\n",
      "{10, 11, 12, 13, 14, 15, 16}\n"
     ]
    }
   ],
   "source": [
    "#9. Quita las temperaturas `17`, y `18` de `enero`.\n",
    "enero.remove(17)\n",
    "print(enero)\n",
    "enero.remove(18)\n",
    "print(enero)"
   ]
  },
  {
   "cell_type": "code",
   "execution_count": 391,
   "metadata": {},
   "outputs": [
    {
     "data": {
      "text/plain": [
       "9"
      ]
     },
     "execution_count": 391,
     "metadata": {},
     "output_type": "execute_result"
    }
   ],
   "source": [
    "#10. ¿Cuántas temperaturas distintas había en diciembre?\n",
    "len(temperaturas_diciembre)"
   ]
  },
  {
   "cell_type": "code",
   "execution_count": 392,
   "metadata": {},
   "outputs": [
    {
     "data": {
      "text/plain": [
       "7"
      ]
     },
     "execution_count": 392,
     "metadata": {},
     "output_type": "execute_result"
    }
   ],
   "source": [
    "#11. ¿Y cuántas en enero?\n",
    "len(enero)"
   ]
  },
  {
   "cell_type": "code",
   "execution_count": 400,
   "metadata": {},
   "outputs": [
    {
     "data": {
      "text/plain": [
       "set()"
      ]
     },
     "execution_count": 400,
     "metadata": {},
     "output_type": "execute_result"
    }
   ],
   "source": [
    "#12. Identifica los elementos que hay en `diciembre` que no están en `enero`.\n",
    "enero.difference(temperaturas_diciembre)"
   ]
  },
  {
   "cell_type": "code",
   "execution_count": 394,
   "metadata": {},
   "outputs": [
    {
     "data": {
      "text/plain": [
       "{17, 18}"
      ]
     },
     "execution_count": 394,
     "metadata": {},
     "output_type": "execute_result"
    }
   ],
   "source": [
    "#13. Identifica los elementos que hay en `enero` que no están en `diciembre`.\n",
    "temperaturas_diciembre.symmetric_difference(enero)"
   ]
  },
  {
   "cell_type": "code",
   "execution_count": 406,
   "metadata": {},
   "outputs": [
    {
     "data": {
      "text/plain": [
       "{10, 11, 12, 13, 14, 15, 16}"
      ]
     },
     "execution_count": 406,
     "metadata": {},
     "output_type": "execute_result"
    }
   ],
   "source": [
    "#14. Identifica los elementos que tienen en común `diciembre` y `enero`.\n",
    "enero.intersection(temperaturas_diciembre)"
   ]
  },
  {
   "cell_type": "code",
   "execution_count": 411,
   "metadata": {},
   "outputs": [
    {
     "data": {
      "text/plain": [
       "{'azul',\n",
       " 'blanco',\n",
       " 'cyan',\n",
       " 'granate',\n",
       " 'lila',\n",
       " 'marrón',\n",
       " 'naranja',\n",
       " 'rojo',\n",
       " 'rosa',\n",
       " 'turquesa',\n",
       " 'verde'}"
      ]
     },
     "execution_count": 411,
     "metadata": {},
     "output_type": "execute_result"
    }
   ],
   "source": [
    "#15. Identifica la diferencia simétrica de `colores` y `{'marrón','amarillo','cyan'}`. ¿Qué significa este resultado?\n",
    "colores.symmetric_difference({'marrón','amarillo','cyan'})"
   ]
  },
  {
   "cell_type": "code",
   "execution_count": 407,
   "metadata": {},
   "outputs": [
    {
     "data": {
      "text/plain": [
       "False"
      ]
     },
     "execution_count": 407,
     "metadata": {},
     "output_type": "execute_result"
    }
   ],
   "source": [
    "#16. ¿Son *disjoint* `diciembre` y `enero`? ¿Por qué (no)?\n",
    "enero.isdisjoint(temperaturas_diciembre)\n",
    "#porque enero es copia de uno pero no es subconjunto"
   ]
  },
  {
   "cell_type": "code",
   "execution_count": 409,
   "metadata": {},
   "outputs": [
    {
     "data": {
      "text/plain": [
       "False"
      ]
     },
     "execution_count": 409,
     "metadata": {},
     "output_type": "execute_result"
    }
   ],
   "source": [
    "#17. ¿Es `{'rojo','azul'}` un superset de colores?\n",
    "{\"rojo\",\"azul\"}.issuperset(colores)"
   ]
  },
  {
   "cell_type": "code",
   "execution_count": 410,
   "metadata": {},
   "outputs": [
    {
     "data": {
      "text/plain": [
       "True"
      ]
     },
     "execution_count": 410,
     "metadata": {},
     "output_type": "execute_result"
    }
   ],
   "source": [
    "#18. ¿Y un subset?\n",
    "{\"rojo\",\"azul\"}.issubset(colores)"
   ]
  },
  {
   "cell_type": "code",
   "execution_count": null,
   "metadata": {},
   "outputs": [],
   "source": []
  },
  {
   "cell_type": "code",
   "execution_count": null,
   "metadata": {},
   "outputs": [],
   "source": []
  },
  {
   "cell_type": "code",
   "execution_count": null,
   "metadata": {},
   "outputs": [],
   "source": []
  },
  {
   "cell_type": "code",
   "execution_count": null,
   "metadata": {},
   "outputs": [],
   "source": []
  },
  {
   "cell_type": "code",
   "execution_count": null,
   "metadata": {},
   "outputs": [],
   "source": []
  },
  {
   "cell_type": "code",
   "execution_count": null,
   "metadata": {},
   "outputs": [],
   "source": []
  },
  {
   "cell_type": "code",
   "execution_count": null,
   "metadata": {},
   "outputs": [],
   "source": []
  },
  {
   "cell_type": "code",
   "execution_count": null,
   "metadata": {},
   "outputs": [],
   "source": []
  }
 ],
 "metadata": {
  "kernelspec": {
   "display_name": "Python 3",
   "language": "python",
   "name": "python3"
  },
  "language_info": {
   "codemirror_mode": {
    "name": "ipython",
    "version": 3
   },
   "file_extension": ".py",
   "mimetype": "text/x-python",
   "name": "python",
   "nbconvert_exporter": "python",
   "pygments_lexer": "ipython3",
   "version": "3.10.12"
  }
 },
 "nbformat": 4,
 "nbformat_minor": 2
}
