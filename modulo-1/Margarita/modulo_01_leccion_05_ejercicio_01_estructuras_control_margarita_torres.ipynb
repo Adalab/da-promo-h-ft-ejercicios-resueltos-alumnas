{
 "cells": [
  {
   "cell_type": "markdown",
   "metadata": {},
   "source": [
    "# Ejercicios\n",
    "\n",
    "1. Crea una variable que sea igual a \"Python\" y genera un código que nos printee todas las letras menos la \"P\" usando la sentencia `continue`."
   ]
  },
  {
   "cell_type": "code",
   "execution_count": 4,
   "metadata": {},
   "outputs": [
    {
     "name": "stdout",
     "output_type": "stream",
     "text": [
      "['y', 't', 'h', 'o', 'n']\n"
     ]
    }
   ],
   "source": [
    "a='Python'\n",
    "letras=[]\n",
    "for i in a:\n",
    "    if i =='P':\n",
    "        continue\n",
    "    else:\n",
    "        letras.append(i)\n",
    "print(letras)\n"
   ]
  },
  {
   "cell_type": "markdown",
   "metadata": {},
   "source": [
    "2. De la frase `'Hello'` imprime todas las letras que no sean una `'l'` usando `if`."
   ]
  },
  {
   "cell_type": "code",
   "execution_count": 6,
   "metadata": {},
   "outputs": [
    {
     "name": "stdout",
     "output_type": "stream",
     "text": [
      "['H', 'e', 'o']\n"
     ]
    }
   ],
   "source": [
    "b='Hello'\n",
    "letras=[i for i in b if not i == 'l']\n",
    "print(letras)"
   ]
  },
  {
   "cell_type": "markdown",
   "metadata": {},
   "source": [
    "3. Haz lo mismo que en 2 usando `continue`."
   ]
  },
  {
   "cell_type": "code",
   "execution_count": 7,
   "metadata": {},
   "outputs": [
    {
     "name": "stdout",
     "output_type": "stream",
     "text": [
      "['H', 'e', 'o']\n"
     ]
    }
   ],
   "source": [
    "b='Hello'\n",
    "letras1=[]\n",
    "for x in b:\n",
    "    if x =='l':\n",
    "        continue\n",
    "    else:\n",
    "        letras1.append(x)\n",
    "print(letras1)\n"
   ]
  },
  {
   "cell_type": "markdown",
   "metadata": {},
   "source": [
    "4. De la frase `'Hello'` imprime todas las letras parando el bucle si encuentras una `'o'`.\n",
    "\n"
   ]
  },
  {
   "cell_type": "code",
   "execution_count": 8,
   "metadata": {},
   "outputs": [
    {
     "name": "stdout",
     "output_type": "stream",
     "text": [
      "['H', 'e', 'l', 'l']\n"
     ]
    }
   ],
   "source": [
    "letras2=[]\n",
    "for x in b:\n",
    "    if x=='o':\n",
    "        break\n",
    "    else:\n",
    "        letras2.append(x)\n",
    "print(letras2)"
   ]
  },
  {
   "cell_type": "code",
   "execution_count": 9,
   "metadata": {},
   "outputs": [
    {
     "data": {
      "text/plain": [
       "['H', 'e', 'l', 'l']"
      ]
     },
     "execution_count": 9,
     "metadata": {},
     "output_type": "execute_result"
    }
   ],
   "source": [
    "#probamos list comprhensions\n",
    "\n",
    "letras2_1=[x for x in b if x!='o' ]\n",
    "letras2_1"
   ]
  },
  {
   "cell_type": "markdown",
   "metadata": {},
   "source": [
    "\n",
    "5. Define  la variable `doce = '12'` y `seis = 6`. Intenta sumarlos. En el caso de que te salga un error imprime `'¡Un error!'`. Para eso usa un `try` ... `except`"
   ]
  },
  {
   "cell_type": "code",
   "execution_count": 1,
   "metadata": {},
   "outputs": [
    {
     "name": "stdout",
     "output_type": "stream",
     "text": [
      "No se puede sumar\n"
     ]
    }
   ],
   "source": [
    "doce='12'\n",
    "seis=6\n",
    "try:\n",
    "    suma=doce+seis\n",
    "    print(suma)\n",
    "except TypeError:\n",
    "    print('No se puede sumar')"
   ]
  },
  {
   "cell_type": "markdown",
   "metadata": {},
   "source": [
    "6. Basándonos en el ejercicio anterior, sin usar un `try` ... `except`, ¿cómo podríamos solucionar el problema? "
   ]
  },
  {
   "cell_type": "code",
   "execution_count": 10,
   "metadata": {},
   "outputs": [
    {
     "name": "stdout",
     "output_type": "stream",
     "text": [
      "18\n"
     ]
    }
   ],
   "source": [
    "if doce is not int:\n",
    "    pass\n",
    "suma=int(doce)+seis\n",
    "print(suma)"
   ]
  },
  {
   "cell_type": "code",
   "execution_count": 11,
   "metadata": {},
   "outputs": [
    {
     "name": "stdout",
     "output_type": "stream",
     "text": [
      "18\n"
     ]
    }
   ],
   "source": [
    "doce='12'\n",
    "seis=6\n",
    "try:\n",
    "    suma=doce+seis\n",
    "    print(suma)\n",
    "except TypeError:\n",
    "    suma=int(doce)+seis\n",
    "    print(suma)\n"
   ]
  },
  {
   "cell_type": "markdown",
   "metadata": {},
   "source": [
    "7. Solicita al usuario ingresar números enteros positivos hasta que ingrese un número negativo. Luego, muestra la suma de todos los números pares ingresados."
   ]
  },
  {
   "cell_type": "code",
   "execution_count": 37,
   "metadata": {},
   "outputs": [
    {
     "name": "stdout",
     "output_type": "stream",
     "text": [
      "La suma de los números pares es: 14\n"
     ]
    }
   ],
   "source": [
    "suma_pares = 0\n",
    "while True:\n",
    "    numero = int(input(\"Ingresa un número positivo (o un número negativo para salir): \"))\n",
    "    if numero < 0:\n",
    "        break\n",
    "    if numero % 2 != 0:\n",
    "        continue\n",
    "    suma_pares += numero\n",
    "\n",
    "print(f\"La suma de los números pares es: {suma_pares}\")\n"
   ]
  },
  {
   "cell_type": "markdown",
   "metadata": {},
   "source": [
    "8. Solicita al usuario ingresar dos números y muestra el resultado de dividir el primero por el segundo. Asegúrate de manejar la excepción si el segundo número es cero."
   ]
  },
  {
   "cell_type": "code",
   "execution_count": 40,
   "metadata": {},
   "outputs": [
    {
     "name": "stdout",
     "output_type": "stream",
     "text": [
      "0.6666666666666666\n"
     ]
    }
   ],
   "source": [
    "numero_1= int(input('numero1'))\n",
    "numero_2=int(input('numero2'))\n",
    "try:\n",
    "    div=numero_1/numero_2\n",
    "    print(div)\n",
    "except ZeroDivisionError:\n",
    "    print('el numero 2 no puede ser 0')"
   ]
  },
  {
   "cell_type": "markdown",
   "metadata": {},
   "source": [
    "9. Solicita al usuario ingresar un número y muestra su raíz cuadrada. Maneja la excepción si el número es negativo."
   ]
  },
  {
   "cell_type": "code",
   "execution_count": 47,
   "metadata": {},
   "outputs": [
    {
     "name": "stdout",
     "output_type": "stream",
     "text": [
      " No ppuede ser un numero negativo\n"
     ]
    }
   ],
   "source": [
    "numero_raiz=int(input('numero'))\n",
    "if numero_raiz >0:\n",
    "    raiz=numero_raiz**0.5\n",
    "    print(raiz)\n",
    "else:\n",
    "    print( ' No ppuede ser un numero negativo')\n",
    "    "
   ]
  },
  {
   "cell_type": "markdown",
   "metadata": {},
   "source": [
    "10. Crea una lista de números y solicita al usuario ingresar un índice para acceder a un elemento de la lista. Maneja la excepción si el índice está fuera de rango."
   ]
  },
  {
   "cell_type": "code",
   "execution_count": 54,
   "metadata": {},
   "outputs": [
    {
     "name": "stdout",
     "output_type": "stream",
     "text": [
      "[0, 1, 2, 3, 4, 5, 6]\n",
      "4\n"
     ]
    }
   ],
   "source": [
    "lista=list(range(0,7))\n",
    "print(lista)\n",
    "indice=int(input('indice'))\n",
    "try:\n",
    "    numero_lista=lista[indice]\n",
    "    print(numero_lista)\n",
    "except:\n",
    "    print('indice fuera de rango')"
   ]
  }
 ],
 "metadata": {
  "kernelspec": {
   "display_name": "base",
   "language": "python",
   "name": "python3"
  },
  "language_info": {
   "codemirror_mode": {
    "name": "ipython",
    "version": 3
   },
   "file_extension": ".py",
   "mimetype": "text/x-python",
   "name": "python",
   "nbconvert_exporter": "python",
   "pygments_lexer": "ipython3",
   "version": "3.9.7"
  }
 },
 "nbformat": 4,
 "nbformat_minor": 2
}
