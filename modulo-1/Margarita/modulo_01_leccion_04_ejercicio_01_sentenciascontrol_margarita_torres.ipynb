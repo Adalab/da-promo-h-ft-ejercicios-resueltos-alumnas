{
 "cells": [
  {
   "cell_type": "markdown",
   "metadata": {},
   "source": [
    "1. Crea las siguientes variables:\n",
    "\n",
    "  - `var1` sea un número con el valor `8`.\n",
    "\n",
    "  - `var2` sea un número con el valor `2`.\n",
    "\n",
    "  - `var3` sea un número con el valor `8`.\n",
    "\n",
    "2. Comprueba si `var1` es mayor que 6, y si es así imprime `¡Es enorme!`.\n",
    "\n",
    "3. Comprueba si `var2` es mayor que 6, y si es así imprime `¡Es enorme también!`.\n",
    "\n",
    "4. Comprueba si `var3` es mayor que 6, y si es así imprime `¡Es enorme!` seguido por `¡Pero de verdad!` en otra línea (deberéis tener dos *print*).\n",
    "\n",
    "5. Comprueba si `var1` es igual que `var3`, y si es así imprime `Son iguales.`.\n",
    "\n",
    "6. Comprueba si `var1` es igual que `var2`, y si es así imprime `Son iguales.`\n"
   ]
  },
  {
   "cell_type": "code",
   "execution_count": 3,
   "metadata": {},
   "outputs": [
    {
     "name": "stdout",
     "output_type": "stream",
     "text": [
      "Ejer2:\n",
      "Es enorme\n",
      "Ejer3:\n",
      "Ejer4;\n",
      "Es enerme!\n",
      "pero de verda\n"
     ]
    }
   ],
   "source": [
    "var1=8\n",
    "var2=2\n",
    "var3=8\n",
    "print('Ejer2:')\n",
    "if var1>6:\n",
    "    print('Es enorme')\n",
    "print('Ejer3:')\n",
    "if var2>6:\n",
    "    print('Es enerme tambien')\n",
    "print('Ejer4;')\n",
    "if var3>6:\n",
    "    print('Es enerme!')\n",
    "    print('pero de verda')"
   ]
  },
  {
   "cell_type": "code",
   "execution_count": 4,
   "metadata": {},
   "outputs": [
    {
     "name": "stdout",
     "output_type": "stream",
     "text": [
      "Ejer 6:\n",
      "son iguales\n",
      "ejer 7:\n"
     ]
    }
   ],
   "source": [
    "print('Ejer 6:')\n",
    "if var1==var3:\n",
    "    print('son iguales')\n",
    "print('ejer 7:')\n",
    "if var1==var2:\n",
    "    print('son iguales')"
   ]
  },
  {
   "cell_type": "markdown",
   "metadata": {},
   "source": [
    "7. Comprueba si `var1` es mayor o igual que `var2`, y si es así calcula la diferencia entre `var1` y `var2`, guardala en la variable `dif`, e imprime `'La diferencia es',dif`. \n",
    "\n",
    "8. Comprueba si `var1` es mayor que 6, y si es así imprime `¡Es enorme!`. Si no es así imprime `Es chiquitín.`.\n",
    "\n",
    "9. Comprueba si `var2` es mayor que 6, y si es así imprime `¡Es enorme también!`. Si no es así imprime `Es chiquitín también.`.\n",
    "\n",
    "10. Comprueba si `var1` es igual a `var3`, y si es así imprime `Son iguales.` Si no es así imprime `Son distintos.`\n"
   ]
  },
  {
   "cell_type": "code",
   "execution_count": 7,
   "metadata": {},
   "outputs": [
    {
     "name": "stdout",
     "output_type": "stream",
     "text": [
      "6\n"
     ]
    }
   ],
   "source": [
    "if var1>=var3:\n",
    "    dif=var1-var2\n",
    "    print(dif)"
   ]
  },
  {
   "cell_type": "code",
   "execution_count": 8,
   "metadata": {},
   "outputs": [
    {
     "name": "stdout",
     "output_type": "stream",
     "text": [
      "Es enorme\n"
     ]
    }
   ],
   "source": [
    "if var1>6:\n",
    "    print('Es enorme')\n",
    "else:\n",
    "    print('Es chiquitín')"
   ]
  },
  {
   "cell_type": "code",
   "execution_count": 9,
   "metadata": {},
   "outputs": [
    {
     "name": "stdout",
     "output_type": "stream",
     "text": [
      "Es chiquitín\n"
     ]
    }
   ],
   "source": [
    "if var2>6:\n",
    "    print('Es enorme')\n",
    "else:\n",
    "    print('Es chiquitín')"
   ]
  },
  {
   "cell_type": "code",
   "execution_count": 10,
   "metadata": {},
   "outputs": [
    {
     "name": "stdout",
     "output_type": "stream",
     "text": [
      "Ejer 6:\n",
      "son iguales\n"
     ]
    }
   ],
   "source": [
    "print('Ejer 6:')\n",
    "if var1==var3:\n",
    "    print('son iguales')\n",
    "else:\n",
    "    print('son distintos')"
   ]
  },
  {
   "cell_type": "markdown",
   "metadata": {},
   "source": [
    "11. Escribe un programa para una empresa que tiene salas de juegos para todas las edades y quiere calcular de forma automática el precio que debe cobrar a sus clientes por entrar. El programa debe preguntar al usuario:\n",
    "\n",
    "    - La edad del cliente. \n",
    "    - Las condiciones que tendremos que chequear: \n",
    "\n",
    "      - Si el cliente es menor de 4 años puede entrar gratis, \n",
    "\n",
    "      - Si tiene entre 4 y 18 años debe pagar 5€ y \n",
    "\n",
    "      - Si es mayor de 18 años, 10€."
   ]
  },
  {
   "cell_type": "code",
   "execution_count": 6,
   "metadata": {},
   "outputs": [
    {
     "name": "stdout",
     "output_type": "stream",
     "text": [
      "Condiciones de acceso:\n",
      "menores de 4 años---- GRATIS\n",
      "menores de 4 a 18 años----- 5€\n",
      "mayores de 18 años ------10€\n",
      "-----------------------\n",
      "La edad del cliente es 20 años\n",
      "Debe pagar:\n",
      "10€\n"
     ]
    }
   ],
   "source": [
    "\n",
    "#Definimos las condiciones de acceso a la sala de juego.\n",
    "\n",
    "print('Condiciones de acceso:')\n",
    "print('menores de 4 años---- GRATIS')\n",
    "print('menores de 4 a 18 años----- 5€')\n",
    "print('mayores de 18 años ------10€')\n",
    "\n",
    "print('-----------------------')\n",
    "#Definimos las variables\n",
    "\n",
    "edad_cliente = int(input('¿Cuál es la edad del cliente'))\n",
    "print('La edad del cliente es', edad_cliente, 'años')\n",
    "print('Debe pagar:')\n",
    "\n",
    "if edad_cliente < 4:\n",
    "    print('GRATIS')\n",
    "elif 4 < edad_cliente < 18:\n",
    "     print('5€')\n",
    "else:\n",
    "     print('10€')"
   ]
  },
  {
   "cell_type": "markdown",
   "metadata": {},
   "source": [
    "12. Inicia la varible `ahorros` con un valor de `5`. Crea un bucle while que mientras los ahorros sean igual o menor que `20` imprima por pantalla la cantidad de ahorros que tenemos, y añádele `5` más. Cuando la variable ahorros supere el valor de 20 el bucle deberá parar. "
   ]
  },
  {
   "cell_type": "code",
   "execution_count": 7,
   "metadata": {},
   "outputs": [
    {
     "name": "stdout",
     "output_type": "stream",
     "text": [
      "Los ahorros que tienes son 5\n",
      "Los ahorros que tienes son 10\n",
      "Los ahorros que tienes son 15\n",
      "Los ahorros que tienes son 20\n"
     ]
    }
   ],
   "source": [
    "#Definimos variables\n",
    "ahorros= 5\n",
    "\n",
    "while ahorros <= 20:\n",
    "    print(f'Los ahorros que tienes son', ahorros)\n",
    "    ahorros += 5"
   ]
  },
  {
   "cell_type": "markdown",
   "metadata": {},
   "source": [
    "13. Escribe un programa que convierta grados Celsius a grados Fahrenheit o viceversa, según la elección del usuario. Para eso tendrás que preguntar: \n",
    "\n",
    "  - Desde que unidades va a convertir la temperatura, Celsius o Fahrenheit. \n",
    "\n",
    "  - Cuál es valor de la temperatura que quiere convertir. \n"
   ]
  },
  {
   "cell_type": "code",
   "execution_count": 45,
   "metadata": {},
   "outputs": [
    {
     "name": "stdout",
     "output_type": "stream",
     "text": [
      "¿Quiere pasar de grados a Fahrenheit? n\n",
      "Fahrenheit----------> Grados\n",
      "80.6 º F  -------> 27.0 ºC\n"
     ]
    }
   ],
   "source": [
    "#Definimos variables\n",
    "\n",
    "unidad_temperatura=input('¿Quiere pasar de grados a Fahrenheit? y/n')\n",
    "\n",
    "print('¿Quiere pasar de grados a Fahrenheit?', unidad_temperatura)\n",
    "\n",
    "#Si nos responde con una 'y' se ejecuta el primer código:\n",
    "if unidad_temperatura == 'y':\n",
    "    print ('grados----->Fahrenheit')\n",
    "#preguntamos los grados que se desean transformar. tenemos en cuenta que el comando input() nos devuelve una varia str y necesitamos una float.\n",
    "    temperatura = float(input('Grados'))\n",
    "    #Hacemos el cambio de unidad:\n",
    "    unidad=(round(temperatura * 1.8 + 32 , 1 ))\n",
    "    print(temperatura,'ºC   ------->', unidad, 'ºF')\n",
    "# si no responde con una y  ejecutamos el siguiente codigo\n",
    "else: \n",
    "    print('Fahrenheit----------> Grados')\n",
    "    temperatura = float(input('º F '))\n",
    "    unidad= round((temperatura -32)*0.555 ,1)\n",
    "    print(temperatura,'º F  ------->', unidad, 'ºC')"
   ]
  },
  {
   "cell_type": "markdown",
   "metadata": {},
   "source": [
    "14.  Crea un programa que calcule el impuesto sobre la renta de una persona basado en su ingreso anual y su estado civil (soltero o casado). Para eso deberás: \n",
    "\n",
    "  - Solicitar al usuario su ingreso anual.\n",
    "\n",
    "  - Preguntar al usuario su estado civil, permitiendo dos opciones: \"soltero\" (S) o \"casado\" (C).\n",
    "\n",
    "  - Calcular el impuesto sobre la renta utilizando las siguientes reglas:\n",
    "\n",
    "    - Si el estado civil es \"soltero\" (S):\n",
    "\n",
    "      - Si el ingreso anual es menor o igual a $9,875, el impuesto es el 10% del ingreso anual.\n",
    "\n",
    "      - Si el ingreso anual está entre $9,876 y $40,125, el impuesto es el 10% de los primeros $9,875 más el 12% de la cantidad que excede los $9,875.\n",
    "     \n",
    "\n",
    "    - Si el estado civil es \"casado\" (C):\n",
    "    \n",
    "      - Si el ingreso anual es menor o igual a $19,850, el impuesto es el 10% del ingreso anual.\n",
    "\n",
    "      - Si el ingreso anual está entre $19,851 y $80,250, el impuesto es el 10% de los primeros $19,850 más el 12% de la cantidad que excede los $19,850."
   ]
  },
  {
   "cell_type": "code",
   "execution_count": 17,
   "metadata": {},
   "outputs": [
    {
     "name": "stdout",
     "output_type": "stream",
     "text": [
      "su ingreso anual es: 6000\n",
      "estado civil: S\n",
      "impuesto a aplicar :\n",
      "Aplica el 10%: 600.0 $\n"
     ]
    }
   ],
   "source": [
    "#Solicitar al usuario su ingreso anual.\n",
    "ingreso_anual=int(input('Cuál es su ingrso anual?'))\n",
    "print('su ingreso anual es:', ingreso_anual)\n",
    "estado_civil=str(input('¿Cual es su estado civil: (C: casado)(S:soltero)'))\n",
    "print('estado civil:',estado_civil)\n",
    "print('impuesto a aplicar :')\n",
    "if estado_civil=='S':\n",
    "    if ingreso_anual<= 9875:\n",
    "        impuesto=(ingreso_anual*0.1)\n",
    "        print('Aplica el 10%:',impuesto,'$')\n",
    "    elif 9875<ingreso_anual<40125:\n",
    "        impuesto=((9875*0.1)+((ingreso_anual-9875)*0.12))\n",
    "        print('Aplica:',impuesto,'$')\n",
    "else:\n",
    "    if ingreso_anual<= 19850:\n",
    "        impuesto=(ingreso_anual*0.1)\n",
    "        print('Aplica el 10%:',impuesto,'$')\n",
    "    elif 19850<ingreso_anual<80250:\n",
    "        impuesto=((19850*0.1)+((ingreso_anual-9875)*0.12))\n",
    "        print('Aplica:',impuesto,'$')\n",
    "\n",
    "\n",
    "\n"
   ]
  },
  {
   "cell_type": "markdown",
   "metadata": {},
   "source": [
    "15. Crea un programa que evalúe el nivel de contaminación del aire en función de la concentración de partículas en suspensión (PM2.5) en microgramos por metro cúbico (µg/m³). Para eso deberás: \n",
    "\n",
    "  - Solicita al usuario que ingrese la concentración de PM2.5 en el aire en µg/m³. El usuario debe ingresar un valor numérico.\n",
    "\n",
    "  - Evalua el nivel de contaminación del aire según la siguiente escala:\n",
    "\n",
    "    - Si la concentración de PM2.5 es menor o igual a 12 µg/m³, el aire se considera \"Excelente\".\n",
    "\n",
    "    - Si la concentración de PM2.5 está entre 13 µg/m³ y 35 µg/m³, el aire se considera \"Bueno\".\n",
    "\n",
    "    - Si la concentración de PM2.5 está entre 36 µg/m³ y 55 µg/m³, el aire se considera \"Aceptable\".\n",
    "\n",
    "    - Si la concentración de PM2.5 está entre 56 µg/m³ y 150 µg/m³, el aire se considera \"No Saludable para Grupos Sensibles\".\n",
    "\n",
    "    - Si la concentración de PM2.5 es mayor a 150 µg/m³, el aire se considera \"No Saludable\".\n",
    "\n",
    "  - Muestra un mensaje indicando el estado de la calidad del aire. Por ejemplo, si la concentración de PM2.5 es 25 µg/m³, el programa debe mostrar: \"La calidad del aire es Buena\".\n",
    "\n",
    "  -  Además, si la concentración de PM2.5 está en la categoría \"No Saludable para Grupos Sensibles\" o \"No Saludable\", el programa debe advertir al usuario sobre los posibles efectos en la salud.\n"
   ]
  },
  {
   "cell_type": "code",
   "execution_count": 20,
   "metadata": {},
   "outputs": [
    {
     "name": "stdout",
     "output_type": "stream",
     "text": [
      "concentración PM2.5= 182.0 µg/m³\n",
      "El aire no es saludable\n"
     ]
    }
   ],
   "source": [
    "particulas_suspension= float(input('Inserte concentración PM2.5'))\n",
    "print('concentración PM2.5=', particulas_suspension, 'µg/m³')\n",
    "if particulas_suspension<=12:\n",
    "    print('El aire es excelente')\n",
    "elif 13<particulas_suspension<35:\n",
    "    print('El aire es bueno')\n",
    "elif 36<particulas_suspension<55:\n",
    "    print('El aire es aceptable')\n",
    "elif 56<particulas_suspension<150:\n",
    "    print('El aire no es saludable para grupos sensibles')\n",
    "    print('Podría tener efectos sobre la salud')\n",
    "else: \n",
    "    print('El aire no es saludable')"
   ]
  },
  {
   "cell_type": "code",
   "execution_count": null,
   "metadata": {},
   "outputs": [],
   "source": []
  }
 ],
 "metadata": {
  "kernelspec": {
   "display_name": "base",
   "language": "python",
   "name": "python3"
  },
  "language_info": {
   "codemirror_mode": {
    "name": "ipython",
    "version": 3
   },
   "file_extension": ".py",
   "mimetype": "text/x-python",
   "name": "python",
   "nbconvert_exporter": "python",
   "pygments_lexer": "ipython3",
   "version": "3.9.7"
  }
 },
 "nbformat": 4,
 "nbformat_minor": 2
}
