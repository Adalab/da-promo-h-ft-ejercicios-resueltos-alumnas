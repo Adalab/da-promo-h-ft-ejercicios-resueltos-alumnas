{
 "cells": [
  {
   "cell_type": "code",
   "execution_count": null,
   "metadata": {},
   "outputs": [],
   "source": []
  },
  {
   "cell_type": "markdown",
   "metadata": {},
   "source": [
    "- Definir sets\n",
    "\n",
    "  1. Define la *lista* \n",
    "        ```python\n",
    "        temperaturas_diciembre = [10, 10, 13, 14, 12, 15, \n",
    "                                  12, 11, 13, 17, 18, 15, \n",
    "                                  15, 17, 17, 13, 13, 11,\n",
    "                                  12, 10, 12, 14, 12, 12,\n",
    "                                  11, 12, 16, 16, 14, 17, 18]\n",
    "        ```\n",
    "  2. Conviértala en un set  llamado `diciembre`.\n",
    "\n",
    "  3. Piensa en 6 colores y almacenalos en un set llamado `colores`.\n"
   ]
  },
  {
   "cell_type": "code",
   "execution_count": 1,
   "metadata": {},
   "outputs": [],
   "source": [
    "temperaturas_diciembre = [10, 10, 13, 14, 12, 15, \n",
    "                                  12, 11, 13, 17, 18, 15, \n",
    "                                  15, 17, 17, 13, 13, 11,\n",
    "                                  12, 10, 12, 14, 12, 12,\n",
    "                                  11, 12, 16, 16, 14, 17, 18]"
   ]
  },
  {
   "cell_type": "code",
   "execution_count": 11,
   "metadata": {},
   "outputs": [
    {
     "data": {
      "text/plain": [
       "{'amarillo', 'azul', 'morado', 'negro', 'rojo', 'verde'}"
      ]
     },
     "execution_count": 11,
     "metadata": {},
     "output_type": "execute_result"
    }
   ],
   "source": [
    "diciembre= set(temperaturas_diciembre)\n",
    "diciembre\n",
    "#Al pasar la lista a set, esta deja de tener elementos repetidos.\n",
    "colores={'amarillo','rojo','verde','azul', 'morado', 'negro'}\n",
    "colores"
   ]
  },
  {
   "cell_type": "markdown",
   "metadata": {},
   "source": [
    "- Ampliar sets\n",
    "\n",
    "  4. Añade `'lila'` a `colores`.\n",
    "\n",
    "  5. Añade `'azul'`, `'rojo'`, y `'granate'` a `colores` usando `.update()`.\n",
    "\n",
    "- `in`, `not in`\n",
    "\n",
    "  6. Tu set de `colores`, ¿tiene `'verde'`?\n",
    "  \n",
    "  7. ¿Y tiene `'ROJO'`?"
   ]
  },
  {
   "cell_type": "code",
   "execution_count": 3,
   "metadata": {},
   "outputs": [
    {
     "data": {
      "text/plain": [
       "{'a', 'amarillo', 'azul', 'i', 'l', 'morado', 'negro', 'rojo', 'verde'}"
      ]
     },
     "execution_count": 3,
     "metadata": {},
     "output_type": "execute_result"
    }
   ],
   "source": [
    "#si usamos update en un set, añadimos los caracteres por separados a otro set  y no repetidamente.\n",
    "colores.update('lila')\n",
    "colores"
   ]
  },
  {
   "cell_type": "code",
   "execution_count": 4,
   "metadata": {},
   "outputs": [
    {
     "data": {
      "text/plain": [
       "{'amarillo', 'azul', 'morado', 'negro', 'rojo', 'verde'}"
      ]
     },
     "execution_count": 4,
     "metadata": {},
     "output_type": "execute_result"
    }
   ],
   "source": [
    "colores.remove('a')\n",
    "colores.remove('i')\n",
    "colores.remove('l')\n",
    "colores.discard('s')# No nos devuelve error si no encuentra el elemento en el set.\n",
    "colores"
   ]
  },
  {
   "cell_type": "code",
   "execution_count": 5,
   "metadata": {},
   "outputs": [
    {
     "name": "stdout",
     "output_type": "stream",
     "text": [
      "{'verde', 'morado', 'azul', 'negro', 'lila', 'amarillo', 'rojo'}\n"
     ]
    }
   ],
   "source": [
    "# para meter varios elementos a un set lo hacemos como una lista\n",
    "#y como el método update()\n",
    "\n",
    "colores.add('lila')\n",
    "print(colores)"
   ]
  },
  {
   "cell_type": "code",
   "execution_count": 7,
   "metadata": {},
   "outputs": [
    {
     "data": {
      "text/plain": [
       "{'amarillo', 'azul', 'granate', 'lila', 'morado', 'negro', 'rojo', 'verde'}"
      ]
     },
     "execution_count": 7,
     "metadata": {},
     "output_type": "execute_result"
    }
   ],
   "source": [
    "colores_plus=['azul','rojo','granate']\n",
    "colores.update(colores_plus)\n",
    "colores\n",
    "#update(),noo se puede usar para pmeter una string, \n",
    "#meterá una lista de caracteres.\n",
    "print('El color rojo no lo mete porque uya estaba en la lista')"
   ]
  },
  {
   "cell_type": "code",
   "execution_count": 10,
   "metadata": {},
   "outputs": [
    {
     "name": "stdout",
     "output_type": "stream",
     "text": [
      "el color verde está en la lista: True\n",
      "El color ROJO está en set: False\n"
     ]
    }
   ],
   "source": [
    "print('el color verde está en la lista:', 'verde' in colores)\n",
    "print ('El color ROJO está en set:', 'ROJO' in colores)"
   ]
  },
  {
   "cell_type": "markdown",
   "metadata": {},
   "source": [
    "- Copiar, borrar elementos\n",
    "\n",
    "  8. Define el set `enero` para que sea igual a `diciembre`.\n",
    "\n",
    "  9. Quita las temperaturas `17`, y `18` de `enero`.\n",
    "\n",
    "- Tamaño de un set\n",
    "\n",
    "  10. ¿Cuántas temperaturas distintas había en diciembre?\n",
    "  \n",
    "  11. ¿Y cuántas en enero?\n"
   ]
  },
  {
   "cell_type": "code",
   "execution_count": 12,
   "metadata": {},
   "outputs": [
    {
     "data": {
      "text/plain": [
       "{10, 11, 12, 13, 14, 15, 16, 17, 18}"
      ]
     },
     "execution_count": 12,
     "metadata": {},
     "output_type": "execute_result"
    }
   ],
   "source": [
    "enero=diciembre.copy()#El método copy() hace una copia superficial.\n",
    "enero"
   ]
  },
  {
   "cell_type": "code",
   "execution_count": 15,
   "metadata": {},
   "outputs": [
    {
     "data": {
      "text/plain": [
       "{10, 11, 12, 13, 14, 15, 16}"
      ]
     },
     "execution_count": 15,
     "metadata": {},
     "output_type": "execute_result"
    }
   ],
   "source": [
    "\n",
    "enero.remove(17)\n",
    "enero.remove(18)\n",
    "enero"
   ]
  },
  {
   "cell_type": "code",
   "execution_count": 16,
   "metadata": {},
   "outputs": [
    {
     "name": "stdout",
     "output_type": "stream",
     "text": [
      "9\n",
      "7\n"
     ]
    }
   ],
   "source": [
    "print(len(diciembre))\n",
    "print(len(enero))\n"
   ]
  },
  {
   "cell_type": "markdown",
   "metadata": {},
   "source": [
    "- Conjuntos con sets\n",
    "\n",
    "  12. Identifica los elementos que hay en `diciembre` que no están en `enero`.\n",
    "\n",
    "  13. Identifica los elementos que hay en `enero` que no están en `diciembre`.\n",
    "\n",
    "  14. Identifica los elementos que tienen en común `diciembre` y `enero`.\n",
    "\n",
    "  15. Identifica la diferencia simétrica de `colores` y `{'marrón','amarillo','cyan'}`. ¿Qué significa este resultado?"
   ]
  },
  {
   "cell_type": "code",
   "execution_count": 21,
   "metadata": {},
   "outputs": [
    {
     "name": "stdout",
     "output_type": "stream",
     "text": [
      "En enero no están {17, 18}\n",
      "En diciembre no estan set()\n",
      "No hay ningun elemento que tenga enero que no esten en diciembre\n"
     ]
    }
   ],
   "source": [
    "print('En enero no están', diciembre.difference(enero))\n",
    "print('En diciembre no estan', enero.difference(diciembre))\n",
    "print('No hay ningun elemento que tenga enero que no esten en diciembre')"
   ]
  },
  {
   "cell_type": "code",
   "execution_count": 19,
   "metadata": {},
   "outputs": [
    {
     "name": "stdout",
     "output_type": "stream",
     "text": [
      "Los eleementos en comun de enero y diciembre son: {10, 11, 12, 13, 14, 15, 16}\n"
     ]
    }
   ],
   "source": [
    "print('Los eleementos en comun de enero y diciembre son:', diciembre & enero)"
   ]
  },
  {
   "cell_type": "code",
   "execution_count": 24,
   "metadata": {},
   "outputs": [
    {
     "name": "stdout",
     "output_type": "stream",
     "text": [
      "Los elementos que aparecen en colores pero no en set_2: {'cyan', 'rojo', 'verde', 'azul', 'marrón', 'morado', 'negro'}\n"
     ]
    }
   ],
   "source": [
    "set_2={'marrón','amarillo','cyan'}\n",
    "print('Los elementos que aparecen en colores pero no en set_2:', set_2^(colores))\n",
    "#Si usamos el pétodo .symetric_differnence() no importa el orden como en .difference"
   ]
  },
  {
   "cell_type": "code",
   "execution_count": 25,
   "metadata": {},
   "outputs": [
    {
     "data": {
      "text/plain": [
       "'Este resultado quiere decir que no tienen elementos en común'"
      ]
     },
     "execution_count": 25,
     "metadata": {},
     "output_type": "execute_result"
    }
   ],
   "source": [
    "'Este resultado quiere decir que no tienen elementos en común'\n"
   ]
  },
  {
   "cell_type": "markdown",
   "metadata": {},
   "source": [
    "- Comparar sets\n",
    "\n",
    "  16. ¿Son *disjoint* `diciembre` y `enero`? ¿Por qué (no)?\n",
    "\n",
    "  17. ¿Es `{'rojo','azul'}` un superset de colores?\n",
    "  \n",
    "  18. ¿Y un subset?"
   ]
  },
  {
   "cell_type": "code",
   "execution_count": 26,
   "metadata": {},
   "outputs": [
    {
     "name": "stdout",
     "output_type": "stream",
     "text": [
      "Enero y diciembre tienen elementos en comun? False\n"
     ]
    }
   ],
   "source": [
    "print('Enero y diciembre tienen elementos en comun?', diciembre.isdisjoint(enero))"
   ]
  },
  {
   "cell_type": "code",
   "execution_count": 31,
   "metadata": {},
   "outputs": [
    {
     "name": "stdout",
     "output_type": "stream",
     "text": [
      "False\n",
      "True\n"
     ]
    }
   ],
   "source": [
    "set_3={'rojo','azul'}\n",
    "subset_colores= colores.issubset(set_3)\n",
    "#Estamos preguntando si los colores estan es un subset de  set_3.\n",
    "print(subset_colores)\n",
    "subset_colores2= set_3.issubset(colores)\n",
    "print(subset_colores2)\n",
    "#set_3 es un sub set de colores. subfamilia"
   ]
  },
  {
   "cell_type": "code",
   "execution_count": 32,
   "metadata": {},
   "outputs": [
    {
     "name": "stdout",
     "output_type": "stream",
     "text": [
      "Es colores un superset de set_3? True\n"
     ]
    }
   ],
   "source": [
    "super_set=colores.issuperset(set_3)\n",
    "print('Es colores un superset de set_3?', super_set)"
   ]
  }
 ],
 "metadata": {
  "kernelspec": {
   "display_name": "base",
   "language": "python",
   "name": "python3"
  },
  "language_info": {
   "codemirror_mode": {
    "name": "ipython",
    "version": 3
   },
   "file_extension": ".py",
   "mimetype": "text/x-python",
   "name": "python",
   "nbconvert_exporter": "python",
   "pygments_lexer": "ipython3",
   "version": "3.9.7"
  }
 },
 "nbformat": 4,
 "nbformat_minor": 2
}
