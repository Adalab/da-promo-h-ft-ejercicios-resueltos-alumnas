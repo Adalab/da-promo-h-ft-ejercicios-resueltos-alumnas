{
 "cells": [
  {
   "cell_type": "markdown",
   "metadata": {},
   "source": [
    "1. Usando la siguiente lista: \n",
    "    ```python\n",
    "    temperaturas = [2,45,67,23, 45,66,12,1,34,67,99,98,67,64, 44, 100]\n",
    "    ```\n",
    "\n",
    "    Crea tres listas nuevas, donde: \n",
    "\n",
    "    - En la primera tengamos temperaturas entre 0 - 10, llama a la nueva lista `bajas_temp`.\n",
    "\n",
    "    - En la segunda tengamos temperaturas entre 11- 20, llama a la nueva lista `medias_temp`.\n",
    "\n",
    "    - En la tercera tengamos temperaturas por encima de 20, llama a la nueva lista `altas_temp`"
   ]
  },
  {
   "cell_type": "code",
   "execution_count": 2,
   "metadata": {},
   "outputs": [
    {
     "name": "stdout",
     "output_type": "stream",
     "text": [
      "[2, 45, 67, 23, 45, 66, 12, 1, 34, 67, 99, 98, 67, 64, 44, 100]\n",
      "------------------------\n"
     ]
    }
   ],
   "source": [
    "\n",
    "temperaturas = [2,45,67,23, 45,66,12,1,34,67,99,98,67,64, 44, 100]\n",
    "print(temperaturas)\n",
    "print('------------------------')\n",
    "#Queremos obtener tres listas, definimos sus nombres:\n",
    "bajas_temp=[]\n",
    "medias_temp=[]\n",
    "altas_temp=[]\n"
   ]
  },
  {
   "cell_type": "code",
   "execution_count": 3,
   "metadata": {},
   "outputs": [
    {
     "name": "stdout",
     "output_type": "stream",
     "text": [
      " bajas temperaturas= [2, 1]\n",
      "medias temperaturas= [12]\n",
      "altas temperaturas= [45, 67, 23, 45, 66, 34, 67, 99, 98, 67, 64, 44, 100]\n"
     ]
    }
   ],
   "source": [
    "#Iniciamos for, para interar con la lista de temperaturas:\n",
    "for temp in temperaturas:\n",
    "    #Vamos a mandar las temperaturas seleccionada menores  en funcion de la temperatura a una lista u otra:\n",
    "    if temp <=10:\n",
    "        bajas_temp.append(temp)\n",
    "    elif 11 <= temp <= 20:\n",
    "        medias_temp.append(temp)\n",
    "    else:\n",
    "        altas_temp.append(temp)\n",
    "#imprimimos las listas:\n",
    "print(' bajas temperaturas=',bajas_temp)\n",
    "print('medias temperaturas=', medias_temp)\n",
    "print('altas temperaturas=', altas_temp)\n"
   ]
  },
  {
   "cell_type": "markdown",
   "metadata": {},
   "source": [
    "2. Las temperaturas están grados centígrados. Para cada una de las listas creadas en el ejercicio anterior, convertid las temperaturas a grados fahrenheit\n",
    "\n",
    "    ```\n",
    "    # la relacion de grados celsius y fahrenheit es:\n",
    "    (0 °C × 9 / 5) + 32 = 32 °F"
   ]
  },
  {
   "cell_type": "code",
   "execution_count": 4,
   "metadata": {},
   "outputs": [
    {
     "name": "stdout",
     "output_type": "stream",
     "text": [
      "[[2, 1], [12], [45, 67, 23, 45, 66, 34, 67, 99, 98, 67, 64, 44, 100]]\n"
     ]
    }
   ],
   "source": [
    "#Creamos una lista de listas:\n",
    "suma_rangos_temp=[bajas_temp, medias_temp, altas_temp]\n",
    "print(suma_rangos_temp)\n",
    "\n"
   ]
  },
  {
   "cell_type": "code",
   "execution_count": 6,
   "metadata": {},
   "outputs": [
    {
     "name": "stdout",
     "output_type": "stream",
     "text": [
      "Transformamos la lista: [2, 1]\n",
      "la lista en Fahrenheit [32.4, 32.2]\n",
      "Transformamos la lista: [12]\n",
      "la lista en Fahrenheit [34.4]\n",
      "Transformamos la lista: [45, 67, 23, 45, 66, 34, 67, 99, 98, 67, 64, 44, 100]\n",
      "la lista en Fahrenheit [41.0, 45.4, 36.6, 41.0, 45.2, 38.8, 45.4, 51.8, 51.6, 45.4, 44.8, 40.8, 52.0]\n"
     ]
    }
   ],
   "source": [
    "#aplicamos la formula a cada lista:\n",
    "#Creamos una nueva lista:\n",
    "lista_far=[]\n",
    "for lista_temp in suma_rangos_temp:\n",
    "    print('Transformamos la lista:', lista_temp)\n",
    "    lista_x=[]\n",
    "    for temp_rango in lista_temp:\n",
    "        temp_far= (temp_rango/5)+32\n",
    "        lista_x.append(temp_far)\n",
    "    print('la lista en Fahrenheit', lista_x)\n",
    "\n"
   ]
  },
  {
   "cell_type": "markdown",
   "metadata": {},
   "source": [
    "3. Define e imprime un rango de 0 a 6 (excluido).\n",
    "  \n",
    "4. Define e imprime un rango de 3 a 6 ambos incluidos.\n",
    "  \n",
    "5. Define e imprime un rango de 5 a 9 ambos excluidos.\n",
    "\n",
    "6. Define e imprime un rango de 3 números que empiece en 2"
   ]
  },
  {
   "cell_type": "code",
   "execution_count": 29,
   "metadata": {},
   "outputs": [
    {
     "name": "stdout",
     "output_type": "stream",
     "text": [
      "[0, 1, 2, 3, 4, 5]\n"
     ]
    }
   ],
   "source": [
    "rango_1= list(range(0,6))\n",
    "print(rango_1)"
   ]
  },
  {
   "cell_type": "code",
   "execution_count": 30,
   "metadata": {},
   "outputs": [
    {
     "name": "stdout",
     "output_type": "stream",
     "text": [
      "[4, 5]\n"
     ]
    }
   ],
   "source": [
    "rango_2=list(range(4,6))\n",
    "print(rango2)"
   ]
  },
  {
   "cell_type": "code",
   "execution_count": 31,
   "metadata": {},
   "outputs": [
    {
     "name": "stdout",
     "output_type": "stream",
     "text": [
      "[6, 7, 8]\n"
     ]
    }
   ],
   "source": [
    "rango_3=list(range(6,9))\n",
    "print(rango_3)\n"
   ]
  },
  {
   "cell_type": "code",
   "execution_count": 33,
   "metadata": {},
   "outputs": [
    {
     "name": "stdout",
     "output_type": "stream",
     "text": [
      "[2, 3, 4]\n"
     ]
    }
   ],
   "source": [
    "rango_4=list(range(2,5))\n",
    "print(rango_4)"
   ]
  },
  {
   "cell_type": "markdown",
   "metadata": {},
   "source": [
    "7. Define e imprime un rango que empiece en 2, aumentando cada paso por 3, que pare antes de llegar al número 13.\n",
    "\n",
    "8. Define e imprime un rango con todos los valores impares que hay hasta 10.\n",
    "\n",
    "9. Crea una lista nueva donde tengamos los números de la lista `temperaturas` elevados al cuadrado. \n",
    "\n",
    "10. Crea una lista nueva donde tengamos el resto de la división de cada uno de los números entre 2.  \n",
    "\n",
    "11. Crea una lista nueva donde tengamos solo los elementos pares de la lista `temperaturas`. \n",
    "\n",
    "12. Crea una lista nueva donde tengamos solo los elementos que sean menores que 50. \n",
    "\n",
    "\n"
   ]
  },
  {
   "cell_type": "code",
   "execution_count": 35,
   "metadata": {},
   "outputs": [
    {
     "name": "stdout",
     "output_type": "stream",
     "text": [
      "2\n",
      "5\n",
      "8\n",
      "11\n"
     ]
    }
   ],
   "source": [
    "for x in range(2,13,3):\n",
    "    print(x)"
   ]
  },
  {
   "cell_type": "code",
   "execution_count": 36,
   "metadata": {},
   "outputs": [
    {
     "name": "stdout",
     "output_type": "stream",
     "text": [
      "1\n",
      "3\n",
      "5\n",
      "7\n",
      "9\n"
     ]
    }
   ],
   "source": [
    "for i in range(0,10):\n",
    "    if i%2!=0:\n",
    "        print(i)\n",
    "        \n"
   ]
  },
  {
   "cell_type": "code",
   "execution_count": 37,
   "metadata": {},
   "outputs": [
    {
     "name": "stdout",
     "output_type": "stream",
     "text": [
      "[2, 45, 67, 23, 45, 66, 12, 1, 34, 67, 99, 98, 67, 64, 44, 100]\n"
     ]
    }
   ],
   "source": [
    "print(temperaturas)"
   ]
  },
  {
   "cell_type": "code",
   "execution_count": 45,
   "metadata": {},
   "outputs": [
    {
     "name": "stdout",
     "output_type": "stream",
     "text": [
      "[4, 2025, 4489, 529, 2025, 4356, 144, 1, 1156, 4489, 9801, 9604, 4489, 4096, 1936, 10000]\n"
     ]
    }
   ],
   "source": [
    "temperatura_cuadrado=[]\n",
    "for t in temperaturas:\n",
    "    t_cuadrado= t**2\n",
    "    temperatura_cuadrado.append(t_cuadrado)\n",
    "print(temperatura_cuadrado)\n"
   ]
  },
  {
   "cell_type": "code",
   "execution_count": 47,
   "metadata": {},
   "outputs": [
    {
     "name": "stdout",
     "output_type": "stream",
     "text": [
      "[0, 1, 1, 1, 1, 0, 0, 1, 0, 1, 1, 0, 1, 0, 0, 0]\n"
     ]
    }
   ],
   "source": [
    "temperaturas_resto=[]\n",
    "for t in temperaturas:\n",
    "    temperaturas_resto.append(t%2)\n",
    "print(temperaturas_resto)"
   ]
  },
  {
   "cell_type": "code",
   "execution_count": 46,
   "metadata": {},
   "outputs": [
    {
     "name": "stdout",
     "output_type": "stream",
     "text": [
      "[2, 66, 12, 34, 98, 64, 44, 100]\n"
     ]
    }
   ],
   "source": [
    "temperatura_pares=[]\n",
    "for t in temperaturas:\n",
    "    if t%2 ==0:\n",
    "        temperatura_pares.append(t)\n",
    "print(temperatura_pares)"
   ]
  },
  {
   "cell_type": "code",
   "execution_count": 59,
   "metadata": {},
   "outputs": [
    {
     "name": "stdout",
     "output_type": "stream",
     "text": [
      "[2, 45, 23, 45, 12, 1, 34, 44]\n"
     ]
    }
   ],
   "source": [
    "temp_menor_50=[]\n",
    "for t in temperaturas:\n",
    "    if t<50:\n",
    "        temp_menor_50.append(t)\n",
    "print(temp_menor_50)\n",
    "        "
   ]
  },
  {
   "cell_type": "code",
   "execution_count": 56,
   "metadata": {},
   "outputs": [
    {
     "name": "stdout",
     "output_type": "stream",
     "text": [
      "[2, 45, 23, 45, 12, 1, 34, 44]\n"
     ]
    }
   ],
   "source": [
    "#usamos las list comprehension:\n",
    "temp_menor_50_simpl=[t for t in temperaturas if t<50]\n",
    "print( temp_menor_50_simpl)"
   ]
  },
  {
   "cell_type": "markdown",
   "metadata": {},
   "source": [
    "13. Crea una lista donde tengamos los valores \"par\" e \"impar\" en función de los valores de la lista original. La lista resultante tiene que ser como la que indicamos a continuación: \n",
    "\n",
    "    ```python\n",
    "    lista_strings = [\"par\",\"impar\",\"impar\",\"impar\", \"impar\",\"par\",\"par\",\"impar\",\"par\",\"impar\",\"impar\",\"par\",\"impar\",\"par\", \"par\", \"par\"]\n",
    "    ```\n",
    "---"
   ]
  },
  {
   "cell_type": "code",
   "execution_count": 60,
   "metadata": {},
   "outputs": [
    {
     "name": "stdout",
     "output_type": "stream",
     "text": [
      "['par', 'impar', 'impar', 'impar', 'impar', 'par', 'par', 'impar', 'par', 'impar', 'impar', 'par', 'impar', 'par', 'par', 'par']\n"
     ]
    }
   ],
   "source": [
    "lista_strings=[]\n",
    "for t in temperaturas:\n",
    "    if t%2 == 0:\n",
    "        lista_strings.append('par')\n",
    "    else:\n",
    "        lista_strings.append('impar')\n",
    "print(lista_strings)"
   ]
  },
  {
   "cell_type": "code",
   "execution_count": 64,
   "metadata": {},
   "outputs": [
    {
     "name": "stdout",
     "output_type": "stream",
     "text": [
      "['par', 'impar', 'impar', 'impar', 'impar', 'par', 'par', 'impar', 'par', 'impar', 'impar', 'par', 'impar', 'par', 'par', 'par']\n"
     ]
    }
   ],
   "source": [
    "lista_string1=['par' if t%2==0 else 'impar' for t in temperaturas]\n",
    "print(lista_string1)"
   ]
  },
  {
   "cell_type": "markdown",
   "metadata": {},
   "source": [
    "14. Pide al usuario un número entero positivo y suma los números pares e impares por separado hasta ese número."
   ]
  },
  {
   "cell_type": "code",
   "execution_count": 65,
   "metadata": {},
   "outputs": [
    {
     "name": "stdout",
     "output_type": "stream",
     "text": [
      "5\n"
     ]
    }
   ],
   "source": [
    "numero_usuario=int(input('Da un numero entero positivo'))\n",
    "print(numero_usuario)"
   ]
  },
  {
   "cell_type": "code",
   "execution_count": 80,
   "metadata": {},
   "outputs": [
    {
     "name": "stdout",
     "output_type": "stream",
     "text": [
      "[0, 1, 2, 3, 4, 5]\n"
     ]
    }
   ],
   "source": [
    "numeros_usuario=list(range(0,numero_usuario+1))\n",
    "print(num_par)\n"
   ]
  },
  {
   "cell_type": "code",
   "execution_count": 85,
   "metadata": {},
   "outputs": [
    {
     "name": "stdout",
     "output_type": "stream",
     "text": [
      "6\n",
      "9\n"
     ]
    }
   ],
   "source": [
    "sum_par=sum([y for y in numeros_usuario if y%2==0])\n",
    "print(sum_par)\n",
    "sum_impar=sum([y for y in numeros_usuario if y%2!=0])\n",
    "print(sum_impar)"
   ]
  },
  {
   "cell_type": "markdown",
   "metadata": {},
   "source": [
    "\n",
    "15. Pide al usuario ingresar una cadena y cuenta cuántas veces aparece cada vocal (a, e, i, o, u) en la cadena."
   ]
  },
  {
   "cell_type": "code",
   "execution_count": 93,
   "metadata": {},
   "outputs": [
    {
     "name": "stdout",
     "output_type": "stream",
     "text": [
      "1\n",
      "2\n",
      "1\n",
      "0\n",
      "0\n"
     ]
    }
   ],
   "source": [
    "cadena=str(input('Introduce una palabra'))\n",
    "a=len([v for v in cadena if v=='a'])\n",
    "e=len([v for v in cadena if v=='e'])\n",
    "i=len([v for v in cadena if v=='i'])\n",
    "o=len([v for v in cadena if v=='o'])\n",
    "u=len([v for v in cadena if v=='u'])\n",
    "print(a)\n",
    "print(e)\n",
    "print(i)\n",
    "print(o)\n",
    "print(u)\n",
    "\n",
    "    \n"
   ]
  }
 ],
 "metadata": {
  "kernelspec": {
   "display_name": "base",
   "language": "python",
   "name": "python3"
  },
  "language_info": {
   "codemirror_mode": {
    "name": "ipython",
    "version": 3
   },
   "file_extension": ".py",
   "mimetype": "text/x-python",
   "name": "python",
   "nbconvert_exporter": "python",
   "pygments_lexer": "ipython3",
   "version": "3.9.7"
  }
 },
 "nbformat": 4,
 "nbformat_minor": 2
}
