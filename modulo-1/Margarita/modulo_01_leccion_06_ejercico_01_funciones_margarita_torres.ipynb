{
 "cells": [
  {
   "cell_type": "markdown",
   "metadata": {},
   "source": [
    "1. Escribe una función que reciba una cadena de texto como parámetro y devuelva un diccionario con las frecuencias de cada letra en la cadena. Los espacios no deben ser considerados. "
   ]
  },
  {
   "cell_type": "code",
   "execution_count": 35,
   "metadata": {},
   "outputs": [],
   "source": [
    "def numero_letras( palabra):\n",
    "    dic={}\n",
    "\n",
    "    for letra in palabra:\n",
    "        l=palabra.count(letra)\n",
    "        dicionario={letra:l}\n",
    "        dic.update(dicionario)\n",
    "    return dic"
   ]
  },
  {
   "cell_type": "code",
   "execution_count": 33,
   "metadata": {},
   "outputs": [
    {
     "data": {
      "text/plain": [
       "{'d': 4, 'f': 3, 's': 3, 'l': 2, 'j': 2, 'n': 1, 'a': 1}"
      ]
     },
     "execution_count": 33,
     "metadata": {},
     "output_type": "execute_result"
    }
   ],
   "source": [
    "numero_letras('dfsldfjlsdnajsdf')"
   ]
  },
  {
   "cell_type": "code",
   "execution_count": 34,
   "metadata": {},
   "outputs": [
    {
     "data": {
      "text/plain": [
       "{'s': 1, 'u': 1, 'e': 1, 'ñ': 1, 'o': 1}"
      ]
     },
     "execution_count": 34,
     "metadata": {},
     "output_type": "execute_result"
    }
   ],
   "source": [
    "numero_letras('sueño')"
   ]
  },
  {
   "cell_type": "markdown",
   "metadata": {},
   "source": [
    "2. Escribe una función que reciba una cadena de texto como parámetro y devuelva una lista con todas las palabras que tienen más de 5 letras."
   ]
  },
  {
   "cell_type": "code",
   "execution_count": 8,
   "metadata": {},
   "outputs": [],
   "source": [
    "def nombre(cadena):\n",
    "    lista_cadena=cadena.split()\n",
    "    lista_palabras_mas_cinco=[]\n",
    "    for palabra in lista_cadena:\n",
    "        if len(palabra) >5:\n",
    "            lista_palabras_mas_cinco.append(palabra)\n",
    "    return lista_palabras_mas_cinco\n"
   ]
  },
  {
   "cell_type": "code",
   "execution_count": 10,
   "metadata": {},
   "outputs": [
    {
     "data": {
      "text/plain": [
       "['mañana', 'levantar']"
      ]
     },
     "execution_count": 10,
     "metadata": {},
     "output_type": "execute_result"
    }
   ],
   "source": [
    "nombre('mañana no me voy a levantar')"
   ]
  },
  {
   "cell_type": "markdown",
   "metadata": {},
   "source": [
    "3. Crea una función que tome una lista de palabras como entrada y devuelva una lista de palabras que contengan más de una vocal.\n",
    "\n",
    "4. Crea una función que tome una lista de números y calcule la suma de todos los números pares en la lista.\n",
    "\n",
    "5. Escribe una función que tome una lista de números como entrada y calcule el promedio de esos números.\n",
    "\n",
    "6. Crea una función que determine el próximo año en el que las cifras del año de tu cumpleaños no se repitan. La función toma un año de tu cumpleaños como entrada y calcula el próximo año en el que las cifras no se repitan, es decir, todas las cifras en el año son diferentes entre sí.\n"
   ]
  },
  {
   "cell_type": "code",
   "execution_count": 12,
   "metadata": {},
   "outputs": [],
   "source": [
    "#Ejercicio 3\n",
    "\n",
    "def solo_vocales(lista_palabras):\n",
    "    lista_palabras_vocales=[]\n",
    "    for palabra in lista_palabras:\n",
    "        numero_vocales=0\n",
    "        for l in palabra:\n",
    "            if l in ['a','e','i','o','u']:\n",
    "                numero_vocales+=1\n",
    "        if numero_vocales >1:\n",
    "            lista_palabras_vocales.append(palabra)\n",
    "    return lista_palabras_vocales"
   ]
  },
  {
   "cell_type": "code",
   "execution_count": 14,
   "metadata": {},
   "outputs": [
    {
     "data": {
      "text/plain": [
       "['martes', 'albondiga']"
      ]
     },
     "execution_count": 14,
     "metadata": {},
     "output_type": "execute_result"
    }
   ],
   "source": [
    "lista_palabras_1=['martes','el','albondiga','led']\n",
    "vocales_palabra=solo_vocales(lista_palabras_1)\n",
    "vocales_palabra"
   ]
  },
  {
   "cell_type": "code",
   "execution_count": 11,
   "metadata": {},
   "outputs": [],
   "source": [
    "#Ejercicio 4\n",
    "def suma_pares(lista_numeros):\n",
    "    suma=0\n",
    "    for numero in lista_numeros:\n",
    "        if numero%2 == 0:\n",
    "            suma+=numero\n",
    "    return suma\n",
    "\n"
   ]
  },
  {
   "cell_type": "code",
   "execution_count": 12,
   "metadata": {},
   "outputs": [
    {
     "data": {
      "text/plain": [
       "20"
      ]
     },
     "execution_count": 12,
     "metadata": {},
     "output_type": "execute_result"
    }
   ],
   "source": [
    "lista_n=[1,2,3,4,5,6,7,8]\n",
    "suma_pares(lista_n)"
   ]
  },
  {
   "cell_type": "code",
   "execution_count": 13,
   "metadata": {},
   "outputs": [],
   "source": [
    "#ejercicio 5 \n",
    "def promedio(lista_numeros):\n",
    "    return sum(lista_numeros)/len(lista_numeros)"
   ]
  },
  {
   "cell_type": "code",
   "execution_count": 14,
   "metadata": {},
   "outputs": [
    {
     "data": {
      "text/plain": [
       "4.5"
      ]
     },
     "execution_count": 14,
     "metadata": {},
     "output_type": "execute_result"
    }
   ],
   "source": [
    "lista_n=[1,2,3,4,5,6,7,8]\n",
    "promedio(lista_n)"
   ]
  },
  {
   "cell_type": "code",
   "execution_count": 44,
   "metadata": {},
   "outputs": [],
   "source": [
    "#ejercicio 6\n",
    "def proximo_año(año):\n",
    "    año_prox= año +1\n",
    "    #los sets no pueden contener numeros repetidos. Le vamos sumando uno al año dado hasta que el numero de set sea igual a 4. \n",
    "    #Esto indica que todos los dijitos del set son diferentes.\n",
    "    while len(set(str(año_prox))) != 4:\n",
    "        año_prox+=1\n",
    "    return año_prox\n",
    "\n"
   ]
  },
  {
   "cell_type": "code",
   "execution_count": 47,
   "metadata": {},
   "outputs": [
    {
     "name": "stdout",
     "output_type": "stream",
     "text": [
      "{'1', '2', '9'}\n",
      "3\n"
     ]
    }
   ],
   "source": [
    "#demostracion sets:\n",
    "año_pruenba= 1992\n",
    "#lo pasamos a string\n",
    "año_prueba_string= str(año_pruenba)\n",
    "set_año=set(año_prueba_string)\n",
    "print(set_año)\n",
    "print(len(set_año))"
   ]
  },
  {
   "cell_type": "code",
   "execution_count": 49,
   "metadata": {},
   "outputs": [
    {
     "data": {
      "text/plain": [
       "2013"
      ]
     },
     "execution_count": 49,
     "metadata": {},
     "output_type": "execute_result"
    }
   ],
   "source": [
    "#como el 9 aparece dos veces el len del set es =3\n",
    "año_dig_dif=proximo_año(1992)\n",
    "año_dig_dif"
   ]
  },
  {
   "cell_type": "markdown",
   "metadata": {},
   "source": [
    "7. Crea una función que determine cuántos pasteles puedes hornear según una receta y los ingredientes disponibles. La función toma dos diccionarios como entrada: receta, que contiene los ingredientes necesarios para un pastel, y disponible, que contiene la cantidad disponible de cada ingrediente. Sus parámetros de entrada son: \n",
    "\n",
    "    - receta: Un diccionario que representa los ingredientes necesarios para un pastel, donde las claves son los nombres de los ingredientes y los valores son las cantidades necesarias de cada ingrediente.\n",
    "\n",
    "    - disponible: Un diccionario que representa la cantidad disponible de cada ingrediente, donde las claves son los nombres de los ingredientes y los valores son las cantidades disponibles.\n",
    "\n",
    "    ```python\n",
    "    receta1 = {'flour': 500, 'sugar': 200, 'eggs': 1}\n",
    "    ingredientes1 = {'flour': 1200, 'sugar': 1200, 'eggs': 5, 'milk': 200}\n",
    "\n",
    "    pasteles(receta1, ingredientes1)    \n",
    "    # output: con estos ingredientes solo puedo hacer 2 bizcochos\n",
    "    ```\n",
    "BONUS: \n",
    "8. Crea una función llamada fibonacci que tome un número n como argumento y devuelva una lista con los primeros n números de la serie Fibonacci.\n"
   ]
  },
  {
   "cell_type": "code",
   "execution_count": 70,
   "metadata": {},
   "outputs": [],
   "source": [
    "#ejercicio 7\n",
    "receta1 = {'flour': 500, 'sugar': 200, 'eggs': 1}\n",
    "ingredientes1 = {'flour': 1200, 'sugar': 1200, 'eggs': 5, 'milk': 200}\n",
    "\n",
    "def numero_pasteles(receta,ingredientes):\n",
    "    n_tartas_x_ingr=[]\n",
    "    for k,v in receta.items():\n",
    "        n=(ingredientes[k])//v\n",
    "        n_tartas_x_ingr.append(n)\n",
    "    return f'El numero de tartas dque se puede hacer es: {min(n_tartas_x_ingr)}'\n",
    "\n"
   ]
  },
  {
   "cell_type": "code",
   "execution_count": 71,
   "metadata": {},
   "outputs": [
    {
     "data": {
      "text/plain": [
       "'El numero de tartas dque se puede hacer es: 2'"
      ]
     },
     "execution_count": 71,
     "metadata": {},
     "output_type": "execute_result"
    }
   ],
   "source": [
    "past=numero_pasteles(receta1,ingredientes1)\n",
    "past"
   ]
  },
  {
   "cell_type": "code",
   "execution_count": 75,
   "metadata": {},
   "outputs": [],
   "source": [
    "#ejercicio 8. BONUS\n",
    "def fibo():\n",
    "    \n",
    "    lista_fib=[0,1]\n",
    "    while len(lista_fib) <= 10:\n",
    "        i=lista_fib[len(lista_fib)-1]+lista_fib[len(lista_fib)-2]\n",
    "        lista_fib.append(i)\n",
    "    return lista_fib\n",
    "\n",
    "\n",
    "    \n"
   ]
  },
  {
   "cell_type": "code",
   "execution_count": 76,
   "metadata": {},
   "outputs": [
    {
     "data": {
      "text/plain": [
       "[0, 1, 1, 2, 3, 5, 8, 13, 21, 34, 55]"
      ]
     },
     "execution_count": 76,
     "metadata": {},
     "output_type": "execute_result"
    }
   ],
   "source": [
    "lista_fib_10=fibo()\n",
    "lista_fib_10"
   ]
  }
 ],
 "metadata": {
  "kernelspec": {
   "display_name": "base",
   "language": "python",
   "name": "python3"
  },
  "language_info": {
   "codemirror_mode": {
    "name": "ipython",
    "version": 3
   },
   "file_extension": ".py",
   "mimetype": "text/x-python",
   "name": "python",
   "nbconvert_exporter": "python",
   "pygments_lexer": "ipython3",
   "version": "3.9.7"
  }
 },
 "nbformat": 4,
 "nbformat_minor": 2
}
