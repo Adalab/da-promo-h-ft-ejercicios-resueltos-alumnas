{
 "cells": [
  {
   "cell_type": "markdown",
   "metadata": {},
   "source": [
    " Definir tuplas\n",
    "\n",
    "  1. Crea una tupla `persona1` para juntar los siguientes datos: 61 kg, 1.54 m altura, pelo marrón, sin usar paréntesis. (Serán del tipo `int`, `float` y `str`.)\n",
    "\n",
    "  2. Crea una tupla para la `persona2` de 68 kg, 1.65 m y pelo rubio, usando paréntesis.\n",
    "\n",
    "  3. Crea una lista `talla` que recompila 'M', 42, y 39. \n"
   ]
  },
  {
   "cell_type": "code",
   "execution_count": 1,
   "metadata": {},
   "outputs": [
    {
     "name": "stdout",
     "output_type": "stream",
     "text": [
      "(61, 1.54, 'pelo marrón')\n",
      "<class 'tuple'>\n"
     ]
    }
   ],
   "source": [
    "persona1= 61, 1.54, 'pelo marrón'\n",
    "print(persona1)\n",
    "print(type(persona1))\n"
   ]
  },
  {
   "cell_type": "code",
   "execution_count": 2,
   "metadata": {},
   "outputs": [
    {
     "name": "stdout",
     "output_type": "stream",
     "text": [
      "(68, 1.65, 'pelo rubio')\n",
      "<class 'tuple'>\n"
     ]
    }
   ],
   "source": [
    "persona2= (68,1.65,'pelo rubio')\n",
    "print(persona2)\n",
    "print(type(persona2))"
   ]
  },
  {
   "cell_type": "code",
   "execution_count": 3,
   "metadata": {},
   "outputs": [
    {
     "name": "stdout",
     "output_type": "stream",
     "text": [
      "['M', 42, 39]\n",
      "<class 'list'>\n"
     ]
    }
   ],
   "source": [
    "talla=['M',42,39]\n",
    "print(talla)\n",
    "print(type(talla))"
   ]
  },
  {
   "cell_type": "markdown",
   "metadata": {},
   "source": [
    "Convertir y juntar\n",
    "\n",
    "  4. Convierte la lista `talla` a una tupla.\n",
    "  \n",
    "  5. Une a la tupla de `persona1` los datos en `talla`, para tener una única tupla.\n",
    "\n",
    " - Indexar tuplas\n",
    "\n",
    "  6. Saca de `persona2` el contenido del tercer elemento y llámalo `color`.\n",
    "\n",
    "  7. ¿Cuántos elementos hay ahora en `persona1`? (Es decir, ¿cuál es su longitud?)\n"
   ]
  },
  {
   "cell_type": "code",
   "execution_count": 6,
   "metadata": {},
   "outputs": [
    {
     "name": "stdout",
     "output_type": "stream",
     "text": [
      "<class 'tuple'>\n",
      "('M', 42, 39)\n"
     ]
    }
   ],
   "source": [
    "del print\n",
    "talla_tupla=tuple(talla)\n",
    "print(type(talla_tupla))\n",
    "print(talla_tupla)\n"
   ]
  },
  {
   "cell_type": "code",
   "execution_count": 7,
   "metadata": {},
   "outputs": [
    {
     "name": "stdout",
     "output_type": "stream",
     "text": [
      "(61, 1.54, 'pelo marrón', 'M', 42, 39)\n"
     ]
    }
   ],
   "source": [
    "persona1_talla= persona1 + talla_tupla\n",
    "print(persona1_talla)"
   ]
  },
  {
   "cell_type": "code",
   "execution_count": 9,
   "metadata": {},
   "outputs": [
    {
     "name": "stdout",
     "output_type": "stream",
     "text": [
      "(68, 1.65, 'color')\n",
      "(68, 1.65, 'pelo rubio')\n"
     ]
    }
   ],
   "source": [
    "lista_persona2= list(persona2)\n",
    "lista_persona2[2]='color'\n",
    "persona2_mod=tuple(lista_persona2)\n",
    "print(persona2_mod)\n",
    "print(persona2)"
   ]
  },
  {
   "cell_type": "code",
   "execution_count": 12,
   "metadata": {},
   "outputs": [
    {
     "name": "stdout",
     "output_type": "stream",
     "text": [
      "3\n",
      "(61, 1.54, 'pelo marrón')\n"
     ]
    }
   ],
   "source": [
    "print(len(persona1))\n",
    "print(persona1)"
   ]
  },
  {
   "cell_type": "markdown",
   "metadata": {},
   "source": [
    "Desempaquetar\n",
    "\n",
    "  8. Crea las variables `peso`, `altura`, `color_pelo` y llénalas con el contenido de `persona1`. Imprime `color_pelo` para comprobar el resultado. \n",
    "\n",
    "- Zipear\n",
    "\n",
    "  9. Crea el zip `personas` con `persona1` y `persona2`.\n",
    "\n",
    "  10. ¿Cuántas \"elementos\" tiene `personas`? ¿Por qué?\n",
    "\n",
    "  11. Crea una tupla `etiquetas` con `'peso'`, `'altura'`, y `'color_pelo'`.\n",
    "\n",
    "  12. Crea al zip de `etiquetas`, `persona1`, y `persona2`, llamado \"todo\".\n",
    "\n",
    "- Manipular zips\n",
    "\n",
    "  13. Ordena las propiedades de la variable `personas` alfabéticamente. ¿Puedes? ¿Por qué?"
   ]
  },
  {
   "cell_type": "code",
   "execution_count": 13,
   "metadata": {},
   "outputs": [
    {
     "name": "stdout",
     "output_type": "stream",
     "text": [
      "pelo marrón\n"
     ]
    }
   ],
   "source": [
    "peso, altura, color_pelo = persona1\n",
    "print(color_pelo)"
   ]
  },
  {
   "cell_type": "code",
   "execution_count": 34,
   "metadata": {},
   "outputs": [
    {
     "name": "stdout",
     "output_type": "stream",
     "text": [
      "(61, 1.54, 'pelo marrón')\n",
      "(68, 1.65, 'pelo rubio')\n",
      "len(personas)--------ERROR\n",
      "No podemos usar len ()porque el zip nos da una combinación elemento-elemento, no nos junta ambas tuplas\n"
     ]
    }
   ],
   "source": [
    "print(persona1)\n",
    "print(persona2)\n",
    "personas=zip(persona1,persona2)\n",
    "print('len(personas)--------ERROR')\n",
    "print('No podemos usar len ()porque el zip nos da una combinación elemento-elemento, no nos junta ambas tuplas')\n",
    "# si lo paso a lista podria contar cuantas parejas:\n"
   ]
  },
  {
   "cell_type": "code",
   "execution_count": 35,
   "metadata": {},
   "outputs": [
    {
     "name": "stdout",
     "output_type": "stream",
     "text": [
      "3\n"
     ]
    }
   ],
   "source": [
    "#como es de un solo uso, lo volvemos a poner:\n",
    "print(len(list(zip(persona1,persona2))))"
   ]
  },
  {
   "cell_type": "code",
   "execution_count": 36,
   "metadata": {},
   "outputs": [
    {
     "name": "stdout",
     "output_type": "stream",
     "text": [
      "<class 'tuple'>\n",
      "[(61, 61, 68), (1.54, 1.54, 1.65), ('pelo marrón', 'pelo marrón', 'pelo rubio')]\n"
     ]
    }
   ],
   "source": [
    "etiquetas=(peso, altura, color_pelo)\n",
    "print(type(etiquetas))\n",
    "todo=zip(etiquetas,persona1, persona2)\n",
    "print(list(todo))"
   ]
  },
  {
   "cell_type": "code",
   "execution_count": 37,
   "metadata": {},
   "outputs": [
    {
     "name": "stdout",
     "output_type": "stream",
     "text": [
      "[(61, 68), (1.54, 1.65), ('pelo marrón', 'pelo rubio')]\n"
     ]
    }
   ],
   "source": [
    "print(list(personas))\n"
   ]
  }
 ],
 "metadata": {
  "kernelspec": {
   "display_name": "base",
   "language": "python",
   "name": "python3"
  },
  "language_info": {
   "codemirror_mode": {
    "name": "ipython",
    "version": 3
   },
   "file_extension": ".py",
   "mimetype": "text/x-python",
   "name": "python",
   "nbconvert_exporter": "python",
   "pygments_lexer": "ipython3",
   "version": "3.11.7"
  }
 },
 "nbformat": 4,
 "nbformat_minor": 2
}
