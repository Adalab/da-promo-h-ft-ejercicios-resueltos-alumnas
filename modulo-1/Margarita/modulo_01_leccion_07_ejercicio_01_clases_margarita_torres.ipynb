{
 "cells": [
  {
   "cell_type": "markdown",
   "metadata": {},
   "source": [
    "# Ejercicios \n",
    "\n",
    "Crea una clase llamada `Vehiculo` que representa un vehículo genérico. Esta clase tiene la capacidad de realizar acciones relacionadas con el vehículo, como encenderlo, apagarlo, acelerar, frenar y detenerlo gradualmente. Cada método en la clase tiene una descripción específica de su función. A continuación, se detallan los aspectos clave de esta clase:\n",
    "\n",
    "- **Atributos:**\n",
    "\n",
    "    - `marca`: Una cadena que representa la marca del vehículo.\n",
    "\n",
    "    - `modelo`: Una cadena que representa el modelo del vehículo.\n",
    "\n",
    "    - `año`: Un número entero que representa el año de fabricación del vehículo.\n",
    "\n",
    "    - `velocidad_actual`: Un número entero que representa la velocidad actual del vehículo en km/h.\n",
    "\n",
    "    - `encendido`: Un valor booleano que indica si el vehículo está encendido (`True`) o apagado (`False`).\n",
    "\n",
    "- **Métodos:**\n",
    "\n",
    "    -  `__init__(self, marca, modelo, año)`: El constructor de la clase que inicializa los atributos del vehículo, incluyendo la marca, el modelo, el año, la velocidad actual (inicialmente 0) y el estado del encendido (inicialmente apagado).\n",
    "\n",
    "    - `informacion(self)`: Un método que devuelve una cadena de texto con la información básica del vehículo, incluyendo la marca, el modelo y el año.\n",
    "\n",
    "    - `encender(self)`: Un método que enciende el vehículo si está apagado y devuelve un mensaje de confirmación. Si el vehículo ya está encendido, devuelve un mensaje indicando que ya está en funcionamiento.\n",
    "\n",
    "    - `apagar(self)`: Un método que apaga el vehículo si está encendido, establece la velocidad actual en 0 y devuelve un mensaje de confirmación. Si el vehículo ya está apagado, devuelve un mensaje indicando que ya está apagado.\n",
    "\n",
    "    - `acelerar(self, velocidad)`: Un método que aumenta la velocidad actual del vehículo según la cantidad de velocidad proporcionada como argumento. Si el vehículo está encendido, aumenta la velocidad y devuelve un mensaje con la nueva velocidad actual. Si el vehículo está apagado, devuelve un mensaje indicando que no se puede acelerar.\n",
    "\n",
    "    - `frenar(self, velocidad)`: Un método que reduce la velocidad actual del vehículo según la cantidad de velocidad proporcionada como argumento. Si el vehículo está encendido, reduce la velocidad y devuelve un mensaje con la nueva velocidad actual. Si el vehículo está apagado, devuelve un mensaje indicando que no se puede frenar.\n",
    "\n",
    "    - `detener(self)`: Un método que detiene gradualmente el vehículo reduciendo la velocidad en incrementos de 5 km/h hasta que alcance una velocidad de 0 km/h. Si el vehículo está encendido, detiene el vehículo y devuelve un mensaje de confirmación. Si el vehículo está apagado, devuelve un mensaje indicando que no se puede detener.\n",
    "\n",
    "\n",
    "Crea la subclase Coche que hereda de la clase base Vehiculo y representa un coche específico. Además de los atributos y métodos heredados, la clase Coche tiene un atributo adicional:\n",
    "\n",
    "\n",
    "- **Atributos:**\n",
    "    - combustible: Una cadena que representa el tipo de combustible que utiliza el coche.\n",
    "\n",
    "- **Métodos:**\n",
    "\n",
    "    - `__init__(self, marca, modelo, año, combustible)`: Constructor que inicializa los atributos de la clase base y el atributo específico del coche.\n",
    "    \n",
    "    - `informacion(self)`: Devuelve una cadena con la información del coche, incluyendo la marca, el modelo, el año y el tipo de combustible."
   ]
  },
  {
   "cell_type": "code",
   "execution_count": 1,
   "metadata": {},
   "outputs": [],
   "source": [
    "#1-creamos nuestra clase \n",
    "\n",
    "class vehiculo:\n",
    "        pass"
   ]
  },
  {
   "cell_type": "code",
   "execution_count": 2,
   "metadata": {},
   "outputs": [
    {
     "data": {
      "text/plain": [
       "<__main__.vehiculo at 0x7fd70c07e4c0>"
      ]
     },
     "execution_count": 2,
     "metadata": {},
     "output_type": "execute_result"
    }
   ],
   "source": [
    "#llamamos a la clase y almacenamos variable:\n",
    "coche= vehiculo()\n",
    "coche"
   ]
  },
  {
   "cell_type": "code",
   "execution_count": 3,
   "metadata": {},
   "outputs": [],
   "source": [
    "#definimos las propiedades\n",
    "class vehiculo:\n",
    "    def __init__ (self,marca,modelo, año,velocidad_actual=0,encendido=False):\n",
    "        #creamos el constructor:\n",
    "        #añadimos el valor por defecto en la def.\n",
    "        self.marca=str(marca)\n",
    "        self.modelo=str(modelo)\n",
    "        self.año=int(año)\n",
    "        self.velocidad_actual= velocidad_actual\n",
    "        self.encendido= encendido\n",
    "    \n",
    "    def informacion(self):\n",
    "        print(f'Marca={self.marca}\\nModelo={self.modelo}\\nAño{self.año}')\n",
    "    def encender(self):\n",
    "        if self.encendido == False:\n",
    "            #cambiamos el atributo a True, ya que ahora estará encendido:\n",
    "            self.encendido=True\n",
    "            print('El coche está encendido')\n",
    "        else:\n",
    "            print('El coche se encuentra encendido')\n",
    "    def apagar(self):\n",
    "        if self.encendido == True :\n",
    "            self.encendido=False\n",
    "            self.velocidad_actual=0\n",
    "            print('El coche está apagado')\n",
    "        else:\n",
    "            print('El coche se encuentra apagado')\n",
    "    def acelerar(self, velocidad):\n",
    "        #Definimos la condición y cambiamos la velocidad:\n",
    "        if self.encendido == True:\n",
    "            self.velocidad_actual=velocidad\n",
    "            print(f'la velocidad actual es de {velocidad} km/h')\n",
    "        else:\n",
    "            print('No se puede acelerar')\n",
    "    def frenar(self, velocidad):\n",
    "        if self.encendido == True:\n",
    "            self.velocidad_actual=velocidad\n",
    "            print(f'la velocidad actual es de {velocidad} km/h')\n",
    "        else:\n",
    "            print('No se puede frenar')\n",
    "    def detener(self):\n",
    "        #mientras el coche tenga velocidad y esté encendido...\n",
    "        while self.velocidad_actual > 5 and self.encendido==True:\n",
    "            self.velocidad_actual-= 5\n",
    "            print(f'Bajando velocidad...{self.velocidad_actual} km/h')   \n",
    "            \n",
    "        print('El vehiculo está detenido')\n",
    "        \n",
    "\n",
    "        \n"
   ]
  },
  {
   "cell_type": "code",
   "execution_count": 4,
   "metadata": {},
   "outputs": [],
   "source": [
    "     #instanciamos un objeto, en este caso será un ford fiesta:\n",
    "coche=vehiculo('ford', 'fiesta',2009)\n",
    "#no hace falta poner la velocidad y el encendido porque ya lo definimos por defecto en def.\n",
    "#si lo metemos en atributos, estamos obligados a meterlos independientemente del valor.\n"
   ]
  },
  {
   "cell_type": "code",
   "execution_count": 5,
   "metadata": {},
   "outputs": [
    {
     "name": "stdout",
     "output_type": "stream",
     "text": [
      "Marca=ford\n",
      "Modelo=fiesta\n",
      "Año2009\n"
     ]
    }
   ],
   "source": [
    "#llamamos los métodos: \n",
    "coche.informacion()\n",
    "\n"
   ]
  },
  {
   "cell_type": "code",
   "execution_count": 5,
   "metadata": {},
   "outputs": [
    {
     "name": "stdout",
     "output_type": "stream",
     "text": [
      "El coche está encendido\n"
     ]
    },
    {
     "data": {
      "text/plain": [
       "True"
      ]
     },
     "execution_count": 5,
     "metadata": {},
     "output_type": "execute_result"
    }
   ],
   "source": [
    "\n",
    "coche.encender()\n",
    "#El coche estaba apagado y al ejecutarlo:\n",
    "coche.encendido"
   ]
  },
  {
   "cell_type": "code",
   "execution_count": 6,
   "metadata": {},
   "outputs": [
    {
     "name": "stdout",
     "output_type": "stream",
     "text": [
      "El coche está apagado\n"
     ]
    }
   ],
   "source": [
    "coche.apagar()"
   ]
  },
  {
   "cell_type": "code",
   "execution_count": 7,
   "metadata": {},
   "outputs": [
    {
     "name": "stdout",
     "output_type": "stream",
     "text": [
      "El coche está encendido\n",
      "la velocidad actual es de 36 km/h\n"
     ]
    }
   ],
   "source": [
    "\n",
    "coche.encender()\n",
    "#encendemos el coche para comprobar la aceleracion:\n",
    "coche.acelerar(36)"
   ]
  },
  {
   "cell_type": "code",
   "execution_count": 8,
   "metadata": {},
   "outputs": [
    {
     "name": "stdout",
     "output_type": "stream",
     "text": [
      "Bajando velocidad...31 km/h\n",
      "Bajando velocidad...26 km/h\n",
      "Bajando velocidad...21 km/h\n",
      "Bajando velocidad...16 km/h\n",
      "Bajando velocidad...11 km/h\n",
      "Bajando velocidad...6 km/h\n",
      "Bajando velocidad...1 km/h\n",
      "El vehiculo está detenido\n"
     ]
    }
   ],
   "source": [
    "coche.detener()"
   ]
  },
  {
   "cell_type": "markdown",
   "metadata": {},
   "source": [
    "   Crea la subclase Coche que hereda de la clase base Vehiculo y representa un coche específico. Además de los atributos y métodos heredados, la clase Coche tiene un atributo adicional:\n",
    "\n",
    "\n",
    "- **Atributos:**\n",
    "    - combustible: Una cadena que representa el tipo de combustible que utiliza el coche.\n",
    "\n",
    "- **Métodos:**\n",
    "\n",
    "    - `__init__(self, marca, modelo, año, combustible)`: Constructor que inicializa los atributos de la clase base y el atributo específico del coche.\n",
    "    \n",
    "    - `informacion(self)`: Devuelve una cadena con la información del coche, incluyendo la marca, el modelo, el año y el tipo de combustible."
   ]
  },
  {
   "cell_type": "code",
   "execution_count": 12,
   "metadata": {},
   "outputs": [],
   "source": [
    "class automovil(vehiculo):\n",
    "    def __init__(self,marca,modelo,año,combustible):\n",
    "        super().__init__(marca ,modelo, año)\n",
    "        self.combustible=combustible\n",
    "    def carburante():\n",
    "        print(f'Combuestible:{self.combustible}')\n",
    "        \n",
    "        \n",
    "    "
   ]
  },
  {
   "cell_type": "code",
   "execution_count": 13,
   "metadata": {},
   "outputs": [],
   "source": [
    "automovil_1=automovil('toyota','Yaris',2023, 'diesel')\n",
    "\n"
   ]
  },
  {
   "cell_type": "code",
   "execution_count": 14,
   "metadata": {},
   "outputs": [
    {
     "ename": "NameError",
     "evalue": "name 'self' is not defined",
     "output_type": "error",
     "traceback": [
      "\u001b[0;31m---------------------------------------------------------------------------\u001b[0m",
      "\u001b[0;31mNameError\u001b[0m                                 Traceback (most recent call last)",
      "\u001b[0;32m/tmp/ipykernel_19189/3290383080.py\u001b[0m in \u001b[0;36m<module>\u001b[0;34m\u001b[0m\n\u001b[0;32m----> 1\u001b[0;31m \u001b[0mautomovil\u001b[0m\u001b[0;34m.\u001b[0m\u001b[0mcarburante\u001b[0m\u001b[0;34m(\u001b[0m\u001b[0;34m)\u001b[0m\u001b[0;34m\u001b[0m\u001b[0;34m\u001b[0m\u001b[0m\n\u001b[0m",
      "\u001b[0;32m/tmp/ipykernel_19189/3024681194.py\u001b[0m in \u001b[0;36mcarburante\u001b[0;34m()\u001b[0m\n\u001b[1;32m      4\u001b[0m         \u001b[0mself\u001b[0m\u001b[0;34m.\u001b[0m\u001b[0mcombustible\u001b[0m\u001b[0;34m=\u001b[0m\u001b[0mcombustible\u001b[0m\u001b[0;34m\u001b[0m\u001b[0;34m\u001b[0m\u001b[0m\n\u001b[1;32m      5\u001b[0m     \u001b[0;32mdef\u001b[0m \u001b[0mcarburante\u001b[0m\u001b[0;34m(\u001b[0m\u001b[0;34m)\u001b[0m\u001b[0;34m:\u001b[0m\u001b[0;34m\u001b[0m\u001b[0;34m\u001b[0m\u001b[0m\n\u001b[0;32m----> 6\u001b[0;31m         \u001b[0mprint\u001b[0m\u001b[0;34m(\u001b[0m\u001b[0;34mf'Combuestible:{self.combustible}'\u001b[0m\u001b[0;34m)\u001b[0m\u001b[0;34m\u001b[0m\u001b[0;34m\u001b[0m\u001b[0m\n\u001b[0m\u001b[1;32m      7\u001b[0m \u001b[0;34m\u001b[0m\u001b[0m\n\u001b[1;32m      8\u001b[0m \u001b[0;34m\u001b[0m\u001b[0m\n",
      "\u001b[0;31mNameError\u001b[0m: name 'self' is not defined"
     ]
    }
   ],
   "source": [
    "automovil.carburante()"
   ]
  },
  {
   "cell_type": "code",
   "execution_count": null,
   "metadata": {},
   "outputs": [],
   "source": [
    "#¿PRegunta, No puedo escoger que se copien solo dos atributos y no todos? Es necesario reescribir la funcion madre?"
   ]
  }
 ],
 "metadata": {
  "kernelspec": {
   "display_name": "base",
   "language": "python",
   "name": "python3"
  },
  "language_info": {
   "codemirror_mode": {
    "name": "ipython",
    "version": 3
   },
   "file_extension": ".py",
   "mimetype": "text/x-python",
   "name": "python",
   "nbconvert_exporter": "python",
   "pygments_lexer": "ipython3",
   "version": "3.9.7"
  }
 },
 "nbformat": 4,
 "nbformat_minor": 2
}
