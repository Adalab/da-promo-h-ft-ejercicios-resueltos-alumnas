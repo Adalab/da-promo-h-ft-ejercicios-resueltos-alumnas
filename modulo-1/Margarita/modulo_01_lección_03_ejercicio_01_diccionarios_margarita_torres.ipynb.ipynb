{
 "cells": [
  {
   "cell_type": "markdown",
   "metadata": {},
   "source": [
    "- Definir diccionarios\n",
    "\n",
    "  1. Crea el diccionario `festivos` con las fechas como claves y los nombres como valores: 01/01: Año Nuevo, 06/01: Epifanía del Señor, 15/04: Viernes Santo, 15/08: Asunción de la Virgen, 12/10: Fiesta Nacional de España, 01/11: Todos los Santos, 06/12: Día de la Constitución Española, y 08/12: Inmaculada Concepción.\n",
    "\n",
    "\n",
    "  2. Crea el diccionario `monarcas` con los países como claves y los nombres como valores: Bélgica: Philippe, Dinamarca: Margrethe II, Holanda: Beatrix, Noruega: Harald V, España: Felipe VI, Reino Unido: Carlos III."
   ]
  },
  {
   "cell_type": "code",
   "execution_count": 1,
   "metadata": {},
   "outputs": [
    {
     "name": "stdout",
     "output_type": "stream",
     "text": [
      "{'01/01': 'Año Nuevo', '06/01': 'Epifanía del Señor', '15/04': 'Viernes Santo', '15/08': 'Asunción de la Virgen', '12/10': 'Fiesta Nacional de España', '01/11': 'Todos los Santos', '06/12': 'Día de la Constitución Española', '08/12': 'Inmaculada Concepción'}\n",
      "{'Bélgica': 'Philippe', 'Dinamarca': 'Margrethe II', 'Holanda': 'Beatrix', 'Noruega': 'Harald V', 'España': 'Felipe VI', 'Reino Unido': 'Carlos III'}\n"
     ]
    }
   ],
   "source": [
    "festivos={'01/01' : 'Año Nuevo', '06/01' : 'Epifanía del Señor', '15/04': 'Viernes Santo', '15/08': 'Asunción de la Virgen', '12/10': 'Fiesta Nacional de España', '01/11': 'Todos los Santos', '06/12': 'Día de la Constitución Española', '08/12': 'Inmaculada Concepción'}\n",
    "print(festivos)\n",
    "monarcas={'Bélgica': 'Philippe', 'Dinamarca': 'Margrethe II', 'Holanda': 'Beatrix', 'Noruega': 'Harald V', 'España': 'Felipe VI', 'Reino Unido': 'Carlos III'}\n",
    "print(monarcas)"
   ]
  },
  {
   "cell_type": "code",
   "execution_count": 2,
   "metadata": {},
   "outputs": [],
   "source": [
    "#Tambien podemos usar dict(clave=valor, calve1=valor1)\n",
    "#Probamos con valores predeterminados: claves=[], valor_predeterminado=[], dicc1=dict.fromkeys(claves, valor_predeterminado)\n"
   ]
  },
  {
   "cell_type": "markdown",
   "metadata": {},
   "source": [
    "- Leer, añadir, y cambiar elementos\n",
    "\n",
    "  3. ¿Qué festivo hay el 15/04?\n",
    "\n",
    "\n",
    "  4. La reina `'Beatrix'` abdicó, ahora es el rey `'Willem-Alexander'`. Actualiza el dict.\n",
    "\n",
    "  \n",
    "  5. El rey de Luxemburgo se llama `Henri`. Añadelo al dict usando `.update()`."
   ]
  },
  {
   "cell_type": "code",
   "execution_count": 3,
   "metadata": {},
   "outputs": [
    {
     "name": "stdout",
     "output_type": "stream",
     "text": [
      "El 15/04 es Viernes Santo\n"
     ]
    },
    {
     "data": {
      "text/plain": [
       "'Viernes Santo'"
      ]
     },
     "execution_count": 3,
     "metadata": {},
     "output_type": "execute_result"
    }
   ],
   "source": [
    "# 3. ¿Qué festivo hay el 15/04?\n",
    "\n",
    "print( 'El 15/04 es', festivos.get('15/04'))\n",
    "#Podemos probar:\n",
    "fes=festivos['15/04']\n",
    "fes\n",
    "\n",
    "\n"
   ]
  },
  {
   "cell_type": "code",
   "execution_count": 4,
   "metadata": {},
   "outputs": [
    {
     "name": "stdout",
     "output_type": "stream",
     "text": [
      "{'Bélgica': 'Philippe', 'Dinamarca': 'Margrethe II', 'Holanda': 'Beatrix', 'Noruega': 'Harald V', 'España': 'Felipe VI', 'Reino Unido': 'Carlos III'}\n"
     ]
    }
   ],
   "source": [
    "#4. LAreina `'Beatrix'` abdicó, ahora es el rey `'Willem-Alexander'`. Actualiza el dict.\n",
    "\n",
    "cambio_reina={'Holanda':'Willem-Alexander'}\n",
    "\n",
    "print(monarcas)"
   ]
  },
  {
   "cell_type": "code",
   "execution_count": 5,
   "metadata": {},
   "outputs": [
    {
     "name": "stdout",
     "output_type": "stream",
     "text": [
      "{'Bélgica': 'Philippe', 'Dinamarca': 'Margrethe II', 'Holanda': 'Beatrix', 'Noruega': 'Harald V', 'España': 'Felipe VI', 'Reino Unido': 'Carlos III', 'Luxemburgo': 'Henri'}\n"
     ]
    }
   ],
   "source": [
    "#5. El rey de Luxemburgo se llama `Henri`. Añadelo al dict usando `.update()`.\n",
    "nuevo_rey={'Luxemburgo':'Henri'}\n",
    "monarcas.update(nuevo_rey)\n",
    "print(monarcas)\n",
    "\n",
    "#HEMOS SOBREESCRITO LA VARIABLE MONARCAS"
   ]
  },
  {
   "cell_type": "markdown",
   "metadata": {},
   "source": [
    "- Comprobar contenidos\n",
    "\n",
    "  6. ¿Cuántos países están definidos en `monarcas`?\n",
    "\n",
    "  7. ¿Es `'Monaco'` uno de ellos?\n",
    "\n",
    "  8. ¿Es verdad que nos olvidamos de poner `'Suecia'`? Compruébalo de una manera en que obtengas un `True` o `False`.\n"
   ]
  },
  {
   "cell_type": "code",
   "execution_count": 6,
   "metadata": {},
   "outputs": [
    {
     "name": "stdout",
     "output_type": "stream",
     "text": [
      "en el diccionario hay ['Bélgica', 'Dinamarca', 'Holanda', 'Noruega', 'España', 'Reino Unido', 'Luxemburgo'] paises\n"
     ]
    }
   ],
   "source": [
    "#6. ¿Cuántos países están definidos en `monarcas`?\n",
    "#Si añadimos el list() evitaos que imprima : \"dict_keys()\"\n",
    "paises_monarcas= list(monarcas.keys())\n",
    "print('en el diccionario hay', paises_monarcas , 'paises')\n"
   ]
  },
  {
   "cell_type": "code",
   "execution_count": 7,
   "metadata": {},
   "outputs": [
    {
     "data": {
      "text/plain": [
       "False"
      ]
     },
     "execution_count": 7,
     "metadata": {},
     "output_type": "execute_result"
    }
   ],
   "source": [
    "#7. ¿Es `'Monaco'` uno de ellos?\n",
    "\n",
    "'Monaco' in monarcas"
   ]
  },
  {
   "cell_type": "code",
   "execution_count": 8,
   "metadata": {},
   "outputs": [
    {
     "name": "stdout",
     "output_type": "stream",
     "text": [
      " Está suecia en el diccionario de monarcas: False\n"
     ]
    }
   ],
   "source": [
    "#8. ¿Es verdad que nos olvidamos de poner `'Suecia'`? Compruébalo de una manera en que obtengas un `True` o `False`.\n",
    "print(' Está suecia en el diccionario de monarcas:', ('Suecia'in monarcas))"
   ]
  },
  {
   "cell_type": "markdown",
   "metadata": {},
   "source": [
    "- Listar los contenidos\n",
    "\n",
    "  9. Saca una **lista** de todos los países en el dict `monarcas`.\n",
    "\n",
    "  10. Saca una **lista** de los nombres de los festivos.\n",
    "\n",
    "  11. Imprime el diccionario de festivos.\n",
    "  \n",
    "  12. Imprime una **lista de tuplas** de todos los elementos que hay en festivos."
   ]
  },
  {
   "cell_type": "code",
   "execution_count": 9,
   "metadata": {},
   "outputs": [
    {
     "name": "stdout",
     "output_type": "stream",
     "text": [
      "['Bélgica', 'Dinamarca', 'Holanda', 'Noruega', 'España', 'Reino Unido', 'Luxemburgo']\n",
      "['Año Nuevo', 'Epifanía del Señor', 'Viernes Santo', 'Asunción de la Virgen', 'Fiesta Nacional de España', 'Todos los Santos', 'Día de la Constitución Española', 'Inmaculada Concepción']\n",
      "{'01/01': 'Año Nuevo', '06/01': 'Epifanía del Señor', '15/04': 'Viernes Santo', '15/08': 'Asunción de la Virgen', '12/10': 'Fiesta Nacional de España', '01/11': 'Todos los Santos', '06/12': 'Día de la Constitución Española', '08/12': 'Inmaculada Concepción'}\n",
      "[('01/01', 'Año Nuevo'), ('06/01', 'Epifanía del Señor'), ('15/04', 'Viernes Santo'), ('15/08', 'Asunción de la Virgen'), ('12/10', 'Fiesta Nacional de España'), ('01/11', 'Todos los Santos'), ('06/12', 'Día de la Constitución Española'), ('08/12', 'Inmaculada Concepción')]\n"
     ]
    }
   ],
   "source": [
    "# 9. Saca una **lista** de todos los países en el dict `monarcas`.\n",
    "print(paises_monarcas)\n",
    "\n",
    "#10. Saca una **lista** de los nombres de los festivos.\n",
    "nombr_festivos=list(festivos.values())\n",
    "print(nombr_festivos)\n",
    "\n",
    "#11. Imprime el diccionario de festivos.\n",
    "print(festivos)\n",
    "\n",
    "# 12. Imprime una **lista de tuplas** de todos los elementos que hay en festivos.\n",
    "elementos_dic_fest= list(festivos.items())\n",
    "print(elementos_dic_fest)\n"
   ]
  },
  {
   "cell_type": "markdown",
   "metadata": {},
   "source": [
    "- Copiar dicts, y borrar elementos\n",
    "\n",
    "  13. Copia `monarcas` a `monarcas2010`.\n",
    "\n",
    "  14. Quita España de `monarcas2010`.\n",
    "\n",
    "  15. Quita el último elemento de `monarcas2010`."
   ]
  },
  {
   "cell_type": "code",
   "execution_count": 10,
   "metadata": {},
   "outputs": [
    {
     "name": "stdout",
     "output_type": "stream",
     "text": [
      "{'Bélgica': 'Philippe', 'Dinamarca': 'Margrethe II', 'Holanda': 'Beatrix', 'Noruega': 'Harald V', 'España': 'Felipe VI', 'Reino Unido': 'Carlos III', 'Luxemburgo': 'Henri'}\n"
     ]
    }
   ],
   "source": [
    "#13. Copia `monarcas` a `monarcas2010`.\n",
    "\n",
    "monarcas2010= monarcas.copy()\n",
    "print(monarcas2010)"
   ]
  },
  {
   "cell_type": "code",
   "execution_count": 11,
   "metadata": {},
   "outputs": [
    {
     "name": "stdout",
     "output_type": "stream",
     "text": [
      "existe? {'hola': 'a', 'adios': []}\n",
      "[]\n"
     ]
    }
   ],
   "source": [
    "#14. Quita España de `monarcas2010`.\n",
    "#Como España es una clave:\n",
    "#*Recuerdo, no piuede existir valor sin clave ni clave sin valor ( a menos que sea una lista vacia?)\n",
    "prueba_dicci= {'hola':'a','adios':[]}\n",
    "print('existe?', prueba_dicci)\n",
    "#AL USAR .POP() NOS DEVUELVE LO BORRADO CON UN PRINT.\n",
    "print(prueba_dicci.pop('adios'))\n",
    "\n"
   ]
  },
  {
   "cell_type": "code",
   "execution_count": 12,
   "metadata": {},
   "outputs": [
    {
     "name": "stdout",
     "output_type": "stream",
     "text": [
      "{'Bélgica': 'Philippe', 'Dinamarca': 'Margrethe II', 'Holanda': 'Beatrix', 'Noruega': 'Harald V', 'Reino Unido': 'Carlos III', 'Luxemburgo': 'Henri'}\n"
     ]
    }
   ],
   "source": [
    "\n",
    "monarcas2010.pop('España')\n",
    "print(monarcas2010)\n"
   ]
  },
  {
   "cell_type": "code",
   "execution_count": 14,
   "metadata": {},
   "outputs": [
    {
     "name": "stdout",
     "output_type": "stream",
     "text": [
      "('Luxemburgo', 'Henri')\n"
     ]
    }
   ],
   "source": [
    "# 15. Quita el último elemento de `monarcas2010`.\n",
    "print(monarcas2010.popitem())"
   ]
  },
  {
   "cell_type": "markdown",
   "metadata": {},
   "source": [
    "- Vaciar y borrar dicts\n",
    "\n",
    "  16. Vacia el dict `monarcas2010`.\n"
   ]
  },
  {
   "cell_type": "code",
   "execution_count": 16,
   "metadata": {},
   "outputs": [
    {
     "name": "stdout",
     "output_type": "stream",
     "text": [
      "{}\n"
     ]
    }
   ],
   "source": [
    "monarcas2010.clear()\n",
    "print(monarcas2010)\n",
    "del(monarcas2010)\n",
    "#Hemos eliminado la variable moarcas2010\n"
   ]
  },
  {
   "cell_type": "markdown",
   "metadata": {},
   "source": [
    " Obtener valores\n",
    "\n",
    "  17. ¿Qué festivo hay el 06/01?\n",
    "  \n",
    "  18. Obten el festivo que haya el 08/03, y en su defecto devuélve 'Día Internacional de la Mujer'.\n",
    "\n",
    "  19. Obten el festivo que haya el 31/11, y si no existe crea un par de clave-valor nuevo con el valor de 'Todos los Santos'."
   ]
  },
  {
   "cell_type": "code",
   "execution_count": 17,
   "metadata": {},
   "outputs": [
    {
     "name": "stdout",
     "output_type": "stream",
     "text": [
      "{'01/01': 'Año Nuevo', '06/01': 'Epifanía del Señor', '15/04': 'Viernes Santo', '15/08': 'Asunción de la Virgen', '12/10': 'Fiesta Nacional de España', '01/11': 'Todos los Santos', '06/12': 'Día de la Constitución Española', '08/12': 'Inmaculada Concepción'}\n",
      "Epifanía del Señor\n"
     ]
    }
   ],
   "source": [
    "print(festivos)\n",
    "#17. ¿Qué festivo hay el 06/01?\n",
    "print(festivos.get('06/01'))\n"
   ]
  },
  {
   "cell_type": "code",
   "execution_count": 19,
   "metadata": {},
   "outputs": [
    {
     "name": "stdout",
     "output_type": "stream",
     "text": [
      "Dia Internacional de la Mujer\n"
     ]
    }
   ],
   "source": [
    " #18. Obten el festivo que haya el 08/03, y en su defecto devuélve 'Día Internacional de la Mujer'.\n",
    "\n",
    "print(festivos.setdefault('08/03','Dia Internacional de la Mujer'))\n"
   ]
  },
  {
   "cell_type": "code",
   "execution_count": null,
   "metadata": {},
   "outputs": [],
   "source": [
    "#19. Obten el festivo que haya el 31/11, y si no existe crea un par de clave-valor nuevo con el valor de 'Todos los Santos'.\n"
   ]
  },
  {
   "cell_type": "code",
   "execution_count": 22,
   "metadata": {},
   "outputs": [
    {
     "name": "stdout",
     "output_type": "stream",
     "text": [
      "El 31/11 es día de: NO ESTÁ ESE FESTIVO\n"
     ]
    }
   ],
   "source": [
    "\n",
    "print( 'El 31/11 es día de:', festivos.get(31/11, 'NO ESTÁ ESE FESTIVO'))\n"
   ]
  },
  {
   "cell_type": "code",
   "execution_count": 23,
   "metadata": {},
   "outputs": [
    {
     "name": "stdout",
     "output_type": "stream",
     "text": [
      "El festivo 31/11 es Todos los santos\n"
     ]
    }
   ],
   "source": [
    "#No está el 31/11, por tanto añadimos:\n",
    "print( 'El festivo 31/11 es',festivos.setdefault('31/11', 'Todos los santos'))"
   ]
  }
 ],
 "metadata": {
  "kernelspec": {
   "display_name": "base",
   "language": "python",
   "name": "python3"
  },
  "language_info": {
   "codemirror_mode": {
    "name": "ipython",
    "version": 3
   },
   "file_extension": ".py",
   "mimetype": "text/x-python",
   "name": "python",
   "nbconvert_exporter": "python",
   "pygments_lexer": "ipython3",
   "version": "3.9.7"
  }
 },
 "nbformat": 4,
 "nbformat_minor": 2
}
