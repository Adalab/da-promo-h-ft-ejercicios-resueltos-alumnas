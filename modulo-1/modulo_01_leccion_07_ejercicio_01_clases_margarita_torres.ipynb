{
 "cells": [
  {
   "cell_type": "markdown",
   "metadata": {},
   "source": [
    "# Ejercicios \n",
    "\n",
    "Crea una clase llamada `Vehiculo` que representa un vehículo genérico. Esta clase tiene la capacidad de realizar acciones relacionadas con el vehículo, como encenderlo, apagarlo, acelerar, frenar y detenerlo gradualmente. Cada método en la clase tiene una descripción específica de su función. A continuación, se detallan los aspectos clave de esta clase:\n",
    "\n",
    "- **Atributos:**\n",
    "\n",
    "    - `marca`: Una cadena que representa la marca del vehículo.\n",
    "\n",
    "    - `modelo`: Una cadena que representa el modelo del vehículo.\n",
    "\n",
    "    - `año`: Un número entero que representa el año de fabricación del vehículo.\n",
    "\n",
    "    - `velocidad_actual`: Un número entero que representa la velocidad actual del vehículo en km/h.\n",
    "\n",
    "    - `encendido`: Un valor booleano que indica si el vehículo está encendido (`True`) o apagado (`False`).\n",
    "\n",
    "- **Métodos:**\n",
    "\n",
    "    -  `__init__(self, marca, modelo, año)`: El constructor de la clase que inicializa los atributos del vehículo, incluyendo la marca, el modelo, el año, la velocidad actual (inicialmente 0) y el estado del encendido (inicialmente apagado).\n",
    "\n",
    "    - `informacion(self)`: Un método que devuelve una cadena de texto con la información básica del vehículo, incluyendo la marca, el modelo y el año.\n",
    "\n",
    "    - `encender(self)`: Un método que enciende el vehículo si está apagado y devuelve un mensaje de confirmación. Si el vehículo ya está encendido, devuelve un mensaje indicando que ya está en funcionamiento.\n",
    "\n",
    "    - `apagar(self)`: Un método que apaga el vehículo si está encendido, establece la velocidad actual en 0 y devuelve un mensaje de confirmación. Si el vehículo ya está apagado, devuelve un mensaje indicando que ya está apagado.\n",
    "\n",
    "    - `acelerar(self, velocidad)`: Un método que aumenta la velocidad actual del vehículo según la cantidad de velocidad proporcionada como argumento. Si el vehículo está encendido, aumenta la velocidad y devuelve un mensaje con la nueva velocidad actual. Si el vehículo está apagado, devuelve un mensaje indicando que no se puede acelerar.\n",
    "\n",
    "    - `frenar(self, velocidad)`: Un método que reduce la velocidad actual del vehículo según la cantidad de velocidad proporcionada como argumento. Si el vehículo está encendido, reduce la velocidad y devuelve un mensaje con la nueva velocidad actual. Si el vehículo está apagado, devuelve un mensaje indicando que no se puede frenar.\n",
    "\n",
    "    - `detener(self)`: Un método que detiene gradualmente el vehículo reduciendo la velocidad en incrementos de 5 km/h hasta que alcance una velocidad de 0 km/h. Si el vehículo está encendido, detiene el vehículo y devuelve un mensaje de confirmación. Si el vehículo está apagado, devuelve un mensaje indicando que no se puede detener.\n",
    "\n",
    "\n",
    "Crea la subclase Coche que hereda de la clase base Vehiculo y representa un coche específico. Además de los atributos y métodos heredados, la clase Coche tiene un atributo adicional:\n",
    "\n",
    "\n",
    "- **Atributos:**\n",
    "    - combustible: Una cadena que representa el tipo de combustible que utiliza el coche.\n",
    "\n",
    "- **Métodos:**\n",
    "\n",
    "    - `__init__(self, marca, modelo, año, combustible)`: Constructor que inicializa los atributos de la clase base y el atributo específico del coche.\n",
    "    \n",
    "    - `informacion(self)`: Devuelve una cadena con la información del coche, incluyendo la marca, el modelo, el año y el tipo de combustible."
   ]
  },
  {
   "cell_type": "code",
   "execution_count": 1,
   "metadata": {},
   "outputs": [],
   "source": [
    "#1-creamos nuestra clase \n",
    "\n",
    "class vehiculo:\n",
    "        pass"
   ]
  },
  {
   "cell_type": "code",
   "execution_count": 2,
   "metadata": {},
   "outputs": [
    {
     "data": {
      "text/plain": [
       "<__main__.vehiculo at 0x7fe6066d6790>"
      ]
     },
     "execution_count": 2,
     "metadata": {},
     "output_type": "execute_result"
    }
   ],
   "source": [
    "#llamamos a la clase y almacenamos variable:\n",
    "coche= vehiculo()\n",
    "coche"
   ]
  },
  {
   "cell_type": "code",
   "execution_count": 3,
   "metadata": {},
   "outputs": [],
   "source": [
    "#definimos las propiedades\n",
    "class vehiculo:\n",
    "    def __init__ (self,marca,modelo, año,velocidad_actual,encendido):\n",
    "        #creamos el constructor:\n",
    "        self.marca=str(marca)\n",
    "        self.modelo=str(modelo)\n",
    "        self.año=int(año)\n",
    "        self.velocidad_actual= 0\n",
    "        self.encendido= False\n",
    "    \n",
    "    def informacion(self):\n",
    "        print(f'Marca={self.marca}\\nModelo={self.modelo}\\nAño{self.año}')\n",
    "    def encender(self):\n",
    "        if self.encendido == False:\n",
    "            #cambiamos el atributo a True, ya que ahora estará encendido:\n",
    "            self.encendido=True\n",
    "            print('El coche está encendido')\n",
    "        else:\n",
    "            print('El coche se encuentra encendido')\n",
    "    def apagar(self):\n",
    "        if self.encendido == True :\n",
    "            self.encendido=False\n",
    "            self.velocidad_actual=0\n",
    "            print('El coche está apagado')\n",
    "        else:\n",
    "            print('El coche se encuentra apagado')\n",
    "    def acelerar(self, velocidad):\n",
    "        #Definimos la condición y cambiamos la velocidad:\n",
    "        if self.encendido == True:\n",
    "            self.velocidad_actual=velocidad\n",
    "            print(f'la velocidad actual es de {velocidad} km/h')\n",
    "        else:\n",
    "            print('No se puede acelerar')\n",
    "    def frenar(self, velocidad):\n",
    "        if self.encendido == True:\n",
    "            self.velocidad_actual=velocidad\n",
    "            print(f'la velocidad actual es de {velocidad} km/h')\n",
    "        else:\n",
    "            print('No se puede frenar')\n",
    "    def detener(self):\n",
    "        #mientras el coche tenga velocidad y esté encendido...\n",
    "        while self.velocidad_actual >= 0:\n",
    "            if self.encendido==True:\n",
    "               #...reducirá su velocidad  5km/h\n",
    "               self.velocidad_actual-= 5\n",
    "               print(f'Bajando velocidad...{self.velocidad_actual} km/h')\n",
    "            else:\n",
    "               print('El vehiculo está apagado')\n",
    "        print('el vehículo está detenido')\n",
    "\n",
    "        \n"
   ]
  },
  {
   "cell_type": "code",
   "execution_count": 4,
   "metadata": {},
   "outputs": [],
   "source": [
    "     #instanciamos un objeto, en este caso será un ford fiesta:\n",
    "coche=vehiculo('ford', 'fiesta',2009, 30,False)\n"
   ]
  },
  {
   "cell_type": "code",
   "execution_count": 5,
   "metadata": {},
   "outputs": [
    {
     "name": "stdout",
     "output_type": "stream",
     "text": [
      "Marca=ford\n",
      "Modelo=fiesta\n",
      "Año2009\n"
     ]
    }
   ],
   "source": [
    "#llamamos los métodos: \n",
    "coche.informacion()\n",
    "\n"
   ]
  },
  {
   "cell_type": "code",
   "execution_count": 6,
   "metadata": {},
   "outputs": [
    {
     "name": "stdout",
     "output_type": "stream",
     "text": [
      "El coche está encendido\n"
     ]
    },
    {
     "data": {
      "text/plain": [
       "True"
      ]
     },
     "execution_count": 6,
     "metadata": {},
     "output_type": "execute_result"
    }
   ],
   "source": [
    "\n",
    "coche.encender()\n",
    "#El coche estaba apagado y al ejecutarlo:\n",
    "coche.encendido"
   ]
  },
  {
   "cell_type": "code",
   "execution_count": 7,
   "metadata": {},
   "outputs": [
    {
     "name": "stdout",
     "output_type": "stream",
     "text": [
      "El coche está apagado\n"
     ]
    }
   ],
   "source": [
    "coche.apagar()"
   ]
  },
  {
   "cell_type": "code",
   "execution_count": 10,
   "metadata": {},
   "outputs": [
    {
     "name": "stdout",
     "output_type": "stream",
     "text": [
      "El coche se encuentra encendido\n",
      "la velocidad actual es de 36 km/h\n"
     ]
    }
   ],
   "source": [
    "coche.encender()\n",
    "#encendemos el coche para comprobar la aceleracion:\n",
    "coche.acelerar(36)"
   ]
  },
  {
   "cell_type": "code",
   "execution_count": 11,
   "metadata": {},
   "outputs": [
    {
     "name": "stdout",
     "output_type": "stream",
     "text": [
      "Bajando velocidad...31 km/h\n",
      "Bajando velocidad...26 km/h\n",
      "Bajando velocidad...21 km/h\n",
      "Bajando velocidad...16 km/h\n",
      "Bajando velocidad...11 km/h\n",
      "Bajando velocidad...6 km/h\n",
      "Bajando velocidad...1 km/h\n",
      "Bajando velocidad...-4 km/h\n",
      "el vehículo está detenido\n"
     ]
    }
   ],
   "source": [
    "coche.detener()"
   ]
  },
  {
   "cell_type": "markdown",
   "metadata": {},
   "source": [
    "   Crea la subclase Coche que hereda de la clase base Vehiculo y representa un coche específico. Además de los atributos y métodos heredados, la clase Coche tiene un atributo adicional:\n",
    "\n",
    "\n",
    "- **Atributos:**\n",
    "    - combustible: Una cadena que representa el tipo de combustible que utiliza el coche.\n",
    "\n",
    "- **Métodos:**\n",
    "\n",
    "    - `__init__(self, marca, modelo, año, combustible)`: Constructor que inicializa los atributos de la clase base y el atributo específico del coche.\n",
    "    \n",
    "    - `informacion(self)`: Devuelve una cadena con la información del coche, incluyendo la marca, el modelo, el año y el tipo de combustible."
   ]
  },
  {
   "cell_type": "code",
   "execution_count": 12,
   "metadata": {},
   "outputs": [],
   "source": [
    "class automovil(vehiculo):\n",
    "    def __init__(self,marca,modelo,año):\n",
    "        super().__init__(marca ,modelo, año)\n",
    "    def carburante (self,combustible):\n",
    "        self.combustible=combustible\n",
    "    "
   ]
  },
  {
   "cell_type": "code",
   "execution_count": 13,
   "metadata": {},
   "outputs": [
    {
     "ename": "TypeError",
     "evalue": "__init__() missing 2 required positional arguments: 'velocidad_actual' and 'encendido'",
     "output_type": "error",
     "traceback": [
      "\u001b[0;31m---------------------------------------------------------------------------\u001b[0m",
      "\u001b[0;31mTypeError\u001b[0m                                 Traceback (most recent call last)",
      "\u001b[0;32m/tmp/ipykernel_29876/692226787.py\u001b[0m in \u001b[0;36m<module>\u001b[0;34m\u001b[0m\n\u001b[0;32m----> 1\u001b[0;31m \u001b[0mautomovil_1\u001b[0m\u001b[0;34m=\u001b[0m\u001b[0mautomovil\u001b[0m\u001b[0;34m(\u001b[0m\u001b[0;34m'toyota'\u001b[0m\u001b[0;34m,\u001b[0m\u001b[0;34m'Yaris'\u001b[0m\u001b[0;34m,\u001b[0m\u001b[0;36m2023\u001b[0m\u001b[0;34m)\u001b[0m\u001b[0;34m\u001b[0m\u001b[0;34m\u001b[0m\u001b[0m\n\u001b[0m",
      "\u001b[0;32m/tmp/ipykernel_29876/4214301819.py\u001b[0m in \u001b[0;36m__init__\u001b[0;34m(self, marca, modelo, año)\u001b[0m\n\u001b[1;32m      1\u001b[0m \u001b[0;32mclass\u001b[0m \u001b[0mautomovil\u001b[0m\u001b[0;34m(\u001b[0m\u001b[0mvehiculo\u001b[0m\u001b[0;34m)\u001b[0m\u001b[0;34m:\u001b[0m\u001b[0;34m\u001b[0m\u001b[0;34m\u001b[0m\u001b[0m\n\u001b[1;32m      2\u001b[0m     \u001b[0;32mdef\u001b[0m \u001b[0m__init__\u001b[0m\u001b[0;34m(\u001b[0m\u001b[0mself\u001b[0m\u001b[0;34m,\u001b[0m\u001b[0mmarca\u001b[0m\u001b[0;34m,\u001b[0m\u001b[0mmodelo\u001b[0m\u001b[0;34m,\u001b[0m\u001b[0maño\u001b[0m\u001b[0;34m)\u001b[0m\u001b[0;34m:\u001b[0m\u001b[0;34m\u001b[0m\u001b[0;34m\u001b[0m\u001b[0m\n\u001b[0;32m----> 3\u001b[0;31m         \u001b[0msuper\u001b[0m\u001b[0;34m(\u001b[0m\u001b[0;34m)\u001b[0m\u001b[0;34m.\u001b[0m\u001b[0m__init__\u001b[0m\u001b[0;34m(\u001b[0m\u001b[0mmarca\u001b[0m \u001b[0;34m,\u001b[0m\u001b[0mmodelo\u001b[0m\u001b[0;34m,\u001b[0m \u001b[0maño\u001b[0m\u001b[0;34m)\u001b[0m\u001b[0;34m\u001b[0m\u001b[0;34m\u001b[0m\u001b[0m\n\u001b[0m\u001b[1;32m      4\u001b[0m     \u001b[0;32mdef\u001b[0m \u001b[0mcarburante\u001b[0m \u001b[0;34m(\u001b[0m\u001b[0mself\u001b[0m\u001b[0;34m,\u001b[0m\u001b[0mcombustible\u001b[0m\u001b[0;34m)\u001b[0m\u001b[0;34m:\u001b[0m\u001b[0;34m\u001b[0m\u001b[0;34m\u001b[0m\u001b[0m\n\u001b[1;32m      5\u001b[0m         \u001b[0mself\u001b[0m\u001b[0;34m.\u001b[0m\u001b[0mcombustible\u001b[0m\u001b[0;34m=\u001b[0m\u001b[0mcombustible\u001b[0m\u001b[0;34m\u001b[0m\u001b[0;34m\u001b[0m\u001b[0m\n",
      "\u001b[0;31mTypeError\u001b[0m: __init__() missing 2 required positional arguments: 'velocidad_actual' and 'encendido'"
     ]
    }
   ],
   "source": [
    "automovil_1=automovil('toyota','Yaris',2023)\n"
   ]
  },
  {
   "cell_type": "code",
   "execution_count": null,
   "metadata": {},
   "outputs": [],
   "source": [
    "#¿PRegunta, No puedo escoger que se copien solo dos atributos y no todos? Es necesario reescribir la funcion madre?"
   ]
  }
 ],
 "metadata": {
  "kernelspec": {
   "display_name": "base",
   "language": "python",
   "name": "python3"
  },
  "language_info": {
   "codemirror_mode": {
    "name": "ipython",
    "version": 3
   },
   "file_extension": ".py",
   "mimetype": "text/x-python",
   "name": "python",
   "nbconvert_exporter": "python",
   "pygments_lexer": "ipython3",
   "version": "3.9.7"
  }
 },
 "nbformat": 4,
 "nbformat_minor": 2
}
