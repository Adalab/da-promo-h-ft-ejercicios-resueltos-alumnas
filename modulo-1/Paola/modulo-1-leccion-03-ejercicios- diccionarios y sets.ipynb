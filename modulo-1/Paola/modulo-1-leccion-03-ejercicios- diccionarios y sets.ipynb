{
 "cells": [
  {
   "cell_type": "markdown",
   "metadata": {},
   "source": [
    " # Ejercicios Diccionarios"
   ]
  },
  {
   "cell_type": "code",
   "execution_count": 4,
   "metadata": {},
   "outputs": [
    {
     "name": "stdout",
     "output_type": "stream",
     "text": [
      "{'01/01': 'Año Nuevo', '06/01': 'Epifanía del Señor', '15/04': 'Viernes Santo', '15/08': 'Asunción de la Virgen', '12/10': 'Fiesta Nacional de España', '01/11': 'Todos los Santos', '06/12': 'Día de la Constitución Española', '08/12': 'Inmaculada Concepción'}\n",
      "{'Bélgica': 'Philippe', 'Dinamarca': 'Margrethe II', 'Holanda': 'Beatrix', 'Noruega': 'Harald V', 'España': 'Felipe VI', 'Reino Unido': 'Carlos III'}\n"
     ]
    }
   ],
   "source": [
    "\n",
    "\n",
    "# - Definir diccionarios\n",
    "\n",
    "#   1. Crea el diccionario `festivos` con las fechas como claves y los nombres como valores: 01/01: Año Nuevo, 06/01: Epifanía del Señor, 15/04: Viernes Santo, 15/08: Asunción de la Virgen, 12/10: Fiesta Nacional de España, 01/11: Todos los Santos, 06/12: Día de la Constitución Española, y 08/12: Inmaculada Concepción.\n",
    "festivos = {\"01/01\": \"Año Nuevo\", \"06/01\": \"Epifanía del Señor\", \"15/04\": \"Viernes Santo\", \"15/08\": \"Asunción de la Virgen\", \"12/10\": \"Fiesta Nacional de España\", \"01/11\": \"Todos los Santos\", \"06/12\": \"Día de la Constitución Española\", \"08/12\": \"Inmaculada Concepción\"}\n",
    "print(festivos)\n",
    "\n",
    "\n",
    "#   2. Crea el diccionario `monarcas` con los países como claves y los nombres como valores: Bélgica: Philippe, Dinamarca: Margrethe II, Holanda: Beatrix, Noruega: Harald V, España: Felipe VI, Reino Unido: Carlos III.\n",
    "\n",
    "monarcas = {\"Bélgica\": \"Philippe\", \"Dinamarca\": \"Margrethe II\", \"Holanda\": \"Beatrix\", \"Noruega\": \"Harald V\", \"España\": \"Felipe VI\", \"Reino Unido\": \"Carlos III\"}\n",
    "print(monarcas)\n",
    "\n"
   ]
  },
  {
   "cell_type": "code",
   "execution_count": 15,
   "metadata": {},
   "outputs": [
    {
     "name": "stdout",
     "output_type": "stream",
     "text": [
      "Viernes Santo\n",
      "{'Bélgica': 'Philippe', 'Dinamarca': 'Margrethe II', 'Holanda': 'Willem-Alexander', 'Noruega': 'Harald V', 'España': 'Felipe VI', 'Reino Unido': 'Carlos III', 'Luxemburgo': 'Henri'}\n"
     ]
    }
   ],
   "source": [
    "# - Leer, añadir, y cambiar elementos\n",
    "\n",
    "#   3. ¿Qué festivo hay el 15/04?\n",
    "\n",
    "print(festivos.get(\"15/04\"))\n",
    "\n",
    "\n",
    "#   4. La reina `'Beatrix'` abdicó, ahora es el rey `'Willem-Alexander'`. Actualiza el dict.\n",
    "\n",
    "monarcas.update({\"Holanda\":'Willem-Alexander' })\n",
    "\n",
    "  \n",
    "#   5. El rey de Luxemburgo se llama `Henri`. Añadelo al dict usando `.update()`.\n",
    "\n",
    "monarcas.update({\"Luxemburgo\":\"Henri\"}) \n",
    "print(monarcas)\n"
   ]
  },
  {
   "cell_type": "code",
   "execution_count": 17,
   "metadata": {},
   "outputs": [
    {
     "name": "stdout",
     "output_type": "stream",
     "text": [
      "dict_values(['Philippe', 'Margrethe II', 'Willem-Alexander', 'Harald V', 'Felipe VI', 'Carlos III', 'Henri'])\n",
      "monaco no esta en el diccionario\n",
      "False\n"
     ]
    }
   ],
   "source": [
    "# Comprobar contenidos\n",
    "\n",
    "#   6. ¿Cuántos países están definidos en `monarcas`?\n",
    "\n",
    "print(monarcas.values())\n",
    "\n",
    "#   7. ¿Es `'Monaco'` uno de ellos?\n",
    "print(monarcas.get(\"Monaco\",\"monaco no esta en el diccionario\"))\n",
    "\n",
    "#   8. ¿Es verdad que nos olvidamos de poner `'Suecia'`? Compruébalo de una manera en que obtengas un `True` o `False`.\n",
    "\n",
    "print(\"Suecia\" in monarcas )"
   ]
  },
  {
   "cell_type": "code",
   "execution_count": 19,
   "metadata": {},
   "outputs": [
    {
     "name": "stdout",
     "output_type": "stream",
     "text": [
      "{'01/01': 'Año Nuevo', '06/01': 'Epifanía del Señor', '15/04': 'Viernes Santo', '15/08': 'Asunción de la Virgen', '12/10': 'Fiesta Nacional de España', '01/11': 'Todos los Santos', '06/12': 'Día de la Constitución Española', '08/12': 'Inmaculada Concepción'}\n",
      "dict_items([('01/01', 'Año Nuevo'), ('06/01', 'Epifanía del Señor'), ('15/04', 'Viernes Santo'), ('15/08', 'Asunción de la Virgen'), ('12/10', 'Fiesta Nacional de España'), ('01/11', 'Todos los Santos'), ('06/12', 'Día de la Constitución Española'), ('08/12', 'Inmaculada Concepción')])\n"
     ]
    }
   ],
   "source": [
    "# Listar los contenidos\n",
    "\n",
    "#   9. Saca una **lista** de todos los países en el dict `monarcas`.\n",
    "\n",
    "lista_paises = monarcas.values()\n",
    "\n",
    "#   10. Saca una **lista** de los nombres de los festivos.\n",
    "lista_nfestivos = festivos.values()\n",
    "\n",
    "#   11. Imprime el diccionario de festivos.\n",
    "print(festivos)\n",
    "  \n",
    "#   12. Imprime una **lista de tuplas** de todos los elementos que hay en festivos.\n",
    "\n",
    "print(festivos.items())"
   ]
  },
  {
   "cell_type": "code",
   "execution_count": 28,
   "metadata": {},
   "outputs": [
    {
     "name": "stdout",
     "output_type": "stream",
     "text": [
      "este es monarcas2010 {'Bélgica': 'Philippe', 'Dinamarca': 'Margrethe II', 'Holanda': 'Willem-Alexander', 'Noruega': 'Harald V', 'España': 'Felipe VI', 'Reino Unido': 'Carlos III', 'Luxemburgo': 'Henri'}\n",
      "asi queda monarcas2010 {'Bélgica': 'Philippe', 'Dinamarca': 'Margrethe II', 'Holanda': 'Willem-Alexander', 'Noruega': 'Harald V', 'Reino Unido': 'Carlos III'}\n"
     ]
    }
   ],
   "source": [
    "# - Copiar dicts, y borrar elementos\n",
    "\n",
    "#   13. Copia `monarcas` a `monarcas2010`.\n",
    "monarcas2010 = monarcas.copy()\n",
    "print(\"este es monarcas2010\", monarcas2010)\n",
    "\n",
    "#   14. Quita España de `monarcas2010`.\n",
    "monarcas2010.pop(\"España\")\n",
    "\n",
    "#   15. Quita el último elemento de `monarcas2010`.\n",
    "monarcas2010.popitem()\n",
    "\n",
    "print(\"asi queda monarcas2010\", monarcas2010)\n",
    "\n"
   ]
  },
  {
   "cell_type": "code",
   "execution_count": 26,
   "metadata": {},
   "outputs": [
    {
     "name": "stdout",
     "output_type": "stream",
     "text": [
      "{}\n"
     ]
    }
   ],
   "source": [
    "# - Vaciar y borrar dicts    \n",
    "\n",
    "# 16. Vacia el dict `monarcas2010`.\n",
    "monarcas2010.clear()\n",
    "print(monarcas2010)\n"
   ]
  },
  {
   "cell_type": "code",
   "execution_count": 34,
   "metadata": {},
   "outputs": [
    {
     "name": "stdout",
     "output_type": "stream",
     "text": [
      "Epifanía del Señor\n",
      "Dia internacional de la Mujer\n",
      "{'01/01': 'Año Nuevo', '06/01': 'Epifanía del Señor', '15/04': 'Viernes Santo', '15/08': 'Asunción de la Virgen', '12/10': 'Fiesta Nacional de España', '01/11': 'Todos los Santos', '06/12': 'Día de la Constitución Española', '08/12': 'Inmaculada Concepción', '31/11': 'Todos los Santos'}\n"
     ]
    }
   ],
   "source": [
    "# - Oobtener valores\n",
    "\n",
    "#   17. ¿Qué festivo hay el 06/01?\n",
    "print(festivos.get(\"06/01\"))\n",
    "  \n",
    "#   18. Obten el festivo que haya el 08/03, y en su defecto devuélve 'Día Internacional de la Mujer'.\n",
    "print(festivos.get(\"08/03\", \"Dia internacional de la Mujer\"))\n",
    "\n",
    "\n",
    "#   19. Obten el festivo que haya el 31/11, y si no existe crea un par de clave-valor nuevo con el valor de 'Todos los Santos'.\n",
    "\n",
    "festivos.setdefault(\"31/11\" , 'Todos los Santos')\n",
    "print(festivos)"
   ]
  },
  {
   "cell_type": "markdown",
   "metadata": {},
   "source": [
    "# Ejercicios sets:"
   ]
  },
  {
   "cell_type": "code",
   "execution_count": 43,
   "metadata": {},
   "outputs": [
    {
     "name": "stdout",
     "output_type": "stream",
     "text": [
      "{10, 11, 12, 13, 14, 15, 16, 17, 18}\n",
      "{'rojo', 'amarillo', 'naranja', 'blanco', 'negro', 'rosa'}\n"
     ]
    }
   ],
   "source": [
    "# - Definir sets\n",
    "\n",
    "#   1. Define la *lista* \n",
    "\n",
    "temperaturas_diciembre = [10, 10, 13, 14, 12, 15, \n",
    "                        12, 11, 13, 17, 18, 15, \n",
    "                        15, 17, 17, 13, 13, 11,\n",
    "                        12, 10, 12, 14, 12, 12,\n",
    "                        11, 12, 16, 16, 14, 17, 18]\n",
    "\n",
    "#   2. Conviértala en un set  llamado `diciembre`.\n",
    "\n",
    "diciembre = set(temperaturas_diciembre)\n",
    "print(diciembre)\n",
    "\n",
    "#   3. Piensa en 6 colores y almacenalos en un set llamado `colores`.\n",
    "\n",
    "colores ={\"rojo\", \"amarillo\", \"rosa\", \"naranja\", \"blanco\", \"negro\"}\n",
    "print(colores)"
   ]
  },
  {
   "cell_type": "code",
   "execution_count": 44,
   "metadata": {},
   "outputs": [
    {
     "name": "stdout",
     "output_type": "stream",
     "text": [
      "{'rojo', 'lila', 'negro', 'blanco', 'amarillo', 'azul', 'naranja', 'rosa', 'granate'}\n"
     ]
    }
   ],
   "source": [
    "# - Ampliar sets\n",
    "\n",
    "#   4. Añade `'lila'` a `colores`.\n",
    "colores.add(\"lila\")\n",
    "\n",
    "#   5. Añade `'azul'`, `'rojo'`, y `'granate'` a `colores` usando `.update()`.\n",
    "colores.update(['azul', 'rojo', 'granate'])\n",
    "print(colores)"
   ]
  },
  {
   "cell_type": "code",
   "execution_count": 45,
   "metadata": {},
   "outputs": [
    {
     "name": "stdout",
     "output_type": "stream",
     "text": [
      "el verde esta en el set de colores: False\n",
      "el rojo no esta en el set de colores: False\n"
     ]
    }
   ],
   "source": [
    "#  `in`, `not in`\n",
    "\n",
    "#   6. Tu set de `colores`, ¿tiene `'verde'`?\n",
    "print(\"el verde esta en el set de colores:\" , \"verde\" in colores)\n",
    "  \n",
    "#   7. ¿Y tiene `'ROJO'`?\n",
    "print(\"el rojo no esta en el set de colores:\" , \"rojo\" not in colores)\n"
   ]
  },
  {
   "cell_type": "code",
   "execution_count": 57,
   "metadata": {},
   "outputs": [
    {
     "name": "stdout",
     "output_type": "stream",
     "text": [
      "{10, 11, 12, 13, 14, 15, 16, 17, 18}\n",
      "enero sin 17,18: {10, 11, 12, 13, 14, 15, 16}\n"
     ]
    }
   ],
   "source": [
    "# Copiar, borrar elementos\n",
    "\n",
    "#   8. Define el set `enero` para que sea igual a `diciembre`.\n",
    "enero = diciembre.copy()\n",
    "print(enero)\n",
    "\n",
    "#   9. Quita las temperaturas `17`, y `18` de `enero`.\n",
    "enero.remove(17)\n",
    "enero.discard(18)\n",
    "print(\"enero sin 17,18:\", enero)\n",
    "\n",
    "## daba error enero.remove([17,18])\n",
    "\n"
   ]
  },
  {
   "cell_type": "code",
   "execution_count": null,
   "metadata": {},
   "outputs": [],
   "source": [
    "#  Tamaño de un set\n",
    "\n",
    "#   10. ¿Cuántas temperaturas distintas había en diciembre?\n",
    "diciembre.count()\n",
    "  \n",
    "#   11. ¿Y cuántas en enero?\n",
    "enero.count()"
   ]
  },
  {
   "cell_type": "code",
   "execution_count": 63,
   "metadata": {},
   "outputs": [
    {
     "name": "stdout",
     "output_type": "stream",
     "text": [
      "los elementos que hay en diciembre pero no en enero son: {17, 18}\n",
      "los elementos que hay en enero pero no en diciembre son: set()\n",
      "los elementos que hay en comun diciembre y enero son: {10, 11, 12, 13, 14, 15, 16}\n"
     ]
    }
   ],
   "source": [
    "# Conjuntos con sets\n",
    "\n",
    "#   12. Identifica los elementos que hay en `diciembre` que no están en `enero`.\n",
    "\n",
    "print(\"los elementos que hay en diciembre pero no en enero son:\", diciembre.difference(enero))\n",
    "\n",
    "#   13. Identifica los elementos que hay en `enero` que no están en `diciembre`.\n",
    "\n",
    "print(\"los elementos que hay en enero pero no en diciembre son:\", enero.difference(diciembre))\n",
    "\n",
    "#   14. Identifica los elementos que tienen en común `diciembre` y `enero`.\n",
    "\n",
    "print(\"los elementos que hay en comun diciembre y enero son:\", diciembre.intersection(enero))\n",
    "\n",
    "#   15. Identifica la diferencia simétrica de `colores` y `{'marrón','amarillo','cyan'}`. ¿Qué significa este resultado?\n",
    "\n",
    "            # otros_colores={\"marron\",\"amarillo\",\"cyan\"}\n",
    "            # colores_3 = otros_colores.symetric_difference(colores)\n",
    "            \n",
    "# error, \"set\" object has no attribute \"symetric_difference\"\n",
    "\n"
   ]
  },
  {
   "cell_type": "code",
   "execution_count": 78,
   "metadata": {},
   "outputs": [
    {
     "name": "stdout",
     "output_type": "stream",
     "text": [
      "¿Son *disjoint* `diciembre` y `enero`?:     False     porque no son totalmente diferentes\n",
      "False\n",
      "True\n"
     ]
    }
   ],
   "source": [
    "# Comparar sets\n",
    "\n",
    "#   16. ¿Son *disjoint* `diciembre` y `enero`? ¿Por qué (no)?\n",
    "\n",
    "print(\"¿Son *disjoint* `diciembre` y `enero`?:    \", diciembre.isdisjoint(enero), \"    porque no son totalmente diferentes\")\n",
    "\n",
    " #   17. ¿Es `{'rojo','azul'}` un superset de colores?\n",
    "\n",
    "colores_2={'rojo','azul'}\n",
    "print( colores_2.issuperset(colores))\n",
    "  \n",
    "#   18. ¿Y un subset?\n",
    "print(colores_2.issubset(colores))\n",
    "\n"
   ]
  },
  {
   "cell_type": "code",
   "execution_count": 77,
   "metadata": {},
   "outputs": [
    {
     "name": "stdout",
     "output_type": "stream",
     "text": [
      "False\n",
      "True\n"
     ]
    }
   ],
   "source": [
    "\n"
   ]
  }
 ],
 "metadata": {
  "kernelspec": {
   "display_name": "base",
   "language": "python",
   "name": "python3"
  },
  "language_info": {
   "codemirror_mode": {
    "name": "ipython",
    "version": 3
   },
   "file_extension": ".py",
   "mimetype": "text/x-python",
   "name": "python",
   "nbconvert_exporter": "python",
   "pygments_lexer": "ipython3",
   "version": "3.9.7"
  }
 },
 "nbformat": 4,
 "nbformat_minor": 2
}
