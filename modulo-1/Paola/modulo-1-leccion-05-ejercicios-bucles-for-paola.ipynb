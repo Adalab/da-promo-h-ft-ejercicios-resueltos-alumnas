{
 "cells": [
  {
   "cell_type": "code",
   "execution_count": 147,
   "metadata": {},
   "outputs": [
    {
     "name": "stdout",
     "output_type": "stream",
     "text": [
      "[2, 1]\n",
      "[12]\n",
      "[45, 67, 23, 45, 66, 34, 67, 99, 98, 67, 64, 44, 100]\n"
     ]
    }
   ],
   "source": [
    "# Ejercicios\n",
    "\n",
    "\n",
    "# 1. Usando la siguiente lista: \n",
    "temperaturas = [2,45,67,23, 45,66,12,1,34,67,99,98,67,64, 44, 100]\n",
    "\n",
    "# Crea tres listas nuevas, donde: \n",
    "#     - En la primera tengamos temperaturas entre 0 - 10, llama a la nueva lista `bajas_temp`.\n",
    "\n",
    "#     - En la segunda tengamos temperaturas entre 11- 20, llama a la nueva lista `medias_temp`.\n",
    "\n",
    "#     - En la tercera tengamos temperaturas por encima de 20, llama a la nueva lista `altas_temp`\n",
    "\n",
    "# list comprehesion\n",
    "bajas_temp = [i for i in temperaturas if i <= 10]\n",
    "medias_temp = [i for i in temperaturas if i >11 and  i <=20]\n",
    "altas_temp = [i for i in temperaturas if i >= 20]\n",
    "\n",
    "print(bajas_temp)\n",
    "print(medias_temp)\n",
    "print(altas_temp)\n",
    "    "
   ]
  },
  {
   "cell_type": "code",
   "execution_count": 148,
   "metadata": {},
   "outputs": [
    {
     "name": "stdout",
     "output_type": "stream",
     "text": [
      "las temperaturas de bajas_temps en fharenheit son: 35.6 F\n",
      "las temperaturas de bajas_temps en fharenheit son: 33.8 F\n"
     ]
    }
   ],
   "source": [
    "# 2. . Las temperaturas están grados centígrados. Para cada una de las listas creadas en el ejercicio anterior, convertid las temperaturas a grados fahrenheit\n",
    "\n",
    "    # la relacion de grados celsius y fahrenheit es:\n",
    "    # (0 °C × 9 / 5) + 32 = 32 °F\n",
    "    \n",
    "\n",
    "for i in bajas_temp:\n",
    "    print( \"las temperaturas de bajas_temps en fharenheit son:\", (i * 9/5) +32, \"F\")    \n",
    "\n"
   ]
  },
  {
   "cell_type": "code",
   "execution_count": 149,
   "metadata": {},
   "outputs": [
    {
     "name": "stdout",
     "output_type": "stream",
     "text": [
      "las temperaturas de medias_temps en fharenheit son: 53.6 F\n"
     ]
    }
   ],
   "source": [
    "for i in medias_temp:print(\"las temperaturas de medias_temps en fharenheit son:\", (i * 9/5) +32, \"F\")"
   ]
  },
  {
   "cell_type": "code",
   "execution_count": 150,
   "metadata": {},
   "outputs": [
    {
     "name": "stdout",
     "output_type": "stream",
     "text": [
      "las temperaturas de altas_temps en fharenheit son: 113.0 F\n",
      "las temperaturas de altas_temps en fharenheit son: 152.6 F\n",
      "las temperaturas de altas_temps en fharenheit son: 73.4 F\n",
      "las temperaturas de altas_temps en fharenheit son: 113.0 F\n",
      "las temperaturas de altas_temps en fharenheit son: 150.8 F\n",
      "las temperaturas de altas_temps en fharenheit son: 93.2 F\n",
      "las temperaturas de altas_temps en fharenheit son: 152.6 F\n",
      "las temperaturas de altas_temps en fharenheit son: 210.2 F\n",
      "las temperaturas de altas_temps en fharenheit son: 208.4 F\n",
      "las temperaturas de altas_temps en fharenheit son: 152.6 F\n",
      "las temperaturas de altas_temps en fharenheit son: 147.2 F\n",
      "las temperaturas de altas_temps en fharenheit son: 111.2 F\n",
      "las temperaturas de altas_temps en fharenheit son: 212.0 F\n"
     ]
    }
   ],
   "source": [
    "for i in altas_temp: print(\"las temperaturas de altas_temps en fharenheit son:\", (i * 9/5) +32, \"F\")"
   ]
  },
  {
   "cell_type": "code",
   "execution_count": 151,
   "metadata": {},
   "outputs": [
    {
     "data": {
      "text/plain": [
       "[0, 1, 2, 3, 4, 5]"
      ]
     },
     "execution_count": 151,
     "metadata": {},
     "output_type": "execute_result"
    }
   ],
   "source": [
    "# 3. Define e imprime un rango de 0 a 6 (excluido).\n",
    "\n",
    "rango1= list(range(0,6,1))\n",
    "rango1\n",
    "  "
   ]
  },
  {
   "cell_type": "code",
   "execution_count": 152,
   "metadata": {},
   "outputs": [
    {
     "data": {
      "text/plain": [
       "[3, 4, 5, 6]"
      ]
     },
     "execution_count": 152,
     "metadata": {},
     "output_type": "execute_result"
    }
   ],
   "source": [
    "# 4. Define e imprime un rango de 3 a 6 ambos incluidos.\n",
    "rango2= list(range(3,6+1))\n",
    "\n",
    "rango2"
   ]
  },
  {
   "cell_type": "code",
   "execution_count": 153,
   "metadata": {},
   "outputs": [
    {
     "data": {
      "text/plain": [
       "[6, 7, 8]"
      ]
     },
     "execution_count": 153,
     "metadata": {},
     "output_type": "execute_result"
    }
   ],
   "source": [
    "# 5. Define e imprime un rango de 5 a 9 ambos excluidos.\n",
    "rango3= list(range(5+1,9,1))\n",
    "rango3\n"
   ]
  },
  {
   "cell_type": "code",
   "execution_count": 154,
   "metadata": {},
   "outputs": [
    {
     "data": {
      "text/plain": [
       "[2, 3]"
      ]
     },
     "execution_count": 154,
     "metadata": {},
     "output_type": "execute_result"
    }
   ],
   "source": [
    "# 6. Define e imprime un rango de 3 números que empiece en 2.\n",
    "rango4 = list(range(2,4))\n",
    "rango4\n"
   ]
  },
  {
   "cell_type": "code",
   "execution_count": 155,
   "metadata": {},
   "outputs": [
    {
     "data": {
      "text/plain": [
       "[2, 5, 8, 11]"
      ]
     },
     "execution_count": 155,
     "metadata": {},
     "output_type": "execute_result"
    }
   ],
   "source": [
    "# 7. Define e imprime un rango que empiece en 2, aumentando cada paso por 3, que pare antes de llegar al número 13.\n",
    "rango5 = list(range(2,13,3))\n",
    "rango5"
   ]
  },
  {
   "cell_type": "code",
   "execution_count": 156,
   "metadata": {},
   "outputs": [
    {
     "data": {
      "text/plain": [
       "[1, 3, 5, 7, 9]"
      ]
     },
     "execution_count": 156,
     "metadata": {},
     "output_type": "execute_result"
    }
   ],
   "source": [
    "# 8. Define e imprime un rango con todos los valores impares que hay hasta 10.\n",
    "\n",
    "rango6= list(range(1,11,2))\n",
    "rango6"
   ]
  },
  {
   "cell_type": "code",
   "execution_count": 164,
   "metadata": {},
   "outputs": [
    {
     "name": "stdout",
     "output_type": "stream",
     "text": [
      "[4, 2025, 4489, 529, 2025, 4356, 144, 1, 1156, 4489, 9801, 9604, 4489, 4096, 1936, 10000]\n"
     ]
    }
   ],
   "source": [
    "# 9. Crea una lista nueva donde tengamos los números de la lista `temperaturas` elevados al cuadrado. \n",
    "temp_cuadrado =[i ** 2 for i in temperaturas]\n",
    "print(temp_cuadrado)\n"
   ]
  },
  {
   "cell_type": "code",
   "execution_count": 165,
   "metadata": {},
   "outputs": [
    {
     "name": "stdout",
     "output_type": "stream",
     "text": [
      "[0, 1, 1, 1, 1, 0, 0, 1, 0, 1, 1, 0, 1, 0, 0, 0]\n"
     ]
    }
   ],
   "source": [
    "# 10. Crea una lista nueva donde tengamos el resto de la división de cada uno de los números entre 2. \n",
    "\n",
    "resto = [i %2 for i in temperaturas]\n",
    "print(resto)"
   ]
  },
  {
   "cell_type": "code",
   "execution_count": 174,
   "metadata": {},
   "outputs": [
    {
     "name": "stdout",
     "output_type": "stream",
     "text": [
      "[2, 66, 12, 34, 98, 64, 44, 100]\n"
     ]
    }
   ],
   "source": [
    "# 11. Crea una lista nueva donde tengamos solo los elementos pares de la lista `temperaturas`. \n",
    "\n",
    "elementos_pares = [i for i in temperaturas if i %2 == 0]\n",
    "print( elementos_pares)"
   ]
  },
  {
   "cell_type": "code",
   "execution_count": 175,
   "metadata": {},
   "outputs": [
    {
     "name": "stdout",
     "output_type": "stream",
     "text": [
      "[2, 45, 23, 45, 12, 1, 34, 44]\n"
     ]
    }
   ],
   "source": [
    "# 12. Crea una lista nueva donde tengamos solo los elementos que sean menores que 50. \n",
    "elementos_menores_50 = [i for i in temperaturas if i <=50]\n",
    "print(elementos_menores_50)"
   ]
  },
  {
   "cell_type": "code",
   "execution_count": 192,
   "metadata": {},
   "outputs": [
    {
     "name": "stdout",
     "output_type": "stream",
     "text": [
      "['par', 'impar', 'impar', 'impar', 'impar', 'par', 'par', 'impar', 'par', 'impar', 'impar', 'par', 'impar', 'par', 'par', 'par']\n"
     ]
    }
   ],
   "source": [
    "# 13. Crea una lista donde tengamos los valores \"par\" e \"impar\" en función de los valores de la lista original.\n",
    "# La lista resultante tiene que ser como la que indicamos a continuación: \n",
    "\n",
    "# lista_strings = [\"par\",\"impar\",\"impar\",\"impar\", \"impar\",\"par\",\"par\",\"impar\",\"par\",\"impar\",\"impar\",\"par\",\"impar\",\"par\", \"par\", \"par\"]\n",
    "\n",
    "lista_strings = [\"par\" if i%2 == 0 else \"impar\" for i in temperaturas]\n",
    "print(lista_strings)"
   ]
  },
  {
   "cell_type": "code",
   "execution_count": 162,
   "metadata": {},
   "outputs": [],
   "source": [
    "# 14. Pide al usuario un número entero positivo y suma los números pares e impares por separado hasta ese número.\n",
    "numero= int(input(\"ingresa un numero entero y positivo\"))\n",
    "\n",
    "for i in numero:\n",
    "    if numero%2 == 0\n",
    "     \n",
    "    \n",
    "    "
   ]
  },
  {
   "cell_type": "code",
   "execution_count": 241,
   "metadata": {},
   "outputs": [
    {
     "name": "stdout",
     "output_type": "stream",
     "text": [
      "{'a': 1, 'e': 0, 'i': 0, 'o': 0, 'u': 0}\n",
      "{'a': 1, 'e': 0, 'i': 0, 'o': 1, 'u': 0}\n",
      "{'a': 2, 'e': 0, 'i': 0, 'o': 1, 'u': 0}\n"
     ]
    }
   ],
   "source": [
    "# 15. Pide al usuario ingresar una cadena y cuenta cuántas veces aparece cada vocal (a, e, i, o, u) en la cadena.\n",
    "\n",
    "cadena = input(\"ingresa una palabra o frase\").lower()\n",
    "\n",
    "vocales = {\"a\": 0, \"e\": 0, \"i\": 0, \"o\": 0, \"u\": 0}\n",
    "\n",
    "\n",
    "for v in cadena:\n",
    "    if v in vocales:\n",
    "        vocales[v] += 1\n",
    "        print( vocales)"
   ]
  }
 ],
 "metadata": {
  "kernelspec": {
   "display_name": "base",
   "language": "python",
   "name": "python3"
  },
  "language_info": {
   "codemirror_mode": {
    "name": "ipython",
    "version": 3
   },
   "file_extension": ".py",
   "mimetype": "text/x-python",
   "name": "python",
   "nbconvert_exporter": "python",
   "pygments_lexer": "ipython3",
   "version": "3.9.7"
  }
 },
 "nbformat": 4,
 "nbformat_minor": 2
}
