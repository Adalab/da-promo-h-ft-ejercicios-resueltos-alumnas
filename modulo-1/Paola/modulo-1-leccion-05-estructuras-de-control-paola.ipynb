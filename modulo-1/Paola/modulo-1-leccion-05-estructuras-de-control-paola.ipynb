{
 "cells": [
  {
   "cell_type": "code",
   "execution_count": 51,
   "metadata": {},
   "outputs": [
    {
     "name": "stdout",
     "output_type": "stream",
     "text": [
      "y\n",
      "t\n",
      "h\n",
      "o\n",
      "n\n"
     ]
    }
   ],
   "source": [
    "# Ejercicios\n",
    "\n",
    "# 1. Crea una variable que sea igual a \"Python\" y genera un código que nos printee todas las letras menos la \"P\" usando la sentencia `continue`.\n",
    "\n",
    "var1 = \"python\"\n",
    "for i in var1:\n",
    " if i == \"p\":\n",
    "    continue\n",
    "\n",
    " print(i)\n",
    "\n",
    "\n",
    "    \n",
    "    \n",
    "\n",
    "\n",
    "\n",
    "\n"
   ]
  },
  {
   "cell_type": "code",
   "execution_count": 55,
   "metadata": {},
   "outputs": [
    {
     "name": "stdout",
     "output_type": "stream",
     "text": [
      "h\n",
      "e\n",
      "o\n"
     ]
    }
   ],
   "source": [
    "# 2. De la frase `'Hello'` imprime todas las letras que no sean una `'l'` usando `if`.\n",
    "\n",
    "var2 = \"hello\"\n",
    "for i in var2:\n",
    "   if i != \"l\" in var2: print(i)\n",
    " "
   ]
  },
  {
   "cell_type": "code",
   "execution_count": 67,
   "metadata": {},
   "outputs": [
    {
     "name": "stdout",
     "output_type": "stream",
     "text": [
      "h\n",
      "e\n",
      "o\n"
     ]
    }
   ],
   "source": [
    "# 3. Haz lo mismo que en 2 usando `continue`.\n",
    "\n",
    "var2 = \"hello\"\n",
    "for i in var2:\n",
    " if i  == \"l\":\n",
    "     continue\n",
    "\n",
    " else:print(i)\n"
   ]
  },
  {
   "cell_type": "code",
   "execution_count": 68,
   "metadata": {},
   "outputs": [
    {
     "name": "stdout",
     "output_type": "stream",
     "text": [
      "h\n",
      "e\n",
      "l\n",
      "l\n"
     ]
    }
   ],
   "source": [
    "# 4. De la frase `'Hello'` imprime todas las letras parando el bucle si encuentras una `'o'`.\n",
    "\n",
    "\n",
    "var2 = \"hello\"\n",
    "\n",
    "for i in var2:\n",
    " if i  == \"o\":\n",
    "     break\n",
    "\n",
    " else:print(i)\n",
    "\n"
   ]
  },
  {
   "cell_type": "code",
   "execution_count": 72,
   "metadata": {},
   "outputs": [
    {
     "name": "stdout",
     "output_type": "stream",
     "text": [
      "no se pueden sumar str + int\n"
     ]
    }
   ],
   "source": [
    "# 5. Define  la variable `doce = '12'` y `seis = 6`. Intenta sumarlos. En el caso de que te salga un error imprime `'¡Un error!'`. Para eso usa un `try` ... `except`\n",
    "\n",
    "doce = \"12\"\n",
    "seis = 6\n",
    "\n",
    "try:\n",
    "    doce + seis\n",
    "except TypeError:\n",
    "    print( \"no se pueden sumar str + int\")\n",
    "\n",
    "    \n",
    "\n"
   ]
  },
  {
   "cell_type": "code",
   "execution_count": null,
   "metadata": {},
   "outputs": [],
   "source": [
    "# 6. Basándonos en el ejercicio anterior, sin usar un `try` ... `except`, ¿cómo podríamos solucionar el problema? \n",
    "\n",
    "    "
   ]
  },
  {
   "cell_type": "code",
   "execution_count": 5,
   "metadata": {},
   "outputs": [],
   "source": [
    "# 7. Solicita al usuario ingresar números enteros positivos hasta que ingrese un número negativo. Luego, muestra la suma de todos los números pares ingresados.\n",
    "\n",
    "\n",
    "\n",
    "while True:\n",
    "    pares= 0\n",
    "    numero = int(input(\"Ingrese un número entero, positivo\"))\n",
    "    \n",
    "    if numero % 2 == 0:\n",
    "        pares += numero\n",
    "    else:\n",
    "        numero < 0\n",
    "    break\n",
    "    \n",
    "print(\"La suma de todos los números pares ingresados es:\", pares)\n",
    "   \n",
    "    \n"
   ]
  },
  {
   "cell_type": "code",
   "execution_count": 10,
   "metadata": {},
   "outputs": [
    {
     "name": "stdout",
     "output_type": "stream",
     "text": [
      "El resultado de dividir 5.0 por 2.0 es: 2.5\n"
     ]
    }
   ],
   "source": [
    "# 8. Solicita al usuario ingresar dos números y muestra el resultado de dividir el primero por el segundo. Asegúrate de manejar la excepción si el segundo número es cero.\n",
    "\n",
    "try:\n",
    "    num1 = float(input(\"Ingrese el primer número: \"))\n",
    "    num2 = float(input(\"Ingrese el segundo número: \"))\n",
    "\n",
    "    resultado = num1 / num2\n",
    "    print(\"El resultado de dividir\", num1, \"por\", num2, \"es:\", resultado)\n",
    "\n",
    "except ValueError:\n",
    "    print(\"¡Error! Debe ingresar números válidos.\")\n",
    "except ZeroDivisionError as error:\n",
    "    print(\"¡Error!\", error)"
   ]
  },
  {
   "cell_type": "code",
   "execution_count": 29,
   "metadata": {},
   "outputs": [
    {
     "name": "stdout",
     "output_type": "stream",
     "text": [
      "El resultado es: 2.23606797749979\n"
     ]
    }
   ],
   "source": [
    "# 9. Solicita al usuario ingresar un número y muestra su raíz cuadrada. Maneja la excepción si el número es negativo.\n",
    "try:\n",
    "    num3 = int(input(\"Ingrese el primer número: \"))\n",
    "\n",
    "    resultado = (num3)**0.5\n",
    "    \n",
    "    print(\"El resultado es:\", resultado)\n",
    "    \n",
    "    if num3 < 0: raise ValueError(\"No se puede calcular la raíz cuadrada de un número negativo\")\n",
    "    \n",
    "except ValueError:print(\"¡Error! Debe ingresar números válidos.\")\n",
    "\n",
    "\n"
   ]
  },
  {
   "cell_type": "code",
   "execution_count": 47,
   "metadata": {},
   "outputs": [
    {
     "name": "stdout",
     "output_type": "stream",
     "text": [
      "El elemento en el indice 0 es: 1\n"
     ]
    }
   ],
   "source": [
    "# 10. Crea una lista de números y solicita al usuario ingresar un índice para acceder a un elemento de la lista. Maneja la excepción si el índice está fuera de rango.\n",
    "\n",
    "lista_numeros = [1,2,3,4,5,6,7,8,9,10,11,12,13,14,15,16,17,18,19,20]\n",
    "\n",
    "\n",
    "try:\n",
    "    indice = int(input(\"Ingrese un indice para acceder a un elemento de la lista: \"))\n",
    "\n",
    "    elemento_ingresado = lista_numeros[indice]\n",
    "\n",
    "    print(\"El elemento en el indice\", indice, \"es:\", elemento_ingresado)\n",
    "\n",
    "except IndexError:\n",
    "    print(f\"¡Error! El {indice} está fuera de rango.\")\n"
   ]
  }
 ],
 "metadata": {
  "kernelspec": {
   "display_name": "Python 3",
   "language": "python",
   "name": "python3"
  },
  "language_info": {
   "codemirror_mode": {
    "name": "ipython",
    "version": 3
   },
   "file_extension": ".py",
   "mimetype": "text/x-python",
   "name": "python",
   "nbconvert_exporter": "python",
   "pygments_lexer": "ipython3",
   "version": "3.9.7"
  }
 },
 "nbformat": 4,
 "nbformat_minor": 2
}
