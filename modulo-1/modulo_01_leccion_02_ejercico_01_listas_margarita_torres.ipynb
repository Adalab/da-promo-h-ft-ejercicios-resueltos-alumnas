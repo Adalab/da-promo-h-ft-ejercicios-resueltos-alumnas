{
 "cells": [
  {
   "cell_type": "markdown",
   "metadata": {},
   "source": [
    " Definir listas\n",
    "\n",
    "  1. Haz una lista llamada `colores` donde almacenemos los primeros 6 colores que te vengan a la mente.\n",
    "\n",
    "  2. Haz una lista llamada `buses` de las líneas de autobuses que pasan por tu casa.\n",
    "\n",
    "  3. Apunta la previsión de temperaturas máximas para todos los días de esta semana en `temperaturas`.\n",
    "\n"
   ]
  },
  {
   "cell_type": "code",
   "execution_count": 39,
   "metadata": {},
   "outputs": [
    {
     "name": "stdout",
     "output_type": "stream",
     "text": [
      "['azul', 'amarillo', ' rojo', ' verde', 'blanco', 'negro']\n"
     ]
    }
   ],
   "source": [
    "colores= ['azul', 'amarillo', ' rojo', ' verde', 'blanco','negro']\n",
    "buses=['656','658','656A','L2','L3']\n",
    "temperaturas=[16,16,19,23,24,25,25]\n",
    "#por error convertimos print= en una variable. Vamos a solucionarlo borrando esta variable, usamos del print una vez :\n",
    "print(colores)"
   ]
  },
  {
   "cell_type": "markdown",
   "metadata": {},
   "source": [
    "- Convertir a listas\n",
    "\n",
    "  4. Convierte tu(s) nombre(s) a una lista `nombres` de caracteres.\n",
    "  \n",
    "  5. Convierte tu(s) apellido(s) a una lista `apellidos` de caracteres."
   ]
  },
  {
   "cell_type": "code",
   "execution_count": 51,
   "metadata": {},
   "outputs": [
    {
     "name": "stdout",
     "output_type": "stream",
     "text": [
      "['m', 'a', 'r', 'g', 'a', 'r', 'i', 't', 'a', 'm', 'a', 'r', 'i', 'a']\n"
     ]
    }
   ],
   "source": [
    "mi_nombre= 'margaritamaria'\n",
    "nombres=list(mi_nombre)\n",
    "print(nombres)\n",
    "\n",
    "\n",
    "\n",
    "\n"
   ]
  },
  {
   "cell_type": "code",
   "execution_count": 56,
   "metadata": {},
   "outputs": [
    {
     "name": "stdout",
     "output_type": "stream",
     "text": [
      "['t', 'o', 'r', 'r', 'e', 's', 'r', 'o', 'd', 'r', 'i', 'g', 'u', 'e', 'z']\n"
     ]
    }
   ],
   "source": [
    "mi_apellido= 'torresrodriguez'\n",
    "apellido=list(mi_apellido)\n",
    "print(apellido)"
   ]
  },
  {
   "cell_type": "markdown",
   "metadata": {},
   "source": [
    "Usar `len()`, `min()`, y `max()`\n",
    "\n",
    "  6. ¿Cuántos búses pasan por tu casa?\n",
    "\n",
    "  7. ¿Cuántos caracteres hay en tu apellido(s) (inluyendo los espacios)?\n",
    "\n",
    "  8. ¿Cuáles son las temperaturas máximas (`t_max`) y mínimas (`t_min`) para esta semana?\n",
    "\n",
    "- Usar `in`, `not in`\n",
    "\n",
    "  9. Hay una 'e' en tu nombre?\n",
    "\n",
    "  10. Tienes el color 'rosa' en la lista de colores?\n",
    "  \n",
    "  11. ¿Tiene una 'x' tu nombre? (Usa `not in`)\n"
   ]
  },
  {
   "cell_type": "code",
   "execution_count": 42,
   "metadata": {},
   "outputs": [
    {
     "name": "stdout",
     "output_type": "stream",
     "text": [
      " Por mi casa pasan 5  autobuses\n"
     ]
    }
   ],
   "source": [
    "print( ' Por mi casa pasan', len(buses), ' autobuses')"
   ]
  },
  {
   "cell_type": "code",
   "execution_count": 43,
   "metadata": {},
   "outputs": [
    {
     "name": "stdout",
     "output_type": "stream",
     "text": [
      " mi apellido tiene\n"
     ]
    }
   ],
   "source": [
    "print(' mi apellido tiene', )"
   ]
  },
  {
   "cell_type": "code",
   "execution_count": 44,
   "metadata": {},
   "outputs": [
    {
     "name": "stdout",
     "output_type": "stream",
     "text": [
      "La temperatura maxima: 25\n",
      "La temperatura mínima: 16\n"
     ]
    }
   ],
   "source": [
    "t_max= max(temperaturas)\n",
    "t_min=min(temperaturas)\n",
    "print('La temperatura maxima:', t_max)\n",
    "print( 'La temperatura mínima:', t_min)\n"
   ]
  },
  {
   "cell_type": "code",
   "execution_count": 45,
   "metadata": {},
   "outputs": [
    {
     "name": "stdout",
     "output_type": "stream",
     "text": [
      "Hay un e en tu nombre?\n"
     ]
    },
    {
     "data": {
      "text/plain": [
       "False"
      ]
     },
     "execution_count": 45,
     "metadata": {},
     "output_type": "execute_result"
    }
   ],
   "source": [
    "print('Hay un e en tu nombre?')\n",
    "'e' in mi_nombre"
   ]
  },
  {
   "cell_type": "code",
   "execution_count": 46,
   "metadata": {},
   "outputs": [
    {
     "data": {
      "text/plain": [
       "False"
      ]
     },
     "execution_count": 46,
     "metadata": {},
     "output_type": "execute_result"
    }
   ],
   "source": [
    " 'La lista de colores tiene el color rosa'\n",
    "'rosa' in colores"
   ]
  },
  {
   "cell_type": "code",
   "execution_count": 47,
   "metadata": {},
   "outputs": [
    {
     "name": "stdout",
     "output_type": "stream",
     "text": [
      "Tu nombre no tiene 'x' \n"
     ]
    },
    {
     "data": {
      "text/plain": [
       "True"
      ]
     },
     "execution_count": 47,
     "metadata": {},
     "output_type": "execute_result"
    }
   ],
   "source": [
    "print(\"Tu nombre no tiene 'x' \")\n",
    "'x' not in mi_nombre"
   ]
  },
  {
   "cell_type": "markdown",
   "metadata": {},
   "source": [
    "Hacer copias y borrar sus contenidos\n",
    "\n",
    "  12. Copia el contenido de `temperaturas` a `temperaturas2`, y `temperaturas3`.\n",
    "\n",
    "  13. Vacía el contenido de la variable `temperaturas2`\n",
    "\n",
    "  14. Imprime el contenido de `temperaturas` y `temperaturas2`.\n",
    "\n",
    "  15. Copia el contenido de `nombres` a `nombres2`.\n",
    "\n",
    "  16. Copia el contenido de `apellidos` a `apellidos2`."
   ]
  },
  {
   "cell_type": "code",
   "execution_count": 60,
   "metadata": {},
   "outputs": [
    {
     "name": "stdout",
     "output_type": "stream",
     "text": [
      "[16, 16, 19, 23, 24, 25, 25]\n",
      "[16, 16, 19, 23, 24, 25, 25]\n"
     ]
    }
   ],
   "source": [
    "temperaturas_2= temperaturas.copy()\n",
    "temperaturas_3= temperaturas.copy()\n",
    "print(temperaturas_2)\n",
    "print(temperaturas_3)\n"
   ]
  },
  {
   "cell_type": "code",
   "execution_count": 49,
   "metadata": {},
   "outputs": [
    {
     "name": "stdout",
     "output_type": "stream",
     "text": [
      "[]\n"
     ]
    }
   ],
   "source": [
    "temperaturas_2.clear()\n",
    "print(temperaturas_2)\n",
    "#me da una lista vacia"
   ]
  },
  {
   "cell_type": "code",
   "execution_count": 53,
   "metadata": {},
   "outputs": [
    {
     "name": "stdout",
     "output_type": "stream",
     "text": [
      "['m', 'a', 'r', 'g', 'a', 'r', 'i', 't', 'a', 'm', 'a', 'r', 'i', 'a']\n"
     ]
    }
   ],
   "source": [
    "nombres_2=nombres.copy()\n",
    "print(nombres_2)"
   ]
  },
  {
   "cell_type": "code",
   "execution_count": 58,
   "metadata": {},
   "outputs": [
    {
     "name": "stdout",
     "output_type": "stream",
     "text": [
      "['t', 'o', 'r', 'r', 'e', 's', 'r', 'o', 'd', 'r', 'i', 'g', 'u', 'e', 'z']\n"
     ]
    }
   ],
   "source": [
    "apellido_2=apellido.copy()\n",
    "print(apellido_2)"
   ]
  },
  {
   "cell_type": "markdown",
   "metadata": {},
   "source": [
    "- Cambiar el orden de los contenidos\n",
    "\n",
    "  17. Ordena la variable `temperaturas3` de mayor a menor.\n",
    "\n",
    "  18. Ordena los caracteres de tu nombre y tu apellido en las listas `nombres2` y `apellidos2`. Imprime el resultado y investiga: ¿qué orden ha cogido? ¿Cómo trata las mayúsculas?\n"
   ]
  },
  {
   "cell_type": "code",
   "execution_count": 66,
   "metadata": {},
   "outputs": [
    {
     "name": "stdout",
     "output_type": "stream",
     "text": [
      "[16, 16, 19, 23, 24, 25, 25]\n",
      "[25, 25, 24, 23, 19, 16, 16]\n"
     ]
    }
   ],
   "source": [
    "print(temperaturas_3)\n",
    "temperaturas_3.sort(reverse= True)\n",
    "print(temperaturas_3)\n",
    "#Me sobreescribe la variable temperaturas_3. Esta ahora está ordenada diferente. Si ejecuto de nuevo esta celda se aplicará la orden sort() sobre la nueva variable temperatura_3."
   ]
  },
  {
   "cell_type": "code",
   "execution_count": 68,
   "metadata": {},
   "outputs": [
    {
     "name": "stdout",
     "output_type": "stream",
     "text": [
      "['m', 'a', 'r', 'g', 'a', 'r', 'i', 't', 'a', 'm', 'a', 'r', 'i', 'a']\n",
      "['t', 'o', 'r', 'r', 'e', 's', 'r', 'o', 'd', 'r', 'i', 'g', 'u', 'e', 'z']\n",
      "['a', 'a', 'a', 'a', 'a', 'g', 'i', 'i', 'm', 'm', 'r', 'r', 'r', 't']\n"
     ]
    }
   ],
   "source": [
    "print(nombres_2)\n",
    "print(apellido_2)\n",
    "nombre_2_mod= sorted(nombres_2)\n",
    "print(nombre_2_mod)\n",
    "#imprime en orden albético.\n",
    "\n",
    "\n"
   ]
  },
  {
   "cell_type": "code",
   "execution_count": 85,
   "metadata": {},
   "outputs": [
    {
     "name": "stdout",
     "output_type": "stream",
     "text": [
      "['z', 'u', 't', 's', 'r', 'r', 'r', 'r', 'o', 'o', 'i', 'g', 'e', 'e', 'd']\n",
      "['p', 'e', 'r', 'R', 'o', 's']\n",
      "['R', 'e', 'o', 'p', 'r', 's']\n"
     ]
    }
   ],
   "source": [
    "#intentamos hacerlo en orden inverso:\n",
    "apellido_2.sort(reverse=True)\n",
    "print(apellido_2)\n",
    "\n",
    "lista_prueba='perRos'\n",
    "lista_prueba1=list(lista_prueba)\n",
    "print(lista_prueba1)\n",
    "lista_prueba1_mayuscula=sorted(lista_prueba1)\n",
    "print(lista_prueba1_mayuscula)\n",
    "\n"
   ]
  },
  {
   "cell_type": "markdown",
   "metadata": {},
   "source": [
    "Contar duplicados\n",
    "\n",
    "  19. ¿Cuántas 'a' tiene tu nombre? ¿Y cuántas 'o'?\n",
    "\n",
    "  20. Verifica si los resultados de ejercicio 19 son iguales para la lista `nombres2`.\n",
    "\n",
    "  21. ¿Cuántas veces esta semana llega la temperatura a la `t_max`? ¿Y cuántas a la `t_min`?\n"
   ]
  },
  {
   "cell_type": "code",
   "execution_count": 98,
   "metadata": {},
   "outputs": [
    {
     "name": "stdout",
     "output_type": "stream",
     "text": [
      "5 y 0\n",
      "2\n",
      "2\n"
     ]
    }
   ],
   "source": [
    "print( nombres.count('a'), 'y', nombres.count('o'))\n",
    "nombres.count('a') == nombres_2.count('a')\n",
    "print(temperaturas_2.count(max(temperaturas_2)))\n",
    "print(temperaturas_2.count(min(temperaturas_2)))"
   ]
  },
  {
   "cell_type": "markdown",
   "metadata": {},
   "source": [
    "- Definir otra lista\n",
    "\n",
    "  22. La lista dias_en contiene 'monday', 'tuesday', 'wednesday', 'thursday', 'friday', 'saturday', y 'sunday'.\n",
    "\n",
    "  23. Define temperaturas_diciembre 👇🏽:\n",
    "    ```python\n",
    "\n",
    "      temperaturas_diciembre = [10, 10, 13, 14, 12, 15, \n",
    "                            12, 11, 13, 17, 18, 15, \n",
    "                            15, 17, 17, 13, 13, 11,\n",
    "                            12, 10, 12, 14, 12, 12,\n",
    "                            11, 12, 16, 16, 14, 17, 18]"
   ]
  },
  {
   "cell_type": "code",
   "execution_count": 101,
   "metadata": {},
   "outputs": [],
   "source": [
    "dias=['monday', 'tuesday', 'wednesday', 'thursday', 'friday', 'saturday','sunday']\n",
    "temperaturas_diciembre= [0, 10, 13, 14, 12, 15, \n",
    "                            12, 11, 13, 17, 18, 15, \n",
    "                            15, 17, 17, 13, 13, 11,\n",
    "                            12, 10, 12, 14, 12, 12,\n",
    "                            11, 12, 16, 16, 14, 17, 18]\n"
   ]
  },
  {
   "cell_type": "markdown",
   "metadata": {},
   "source": [
    "- Indexación de listas\n",
    "\n",
    "  24. ¿Cuál es el penúltimo día de la semana?\n",
    "\n",
    "  25. ¿Cuál es el último elemento de la lista de temperaturas de diciembre? \n",
    "\n",
    "  27. ¿Está 'friday' en la lista de días en inglés? Si está, ¿dónde?\n",
    "\n",
    "  28. ¿Cuál era la temperatura máxima en diciembre?\n",
    "\n",
    "  29. Encuentra el índice de 'miércoles' en dias_es.\n"
   ]
  },
  {
   "cell_type": "code",
   "execution_count": 103,
   "metadata": {},
   "outputs": [
    {
     "data": {
      "text/plain": [
       "'saturday'"
      ]
     },
     "execution_count": 103,
     "metadata": {},
     "output_type": "execute_result"
    }
   ],
   "source": [
    "dias[len(dias)-2]"
   ]
  },
  {
   "cell_type": "code",
   "execution_count": 104,
   "metadata": {},
   "outputs": [
    {
     "data": {
      "text/plain": [
       "18"
      ]
     },
     "execution_count": 104,
     "metadata": {},
     "output_type": "execute_result"
    }
   ],
   "source": [
    "temperaturas_diciembre[-1]"
   ]
  },
  {
   "cell_type": "code",
   "execution_count": 106,
   "metadata": {},
   "outputs": [
    {
     "data": {
      "text/plain": [
       "4"
      ]
     },
     "execution_count": 106,
     "metadata": {},
     "output_type": "execute_result"
    }
   ],
   "source": [
    "'friday' in dias\n",
    "dias.index('friday')"
   ]
  },
  {
   "cell_type": "code",
   "execution_count": 107,
   "metadata": {},
   "outputs": [
    {
     "name": "stdout",
     "output_type": "stream",
     "text": [
      "18\n"
     ]
    }
   ],
   "source": [
    "print(max(temperaturas_diciembre))"
   ]
  },
  {
   "cell_type": "code",
   "execution_count": 110,
   "metadata": {},
   "outputs": [
    {
     "name": "stdout",
     "output_type": "stream",
     "text": [
      "El indice de miercoles es dias.index('miercoles')--- ERROR\n"
     ]
    },
    {
     "data": {
      "text/plain": [
       "True"
      ]
     },
     "execution_count": 110,
     "metadata": {},
     "output_type": "execute_result"
    }
   ],
   "source": [
    "print(\"El indice de miercoles es dias.index('miercoles')--- ERROR\")\n",
    "'miercoles' not in dias"
   ]
  },
  {
   "cell_type": "markdown",
   "metadata": {},
   "source": [
    "- Bonus\n",
    "\n",
    "  30. Imprime esta frase en pantalla: 'La temperatura máxima esta semana será 14 ºC, que ocurrirá en 1 días(s). El día más frío tendrá una temperatura máxima de 10 ºC, que ocurrirá en 2 día(s).'"
   ]
  },
  {
   "cell_type": "markdown",
   "metadata": {},
   "source": [
    "###La temperatura máxima esta semana será 14 ºC, que ocurrirá en 1 días(s). El día más frío tendrá una temperatura máxima de 10 ºC, que ocurrirá en 2 día(s)."
   ]
  }
 ],
 "metadata": {
  "kernelspec": {
   "display_name": "base",
   "language": "python",
   "name": "python3"
  },
  "language_info": {
   "codemirror_mode": {
    "name": "ipython",
    "version": 3
   },
   "file_extension": ".py",
   "mimetype": "text/x-python",
   "name": "python",
   "nbconvert_exporter": "python",
   "pygments_lexer": "ipython3",
   "version": "3.11.7"
  }
 },
 "nbformat": 4,
 "nbformat_minor": 2
}
