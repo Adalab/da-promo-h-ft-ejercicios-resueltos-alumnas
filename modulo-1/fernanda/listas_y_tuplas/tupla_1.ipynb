{
 "cells": [
  {
   "cell_type": "markdown",
   "metadata": {},
   "source": [
    " Ejercicios\n",
    " 1. Crea una tupla `persona1` para juntar los siguientes datos: 61 kg, 1.54 m altura, pelo marrón, sin usar paréntesis. (Serán del tipo `int`, `float` y `str`.)\n",
    "\n",
    "  2. Crea una tupla para la `persona2` de 68 kg, 1.65 m y pelo rubio, usando paréntesis.\n",
    "\n",
    "  3. Crea una lista `talla` que recompila 'M', 42, y 39. "
   ]
  },
  {
   "cell_type": "code",
   "execution_count": 2,
   "metadata": {},
   "outputs": [],
   "source": [
    "persona1 = \"61kg\", 1.54, \"pelo marrón\"\n",
    "persona2 = (68, 1.65, \"pelo rubio\")\n",
    "talla = [\"M\", 42, 39]\n",
    "\n",
    "\n"
   ]
  },
  {
   "cell_type": "markdown",
   "metadata": {},
   "source": [
    "- Convertir y juntar\n",
    "\n",
    "  4. Convierte la lista `talla` a una tupla.\n",
    "  \n",
    "  5. Une a la tupla de `persona1` los datos en `talla`, para tener una única tupla.\n",
    "\n",
    " - Indexar tuplas\n",
    "\n",
    "  6. Saca de `persona2` el contenido del tercer elemento y llámalo `color`.\n",
    "\n",
    "  7. ¿Cuántos elementos hay ahora en `persona1`? (Es decir, ¿cuál es su longitud?)"
   ]
  },
  {
   "cell_type": "code",
   "execution_count": 5,
   "metadata": {},
   "outputs": [
    {
     "name": "stdout",
     "output_type": "stream",
     "text": [
      "('M', 42, 39)\n",
      "('M', 42, 39, '61kg', 1.54, 'pelo marrón')\n",
      "[68, 1.65, 'color']\n",
      "[68, 1.65]\n",
      "[68, 1.65, 'color']\n",
      "3\n"
     ]
    }
   ],
   "source": [
    "tupla_talla= tuple(talla)\n",
    "print(tupla_talla)\n",
    "tupla_unica = tupla_talla + persona1\n",
    "print(tupla_unica)\n",
    "persona2 = list(persona2)\n",
    "print(persona2)\n",
    "persona2.pop(2)\n",
    "print(persona2)\n",
    "persona2.insert(2, \"color\")\n",
    "print(persona2)\n",
    "print(len(persona1))"
   ]
  },
  {
   "cell_type": "markdown",
   "metadata": {},
   "source": [
    "- Desempaquetar\n",
    "\n",
    "  8. Crea las variables `peso`, `altura`, `color_pelo` y llénalas con el contenido de `persona1`. Imprime `color_pelo` para comprobar el resultado. "
   ]
  },
  {
   "cell_type": "code",
   "execution_count": 4,
   "metadata": {},
   "outputs": [
    {
     "name": "stdout",
     "output_type": "stream",
     "text": [
      "pelo marrón\n"
     ]
    }
   ],
   "source": [
    "peso = 61\n",
    "altura = 1.54\n",
    "color_pelo = \"pelo marrón\"\n",
    "print(color_pelo)"
   ]
  },
  {
   "cell_type": "markdown",
   "metadata": {},
   "source": [
    "- Zipear\n",
    "\n",
    "  9. Crea el zip `personas` con `persona1` y `persona2`.\n",
    "\n",
    "  10. ¿Cuántas \"elementos\" tiene `personas`? ¿Por qué?\n",
    "\n",
    "  11. Crea una tupla `etiquetas` con `'peso'`, `'altura'`, y `'color_pelo'`.\n",
    "\n",
    "  12. Crea al zip de `etiquetas`, `persona1`, y `persona2`, llamado \"todo\"."
   ]
  },
  {
   "cell_type": "code",
   "execution_count": 29,
   "metadata": {},
   "outputs": [
    {
     "name": "stdout",
     "output_type": "stream",
     "text": [
      "Este es el resultado de unir las dos tuplas: [(61, 68), (1.54, 1.65), ('pelo marrón', 'pelo rubio')]\n",
      "Este es el resultado de convertir el zip a lista: [(61, 68), (1.54, 1.65), ('pelo marrón', 'pelo rubio')]\n",
      "[('peso', 61, 68), ('altura', 1.54, 1.65), ('color_pelo', 'pelo marrón', 'pelo rubio')]\n"
     ]
    }
   ],
   "source": [
    "persona1 = (61 , 1.54 , \"pelo marrón\")\n",
    "persona2 = (68 , 1.65 , \"pelo rubio\")\n",
    "personas= zip(persona1 , persona2)\n",
    "personas = list(zip(persona1, persona2))\n",
    "print(\"Este es el resultado de unir las dos tuplas:\", personas)\n",
    "print(\"Este es el resultado de convertir el zip a lista:\", list(personas))\n",
    "etiquetas = \"peso\" , \"altura\" , \"color_pelo\"\n",
    "todo = list(zip( etiquetas , persona1 , persona2))\n",
    "print(todo)"
   ]
  },
  {
   "cell_type": "markdown",
   "metadata": {},
   "source": [
    "- Manipular zips\n",
    "\n",
    "  13. Ordena las propiedades de la variable `personas` alfabéticamente. ¿Puedes? ¿Por qué?"
   ]
  },
  {
   "cell_type": "code",
   "execution_count": 31,
   "metadata": {},
   "outputs": [
    {
     "ename": "TypeError",
     "evalue": "'<' not supported between instances of 'str' and 'float'",
     "output_type": "error",
     "traceback": [
      "\u001b[0;31m---------------------------------------------------------------------------\u001b[0m",
      "\u001b[0;31mTypeError\u001b[0m                                 Traceback (most recent call last)",
      "\u001b[0;32m/tmp/ipykernel_13200/3827804382.py\u001b[0m in \u001b[0;36m<module>\u001b[0;34m\u001b[0m\n\u001b[0;32m----> 1\u001b[0;31m \u001b[0mpersonas\u001b[0m\u001b[0;34m.\u001b[0m\u001b[0msort\u001b[0m\u001b[0;34m(\u001b[0m\u001b[0;34m)\u001b[0m\u001b[0;34m\u001b[0m\u001b[0;34m\u001b[0m\u001b[0m\n\u001b[0m\u001b[1;32m      2\u001b[0m \u001b[0mprint\u001b[0m\u001b[0;34m(\u001b[0m\u001b[0;34m\"La lista ordenada es:\"\u001b[0m\u001b[0;34m,\u001b[0m \u001b[0mpersonas\u001b[0m\u001b[0;34m)\u001b[0m\u001b[0;34m\u001b[0m\u001b[0;34m\u001b[0m\u001b[0m\n\u001b[1;32m      3\u001b[0m \u001b[0;31m#no se puede usar el método sort porque no permite mezclar strings con con floats.\u001b[0m\u001b[0;34m\u001b[0m\u001b[0;34m\u001b[0m\u001b[0m\n",
      "\u001b[0;31mTypeError\u001b[0m: '<' not supported between instances of 'str' and 'float'"
     ]
    }
   ],
   "source": [
    "personas.sort()\n",
    "print(\"La lista ordenada es:\", personas)\n",
    "#no se puede usar el método sort porque no permite mezclar strings con con floats. "
   ]
  }
 ],
 "metadata": {
  "kernelspec": {
   "display_name": "Python 3",
   "language": "python",
   "name": "python3"
  },
  "language_info": {
   "codemirror_mode": {
    "name": "ipython",
    "version": 3
   },
   "file_extension": ".py",
   "mimetype": "text/x-python",
   "name": "python",
   "nbconvert_exporter": "python",
   "pygments_lexer": "ipython3",
   "version": "3.9.7"
  }
 },
 "nbformat": 4,
 "nbformat_minor": 2
}
