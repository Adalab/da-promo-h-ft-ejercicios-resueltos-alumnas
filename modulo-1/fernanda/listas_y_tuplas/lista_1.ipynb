{
 "cells": [
  {
   "cell_type": "markdown",
   "metadata": {},
   "source": [
    "# Ejercicios:"
   ]
  },
  {
   "cell_type": "markdown",
   "metadata": {},
   "source": [
    "- Definir listas\n",
    "\n",
    "  1. Haz una lista llamada `colores` donde almacenemos los primeros 6 colores que te vengan a la mente.\n",
    "\n",
    "  2. Haz una lista llamada `buses` de las líneas de autobuses que pasan por tu casa.\n",
    "\n",
    "  3. Apunta la previsión de temperaturas máximas para todos los días de esta semana en `temperaturas`."
   ]
  },
  {
   "cell_type": "code",
   "execution_count": 1,
   "metadata": {},
   "outputs": [],
   "source": [
    "colores = [\"azul\", \"rojo\", \"amarillo\", \"verde\", \"blanco\", \"negro\"]\n",
    "buses = [ 1, 7, 2]\n",
    "temperaturas = [15, 17, 16, 19, 17, 21, 22]"
   ]
  },
  {
   "cell_type": "markdown",
   "metadata": {},
   "source": [
    "- Convertir a listas\n",
    "\n",
    "  4. Convierte tu(s) nombre(s) a una lista `nombres` de caracteres.\n",
    "  \n",
    "  5. Convierte tu(s) apellido(s) a una lista `apellidos` de caracteres."
   ]
  },
  {
   "cell_type": "code",
   "execution_count": 6,
   "metadata": {},
   "outputs": [
    {
     "name": "stdout",
     "output_type": "stream",
     "text": [
      "['M', 'a', 'r', 'í', 'a', ' ', 'F', 'e', 'r', 'n', 'a', 'n', 'd', 'a']\n",
      "['M', 'a', 'r', 't', 'i', ' ', 'L', 'e', 'v', 'a', 'l', 'l', 'e']\n"
     ]
    }
   ],
   "source": [
    "\n",
    "nombre = \"María Fernanda\"\n",
    "nombre_1 = list(nombre)\n",
    "print(nombre_1)\n",
    "apellidos = \"Marti Levalle\"\n",
    "apellidos_1 = list(apellidos)\n",
    "print(apellidos_1)\n"
   ]
  },
  {
   "cell_type": "markdown",
   "metadata": {},
   "source": [
    "- Usar `len()`, `min()`, y `max()`\n",
    "\n",
    "  6. ¿Cuántos búses pasan por tu casa?\n",
    "\n",
    "  7. ¿Cuántos caracteres hay en tu apellido(s) (inluyendo los espacios)?\n",
    "\n",
    "  8. ¿Cuáles son las temperaturas máximas (`t_max`) y mínimas (`t_min`) para esta semana?"
   ]
  },
  {
   "cell_type": "code",
   "execution_count": 7,
   "metadata": {},
   "outputs": [
    {
     "name": "stdout",
     "output_type": "stream",
     "text": [
      "3\n",
      "13\n",
      "la temperatura maxima fue: 22\n",
      "la temperatura minima fue: 15\n"
     ]
    }
   ],
   "source": [
    "cantidad_buses = len(buses)\n",
    "print(cantidad_buses)\n",
    "cantidad_caracteres_apellido = len(apellidos)\n",
    "print(cantidad_caracteres_apellido)\n",
    "temperatura_maxima = max(temperaturas)\n",
    "print(\"la temperatura maxima fue:\", temperatura_maxima)\n",
    "temperatura_minima = min(temperaturas)\n",
    "print(\"la temperatura minima fue:\", temperatura_minima)\n"
   ]
  },
  {
   "cell_type": "markdown",
   "metadata": {},
   "source": [
    "- Usar `in`, `not in`\n",
    "\n",
    "  9. Hay una 'e' en tu nombre?\n",
    "\n",
    "  10. Tienes el color 'rosa' en la lista de colores?\n",
    "  \n",
    "  11. ¿Tiene una 'x' tu nombre? (Usa `not in`)"
   ]
  },
  {
   "cell_type": "code",
   "execution_count": 8,
   "metadata": {},
   "outputs": [
    {
     "name": "stdout",
     "output_type": "stream",
     "text": [
      "True\n",
      "False\n",
      "True\n"
     ]
    }
   ],
   "source": [
    "print(\"e\" in nombre)\n",
    "print(\"rosa\" in colores)\n",
    "print( \"x\" not in nombre)\n"
   ]
  },
  {
   "cell_type": "markdown",
   "metadata": {},
   "source": [
    "- Hacer copias y borrar sus contenidos\n",
    "\n",
    "  12. Copia el contenido de `temperaturas` a `temperaturas2`, y `temperaturas3`.\n",
    "\n",
    "  13. Vacía el contenido de la variable `temperaturas2`\n",
    "\n",
    "  14. Imprime el contenido de `temperaturas` y `temperaturas2`.\n",
    "\n",
    "  15. Copia el contenido de `nombres` a `nombres2`.\n",
    "\n",
    "  16. Copia el contenido de `apellidos` a `apellidos2`."
   ]
  },
  {
   "cell_type": "code",
   "execution_count": 9,
   "metadata": {},
   "outputs": [
    {
     "name": "stdout",
     "output_type": "stream",
     "text": [
      "[15, 17, 16, 19, 17, 21, 22]\n",
      "[15, 17, 16, 19, 17, 21, 22]\n",
      "[]\n",
      "['M', 'a', 'r', 'í', 'a', ' ', 'F', 'e', 'r', 'n', 'a', 'n', 'd', 'a']\n",
      "['M', 'a', 'r', 't', 'i', ' ', 'L', 'e', 'v', 'a', 'l', 'l', 'e']\n"
     ]
    }
   ],
   "source": [
    "temperaturas_2 = temperaturas.copy()\n",
    "print(temperaturas_2)\n",
    "temperaturas_3 = temperaturas_2.copy()\n",
    "print(temperaturas_3)\n",
    "temperaturas_2.clear()\n",
    "print(temperaturas_2)\n",
    "nombre_2 = nombre_1.copy()\n",
    "print(nombre_1)\n",
    "apellidos_2 = apellidos_1.copy()\n",
    "print(apellidos_2)"
   ]
  },
  {
   "cell_type": "markdown",
   "metadata": {},
   "source": [
    "- Cambiar el orden de los contenidos\n",
    "\n",
    "  17. Ordena la variable `temperaturas3` de mayor a menor.\n",
    "\n",
    "  18. Ordena los caracteres de tu nombre y tu apellido en las listas `nombres2` y `apellidos2`. Imprime el resultado y investiga: ¿qué orden ha cogido? ¿Cómo trata las mayúsculas?"
   ]
  },
  {
   "cell_type": "code",
   "execution_count": null,
   "metadata": {},
   "outputs": [],
   "source": [
    "temperaturas_orden = sorted(temperaturas)\n",
    "print(temperaturas_orden)\n",
    "nombre_orden = sorted(nombre_1)\n",
    "print(nombre_orden)\n",
    "apellido_orden = sorted(apellidos_1)\n",
    "print(apellido_orden)\n",
    "#coje la mayúscula como el indice 0"
   ]
  },
  {
   "cell_type": "markdown",
   "metadata": {},
   "source": [
    "- Contar duplicados\n",
    "\n",
    "  19. ¿Cuántas 'a' tiene tu nombre? ¿Y cuántas 'o'?\n",
    "\n",
    "  20. Verifica si los resultados de ejercicio 19 son iguales para la lista `nombres2`.\n",
    "\n",
    "  21. ¿Cuántas veces esta semana llega la temperatura a la `t_max`? ¿Y cuántas a la `t_min`?"
   ]
  },
  {
   "cell_type": "code",
   "execution_count": 10,
   "metadata": {},
   "outputs": [
    {
     "name": "stdout",
     "output_type": "stream",
     "text": [
      "4\n",
      "0\n",
      "4\n",
      "1\n",
      "1\n"
     ]
    }
   ],
   "source": [
    "print( nombre.count(\"a\"))\n",
    "print( nombre.count(\"o\"))\n",
    "print(nombre_1.count(\"a\"))\n",
    "temperatura_cantidad_max= temperaturas.count(temperatura_maxima)\n",
    "print(temperatura_cantidad_max)\n",
    "temperatura_cantidad_min = temperaturas.count(temperatura_minima)\n",
    "print(temperatura_cantidad_min)\n"
   ]
  },
  {
   "cell_type": "markdown",
   "metadata": {},
   "source": [
    "- Definir otra lista\n",
    "\n",
    "  22. La lista dias_en contiene 'monday', 'tuesday', 'wednesday', 'thursday', 'friday', 'saturday', y 'sunday'.\n",
    "\n",
    "  23. Define temperaturas_diciembre 👇🏽:\n",
    "    ```python\n",
    "\n",
    "      temperaturas_diciembre = [10, 10, 13, 14, 12, 15, \n",
    "                            12, 11, 13, 17, 18, 15, \n",
    "                            15, 17, 17, 13, 13, 11,\n",
    "                            12, 10, 12, 14, 12, 12,\n",
    "                            11, 12, 16, 16, 14, 17, 18]"
   ]
  },
  {
   "cell_type": "code",
   "execution_count": 11,
   "metadata": {},
   "outputs": [],
   "source": [
    "dias_en = ['monday', 'tuesday', 'wednesday', 'thursday', 'friday', 'saturday',  'sunday']\n",
    "temperaturas_diciembre = [10, 10, 13, 14, 12, 15, \n",
    "                            12, 11, 13, 17, 18, 15, \n",
    "                            15, 17, 17, 13, 13, 11,\n",
    "                            12, 10, 12, 14, 12, 12,\n",
    "                            11, 12, 16, 16, 14, 17, 18]\n"
   ]
  },
  {
   "cell_type": "markdown",
   "metadata": {},
   "source": [
    "- Indexación de listas\n",
    "\n",
    "  24. ¿Cuál es el penúltimo día de la semana?\n",
    "\n",
    "  25. ¿Cuál es el último elemento de la lista de temperaturas de diciembre? \n",
    "\n",
    "  27. ¿Está 'friday' en la lista de días en inglés? Si está, ¿dónde?\n",
    "\n",
    "  28. ¿Cuál era la temperatura máxima en diciembre?\n",
    "\n",
    "  29. Encuentra el índice de 'miércoles' en dias_es."
   ]
  },
  {
   "cell_type": "code",
   "execution_count": 12,
   "metadata": {},
   "outputs": [
    {
     "name": "stdout",
     "output_type": "stream",
     "text": [
      "True\n",
      "['monday', 'tuesday', 'wednesday', 'thursday', 'friday', 'saturday']\n",
      "¿En que posición esta'friday'? Esta en el índice 4\n",
      "18\n",
      "¿En que posición esta'wednesday'? Esta en el índice 2\n"
     ]
    }
   ],
   "source": [
    "dias_en[len (dias_en) - 2]\n",
    "temperaturas_diciembre[len (temperaturas_diciembre) - 1]\n",
    "print(\"friday\" in dias_en)\n",
    "print(dias_en[0:-1])\n",
    "print(\"¿En que posición esta'friday'? Esta en el índice\", dias_en.index(\"friday\"))\n",
    "temperatura_max_diciembre = max(temperaturas_diciembre)\n",
    "print(temperatura_max_diciembre)\n",
    "print(\"¿En que posición esta'wednesday'? Esta en el índice\", dias_en.index(\"wednesday\"))"
   ]
  },
  {
   "cell_type": "markdown",
   "metadata": {},
   "source": [
    "- Bonus\n",
    "\n",
    "  30. Imprime esta frase en pantalla: 'La temperatura máxima esta semana será 14 ºC, que ocurrirá en 1 días(s). El día más frío tendrá una temperatura máxima de 10 ºC, que ocurrirá en 2 día(s).'"
   ]
  },
  {
   "cell_type": "code",
   "execution_count": 13,
   "metadata": {},
   "outputs": [
    {
     "name": "stdout",
     "output_type": "stream",
     "text": [
      "La temperatura máxima esta semana será 14 ºC, que ocurrirá en 1 días(s). El día más frío tendrá una temperatura máxima de 10 ºC, que ocurrirá en 2 día(s).\n"
     ]
    }
   ],
   "source": [
    "print('La temperatura máxima esta semana será 14 ºC, que ocurrirá en 1 días(s). El día más frío tendrá una temperatura máxima de 10 ºC, que ocurrirá en 2 día(s).')"
   ]
  }
 ],
 "metadata": {
  "kernelspec": {
   "display_name": "Python 3",
   "language": "python",
   "name": "python3"
  },
  "language_info": {
   "codemirror_mode": {
    "name": "ipython",
    "version": 3
   },
   "file_extension": ".py",
   "mimetype": "text/x-python",
   "name": "python",
   "nbconvert_exporter": "python",
   "pygments_lexer": "ipython3",
   "version": "3.9.7"
  }
 },
 "nbformat": 4,
 "nbformat_minor": 2
}
