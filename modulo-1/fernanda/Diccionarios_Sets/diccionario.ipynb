{
 "cells": [
  {
   "cell_type": "markdown",
   "metadata": {},
   "source": [
    "# Ejercicios\n",
    "\n",
    "- Definir diccionarios\n",
    "\n",
    "  1. Crea el diccionario `festivos` con las fechas como claves y los nombres como valores: 01/01: Año Nuevo, 06/01: Epifanía del Señor, 15/04: Viernes Santo, 15/08: Asunción de la Virgen, 12/10: Fiesta Nacional de España, 01/11: Todos los Santos, 06/12: Día de la Constitución Española, y 08/12: Inmaculada Concepción."
   ]
  },
  {
   "cell_type": "code",
   "execution_count": 76,
   "metadata": {},
   "outputs": [
    {
     "name": "stdout",
     "output_type": "stream",
     "text": [
      "{'01/01': 'año nuevo', '06/01': 'epifanía del señor', '15/04': 'viernes santo', '15/08': 'asunción de la virgen', '12/10': 'fiesta nacional de España', '01/11': 'todos los santos', '06/12': 'día de la contistitución española', '08/12': 'inmaculada concepción'}\n"
     ]
    }
   ],
   "source": [
    "festivos = { \"01/01\" : \"año nuevo\", \"06/01\" : \"epifanía del señor\", \"15/04\" : \"viernes santo\", \"15/08\" :\"asunción de la virgen\", \"12/10\" : \"fiesta nacional de España\", \"01/11\" : \"todos los santos\", \"06/12\" : \"día de la contistitución española\", \"08/12\" : \"inmaculada concepción\"}\n",
    "print(festivos)"
   ]
  },
  {
   "cell_type": "markdown",
   "metadata": {},
   "source": [
    "2. Crea el diccionario `monarcas` con los países como claves y los nombres como valores: Bélgica: Philippe, Dinamarca: Margrethe II, Holanda: Beatrix, Noruega: Harald V, España: Felipe VI, Reino Unido: Carlos III."
   ]
  },
  {
   "cell_type": "code",
   "execution_count": 77,
   "metadata": {},
   "outputs": [
    {
     "name": "stdout",
     "output_type": "stream",
     "text": [
      "{'Bélgica': 'Philippe', 'Dinamarca': 'Margrethe II', 'Holanda': 'Beatrix', 'Noruega': 'Harald V', 'España': 'Felipe VI', 'Reino Unido': 'Carlos III'}\n"
     ]
    }
   ],
   "source": [
    "monarcas = { \"Bélgica\" : \"Philippe\", \"Dinamarca\" : \"Margrethe II\", \"Holanda\" : \"Beatrix\", \"Noruega\" : \"Harald V\", \"España\" : \"Felipe VI\", \"Reino Unido\" : \"Carlos III\"}\n",
    "print(monarcas)"
   ]
  },
  {
   "cell_type": "markdown",
   "metadata": {},
   "source": [
    "- Leer, añadir, y cambiar elementos\n",
    "\n",
    "  3. ¿Qué festivo hay el 15/04?"
   ]
  },
  {
   "cell_type": "code",
   "execution_count": 78,
   "metadata": {},
   "outputs": [
    {
     "name": "stdout",
     "output_type": "stream",
     "text": [
      "El día '15/04' es:  viernes santo\n"
     ]
    }
   ],
   "source": [
    "festivos = { \"01/01\" : \"año nuevo\", \"06/01\" : \"epifanía del señor\", \"15/04\" : \"viernes santo\", \"15/08\" :\"asunción de la virgen\", \"12/10\" : \"fiesta nacional de España\", \"01/11\" : \"todos los santos\", \"06/12\" : \"día de la contistitución española\", \"08/12\" : \"inmaculada concepción\"}\n",
    "print(\"El día '15/04' es: \", festivos.get(\"15/04\"))\n"
   ]
  },
  {
   "cell_type": "markdown",
   "metadata": {},
   "source": [
    "4. La reina `'Beatrix'` abdicó, ahora es el rey `'Willem-Alexander'`. Actualiza el dict."
   ]
  },
  {
   "cell_type": "code",
   "execution_count": 79,
   "metadata": {},
   "outputs": [
    {
     "name": "stdout",
     "output_type": "stream",
     "text": [
      "{'Bélgica': 'Philippe', 'Dinamarca': 'Margrethe II', 'Holanda': 'Beatrix', 'Noruega': 'Harald V', 'España': 'Felipe VI', 'Reino Unido': 'Carlos III'}\n",
      "Beatrix\n",
      "{'Bélgica': 'Philippe', 'Dinamarca': 'Margrethe II', 'Noruega': 'Harald V', 'España': 'Felipe VI', 'Reino Unido': 'Carlos III'}\n",
      "{'Bélgica': 'Philippe', 'Dinamarca': 'Margrethe II', 'Noruega': 'Harald V', 'España': 'Felipe VI', 'Reino Unido': 'Carlos III', 'Holanda': 'Willen-Alexander'}\n"
     ]
    }
   ],
   "source": [
    "monarcas = dict ( [ ( \"Bélgica\" , \"Philippe\"), (\"Dinamarca\" , \"Margrethe II\"), (\"Holanda\" , \"Beatrix\"), (\"Noruega\" , \"Harald V\"), (\"España\" , \"Felipe VI\"), (\"Reino Unido\" , \"Carlos III\")])\n",
    "print(monarcas)\n",
    "print(monarcas.pop(\"Holanda\"))\n",
    "print(monarcas)\n",
    "nuevo_rey = ([(\"Holanda\", \"Willen-Alexander\")])\n",
    "monarcas.update(nuevo_rey)\n",
    "print(monarcas)\n",
    "\n"
   ]
  },
  {
   "cell_type": "markdown",
   "metadata": {},
   "source": [
    "5. El rey de Luxemburgo se llama `Henri`. Añadelo al dict usando `.update()`."
   ]
  },
  {
   "cell_type": "code",
   "execution_count": 80,
   "metadata": {},
   "outputs": [
    {
     "name": "stdout",
     "output_type": "stream",
     "text": [
      "{'Bélgica': 'Philippe', 'Dinamarca': 'Margrethe II', 'Noruega': 'Harald V', 'España': 'Felipe VI', 'Reino Unido': 'Carlos III', 'Holanda': 'Willen-Alexander', 'Luxemburgo': 'Henri'}\n"
     ]
    }
   ],
   "source": [
    "nuevo_rey_lux = ([(\"Luxemburgo\", \"Henri\")])\n",
    "monarcas.update(nuevo_rey_lux)\n",
    "print(monarcas)"
   ]
  },
  {
   "cell_type": "markdown",
   "metadata": {},
   "source": [
    "- Comprobar contenidos\n",
    "\n",
    "  6. ¿Cuántos países están definidos en `monarcas`?"
   ]
  },
  {
   "cell_type": "code",
   "execution_count": 81,
   "metadata": {},
   "outputs": [
    {
     "name": "stdout",
     "output_type": "stream",
     "text": [
      "dict_keys(['Bélgica', 'Dinamarca', 'Noruega', 'España', 'Reino Unido', 'Holanda', 'Luxemburgo'])\n",
      "dict_values(['Philippe', 'Margrethe II', 'Harald V', 'Felipe VI', 'Carlos III', 'Willen-Alexander', 'Henri'])\n",
      "7\n"
     ]
    }
   ],
   "source": [
    "print(monarcas.keys())\n",
    "print(monarcas.values())\n",
    "print(len(monarcas))\n"
   ]
  },
  {
   "cell_type": "markdown",
   "metadata": {},
   "source": [
    "7. ¿Es `'Monaco'` uno de ellos?"
   ]
  },
  {
   "cell_type": "code",
   "execution_count": 82,
   "metadata": {},
   "outputs": [
    {
     "name": "stdout",
     "output_type": "stream",
     "text": [
      "False\n"
     ]
    }
   ],
   "source": [
    "print (\"monaco\" in monarcas)"
   ]
  },
  {
   "cell_type": "markdown",
   "metadata": {},
   "source": [
    "8. ¿Es verdad que nos olvidamos de poner `'Suecia'`? Compruébalo de una manera en que obtengas un `True` o `False`.\n"
   ]
  },
  {
   "cell_type": "code",
   "execution_count": 83,
   "metadata": {},
   "outputs": [
    {
     "name": "stdout",
     "output_type": "stream",
     "text": [
      "True\n"
     ]
    }
   ],
   "source": [
    "print(\"suecia\" not in  monarcas)"
   ]
  },
  {
   "cell_type": "markdown",
   "metadata": {},
   "source": [
    "- Listar los contenidos\n",
    "\n",
    "  9. Saca una **lista** de todos los países en el dict `monarcas`.\n"
   ]
  },
  {
   "cell_type": "code",
   "execution_count": 84,
   "metadata": {},
   "outputs": [
    {
     "name": "stdout",
     "output_type": "stream",
     "text": [
      "dict_keys(['Bélgica', 'Dinamarca', 'Noruega', 'España', 'Reino Unido', 'Holanda', 'Luxemburgo'])\n"
     ]
    }
   ],
   "source": [
    "print(monarcas.keys())"
   ]
  },
  {
   "cell_type": "markdown",
   "metadata": {},
   "source": [
    "10. Saca una **lista** de los nombres de los festivos."
   ]
  },
  {
   "cell_type": "code",
   "execution_count": 85,
   "metadata": {},
   "outputs": [
    {
     "name": "stdout",
     "output_type": "stream",
     "text": [
      "dict_values(['año nuevo', 'epifanía del señor', 'viernes santo', 'asunción de la virgen', 'fiesta nacional de España', 'todos los santos', 'día de la contistitución española', 'inmaculada concepción'])\n"
     ]
    }
   ],
   "source": [
    "print(festivos.values())"
   ]
  },
  {
   "cell_type": "markdown",
   "metadata": {},
   "source": [
    "11. Imprime el diccionario de festivos."
   ]
  },
  {
   "cell_type": "code",
   "execution_count": 86,
   "metadata": {},
   "outputs": [
    {
     "name": "stdout",
     "output_type": "stream",
     "text": [
      "{'01/01': 'año nuevo', '06/01': 'epifanía del señor', '15/04': 'viernes santo', '15/08': 'asunción de la virgen', '12/10': 'fiesta nacional de España', '01/11': 'todos los santos', '06/12': 'día de la contistitución española', '08/12': 'inmaculada concepción'}\n"
     ]
    }
   ],
   "source": [
    "print(festivos)"
   ]
  },
  {
   "cell_type": "markdown",
   "metadata": {},
   "source": [
    "12. Imprime una **lista de tuplas** de todos los elementos que hay en festivos."
   ]
  },
  {
   "cell_type": "code",
   "execution_count": 87,
   "metadata": {},
   "outputs": [
    {
     "name": "stdout",
     "output_type": "stream",
     "text": [
      "{'01/01': 'año nuevo', '06/01': 'epifanía del señor', '15/04': 'viernes santo', '15/08': 'asunción de la virgen', '12/10': 'fiesta nacional de España', '01/11': 'todos los santos', '06/12': 'día de la contistitución española', '08/12': 'inmaculada concepción'}\n"
     ]
    }
   ],
   "source": [
    "festivos = dict ( [ ( \"01/01\" , \"año nuevo\"), (\"06/01\" , \"epifanía del señor\"), (\"15/04\" , \"viernes santo\"), (\"15/08\" , \"asunción de la virgen\"), (\"12/10\" , \"fiesta nacional de España\"), (\"01/11\" , \"todos los santos\"), (\"06/12\" , \"día de la contistitución española\"), (\"08/12\" , \"inmaculada concepción\") ] )\n",
    "print(festivos)"
   ]
  },
  {
   "cell_type": "markdown",
   "metadata": {},
   "source": [
    "- Copiar dicts, y borrar elementos\n",
    "\n",
    "  13. Copia `monarcas` a `monarcas2010`."
   ]
  },
  {
   "cell_type": "code",
   "execution_count": 88,
   "metadata": {},
   "outputs": [
    {
     "name": "stdout",
     "output_type": "stream",
     "text": [
      "{'Bélgica': 'Philippe', 'Dinamarca': 'Margrethe II', 'Noruega': 'Harald V', 'España': 'Felipe VI', 'Reino Unido': 'Carlos III', 'Holanda': 'Willen-Alexander', 'Luxemburgo': 'Henri'}\n"
     ]
    }
   ],
   "source": [
    "monarcas2010 = monarcas.copy()\n",
    "print(monarcas2010)"
   ]
  },
  {
   "cell_type": "markdown",
   "metadata": {},
   "source": [
    "14. Quita España de `monarcas2010`."
   ]
  },
  {
   "cell_type": "code",
   "execution_count": 89,
   "metadata": {},
   "outputs": [
    {
     "name": "stdout",
     "output_type": "stream",
     "text": [
      "Felipe VI\n"
     ]
    }
   ],
   "source": [
    "print(monarcas2010.pop(\"España\"))\n"
   ]
  },
  {
   "cell_type": "markdown",
   "metadata": {},
   "source": [
    "15. Quita el último elemento de `monarcas2010`."
   ]
  },
  {
   "cell_type": "code",
   "execution_count": 91,
   "metadata": {},
   "outputs": [
    {
     "name": "stdout",
     "output_type": "stream",
     "text": [
      "('Holanda', 'Willen-Alexander')\n",
      "{'Bélgica': 'Philippe', 'Dinamarca': 'Margrethe II', 'Noruega': 'Harald V', 'Reino Unido': 'Carlos III'}\n"
     ]
    }
   ],
   "source": [
    "print(monarcas2010.popitem())\n",
    "print(monarcas2010)"
   ]
  },
  {
   "cell_type": "markdown",
   "metadata": {},
   "source": [
    "- Vaciar y borrar dicts\n",
    "\n",
    "16. Vacia el dict `monarcas2010`."
   ]
  },
  {
   "cell_type": "code",
   "execution_count": 92,
   "metadata": {},
   "outputs": [
    {
     "name": "stdout",
     "output_type": "stream",
     "text": [
      "{}\n"
     ]
    }
   ],
   "source": [
    "monarcas2010.clear()\n",
    "print(monarcas2010)"
   ]
  },
  {
   "cell_type": "markdown",
   "metadata": {},
   "source": [
    "Obtener valores\n",
    "\n",
    "  17. ¿Qué festivo hay el 06/01?"
   ]
  },
  {
   "cell_type": "code",
   "execution_count": 95,
   "metadata": {},
   "outputs": [
    {
     "name": "stdout",
     "output_type": "stream",
     "text": [
      "epifanía del señor\n"
     ]
    }
   ],
   "source": [
    "print(festivos.get(\"06/01\"))"
   ]
  },
  {
   "cell_type": "markdown",
   "metadata": {},
   "source": [
    "18. Obten el festivo que haya el 08/03, y en su defecto devuélve 'Día Internacional de la Mujer'."
   ]
  },
  {
   "cell_type": "code",
   "execution_count": 108,
   "metadata": {},
   "outputs": [
    {
     "name": "stdout",
     "output_type": "stream",
     "text": [
      "None\n",
      "día internacional de la mujer\n",
      "{'01/01': 'año nuevo', '06/01': 'epifanía del señor', '15/04': 'viernes santo', '15/08': 'asunción de la virgen', '12/10': 'fiesta nacional de España', '01/11': 'todos los santos', '06/12': 'día de la contistitución española', '08/12': 'inmaculada concepción', '08/03': ['mujer'], '31/11': None}\n"
     ]
    }
   ],
   "source": [
    "print(festivos.get(\"08/3\"))\n",
    "print(festivos.setdefault (\"08/03\" , \"día internacional de la mujer\"))\n",
    "festivos [\"08/03\"] = [\"mujer\"]\n",
    "print(festivos)"
   ]
  },
  {
   "cell_type": "markdown",
   "metadata": {},
   "source": [
    "19. Obten el festivo que haya el 31/11, y si no existe crea un par de clave-valor nuevo con el valor de 'Todos los Santos'."
   ]
  },
  {
   "cell_type": "code",
   "execution_count": 113,
   "metadata": {},
   "outputs": [
    {
     "name": "stdout",
     "output_type": "stream",
     "text": [
      "None\n",
      "True\n"
     ]
    }
   ],
   "source": [
    "print(festivos.setdefault(\"31/11\"))\n",
    "print(\"31/11\" in festivos)\n",
    "festivos [\"Todos los santos\"] = [\"31/11\"]\n"
   ]
  }
 ],
 "metadata": {
  "kernelspec": {
   "display_name": "Python 3",
   "language": "python",
   "name": "python3"
  },
  "language_info": {
   "codemirror_mode": {
    "name": "ipython",
    "version": 3
   },
   "file_extension": ".py",
   "mimetype": "text/x-python",
   "name": "python",
   "nbconvert_exporter": "python",
   "pygments_lexer": "ipython3",
   "version": "3.11.0"
  }
 },
 "nbformat": 4,
 "nbformat_minor": 2
}
