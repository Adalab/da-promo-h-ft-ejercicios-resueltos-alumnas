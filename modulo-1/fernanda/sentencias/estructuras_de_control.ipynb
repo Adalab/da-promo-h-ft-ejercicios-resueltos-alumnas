{
 "cells": [
  {
   "cell_type": "markdown",
   "metadata": {},
   "source": [
    "1. Crea una variable que sea igual a \"Python\" y genera un código que nos printee todas las letras menos la \"P\" usando la sentencia `continue`."
   ]
  },
  {
   "cell_type": "code",
   "execution_count": 1,
   "metadata": {},
   "outputs": [
    {
     "name": "stdout",
     "output_type": "stream",
     "text": [
      "y\n",
      "t\n",
      "h\n",
      "o\n",
      "n\n"
     ]
    }
   ],
   "source": [
    "palabra = \"Python\"\n",
    "\n",
    "for i in palabra:\n",
    "    if i == \"P\":\n",
    "        continue\n",
    "    else:\n",
    "        print(i)\n"
   ]
  },
  {
   "cell_type": "markdown",
   "metadata": {},
   "source": [
    "2. De la frase `'Hello'` imprime todas las letras que no sean una `'l'` usando `if`."
   ]
  },
  {
   "cell_type": "code",
   "execution_count": 3,
   "metadata": {},
   "outputs": [
    {
     "name": "stdout",
     "output_type": "stream",
     "text": [
      "H\n",
      "e\n",
      "o\n"
     ]
    }
   ],
   "source": [
    "frase = 'Hello'\n",
    "\n",
    "for letra in frase:\n",
    "    if letra != 'l':\n",
    "        print(letra)\n"
   ]
  },
  {
   "cell_type": "markdown",
   "metadata": {},
   "source": [
    "3. Haz lo mismo que en 2 usando `continue`."
   ]
  },
  {
   "cell_type": "code",
   "execution_count": null,
   "metadata": {},
   "outputs": [],
   "source": [
    "frase = \"Hello\"\n",
    "\n",
    "for i in frase:\n",
    "    if i == \"l\":\n",
    "        continue\n",
    "    else:\n",
    "        print(i)"
   ]
  },
  {
   "cell_type": "markdown",
   "metadata": {},
   "source": [
    "5. Define  la variable `doce = '12'` y `seis = 6. Intenta sumarlos. En el caso de que te salga un error imprime `'¡Un error!'`. Para eso usa un `try` ... `except`"
   ]
  },
  {
   "cell_type": "code",
   "execution_count": 8,
   "metadata": {},
   "outputs": [
    {
     "name": "stdout",
     "output_type": "stream",
     "text": [
      "¡Un error!\n"
     ]
    }
   ],
   "source": [
    "doce = '12'\n",
    "seis = 6\n",
    "\n",
    "try:\n",
    "    resultado = doce + seis\n",
    "    print(resultado)\n",
    "except TypeError:\n",
    "    print('¡Un error!')\n"
   ]
  },
  {
   "cell_type": "markdown",
   "metadata": {},
   "source": [
    "6. Basándonos en el ejercicio anterior, sin usar un `try` ... `except`, ¿cómo podríamos solucionar el problema? "
   ]
  },
  {
   "cell_type": "code",
   "execution_count": 9,
   "metadata": {},
   "outputs": [
    {
     "name": "stdout",
     "output_type": "stream",
     "text": [
      "18\n"
     ]
    }
   ],
   "source": [
    "doce = '12'\n",
    "seis = 6\n",
    "\n",
    "try:\n",
    "    resultado = int(doce) + seis\n",
    "    print(resultado)\n",
    "except TypeError:\n",
    "    print('¡Un error!')"
   ]
  },
  {
   "cell_type": "markdown",
   "metadata": {},
   "source": [
    "7. Solicita al usuario ingresar números enteros positivos hasta que ingrese un número negativo. Luego, muestra la suma de todos los números pares ingresados."
   ]
  },
  {
   "cell_type": "code",
   "execution_count": 14,
   "metadata": {},
   "outputs": [
    {
     "name": "stdout",
     "output_type": "stream",
     "text": [
      "La suma de los números pares ingresados es: 32\n"
     ]
    }
   ],
   "source": [
    "\n",
    "suma_pares = 0\n",
    "while True:\n",
    "    numero = int(input(\"Ingrese un número entero positivo (ingrese un número negativo para salir): \"))\n",
    "    if numero < 0:\n",
    "        break  # Salir del bucle si se ingresa un número negativo\n",
    "    if numero % 2 == 0:\n",
    "        suma_pares += numero  # Sumar el número si es par\n",
    "\n",
    "print(\"La suma de los números pares ingresados es:\", suma_pares)\n"
   ]
  },
  {
   "cell_type": "markdown",
   "metadata": {},
   "source": [
    "8. Solicita al usuario ingresar dos números y muestra el resultado de dividir el primero por el segundo. Asegúrate de manejar la excepción si el segundo número es cero."
   ]
  },
  {
   "cell_type": "code",
   "execution_count": 15,
   "metadata": {},
   "outputs": [
    {
     "name": "stdout",
     "output_type": "stream",
     "text": [
      "El resultado de la división es: 0.8333333333333334\n"
     ]
    }
   ],
   "source": [
    "try:\n",
    "    num1 = float(input(\"Ingresa el primer número: \"))\n",
    "    num2 = float(input(\"Ingresa el segundo número: \"))\n",
    "    resultado = num1 / num2\n",
    "    print(f\"El resultado de la división es: {resultado}\")\n",
    "except ZeroDivisionError:\n",
    "    print(\"No se puede dividir por cero.\")\n",
    "except ValueError:\n",
    "    print(\"Ingresa números válidos.\")"
   ]
  },
  {
   "cell_type": "markdown",
   "metadata": {},
   "source": [
    "9. Solicita al usuario ingresar un número y muestra su raíz cuadrada. Maneja la excepción si el número es negativo."
   ]
  },
  {
   "cell_type": "code",
   "execution_count": 16,
   "metadata": {},
   "outputs": [
    {
     "name": "stdout",
     "output_type": "stream",
     "text": [
      "La raíz cuadrada es: 4.0\n"
     ]
    }
   ],
   "source": [
    "import math\n",
    "try:\n",
    "    num = float(input(\"Ingresa un número: \"))\n",
    "    if num < 0:\n",
    "        raise ValueError(\"No se puede calcular la raíz cuadrada de un número negativo.\")\n",
    "    resultado = math.sqrt(num)\n",
    "    print(f\"La raíz cuadrada es: {resultado}\")\n",
    "except ValueError as e:\n",
    "    print(e)\n",
    "except Exception as e:\n",
    "    print(\"Ocurrió un error:\", e)\n"
   ]
  },
  {
   "cell_type": "markdown",
   "metadata": {},
   "source": [
    "10. Crea una lista de números y solicita al usuario ingresar un índice para acceder a un elemento de la lista. Maneja la excepción si el índice está fuera de rango."
   ]
  },
  {
   "cell_type": "code",
   "execution_count": 17,
   "metadata": {},
   "outputs": [
    {
     "name": "stdout",
     "output_type": "stream",
     "text": [
      "El elemento en el índice 4 es: 50\n"
     ]
    }
   ],
   "source": [
    "lista = [10, 20, 30, 40, 50]\n",
    "\n",
    "try:\n",
    "    indice = int(input(\"Ingresa un índice: \"))\n",
    "    elemento = lista[indice]\n",
    "    print(f\"El elemento en el índice {indice} es: {elemento}\")\n",
    "except IndexError:\n",
    "    print(\"El índice está fuera de rango.\")\n",
    "except ValueError:\n",
    "    print(\"Ingresa un índice válido.\")\n",
    "except Exception as e:\n",
    "    print(\"Ocurrió un error:\", e)"
   ]
  }
 ],
 "metadata": {
  "kernelspec": {
   "display_name": "base",
   "language": "python",
   "name": "python3"
  },
  "language_info": {
   "codemirror_mode": {
    "name": "ipython",
    "version": 3
   },
   "file_extension": ".py",
   "mimetype": "text/x-python",
   "name": "python",
   "nbconvert_exporter": "python",
   "pygments_lexer": "ipython3",
   "version": "3.9.7"
  }
 },
 "nbformat": 4,
 "nbformat_minor": 2
}
