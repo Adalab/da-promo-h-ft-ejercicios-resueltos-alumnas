{
 "cells": [
  {
   "cell_type": "markdown",
   "metadata": {},
   "source": [
    "# Ejercicios\n",
    "\n",
    "\n",
    "1. Usando la siguiente lista: \n",
    "    ```python\n",
    "    temperaturas = [2,45,67,23, 45,66,12,1,34,67,99,98,67,64, 44, 100]\n",
    "    ```\n",
    "\n",
    "    Crea tres listas nuevas, donde: \n",
    "\n",
    "    - En la primera tengamos temperaturas entre 0 - 10, llama a la nueva lista `bajas_temp`.\n",
    "\n",
    "    - En la segunda tengamos temperaturas entre 11- 20, llama a la nueva lista `medias_temp`.\n",
    "\n",
    "    - En la tercera tengamos temperaturas por encima de 20, llama a la nueva lista `altas_temp`\n",
    "    \n"
   ]
  },
  {
   "cell_type": "code",
   "execution_count": 1,
   "metadata": {},
   "outputs": [
    {
     "name": "stdout",
     "output_type": "stream",
     "text": [
      "las temperaturas bajas son: [2]\n",
      "las temperaturas altas son: [45]\n",
      "las temperaturas altas son: [45, 67]\n",
      "las temperaturas altas son: [45, 67, 23]\n",
      "las temperaturas altas son: [45, 67, 23, 45]\n",
      "las temperaturas altas son: [45, 67, 23, 45, 66]\n",
      "las temperaturas medias son: [12]\n",
      "las temperaturas bajas son: [2, 1]\n",
      "las temperaturas altas son: [45, 67, 23, 45, 66, 34]\n",
      "las temperaturas altas son: [45, 67, 23, 45, 66, 34, 67]\n",
      "las temperaturas altas son: [45, 67, 23, 45, 66, 34, 67, 99]\n",
      "las temperaturas altas son: [45, 67, 23, 45, 66, 34, 67, 99, 98]\n",
      "las temperaturas altas son: [45, 67, 23, 45, 66, 34, 67, 99, 98, 67]\n",
      "las temperaturas altas son: [45, 67, 23, 45, 66, 34, 67, 99, 98, 67, 64]\n",
      "las temperaturas altas son: [45, 67, 23, 45, 66, 34, 67, 99, 98, 67, 64, 44]\n",
      "las temperaturas altas son: [45, 67, 23, 45, 66, 34, 67, 99, 98, 67, 64, 44, 100]\n"
     ]
    }
   ],
   "source": [
    "temperaturas = [2,45,67,23, 45,66,12,1,34,67,99,98,67,64, 44, 100]\n",
    "bajas_temp = []\n",
    "medias_temp = []\n",
    "altas_temp = []\n",
    "for temperatura in temperaturas:\n",
    "    if temperatura >= 0 and temperatura <= 10:\n",
    "        bajas_temp.append(temperatura)\n",
    "        print(\"las temperaturas bajas son:\", bajas_temp)\n",
    "    elif temperatura >=11 and temperatura <= 20:\n",
    "        medias_temp.append(temperatura)\n",
    "        print(\"las temperaturas medias son:\", medias_temp)\n",
    "            \n",
    "        \n",
    "    else:\n",
    "        altas_temp.append(temperatura)\n",
    "        print(\"las temperaturas altas son:\", altas_temp)"
   ]
  },
  {
   "cell_type": "markdown",
   "metadata": {},
   "source": [
    "10. Crea una lista nueva donde tengamos el resto de la división de cada uno de los números entre 2.  \n",
    "\n",
    "11. Crea una lista nueva donde tengamos solo los elementos pares de la lista `temperaturas`. \n",
    "\n",
    "12. Crea una lista nueva donde tengamos solo los elementos que sean menores que 50. \n",
    "\n",
    "13. Crea una lista donde tengamos los valores \"par\" e \"impar\" en función de los valores de la lista original. La lista resultante tiene que ser como la que indicamos a continuación: \n",
    "\n",
    "    ```python\n",
    "    lista_strings = [\"par\",\"impar\",\"impar\",\"impar\", \"impar\",\"par\",\"par\",\"impar\",\"par\",\"impar\",\"impar\",\"par\",\"impar\",\"par\", \"par\", \"par\"]\n",
    "    ```\n",
    "\n",
    "14. Pide al usuario un número entero positivo y suma los números pares e impares por separado hasta ese número.\n",
    "\n"
   ]
  },
  {
   "cell_type": "markdown",
   "metadata": {},
   "source": [
    "2. Las temperaturas están grados centígrados. Para cada una de las listas creadas en el ejercicio anterior, convertid las temperaturas a grados fahrenheit\n",
    "\n",
    "    ```\n",
    "    # la relacion de grados celsius y fahrenheit es:\n",
    "    (0 °C × 9 / 5) + 32 = 32 °F\n",
    "    ```"
   ]
  },
  {
   "cell_type": "code",
   "execution_count": 10,
   "metadata": {},
   "outputs": [
    {
     "name": "stdout",
     "output_type": "stream",
     "text": [
      "[2, 1]\n",
      "[35.6, 33.8]\n",
      "[12]\n",
      "[53.6]\n",
      "[113.0, 152.6, 73.4, 113.0, 150.8, 93.2, 152.6, 210.2, 208.4, 152.6, 147.2, 111.2, 212.0]\n"
     ]
    }
   ],
   "source": [
    "\n",
    "bajas_temp = [temperatura for temperatura in temperaturas if temperatura >= 0 and temperatura <= 10]\n",
    "print(bajas_temp)\n",
    "bajas_temp_fahrenheit = [(temperatura * 9/5) + 32 for temperatura in bajas_temp]\n",
    "print(bajas_temp_fahrenheit)\n",
    "medias_temp = [temperatura for temperatura in temperaturas if temperatura >= 11 and temperatura <=20]\n",
    "print(medias_temp)\n",
    "medias_temp_fahrenheit = [(temperatura * 9/5) + 32 for temperatura in medias_temp]\n",
    "print(medias_temp_fahrenheit)\n",
    "altas_temp = [temperatura for temperatura in temperaturas if temperatura > 20]\n",
    "altas_temp_fahrenheit = [(temperatura * 9/5) + 32 for temperatura in altas_temp]\n",
    "print(altas_temp_fahrenheit)\n"
   ]
  },
  {
   "cell_type": "markdown",
   "metadata": {},
   "source": [
    "3. Define e imprime un rango de 0 a 6 (excluido)."
   ]
  },
  {
   "cell_type": "code",
   "execution_count": 13,
   "metadata": {},
   "outputs": [
    {
     "name": "stdout",
     "output_type": "stream",
     "text": [
      "0\n",
      "1\n",
      "2\n",
      "3\n",
      "4\n",
      "5\n",
      "6\n"
     ]
    }
   ],
   "source": [
    "numbers = range(0,7)\n",
    "for n in numbers:\n",
    "    print(n)"
   ]
  },
  {
   "cell_type": "markdown",
   "metadata": {},
   "source": [
    "4. Define e imprime un rango de 3 a 6 ambos incluidos."
   ]
  },
  {
   "cell_type": "code",
   "execution_count": 14,
   "metadata": {},
   "outputs": [
    {
     "name": "stdout",
     "output_type": "stream",
     "text": [
      "3\n",
      "4\n",
      "5\n",
      "6\n"
     ]
    }
   ],
   "source": [
    "numbers1 = range(3, 7)\n",
    "for i in numbers1:\n",
    "    print(i)"
   ]
  },
  {
   "cell_type": "markdown",
   "metadata": {},
   "source": [
    "5. Define e imprime un rango de 5 a 9 ambos excluidos."
   ]
  },
  {
   "cell_type": "code",
   "execution_count": 16,
   "metadata": {},
   "outputs": [
    {
     "name": "stdout",
     "output_type": "stream",
     "text": [
      "6\n",
      "7\n",
      "8\n",
      "9\n"
     ]
    }
   ],
   "source": [
    "numbers2 = range(6, 10)\n",
    "for i in numbers2:\n",
    "    print(i)"
   ]
  },
  {
   "cell_type": "markdown",
   "metadata": {},
   "source": [
    "6. Define e imprime un rango de 3 números que empiece en 2."
   ]
  },
  {
   "cell_type": "code",
   "execution_count": 18,
   "metadata": {},
   "outputs": [
    {
     "name": "stdout",
     "output_type": "stream",
     "text": [
      "2\n",
      "3\n",
      "4\n"
     ]
    }
   ],
   "source": [
    "numbers3 = range(2,5)\n",
    "for i in numbers3:\n",
    "    print(i)"
   ]
  },
  {
   "cell_type": "markdown",
   "metadata": {},
   "source": [
    "7. Define e imprime un rango que empiece en 2, aumentando cada paso por 3, que pare antes de llegar al número 13."
   ]
  },
  {
   "cell_type": "code",
   "execution_count": 30,
   "metadata": {},
   "outputs": [
    {
     "name": "stdout",
     "output_type": "stream",
     "text": [
      "2\n",
      "5\n",
      "8\n",
      "11\n"
     ]
    }
   ],
   "source": [
    "numbers4 = range(2, 14, 3)\n",
    "for i in numbers4:\n",
    "    print(i)"
   ]
  },
  {
   "cell_type": "markdown",
   "metadata": {},
   "source": [
    "8. Define e imprime un rango con todos los valores impares que hay hasta 10."
   ]
  },
  {
   "cell_type": "code",
   "execution_count": 22,
   "metadata": {},
   "outputs": [
    {
     "name": "stdout",
     "output_type": "stream",
     "text": [
      "1\n",
      "3\n",
      "5\n",
      "7\n",
      "9\n"
     ]
    }
   ],
   "source": [
    "numbers5 = range(1, 11)\n",
    "for i in numbers5:\n",
    "    if (i %2) != 0:\n",
    "        print(i)"
   ]
  },
  {
   "cell_type": "markdown",
   "metadata": {},
   "source": [
    "9. Crea una lista nueva donde tengamos los números de la lista `temperaturas` elevados al cuadrado."
   ]
  },
  {
   "cell_type": "code",
   "execution_count": 26,
   "metadata": {},
   "outputs": [
    {
     "name": "stdout",
     "output_type": "stream",
     "text": [
      "[4]\n",
      "[4, 2025]\n",
      "[4, 2025, 4489]\n",
      "[4, 2025, 4489, 529]\n",
      "[4, 2025, 4489, 529, 2025]\n",
      "[4, 2025, 4489, 529, 2025, 4356]\n",
      "[4, 2025, 4489, 529, 2025, 4356, 144]\n",
      "[4, 2025, 4489, 529, 2025, 4356, 144, 1]\n",
      "[4, 2025, 4489, 529, 2025, 4356, 144, 1, 1156]\n",
      "[4, 2025, 4489, 529, 2025, 4356, 144, 1, 1156, 4489]\n",
      "[4, 2025, 4489, 529, 2025, 4356, 144, 1, 1156, 4489, 9801]\n",
      "[4, 2025, 4489, 529, 2025, 4356, 144, 1, 1156, 4489, 9801, 9604]\n",
      "[4, 2025, 4489, 529, 2025, 4356, 144, 1, 1156, 4489, 9801, 9604, 4489]\n",
      "[4, 2025, 4489, 529, 2025, 4356, 144, 1, 1156, 4489, 9801, 9604, 4489, 4096]\n",
      "[4, 2025, 4489, 529, 2025, 4356, 144, 1, 1156, 4489, 9801, 9604, 4489, 4096, 1936]\n",
      "[4, 2025, 4489, 529, 2025, 4356, 144, 1, 1156, 4489, 9801, 9604, 4489, 4096, 1936, 10000]\n"
     ]
    }
   ],
   "source": [
    "nueva_lista = []\n",
    "for i in temperaturas:\n",
    "    nueva_lista.append( i**2)\n",
    "    print(nueva_lista) "
   ]
  },
  {
   "cell_type": "markdown",
   "metadata": {},
   "source": [
    "15. Pide al usuario ingresar una cadena y cuenta cuántas veces aparece cada vocal (a, e, i, o, u) en la cadena."
   ]
  },
  {
   "cell_type": "code",
   "execution_count": 4,
   "metadata": {},
   "outputs": [
    {
     "name": "stdout",
     "output_type": "stream",
     "text": [
      "{'a': 1, 'e': 0, 'i': 0, 'o': 2, 'u': 0}\n"
     ]
    }
   ],
   "source": [
    "cadena = input(\"Escribe una cadena de texto\")\n",
    "contador_a = 0\n",
    "contador_e = 0\n",
    "contador_i = 0\n",
    "contador_o = 0\n",
    "contador_u = 0\n",
    "vocales = {\"a\": 0, \"e\" : 0, \"i\" : 0, \"o\" : 0, \"u\" : 0}\n",
    "\n",
    "for k, value in vocales.items(): \n",
    "    vocales[k] += cadena.count(k)\n",
    "\n",
    "print(vocales)"
   ]
  }
 ],
 "metadata": {
  "kernelspec": {
   "display_name": "Python 3",
   "language": "python",
   "name": "python3"
  },
  "language_info": {
   "codemirror_mode": {
    "name": "ipython",
    "version": 3
   },
   "file_extension": ".py",
   "mimetype": "text/x-python",
   "name": "python",
   "nbconvert_exporter": "python",
   "pygments_lexer": "ipython3",
   "version": "3.9.7"
  }
 },
 "nbformat": 4,
 "nbformat_minor": 2
}
