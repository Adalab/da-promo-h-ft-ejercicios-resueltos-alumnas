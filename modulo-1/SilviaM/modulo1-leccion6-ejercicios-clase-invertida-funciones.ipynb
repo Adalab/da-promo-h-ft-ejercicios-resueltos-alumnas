{
 "cells": [
  {
   "cell_type": "code",
   "execution_count": 4,
   "metadata": {},
   "outputs": [],
   "source": [
    "#1 Escribe una función que reciba una cadena de texto como parámetro y devuelva un diccionario con las frecuencias de cada letra en la cadena. Los espacios no deben ser considerados. \n",
    "\n",
    "def quiero_diccionario(colores):\n",
    "\n",
    "\n",
    "    diccionario={}\n",
    "    \n",
    "    for letras in colores:\n",
    "        if letras in diccionario.keys() or  letras == \" \":\n",
    "            pass\n",
    "        else:\n",
    "            diccionario[letras]= colores.count(letras)\n",
    "    \n",
    "    return diccionario\n",
    "\n",
    "    \n",
    "\n"
   ]
  },
  {
   "cell_type": "code",
   "execution_count": 8,
   "metadata": {},
   "outputs": [
    {
     "name": "stdout",
     "output_type": "stream",
     "text": [
      "{'a': 4, 'm': 2, 'r': 1, 'i': 1, 'l': 2, 'o': 2, 's': 1, 't': 1, 'z': 1}\n"
     ]
    }
   ],
   "source": [
    "contar_letras=quiero_diccionario(\"amarillo mostaza\")\n",
    "print(contar_letras)\n"
   ]
  },
  {
   "cell_type": "code",
   "execution_count": 18,
   "metadata": {},
   "outputs": [],
   "source": [
    "# 2 Escribe una función que reciba una cadena de texto como parámetro y devuelva una lista con todas las palabras que tienen más de 5 letras.\n",
    "\n",
    "mi_frase= \"que bonito dia hace hoy\"\n",
    "def palabras_frase(mi_frase):\n",
    "\n",
    "    lista_palabras= mi_frase.split()\n",
    "    lista_definitiva=[]\n",
    "    \n",
    "    for palabra in lista_palabras:\n",
    "\n",
    "        if len(palabra) >= 5:\n",
    "            lista_definitiva.append(palabra)\n",
    "        else:\n",
    "            pass\n",
    "    \n",
    "    return lista_definitiva\n",
    "\n",
    "\n",
    "\n",
    "#### Ojo-> pasa el string a lista para que todo esté en modo listas, pero no tengo claro por qué\n"
   ]
  },
  {
   "cell_type": "code",
   "execution_count": 19,
   "metadata": {},
   "outputs": [
    {
     "data": {
      "text/plain": [
       "['bonito']"
      ]
     },
     "execution_count": 19,
     "metadata": {},
     "output_type": "execute_result"
    }
   ],
   "source": [
    "\n",
    "mi_frase= \"que bonito dia hace hoy\" \n",
    "palabras_frase(mi_frase)\n"
   ]
  },
  {
   "cell_type": "code",
   "execution_count": 28,
   "metadata": {},
   "outputs": [
    {
     "name": "stdout",
     "output_type": "stream",
     "text": [
      "['boligrafo', 'lapiz', 'goma']\n"
     ]
    }
   ],
   "source": [
    "# 3 . Crea una función que tome una lista de palabras como entrada y devuelva una lista de palabras que contengan más de una vocal.\n",
    "\n",
    "def varias_vocales(lista_palabras3):\n",
    "\n",
    "    \n",
    "    palabras_vocales=[]\n",
    "\n",
    "    #definimos las vocales\n",
    "    vocales = ['a', 'e', 'i', 'o', 'u']\n",
    "\n",
    "    for palabra in lista_palabras3:\n",
    "          \n",
    "          contador_vocales=0\n",
    "\n",
    "          for letra in palabra:\n",
    "             \n",
    "             # Verificamos si la letra es una vocal\n",
    "             if letra in vocales:\n",
    "      \n",
    "                 contador_vocales += 1\n",
    "\n",
    "          if contador_vocales > 1:\n",
    "                  palabras_vocales.append(palabra)\n",
    "            \n",
    "                    \n",
    "\n",
    "    return palabras_vocales\n",
    "\n",
    "#defino nueva lista \n",
    "\n",
    "estuche=[\"boligrafo\", \"lapiz\", \"goma\"]\n",
    "vocales_estuche=varias_vocales(estuche)\n",
    "print(vocales_estuche)\n"
   ]
  },
  {
   "cell_type": "code",
   "execution_count": 29,
   "metadata": {},
   "outputs": [],
   "source": [
    "# 4. Crea una función que tome una lista de números y calcule la suma de todos los números pares en la lista.\n",
    "\n",
    "\n",
    "def suma_pares(lista_numeros):\n",
    "\n",
    "    suma=0\n",
    "\n",
    "    for num in lista_numeros:\n",
    "\n",
    "        if num %2 == 0:\n",
    "            suma += num\n",
    "\n",
    "    return suma"
   ]
  },
  {
   "cell_type": "code",
   "execution_count": 34,
   "metadata": {},
   "outputs": [],
   "source": [
    "# 5. Escribe una función que tome una lista de números como entrada y calcule el promedio de esos números.\n",
    "\n",
    "def calculo_promedio(lista_numeros):\n",
    "\n",
    "    suma_numeros=sum(lista_numeros)\n",
    "    promedio= suma_numeros/len(lista_numeros)\n",
    "\n",
    "\n",
    "    return promedio\n",
    "\n",
    "\n",
    "        "
   ]
  },
  {
   "cell_type": "code",
   "execution_count": 38,
   "metadata": {},
   "outputs": [
    {
     "name": "stdout",
     "output_type": "stream",
     "text": [
      "5.0\n"
     ]
    },
    {
     "data": {
      "text/plain": [
       "9"
      ]
     },
     "execution_count": 38,
     "metadata": {},
     "output_type": "execute_result"
    }
   ],
   "source": [
    "la_lista= [3, 4, 6, 7, 8, 2, 9, 1,5]\n",
    "\n",
    "\n",
    "mi_promedio=calculo_promedio(la_lista)\n",
    "\n",
    "print(mi_promedio)\n",
    "\n",
    "sum(la_lista)\n",
    "\n",
    "len(la_lista)"
   ]
  },
  {
   "cell_type": "code",
   "execution_count": 39,
   "metadata": {},
   "outputs": [],
   "source": [
    "# 6. Crea una función que determine el próximo año en el que las cifras del año de tu cumpleaños no se repitan. \n",
    "# La función toma un año de tu cumpleaños como entrada y calcula el próximo año en el que las cifras no se repitan, es decir, todas las cifras en el año son diferentes entre sí.\n",
    "\n",
    "def año_cumple(año):\n",
    "\n",
    "     while len(cifras_cumple)!=4:\n",
    "    \n",
    "        cumpleaños= año + 1\n",
    "\n",
    "        cifras_cumple=[]\n",
    "\n",
    "\n",
    "     for cifra in año: \n",
    "\n",
    "        if cifra not in cifras_cumple:\n",
    "    \n",
    "            cifras_cumple.append(cifra)\n",
    "\n",
    "            if len(cifras_cumple) == 4:\n",
    "           \n",
    "                print (año)\n",
    "          \n",
    "            else:\n",
    "                cumpleaños+=1\n",
    "           \n",
    "        \n",
    "        \n",
    "\n",
    "    \n"
   ]
  }
 ],
 "metadata": {
  "kernelspec": {
   "display_name": "base",
   "language": "python",
   "name": "python3"
  },
  "language_info": {
   "codemirror_mode": {
    "name": "ipython",
    "version": 3
   },
   "file_extension": ".py",
   "mimetype": "text/x-python",
   "name": "python",
   "nbconvert_exporter": "python",
   "pygments_lexer": "ipython3",
   "version": "3.9.7"
  }
 },
 "nbformat": 4,
 "nbformat_minor": 2
}
