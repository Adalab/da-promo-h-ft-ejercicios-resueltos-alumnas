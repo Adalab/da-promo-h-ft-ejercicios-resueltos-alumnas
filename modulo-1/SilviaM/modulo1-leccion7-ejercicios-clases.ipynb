{
 "cells": [
  {
   "cell_type": "code",
   "execution_count": null,
   "metadata": {},
   "outputs": [],
   "source": [
    "# Ejercicio Clases\n",
    "# Crea una clase llamada `Vehiculo` "
   ]
  },
  {
   "cell_type": "code",
   "execution_count": 31,
   "metadata": {},
   "outputs": [],
   "source": [
    "class Vehiculo:\n",
    "    def __init__(self, marca, modelo, año, velocidad_actual=0,encendido=False):\n",
    "        self.marca = marca\n",
    "        self.modelo = modelo\n",
    "        self.año = año\n",
    "        self.velocidad_actual = velocidad_actual\n",
    "        self.encendido = encendido\n",
    "\n",
    "    \n",
    "\n",
    "    #definimos metodos\n",
    "    def informacion(self):\n",
    "        return f\"El vehiculo es el modelo {self.modelo} del año {self.año}\"\n",
    "    \n",
    "    #Un método que enciende el vehículo si está apagado y devuelve un mensaje de confirmación. \n",
    "    #Si el vehículo ya está encendido, devuelve un mensaje indicando que ya está en funcionamiento.\n",
    "\n",
    "    def encender(self):\n",
    "        if self.encendido is True:\n",
    "            return \"El vehiculo ya esta en funcionamiento\"\n",
    "        else:\n",
    "            self.encendido =True\n",
    "            return \"El vehiculo acaba de ser encendido\"\n",
    "        \n",
    "        # en lase: if not self.encendido:\n",
    "        # self.encendido = True\n",
    "        \n",
    "    # Un método que apaga el vehículo si está encendido, establece la velocidad actual en 0 y devuelve un mensaje de confirmación. \n",
    "    # Si el vehículo ya está apagado, devuelve un mensaje indicando que ya está apagado.\n",
    "\n",
    "    def apagar(self):\n",
    "        if self.encendido is True:   # el no pone el True\n",
    "            self.encendido = False\n",
    "            self.velocidad_actual = 0\n",
    "            return \"El vehiculo se ha apagado\"\n",
    "        \n",
    "        else:\n",
    "            return \"El vehiculo ya está apagado\"\n",
    "        \n",
    "    # Un método que aumenta la velocidad actual del vehículo según la cantidad de velocidad proporcionada como argumento. \n",
    "    # Si el vehículo está encendido, aumenta la velocidad y devuelve un mensaje con la nueva velocidad actual. \n",
    "    # Si el vehículo está apagado, devuelve un mensaje indicando que no se puede acelerar\n",
    "\n",
    "    def acelerar(self,velocidad):\n",
    "\n",
    "        ##### a la velocidad actual le estoy sumando un valor,no estoy creando un nuevo atributo\n",
    "\n",
    "        if self.encendido is True:\n",
    "            self.velocidad_actual+= velocidad  \n",
    "            return f\"El vehiculo aceleró y ahora es {self.velocidad_actual}\"\n",
    "        else:\n",
    "            return \"El vehiculo está apagado, no se puede acelerar\"\n",
    "        \n",
    "    \n",
    "    # Un método que detiene gradualmente el vehículo reduciendo la velocidad en incrementos de 5 km/h hasta que alcance una velocidad de 0 km/h. \n",
    "    #Si el vehículo está encendido, detiene el vehículo y devuelve un mensaje de confirmación. \n",
    "    #Si el vehículo está apagado, devuelve un mensaje indicando que no se puede detener.\n",
    "\n",
    "    def detener(self):\n",
    "        while self.encendido is True:\n",
    "\n",
    "            frenar=velocidad_actual \n",
    "\n",
    "    def detener(self):\n",
    "        if self.encendido:\n",
    "            while self.velocidad_actual > 0:\n",
    "                self.velocidad_actual =max(0, self.velocidad_actual -5)\n",
    "            return \"el vehiculo se detuvo\"\n",
    "        else:\n",
    "            return \"no se puede detener, el vehiculo esta apagado\"\n",
    "            \n",
    "    def frenar (self,velocidad):\n",
    "        if self.encendido is True:\n",
    "            self.velocidad_actual -= velocidad\n",
    "            if self.velocidad_actual < 0:\n",
    "                self.velocidad_actual =0\n",
    "\n",
    "            return f\"el vehiculo freno y ahora va a {self.velocidad_actual} km\\h\"\n",
    "        else:\n",
    "            return \"No se puede frenar, el vehiculo esta apagado\"\n",
    "\n",
    "    \n",
    "\n",
    "\n",
    "\n",
    "\n",
    "\n",
    "\n"
   ]
  },
  {
   "cell_type": "code",
   "execution_count": 4,
   "metadata": {},
   "outputs": [],
   "source": [
    "\n",
    "micoche = Vehiculo(\"audi\", \"q3\", 2022, 0, \"encendido\")\n",
    "\n"
   ]
  },
  {
   "cell_type": "code",
   "execution_count": 5,
   "metadata": {},
   "outputs": [
    {
     "data": {
      "text/plain": [
       "'El vehiculo está apagado, no se puede acelerar'"
      ]
     },
     "execution_count": 5,
     "metadata": {},
     "output_type": "execute_result"
    }
   ],
   "source": [
    "micoche.acelerar(50)"
   ]
  },
  {
   "cell_type": "code",
   "execution_count": 6,
   "metadata": {},
   "outputs": [
    {
     "data": {
      "text/plain": [
       "'el vehiculo se detuvo'"
      ]
     },
     "execution_count": 6,
     "metadata": {},
     "output_type": "execute_result"
    }
   ],
   "source": [
    "micoche.detener()"
   ]
  },
  {
   "cell_type": "code",
   "execution_count": null,
   "metadata": {},
   "outputs": [],
   "source": [
    "# Crea la subclase Coche que hereda de la clase base Vehiculo y representa un coche específico.\n",
    "# Además de los atributos y métodos heredados, la clase Coche tiene un atributo adicional:\n"
   ]
  },
  {
   "cell_type": "code",
   "execution_count": 40,
   "metadata": {},
   "outputs": [],
   "source": [
    "class Coche(Vehiculo):\n",
    "\n",
    "    def __init__(self, marca, modelo, año, combustible):\n",
    "        super().__init__(marca, modelo, año)\n",
    "        self.combustible = combustible\n",
    "\n",
    "    def informacion(self):\n",
    "        return f\"SE trata de un coche de la marca {self.marca}, modelo {self.modelo} del año {self.año} con combustible tipo {self.combustible}\"\n",
    "    \n",
    "\n",
    "## OJO -> en el return para llamar a la variable tengo que poner self.variable, si no no la coge"
   ]
  },
  {
   "cell_type": "code",
   "execution_count": 41,
   "metadata": {},
   "outputs": [
    {
     "name": "stdout",
     "output_type": "stream",
     "text": [
      "audi\n"
     ]
    }
   ],
   "source": [
    "micoche2= Coche(\"audi\",\"q3\",2022,95)\n",
    "\n",
    "print(micoche2.marca)"
   ]
  },
  {
   "cell_type": "code",
   "execution_count": 42,
   "metadata": {},
   "outputs": [
    {
     "data": {
      "text/plain": [
       "'SE trata de un coche de la marca audi, modelo q3 del año 2022 con combustible tipo 95'"
      ]
     },
     "execution_count": 42,
     "metadata": {},
     "output_type": "execute_result"
    }
   ],
   "source": [
    "micoche2.informacion()\n",
    "\n"
   ]
  }
 ],
 "metadata": {
  "kernelspec": {
   "display_name": "base",
   "language": "python",
   "name": "python3"
  },
  "language_info": {
   "codemirror_mode": {
    "name": "ipython",
    "version": 3
   },
   "file_extension": ".py",
   "mimetype": "text/x-python",
   "name": "python",
   "nbconvert_exporter": "python",
   "pygments_lexer": "ipython3",
   "version": "3.9.7"
  }
 },
 "nbformat": 4,
 "nbformat_minor": 2
}
