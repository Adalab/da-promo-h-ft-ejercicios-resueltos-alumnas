{
 "cells": [
  {
   "cell_type": "code",
   "execution_count": null,
   "metadata": {},
   "outputs": [],
   "source": [
    "# 1. Crea una función que tome un número arbitrario de cadenas de texto como argumentos y devuelva una cadena de texto \n",
    "# que sea la concatenación de todas ellas. \n",
    "\n",
    "def concatenar(*args):\n",
    "    resultado = \"\"\n",
    "    for texto in args:\n",
    "        resultado += texto\n",
    "    return resultado\n",
    "\n",
    "    "
   ]
  },
  {
   "cell_type": "code",
   "execution_count": 3,
   "metadata": {},
   "outputs": [
    {
     "data": {
      "text/plain": [
       "24"
      ]
     },
     "execution_count": 3,
     "metadata": {},
     "output_type": "execute_result"
    }
   ],
   "source": [
    "# 2. Crea una función que tome un número arbitrario de argumentos y devuelva el producto de todos ellos.\n",
    "\n",
    "def producto(*args):\n",
    "\n",
    "     ###### ponemos 1 porque no lo puedo dejar en blanco (me daria error de sintaxis) y cualquier cosa que multiplique por 1 no va a varias su resltado\n",
    "\n",
    "\n",
    "    operacion=1   \n",
    "\n",
    "    for num in args:\n",
    "        operacion *= num\n",
    "    \n",
    "    return operacion\n",
    "\n",
    "\n",
    "producto(2,3,4)"
   ]
  },
  {
   "cell_type": "code",
   "execution_count": null,
   "metadata": {},
   "outputs": [],
   "source": [
    "# 3. Crea una función que tome un número arbitrario de diccionarios como argumentos y devuelva el valor mínimo entre todos los valores de los diccionarios.\n",
    "\n",
    "def valor_minim(**kwargs):\n",
    "\n",
    "    for k,v in kwargs.items():\n",
    "        \n",
    "        min(kwargs[k])\n",
    "\n",
    "    return  min(v)  \n",
    "\n",
    "    \n",
    "diccionario1 = {'a': 10, 'b': 20, 'c': 5}\n",
    "diccionario2 = {'d': 8, 'e': 15, 'f': 25}\n",
    "\n",
    "valor_minim(**diccionario1)"
   ]
  },
  {
   "cell_type": "code",
   "execution_count": 11,
   "metadata": {},
   "outputs": [
    {
     "data": {
      "text/plain": [
       "5"
      ]
     },
     "execution_count": 11,
     "metadata": {},
     "output_type": "execute_result"
    }
   ],
   "source": [
    "# 3 SOLUCION\n",
    "\n",
    "def minimo_valor(*args):\n",
    "    valores = []\n",
    "    for diccionario in args:\n",
    "        valores.extend(diccionario.values())\n",
    "    return min(valores)\n",
    "\n",
    "diccionario1 = {'a': 10, 'b': 20, 'c': 5}\n",
    "diccionario2 = {'d': 8, 'e': 15, 'f': 25}\n",
    "\n",
    "minimo_valor(diccionario1, diccionario2)"
   ]
  },
  {
   "cell_type": "code",
   "execution_count": null,
   "metadata": {},
   "outputs": [],
   "source": [
    "# 4. Crea una función que tome un número arbitrario de listas y devuelva un diccionario donde las listas originales se combinan usando los índices como claves.\n",
    "\n",
    "def diccionario_de_listas(*args):\n",
    "\n",
    "\n",
    "##### No entiendo razonamiento en soluciones#####3"
   ]
  }
 ],
 "metadata": {
  "kernelspec": {
   "display_name": "base",
   "language": "python",
   "name": "python3"
  },
  "language_info": {
   "codemirror_mode": {
    "name": "ipython",
    "version": 3
   },
   "file_extension": ".py",
   "mimetype": "text/x-python",
   "name": "python",
   "nbconvert_exporter": "python",
   "pygments_lexer": "ipython3",
   "version": "3.9.7"
  }
 },
 "nbformat": 4,
 "nbformat_minor": 2
}
