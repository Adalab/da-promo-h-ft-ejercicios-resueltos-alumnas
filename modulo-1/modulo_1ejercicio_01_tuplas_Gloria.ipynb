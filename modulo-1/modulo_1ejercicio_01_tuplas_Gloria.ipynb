{
 "cells": [
  {
   "cell_type": "code",
   "execution_count": 3,
   "metadata": {},
   "outputs": [
    {
     "name": "stdout",
     "output_type": "stream",
     "text": [
      "(61, 1.54, 'pelo marron')\n"
     ]
    }
   ],
   "source": [
    "# Ejercicio 1:\n",
    "persona1 = 61, 1.54,\"pelo marron\"\n",
    "print(persona1)"
   ]
  },
  {
   "cell_type": "code",
   "execution_count": 25,
   "metadata": {},
   "outputs": [
    {
     "name": "stdout",
     "output_type": "stream",
     "text": [
      "(68, 1.65, 'pelo rubio')\n"
     ]
    }
   ],
   "source": [
    "# Ejercicio 2:\n",
    "persona2 = (68, 1.65, \"pelo rubio\")\n",
    "print(persona2)"
   ]
  },
  {
   "cell_type": "code",
   "execution_count": 26,
   "metadata": {},
   "outputs": [
    {
     "name": "stdout",
     "output_type": "stream",
     "text": [
      "['M', 42, 39]\n"
     ]
    }
   ],
   "source": [
    "# Ejercicio 3:\n",
    "talla = [\"M\", 42, 39]\n",
    "print(talla)"
   ]
  },
  {
   "cell_type": "code",
   "execution_count": 43,
   "metadata": {},
   "outputs": [
    {
     "data": {
      "text/plain": [
       "('M', 42, 39)"
      ]
     },
     "execution_count": 43,
     "metadata": {},
     "output_type": "execute_result"
    }
   ],
   "source": [
    "# Ejercicio 4:\n",
    "tuple(talla)"
   ]
  },
  {
   "cell_type": "code",
   "execution_count": 53,
   "metadata": {},
   "outputs": [
    {
     "name": "stdout",
     "output_type": "stream",
     "text": [
      "(61, 1.54, 'pelo marron', 'M', 42, 39, 'M', 42, 39)\n"
     ]
    }
   ],
   "source": [
    "# Ejercicio 5:\n",
    "talla = tuple(talla)\n",
    "persona1 = persona1 + talla\n",
    "print(persona1)"
   ]
  },
  {
   "cell_type": "code",
   "execution_count": 54,
   "metadata": {},
   "outputs": [
    {
     "name": "stdout",
     "output_type": "stream",
     "text": [
      "pelo rubio\n"
     ]
    }
   ],
   "source": [
    "# Ejercicio  6 :\n",
    "color = persona2[2]\n",
    "print(color)"
   ]
  },
  {
   "cell_type": "code",
   "execution_count": 55,
   "metadata": {},
   "outputs": [
    {
     "data": {
      "text/plain": [
       "9"
      ]
     },
     "execution_count": 55,
     "metadata": {},
     "output_type": "execute_result"
    }
   ],
   "source": [
    "# Ejercicio 7:\n",
    "len(persona1)"
   ]
  },
  {
   "cell_type": "code",
   "execution_count": 61,
   "metadata": {},
   "outputs": [
    {
     "name": "stdout",
     "output_type": "stream",
     "text": [
      "marron\n"
     ]
    }
   ],
   "source": [
    "# Ejercicio 8:\n",
    "peso = 61\n",
    "altura = 1.54\n",
    "color_pelo = \"marron\"\n",
    "print(color_pelo)"
   ]
  },
  {
   "cell_type": "code",
   "execution_count": 90,
   "metadata": {},
   "outputs": [
    {
     "name": "stdout",
     "output_type": "stream",
     "text": [
      "<zip object at 0x0000026270297740>\n"
     ]
    }
   ],
   "source": [
    "# Ejercicio 9:\n",
    "personas = zip(persona1,persona2)\n",
    "print(personas)"
   ]
  },
  {
   "cell_type": "code",
   "execution_count": null,
   "metadata": {},
   "outputs": [],
   "source": [
    "# Ejercicio 10:\n",
    "len(personas)\n",
    "# Al haber ejecutado un zip en el codigo anterior, nos da error."
   ]
  },
  {
   "cell_type": "code",
   "execution_count": 70,
   "metadata": {},
   "outputs": [],
   "source": [
    "# Ejercicio 11:\n",
    "etiquetas = (peso, altura, color_pelo)"
   ]
  },
  {
   "cell_type": "code",
   "execution_count": 72,
   "metadata": {},
   "outputs": [
    {
     "name": "stdout",
     "output_type": "stream",
     "text": [
      "<zip object at 0x000002627031BC40>\n"
     ]
    }
   ],
   "source": [
    "# Ejercicio 12:\n",
    "todo = zip(etiquetas, persona1, persona2)\n",
    "print(todo)"
   ]
  },
  {
   "cell_type": "code",
   "execution_count": null,
   "metadata": {},
   "outputs": [],
   "source": [
    "# Ejercicio 13:\n",
    "personas.sort()\n",
    "# después de un zip no es posible hacer un sort"
   ]
  },
  {
   "cell_type": "code",
   "execution_count": 88,
   "metadata": {},
   "outputs": [
    {
     "name": "stdout",
     "output_type": "stream",
     "text": [
      "la lista ordenada es: []\n"
     ]
    }
   ],
   "source": [
    "zip1 = list(zip(personas))\n",
    "zip1.sort()\n",
    "print(\"la lista ordenada es:\", zip1)"
   ]
  }
 ],
 "metadata": {
  "kernelspec": {
   "display_name": "base",
   "language": "python",
   "name": "python3"
  },
  "language_info": {
   "codemirror_mode": {
    "name": "ipython",
    "version": 3
   },
   "file_extension": ".py",
   "mimetype": "text/x-python",
   "name": "python",
   "nbconvert_exporter": "python",
   "pygments_lexer": "ipython3",
   "version": "3.11.5"
  }
 },
 "nbformat": 4,
 "nbformat_minor": 2
}
