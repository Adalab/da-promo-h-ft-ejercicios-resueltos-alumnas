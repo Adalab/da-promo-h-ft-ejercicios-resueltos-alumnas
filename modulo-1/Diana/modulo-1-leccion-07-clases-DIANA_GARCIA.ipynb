{
 "cells": [
  {
   "cell_type": "markdown",
   "metadata": {},
   "source": [
    "EJERCICIOS DE CLASES"
   ]
  },
  {
   "cell_type": "markdown",
   "metadata": {},
   "source": [
    "Crea una clase llamada `Vehiculo` que representa un vehículo genérico. Esta clase tiene la capacidad de realizar acciones relacionadas con el vehículo, como encenderlo, apagarlo, acelerar, frenar y detenerlo gradualmente. Cada método en la clase tiene una descripción específica de su función. A continuación, se detallan los aspectos clave de esta clase:\n",
    "\n",
    "- **Atributos:**\n",
    "\n",
    "    - `marca`: Una cadena que representa la marca del vehículo.\n",
    "\n",
    "    - `modelo`: Una cadena que representa el modelo del vehículo.\n",
    "\n",
    "    - `año`: Un número entero que representa el año de fabricación del vehículo.\n",
    "\n",
    "    - `velocidad_actual`: Un número entero que representa la velocidad actual del vehículo en km/h.\n",
    "\n",
    "    - `encendido`: Un valor booleano que indica si el vehículo está encendido (`True`) o apagado (`False`).\n",
    "\n",
    "- **Métodos:**\n",
    "\n",
    "    -  `__init__(self, marca, modelo, año)`: El constructor de la clase que inicializa los atributos del vehículo, incluyendo la marca, el modelo, el año, la velocidad actual (inicialmente 0) y el estado del encendido (inicialmente apagado).\n",
    "\n",
    "    - `informacion(self)`: Un método que devuelve una cadena de texto con la información básica del vehículo, incluyendo la marca, el modelo y el año.\n",
    "\n",
    "    - `encender(self)`: Un método que enciende el vehículo si está apagado y devuelve un mensaje de confirmación. Si el vehículo ya está encendido, devuelve un mensaje indicando que ya está en funcionamiento.\n",
    "\n",
    "    - `apagar(self)`: Un método que apaga el vehículo si está encendido, establece la velocidad actual en 0 y devuelve un mensaje de confirmación. Si el vehículo ya está apagado, devuelve un mensaje indicando que ya está apagado.\n",
    "\n",
    "    - `acelerar(self, velocidad)`: Un método que aumenta la velocidad actual del vehículo según la cantidad de velocidad proporcionada como argumento. Si el vehículo está encendido, aumenta la velocidad y devuelve un mensaje con la nueva velocidad actual. Si el vehículo está apagado, devuelve un mensaje indicando que no se puede acelerar.\n",
    "\n",
    "    - `frenar(self, velocidad)`: Un método que reduce la velocidad actual del vehículo según la cantidad de velocidad proporcionada como argumento. Si el vehículo está encendido, reduce la velocidad y devuelve un mensaje con la nueva velocidad actual. Si el vehículo está apagado, devuelve un mensaje indicando que no se puede frenar.\n",
    "\n",
    "    - `detener(self)`: Un método que detiene gradualmente el vehículo reduciendo la velocidad en incrementos de 5 km/h hasta que alcance una velocidad de 0 km/h. Si el vehículo está encendido, detiene el vehículo y devuelve un mensaje de confirmación. Si el vehículo está apagado, devuelve un mensaje indicando que no se puede detener.\n",
    "\n",
    "\n",
    "Crea la subclase Coche que hereda de la clase base Vehiculo y representa un coche específico. Además de los atributos y métodos heredados, la clase Coche tiene un atributo adicional:\n",
    "\n",
    "\n",
    "- **Atributos:**\n",
    "    - combustible: Una cadena que representa el tipo de combustible que utiliza el coche.\n",
    "\n",
    "- **Métodos:**\n",
    "\n",
    "    - `__init__(self, marca, modelo, año, combustible)`: Constructor que inicializa los atributos de la clase base y el atributo específico del coche.\n",
    "    \n",
    "    - `informacion(self)`: Devuelve una cadena con la información del coche, incluyendo la marca, el modelo, el año y el tipo de combustible.\n"
   ]
  },
  {
   "cell_type": "code",
   "execution_count": 80,
   "metadata": {},
   "outputs": [],
   "source": [
    "class Vehiculo:\n",
    "    \n",
    "    def __init__(self, marca, modelo, año, velocidad_actual = 0, encendido = False):\n",
    "        self.marca = marca\n",
    "        self.modelo = modelo\n",
    "        self.año = año\n",
    "        self.velocidad_actual = velocidad_actual\n",
    "        self.encendido = encendido\n",
    "    \n",
    "    def encender(self):\n",
    "        if not self.encendido:\n",
    "            self.encendido = True\n",
    "            return \"El vehiculo ha sido encendido\"\n",
    "        else:\n",
    "            return \"El vehiculo ya esta en funcionamiento\"\n",
    "        \n",
    "    def apagar(self):\n",
    "        if self.encendido:\n",
    "            self.encendido = False\n",
    "            self.velocidad_actual = 0\n",
    "            return \"El vehiculo esta encendido\"\n",
    "        else:\n",
    "            return \"El vehiculo ya esta apagado\"\n",
    "        \n",
    "    def acelerar (self, velocidad):\n",
    "        if self.encendido:\n",
    "            self.velocidad_actual += velocidad\n",
    "            return f\"velocidad actual: {self.velocidad_actual} km/h\"\n",
    "        else:\n",
    "            return \"No se puede acelerar. El vehiculo esta apagado\"\n",
    "        \n",
    "    def frenar (self, velocidad):\n",
    "        if self.encendido:\n",
    "            self.velocidad_actual -= velocidad\n",
    "            if self.velocidad_actual < 0:\n",
    "                self.velocidad_actual = 0\n",
    "            return f\"velocidad actual: {self.velocidad_actual} km/h\"\n",
    "        else:\n",
    "            return \"No se puede frenar. El vehiculo esta apagado\"\n",
    "          \n",
    "    def detener (self):\n",
    "        if self.encendido:\n",
    "            while self.velocidad_actual > 0:\n",
    "                self.velocidad_actual = max(0, self.velocidad_actual, -5)\n",
    "            return \"El vehiculo se ha detenido\"\n",
    "        else:\n",
    "            return \"No se puede detener. El vehiculo esta apagado\""
   ]
  },
  {
   "cell_type": "code",
   "execution_count": 70,
   "metadata": {},
   "outputs": [],
   "source": [
    "mi_vehiculo = Vehiculo(\"Ford\", \"Focus\", 2013)"
   ]
  },
  {
   "cell_type": "code",
   "execution_count": 79,
   "metadata": {},
   "outputs": [],
   "source": [
    "class Coche(Vehiculo):\n",
    "        \n",
    "        def __init__(self, marca, modelo, año, combustible):\n",
    "            super().__init__(marca, modelo, año)\n",
    "            self.combustile = combustible\n",
    "            \n",
    "        def informacion(self):\n",
    "            return f\"{super().informacion()}, combustible: {self.combustible}\"\n",
    "        \n",
    "        def accion(self):\n",
    "            return \"se mueve\""
   ]
  },
  {
   "cell_type": "code",
   "execution_count": null,
   "metadata": {},
   "outputs": [],
   "source": [
    "mi_coche = Coche(\"Ford\", \"Focus\", 2013, \"combustible\")\n",
    "\n",
    "print(mi_coche.modelo)\n",
    "\n",
    "print(mi_coche.marca)\n",
    "\n",
    "print(mi_coche.accion)"
   ]
  }
 ],
 "metadata": {
  "kernelspec": {
   "display_name": "Python 3",
   "language": "python",
   "name": "python3"
  },
  "language_info": {
   "codemirror_mode": {
    "name": "ipython",
    "version": 3
   },
   "file_extension": ".py",
   "mimetype": "text/x-python",
   "name": "python",
   "nbconvert_exporter": "python",
   "pygments_lexer": "ipython3",
   "version": "3.9.7"
  }
 },
 "nbformat": 4,
 "nbformat_minor": 2
}
